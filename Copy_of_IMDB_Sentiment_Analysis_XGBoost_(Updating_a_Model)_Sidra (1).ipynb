{
 "cells": [
  {
   "cell_type": "markdown",
   "metadata": {
    "colab_type": "text",
    "id": "t8bbXpRgM93n"
   },
   "source": [
    "# Sentiment Analysis\n",
    "\n",
    "## Updating a Model in SageMaker\n",
    "\n",
    "_Deep Learning Nanodegree Program | Deployment_\n",
    "\n",
    "---\n",
    "\n",
    "In this notebook we will consider a situation in which a model that we constructed is no longer working as we intended. In particular, we will look at the XGBoost sentiment analysis model that we constructed earlier. In this case, however, we have some new data that our model doesn't seem to perform very well on. As a result, we will re-train our model and update an existing endpoint so that it uses our new model.\n",
    "\n",
    "This notebook starts by re-creating the XGBoost sentiment analysis model that was created in earlier notebooks. This means that you will have already seen the cells up to the end of Step 4. The new content in this notebook begins at Step 5.\n",
    "\n",
    "## Instructions\n",
    "\n",
    "Some template code has already been provided for you, and you will need to implement additional functionality to successfully complete this notebook. You will not need to modify the included code beyond what is requested. Sections that begin with '**TODO**' in the header indicate that you need to complete or implement some portion within them. Instructions will be provided for each section and the specifics of the implementation are marked in the code block with a `# TODO: ...` comment. Please be sure to read the instructions carefully!\n",
    "\n",
    "In addition to implementing code, there will be questions for you to answer which relate to the task and your implementation. Each section where you will answer a question is preceded by a '**Question:**' header. Carefully read each question and provide your answer below the '**Answer:**' header by editing the Markdown cell.\n",
    "\n",
    "> **Note**: Code and Markdown cells can be executed using the **Shift+Enter** keyboard shortcut. In addition, a cell can be edited by typically clicking it (double-click for Markdown cells) or by pressing **Enter** while it is highlighted."
   ]
  },
  {
   "cell_type": "markdown",
   "metadata": {
    "colab_type": "text",
    "id": "YcDfIrTeM93r"
   },
   "source": [
    "## Step 1: Downloading the data\n",
    "\n",
    "The dataset we are going to use is very popular among researchers in Natural Language Processing, usually referred to as the [IMDb dataset](http://ai.stanford.edu/~amaas/data/sentiment/). It consists of movie reviews from the website [imdb.com](http://www.imdb.com/), each labeled as either '**pos**itive', if the reviewer enjoyed the film, or '**neg**ative' otherwise.\n",
    "\n",
    "> Maas, Andrew L., et al. [Learning Word Vectors for Sentiment Analysis](http://ai.stanford.edu/~amaas/data/sentiment/). In _Proceedings of the 49th Annual Meeting of the Association for Computational Linguistics: Human Language Technologies_. Association for Computational Linguistics, 2011.\n",
    "\n",
    "We begin by using some Jupyter Notebook magic to download and extract the dataset."
   ]
  },
  {
   "cell_type": "code",
   "execution_count": 1,
   "metadata": {
    "colab": {},
    "colab_type": "code",
    "id": "h_-04OA4M93t"
   },
   "outputs": [
    {
     "name": "stdout",
     "output_type": "stream",
     "text": [
      "mkdir: cannot create directory ‘../data’: File exists\n",
      "--2019-12-31 13:00:10--  http://ai.stanford.edu/~amaas/data/sentiment/aclImdb_v1.tar.gz\n",
      "Resolving ai.stanford.edu (ai.stanford.edu)... 171.64.68.10\n",
      "Connecting to ai.stanford.edu (ai.stanford.edu)|171.64.68.10|:80... connected.\n",
      "HTTP request sent, awaiting response... 200 OK\n",
      "Length: 84125825 (80M) [application/x-gzip]\n",
      "Saving to: ‘../data/aclImdb_v1.tar.gz’\n",
      "\n",
      "../data/aclImdb_v1. 100%[===================>]  80.23M  24.8MB/s    in 3.2s    \n",
      "\n",
      "2019-12-31 13:00:13 (24.8 MB/s) - ‘../data/aclImdb_v1.tar.gz’ saved [84125825/84125825]\n",
      "\n"
     ]
    }
   ],
   "source": [
    "%mkdir ../data\n",
    "!wget -O ../data/aclImdb_v1.tar.gz http://ai.stanford.edu/~amaas/data/sentiment/aclImdb_v1.tar.gz\n",
    "!tar -zxf ../data/aclImdb_v1.tar.gz -C ../data"
   ]
  },
  {
   "cell_type": "markdown",
   "metadata": {
    "colab_type": "text",
    "id": "8CWN8JdIM93z"
   },
   "source": [
    "## Step 2: Preparing the data\n",
    "\n",
    "The data we have downloaded is split into various files, each of which contains a single review. It will be much easier going forward if we combine these individual files into two large files, one for training and one for testing."
   ]
  },
  {
   "cell_type": "code",
   "execution_count": 2,
   "metadata": {
    "colab": {},
    "colab_type": "code",
    "id": "qZUDMtjWM930"
   },
   "outputs": [],
   "source": [
    "import os\n",
    "import glob\n",
    "\n",
    "def read_imdb_data(data_dir='../data/aclImdb'):\n",
    "    data = {}\n",
    "    labels = {}\n",
    "    \n",
    "    for data_type in ['train', 'test']:\n",
    "        data[data_type] = {}\n",
    "        labels[data_type] = {}\n",
    "        \n",
    "        for sentiment in ['pos', 'neg']:\n",
    "            data[data_type][sentiment] = []\n",
    "            labels[data_type][sentiment] = []\n",
    "            \n",
    "            path = os.path.join(data_dir, data_type, sentiment, '*.txt')\n",
    "            files = glob.glob(path)\n",
    "            \n",
    "            for f in files:\n",
    "                with open(f) as review:\n",
    "                    data[data_type][sentiment].append(review.read())\n",
    "                    # Here we represent a positive review by '1' and a negative review by '0'\n",
    "                    labels[data_type][sentiment].append(1 if sentiment == 'pos' else 0)\n",
    "                    \n",
    "            assert len(data[data_type][sentiment]) == len(labels[data_type][sentiment]), \\\n",
    "                    \"{}/{} data size does not match labels size\".format(data_type, sentiment)\n",
    "                \n",
    "    return data, labels"
   ]
  },
  {
   "cell_type": "code",
   "execution_count": 3,
   "metadata": {
    "colab": {},
    "colab_type": "code",
    "id": "bNM_x4_fM934"
   },
   "outputs": [
    {
     "name": "stdout",
     "output_type": "stream",
     "text": [
      "IMDB reviews: train = 12500 pos / 12500 neg, test = 12500 pos / 12500 neg\n"
     ]
    }
   ],
   "source": [
    "data, labels = read_imdb_data()\n",
    "print(\"IMDB reviews: train = {} pos / {} neg, test = {} pos / {} neg\".format(\n",
    "            len(data['train']['pos']), len(data['train']['neg']),\n",
    "            len(data['test']['pos']), len(data['test']['neg'])))"
   ]
  },
  {
   "cell_type": "code",
   "execution_count": 4,
   "metadata": {
    "colab": {},
    "colab_type": "code",
    "id": "5g36j9JrM939"
   },
   "outputs": [],
   "source": [
    "from sklearn.utils import shuffle\n",
    "\n",
    "def prepare_imdb_data(data, labels):\n",
    "    \"\"\"Prepare training and test sets from IMDb movie reviews.\"\"\"\n",
    "    \n",
    "    #Combine positive and negative reviews and labels\n",
    "    data_train = data['train']['pos'] + data['train']['neg']\n",
    "    data_test = data['test']['pos'] + data['test']['neg']\n",
    "    labels_train = labels['train']['pos'] + labels['train']['neg']\n",
    "    labels_test = labels['test']['pos'] + labels['test']['neg']\n",
    "    \n",
    "    #Shuffle reviews and corresponding labels within training and test sets\n",
    "    data_train, labels_train = shuffle(data_train, labels_train)\n",
    "    data_test, labels_test = shuffle(data_test, labels_test)\n",
    "    \n",
    "    # Return a unified training data, test data, training labels, test labets\n",
    "    return data_train, data_test, labels_train, labels_test"
   ]
  },
  {
   "cell_type": "code",
   "execution_count": 5,
   "metadata": {
    "colab": {},
    "colab_type": "code",
    "id": "Du43DJOQM94D"
   },
   "outputs": [
    {
     "name": "stdout",
     "output_type": "stream",
     "text": [
      "IMDb reviews (combined): train = 25000, test = 25000\n"
     ]
    }
   ],
   "source": [
    "train_X, test_X, train_y, test_y = prepare_imdb_data(data, labels)\n",
    "print(\"IMDb reviews (combined): train = {}, test = {}\".format(len(train_X), len(test_X)))"
   ]
  },
  {
   "cell_type": "code",
   "execution_count": 6,
   "metadata": {
    "colab": {},
    "colab_type": "code",
    "id": "S4XJPiOiM94H"
   },
   "outputs": [
    {
     "data": {
      "text/plain": [
       "'I thought Rachel York was fantastic as \"Lucy.\" I have seen her in \"Kiss Me, Kate\" and \"Victor/Victoria,\" as well, and in each of these performances she has developed very different, and very real, characterizations. She is a chameleon who can play (and sing) anything!<br /><br />I am very surprised at how many negative reviews appear here regarding Rachel\\'s performance in \"Lucy.\" Even some bonafide TV and entertainment critics seem to have missed the point of her portrayal. So many people have focused on the fact that Rachel doesn\\'t really look like Lucy. My response to that is, \"So what?\" I wasn\\'t looking for a superficial impersonation of Lucy. I wanted to know more about the real woman behind the clown. And Rachel certainly gave us that, in great depth. I also didn\\'t want to see someone simply \"doing\" classic Lucy routines. Therefore I was very pleased with the decision by the producers and director to have Rachel portray Lucy in rehearsal for the most memorable of these skits - Vitameatavegamin and The Candy Factory. (It seems that some of the reviewers didn\\'t realize that these two scenes were meant to be rehearsal sequences and not the actual skits). This approach, I thought, gave an innovative twist to sketches that so many of us know by heart. I also thought Rachel was terrifically fresh and funny in these scenes. And she absolutely nailed the routines that were recreated - the Professor and the Grape Stomping, in particular. There was one moment in the Grape scene where the corner of Rachel\\'s mouth had the exact little upturn that I remember Lucy having. I couldn\\'t believe she was able to capture that - and so naturally.<br /><br />I wonder if many of the folks who criticized the performance were expecting to see the Lucille Ball of \"I Love Lucy\" throughout the entire movie. After all, those of us who came to know her only through TV would not have any idea what Lucy was really like in her early movie years. I think Rachel showed a natural progression in the character that was brilliant. She planted all the right seeds for us to see the clown just waiting to emerge, given the right set of circumstances. Lucy didn\\'t fit the mold of the old studio system. In her frustrated attempts to become the stereotypical movie star of that era, she kept repressing what would prove to be her ultimate gifts.<br /><br />I believe that Rachel deftly captured the comedy, drama, wit, sadness, anger, passion, love, ambition, loyalty, sexiness, self absorption, childishness, and stoicism all rolled into one complex American icon. And she did it with an authenticity and freshness that was totally endearing. \"Lucy\" was a star turn for Rachel York. I hope it brings a flood of great roles her way in the future. I also hope it brings her an Emmy.'"
      ]
     },
     "execution_count": 6,
     "metadata": {},
     "output_type": "execute_result"
    }
   ],
   "source": [
    "train_X[100]"
   ]
  },
  {
   "cell_type": "markdown",
   "metadata": {
    "colab_type": "text",
    "id": "CY1Jn_bjM94L"
   },
   "source": [
    "## Step 3: Processing the data\n",
    "\n",
    "Now that we have our training and testing datasets merged and ready to use, we need to start processing the raw data into something that will be useable by our machine learning algorithm. To begin with, we remove any html formatting that may appear in the reviews and perform some standard natural language processing in order to homogenize the data."
   ]
  },
  {
   "cell_type": "code",
   "execution_count": 7,
   "metadata": {
    "colab": {},
    "colab_type": "code",
    "id": "C3iuZ3ymM94N"
   },
   "outputs": [
    {
     "name": "stdout",
     "output_type": "stream",
     "text": [
      "[nltk_data] Downloading package stopwords to\n",
      "[nltk_data]     /home/ec2-user/nltk_data...\n",
      "[nltk_data]   Unzipping corpora/stopwords.zip.\n"
     ]
    }
   ],
   "source": [
    "import nltk\n",
    "nltk.download(\"stopwords\")\n",
    "from nltk.corpus import stopwords\n",
    "from nltk.stem.porter import *\n",
    "stemmer = PorterStemmer()"
   ]
  },
  {
   "cell_type": "code",
   "execution_count": 8,
   "metadata": {
    "colab": {},
    "colab_type": "code",
    "id": "CN9SkmJgM94U"
   },
   "outputs": [],
   "source": [
    "import re\n",
    "from bs4 import BeautifulSoup\n",
    "\n",
    "def review_to_words(review):\n",
    "    text = BeautifulSoup(review, \"html.parser\").get_text() # Remove HTML tags\n",
    "    text = re.sub(r\"[^a-zA-Z0-9]\", \" \", text.lower()) # Convert to lower case\n",
    "    words = text.split() # Split string into words\n",
    "    words = [w for w in words if w not in stopwords.words(\"english\")] # Remove stopwords\n",
    "    words = [PorterStemmer().stem(w) for w in words] # stem\n",
    "    \n",
    "    return words"
   ]
  },
  {
   "cell_type": "code",
   "execution_count": 9,
   "metadata": {
    "colab": {},
    "colab_type": "code",
    "id": "XWisb7O_M94X"
   },
   "outputs": [
    {
     "data": {
      "text/plain": [
       "['thought',\n",
       " 'rachel',\n",
       " 'york',\n",
       " 'fantast',\n",
       " 'luci',\n",
       " 'seen',\n",
       " 'kiss',\n",
       " 'kate',\n",
       " 'victor',\n",
       " 'victoria',\n",
       " 'well',\n",
       " 'perform',\n",
       " 'develop',\n",
       " 'differ',\n",
       " 'real',\n",
       " 'character',\n",
       " 'chameleon',\n",
       " 'play',\n",
       " 'sing',\n",
       " 'anyth',\n",
       " 'surpris',\n",
       " 'mani',\n",
       " 'neg',\n",
       " 'review',\n",
       " 'appear',\n",
       " 'regard',\n",
       " 'rachel',\n",
       " 'perform',\n",
       " 'luci',\n",
       " 'even',\n",
       " 'bonafid',\n",
       " 'tv',\n",
       " 'entertain',\n",
       " 'critic',\n",
       " 'seem',\n",
       " 'miss',\n",
       " 'point',\n",
       " 'portray',\n",
       " 'mani',\n",
       " 'peopl',\n",
       " 'focus',\n",
       " 'fact',\n",
       " 'rachel',\n",
       " 'realli',\n",
       " 'look',\n",
       " 'like',\n",
       " 'luci',\n",
       " 'respons',\n",
       " 'look',\n",
       " 'superfici',\n",
       " 'imperson',\n",
       " 'luci',\n",
       " 'want',\n",
       " 'know',\n",
       " 'real',\n",
       " 'woman',\n",
       " 'behind',\n",
       " 'clown',\n",
       " 'rachel',\n",
       " 'certainli',\n",
       " 'gave',\n",
       " 'us',\n",
       " 'great',\n",
       " 'depth',\n",
       " 'also',\n",
       " 'want',\n",
       " 'see',\n",
       " 'someon',\n",
       " 'simpli',\n",
       " 'classic',\n",
       " 'luci',\n",
       " 'routin',\n",
       " 'therefor',\n",
       " 'pleas',\n",
       " 'decis',\n",
       " 'produc',\n",
       " 'director',\n",
       " 'rachel',\n",
       " 'portray',\n",
       " 'luci',\n",
       " 'rehears',\n",
       " 'memor',\n",
       " 'skit',\n",
       " 'vitameatavegamin',\n",
       " 'candi',\n",
       " 'factori',\n",
       " 'seem',\n",
       " 'review',\n",
       " 'realiz',\n",
       " 'two',\n",
       " 'scene',\n",
       " 'meant',\n",
       " 'rehears',\n",
       " 'sequenc',\n",
       " 'actual',\n",
       " 'skit',\n",
       " 'approach',\n",
       " 'thought',\n",
       " 'gave',\n",
       " 'innov',\n",
       " 'twist',\n",
       " 'sketch',\n",
       " 'mani',\n",
       " 'us',\n",
       " 'know',\n",
       " 'heart',\n",
       " 'also',\n",
       " 'thought',\n",
       " 'rachel',\n",
       " 'terrif',\n",
       " 'fresh',\n",
       " 'funni',\n",
       " 'scene',\n",
       " 'absolut',\n",
       " 'nail',\n",
       " 'routin',\n",
       " 'recreat',\n",
       " 'professor',\n",
       " 'grape',\n",
       " 'stomp',\n",
       " 'particular',\n",
       " 'one',\n",
       " 'moment',\n",
       " 'grape',\n",
       " 'scene',\n",
       " 'corner',\n",
       " 'rachel',\n",
       " 'mouth',\n",
       " 'exact',\n",
       " 'littl',\n",
       " 'upturn',\n",
       " 'rememb',\n",
       " 'luci',\n",
       " 'believ',\n",
       " 'abl',\n",
       " 'captur',\n",
       " 'natur',\n",
       " 'wonder',\n",
       " 'mani',\n",
       " 'folk',\n",
       " 'critic',\n",
       " 'perform',\n",
       " 'expect',\n",
       " 'see',\n",
       " 'lucil',\n",
       " 'ball',\n",
       " 'love',\n",
       " 'luci',\n",
       " 'throughout',\n",
       " 'entir',\n",
       " 'movi',\n",
       " 'us',\n",
       " 'came',\n",
       " 'know',\n",
       " 'tv',\n",
       " 'would',\n",
       " 'idea',\n",
       " 'luci',\n",
       " 'realli',\n",
       " 'like',\n",
       " 'earli',\n",
       " 'movi',\n",
       " 'year',\n",
       " 'think',\n",
       " 'rachel',\n",
       " 'show',\n",
       " 'natur',\n",
       " 'progress',\n",
       " 'charact',\n",
       " 'brilliant',\n",
       " 'plant',\n",
       " 'right',\n",
       " 'seed',\n",
       " 'us',\n",
       " 'see',\n",
       " 'clown',\n",
       " 'wait',\n",
       " 'emerg',\n",
       " 'given',\n",
       " 'right',\n",
       " 'set',\n",
       " 'circumst',\n",
       " 'luci',\n",
       " 'fit',\n",
       " 'mold',\n",
       " 'old',\n",
       " 'studio',\n",
       " 'system',\n",
       " 'frustrat',\n",
       " 'attempt',\n",
       " 'becom',\n",
       " 'stereotyp',\n",
       " 'movi',\n",
       " 'star',\n",
       " 'era',\n",
       " 'kept',\n",
       " 'repress',\n",
       " 'would',\n",
       " 'prove',\n",
       " 'ultim',\n",
       " 'gift',\n",
       " 'believ',\n",
       " 'rachel',\n",
       " 'deftli',\n",
       " 'captur',\n",
       " 'comedi',\n",
       " 'drama',\n",
       " 'wit',\n",
       " 'sad',\n",
       " 'anger',\n",
       " 'passion',\n",
       " 'love',\n",
       " 'ambit',\n",
       " 'loyalti',\n",
       " 'sexi',\n",
       " 'self',\n",
       " 'absorpt',\n",
       " 'childish',\n",
       " 'stoicism',\n",
       " 'roll',\n",
       " 'one',\n",
       " 'complex',\n",
       " 'american',\n",
       " 'icon',\n",
       " 'authent',\n",
       " 'fresh',\n",
       " 'total',\n",
       " 'endear',\n",
       " 'luci',\n",
       " 'star',\n",
       " 'turn',\n",
       " 'rachel',\n",
       " 'york',\n",
       " 'hope',\n",
       " 'bring',\n",
       " 'flood',\n",
       " 'great',\n",
       " 'role',\n",
       " 'way',\n",
       " 'futur',\n",
       " 'also',\n",
       " 'hope',\n",
       " 'bring',\n",
       " 'emmi']"
      ]
     },
     "execution_count": 9,
     "metadata": {},
     "output_type": "execute_result"
    }
   ],
   "source": [
    "review_to_words(train_X[100])"
   ]
  },
  {
   "cell_type": "code",
   "execution_count": 10,
   "metadata": {
    "colab": {},
    "colab_type": "code",
    "id": "DSutAKfqM94b"
   },
   "outputs": [],
   "source": [
    "import pickle\n",
    "\n",
    "cache_dir = os.path.join(\"../cache\", \"sentiment_analysis\")  # where to store cache files\n",
    "os.makedirs(cache_dir, exist_ok=True)  # ensure cache directory exists\n",
    "\n",
    "def preprocess_data(data_train, data_test, labels_train, labels_test,\n",
    "                    cache_dir=cache_dir, cache_file=\"preprocessed_data.pkl\"):\n",
    "    \"\"\"Convert each review to words; read from cache if available.\"\"\"\n",
    "\n",
    "    # If cache_file is not None, try to read from it first\n",
    "    cache_data = None\n",
    "    if cache_file is not None:\n",
    "        try:\n",
    "            with open(os.path.join(cache_dir, cache_file), \"rb\") as f:\n",
    "                cache_data = pickle.load(f)\n",
    "            print(\"Read preprocessed data from cache file:\", cache_file)\n",
    "        except:\n",
    "            pass  # unable to read from cache, but that's okay\n",
    "    \n",
    "    # If cache is missing, then do the heavy lifting\n",
    "    if cache_data is None:\n",
    "        # Preprocess training and test data to obtain words for each review\n",
    "        #words_train = list(map(review_to_words, data_train))\n",
    "        #words_test = list(map(review_to_words, data_test))\n",
    "        words_train = [review_to_words(review) for review in data_train]\n",
    "        words_test = [review_to_words(review) for review in data_test]\n",
    "        \n",
    "        # Write to cache file for future runs\n",
    "        if cache_file is not None:\n",
    "            cache_data = dict(words_train=words_train, words_test=words_test,\n",
    "                              labels_train=labels_train, labels_test=labels_test)\n",
    "            with open(os.path.join(cache_dir, cache_file), \"wb\") as f:\n",
    "                pickle.dump(cache_data, f)\n",
    "            print(\"Wrote preprocessed data to cache file:\", cache_file)\n",
    "    else:\n",
    "        # Unpack data loaded from cache file\n",
    "        words_train, words_test, labels_train, labels_test = (cache_data['words_train'],\n",
    "                cache_data['words_test'], cache_data['labels_train'], cache_data['labels_test'])\n",
    "    \n",
    "    return words_train, words_test, labels_train, labels_test"
   ]
  },
  {
   "cell_type": "code",
   "execution_count": 11,
   "metadata": {
    "colab": {},
    "colab_type": "code",
    "id": "VHY1-84UM94h"
   },
   "outputs": [
    {
     "name": "stdout",
     "output_type": "stream",
     "text": [
      "Wrote preprocessed data to cache file: preprocessed_data.pkl\n"
     ]
    }
   ],
   "source": [
    "# Preprocess data\n",
    "train_X, test_X, train_y, test_y = preprocess_data(train_X, test_X, train_y, test_y)"
   ]
  },
  {
   "cell_type": "markdown",
   "metadata": {
    "colab_type": "text",
    "id": "mB56I9wgM94k"
   },
   "source": [
    "### Extract Bag-of-Words features\n",
    "\n",
    "For the model we will be implementing, rather than using the reviews directly, we are going to transform each review into a Bag-of-Words feature representation. Keep in mind that 'in the wild' we will only have access to the training set so our transformer can only use the training set to construct a representation."
   ]
  },
  {
   "cell_type": "code",
   "execution_count": 12,
   "metadata": {
    "colab": {},
    "colab_type": "code",
    "id": "oxwA29hzM94m"
   },
   "outputs": [],
   "source": [
    "import numpy as np\n",
    "from sklearn.feature_extraction.text import CountVectorizer\n",
    "from sklearn.externals import joblib\n",
    "# joblib is an enhanced version of pickle that is more efficient for storing NumPy arrays\n",
    "\n",
    "def extract_BoW_features(words_train, words_test, vocabulary_size=5000,\n",
    "                         cache_dir=cache_dir, cache_file=\"bow_features.pkl\"):\n",
    "    \"\"\"Extract Bag-of-Words for a given set of documents, already preprocessed into words.\"\"\"\n",
    "    \n",
    "    # If cache_file is not None, try to read from it first\n",
    "    cache_data = None\n",
    "    if cache_file is not None:\n",
    "        try:\n",
    "            with open(os.path.join(cache_dir, cache_file), \"rb\") as f:\n",
    "                cache_data = joblib.load(f)\n",
    "            print(\"Read features from cache file:\", cache_file)\n",
    "        except:\n",
    "            pass  # unable to read from cache, but that's okay\n",
    "    \n",
    "    # If cache is missing, then do the heavy lifting\n",
    "    if cache_data is None:\n",
    "        # Fit a vectorizer to training documents and use it to transform them\n",
    "        # NOTE: Training documents have already been preprocessed and tokenized into words;\n",
    "        #       pass in dummy functions to skip those steps, e.g. preprocessor=lambda x: x\n",
    "        vectorizer = CountVectorizer(max_features=vocabulary_size,\n",
    "                preprocessor=lambda x: x, tokenizer=lambda x: x)  # already preprocessed\n",
    "        features_train = vectorizer.fit_transform(words_train).toarray()\n",
    "\n",
    "        # Apply the same vectorizer to transform the test documents (ignore unknown words)\n",
    "        features_test = vectorizer.transform(words_test).toarray()\n",
    "        \n",
    "        # NOTE: Remember to convert the features using .toarray() for a compact representation\n",
    "        \n",
    "        # Write to cache file for future runs (store vocabulary as well)\n",
    "        if cache_file is not None:\n",
    "            vocabulary = vectorizer.vocabulary_\n",
    "            cache_data = dict(features_train=features_train, features_test=features_test,\n",
    "                             vocabulary=vocabulary)\n",
    "            with open(os.path.join(cache_dir, cache_file), \"wb\") as f:\n",
    "                joblib.dump(cache_data, f)\n",
    "            print(\"Wrote features to cache file:\", cache_file)\n",
    "    else:\n",
    "        # Unpack data loaded from cache file\n",
    "        features_train, features_test, vocabulary = (cache_data['features_train'],\n",
    "                cache_data['features_test'], cache_data['vocabulary'])\n",
    "    \n",
    "    # Return both the extracted features as well as the vocabulary\n",
    "    return features_train, features_test, vocabulary"
   ]
  },
  {
   "cell_type": "code",
   "execution_count": 14,
   "metadata": {
    "colab": {},
    "colab_type": "code",
    "id": "cyXvsiPNM94p"
   },
   "outputs": [
    {
     "name": "stdout",
     "output_type": "stream",
     "text": [
      "Wrote features to cache file: bow_features.pkl\n"
     ]
    }
   ],
   "source": [
    "# Extract Bag of Words features for both training and test datasets\n",
    "train_X, test_X, vocabulary = extract_BoW_features(train_X, test_X)"
   ]
  },
  {
   "cell_type": "code",
   "execution_count": 15,
   "metadata": {
    "colab": {},
    "colab_type": "code",
    "id": "8qdVnkcuM94u"
   },
   "outputs": [
    {
     "data": {
      "text/plain": [
       "5000"
      ]
     },
     "execution_count": 15,
     "metadata": {},
     "output_type": "execute_result"
    }
   ],
   "source": [
    "len(train_X[100])"
   ]
  },
  {
   "cell_type": "markdown",
   "metadata": {
    "colab_type": "text",
    "id": "Rf0fc26NM941"
   },
   "source": [
    "## Step 4: Classification using XGBoost\n",
    "\n",
    "Now that we have created the feature representation of our training (and testing) data, it is time to start setting up and using the XGBoost classifier provided by SageMaker.\n",
    "\n",
    "### Writing the dataset\n",
    "\n",
    "The XGBoost classifier that we will be using requires the dataset to be written to a file and stored using Amazon S3. To do this, we will start by splitting the training dataset into two parts, the data we will train the model with and a validation set. Then, we will write those datasets to a file and upload the files to S3. In addition, we will write the test set input to a file and upload the file to S3. This is so that we can use SageMakers Batch Transform functionality to test our model once we've fit it."
   ]
  },
  {
   "cell_type": "code",
   "execution_count": 16,
   "metadata": {
    "colab": {},
    "colab_type": "code",
    "id": "da0LfAVzM942"
   },
   "outputs": [],
   "source": [
    "import pandas as pd\n",
    "\n",
    "# Earlier we shuffled the training dataset so to make things simple we can just assign\n",
    "# the first 10 000 reviews to the validation set and use the remaining reviews for training.\n",
    "val_X = pd.DataFrame(train_X[:10000])\n",
    "train_X = pd.DataFrame(train_X[10000:])\n",
    "\n",
    "val_y = pd.DataFrame(train_y[:10000])\n",
    "train_y = pd.DataFrame(train_y[10000:])"
   ]
  },
  {
   "cell_type": "markdown",
   "metadata": {
    "colab_type": "text",
    "id": "GpcwLDShM946"
   },
   "source": [
    "The documentation for the XGBoost algorithm in SageMaker requires that the saved datasets should contain no headers or index and that for the training and validation data, the label should occur first for each sample.\n",
    "\n",
    "For more information about this and other algorithms, the SageMaker developer documentation can be found on __[Amazon's website.](https://docs.aws.amazon.com/sagemaker/latest/dg/)__"
   ]
  },
  {
   "cell_type": "code",
   "execution_count": 17,
   "metadata": {
    "colab": {},
    "colab_type": "code",
    "id": "3AJ-uwcbM947"
   },
   "outputs": [],
   "source": [
    "# First we make sure that the local directory in which we'd like to store the training and validation csv files exists.\n",
    "data_dir = '../data/sentiment_update'\n",
    "if not os.path.exists(data_dir):\n",
    "    os.makedirs(data_dir)"
   ]
  },
  {
   "cell_type": "code",
   "execution_count": 18,
   "metadata": {
    "colab": {},
    "colab_type": "code",
    "id": "FUcTgvjeM95A"
   },
   "outputs": [],
   "source": [
    "pd.DataFrame(test_X).to_csv(os.path.join(data_dir, 'test.csv'), header=False, index=False)\n",
    "\n",
    "pd.concat([val_y, val_X], axis=1).to_csv(os.path.join(data_dir, 'validation.csv'), header=False, index=False)\n",
    "pd.concat([train_y, train_X], axis=1).to_csv(os.path.join(data_dir, 'train.csv'), header=False, index=False)"
   ]
  },
  {
   "cell_type": "code",
   "execution_count": 19,
   "metadata": {
    "colab": {},
    "colab_type": "code",
    "id": "Ue2C73juM95E"
   },
   "outputs": [],
   "source": [
    "# To save a bit of memory we can set text_X, train_X, val_X, train_y and val_y to None.\n",
    "\n",
    "test_X = train_X = val_X = train_y = val_y = None"
   ]
  },
  {
   "cell_type": "markdown",
   "metadata": {
    "colab_type": "text",
    "id": "ilMxu3OTM95S"
   },
   "source": [
    "### Uploading Training / Validation files to S3\n",
    "\n",
    "Amazon's S3 service allows us to store files that can be access by both the built-in training models such as the XGBoost model we will be using as well as custom models such as the one we will see a little later.\n",
    "\n",
    "For this, and most other tasks we will be doing using SageMaker, there are two methods we could use. The first is to use the low level functionality of SageMaker which requires knowing each of the objects involved in the SageMaker environment. The second is to use the high level functionality in which certain choices have been made on the user's behalf. The low level approach benefits from allowing the user a great deal of flexibility while the high level approach makes development much quicker. For our purposes we will opt to use the high level approach although using the low-level approach is certainly an option.\n",
    "\n",
    "Recall the method `upload_data()` which is a member of object representing our current SageMaker session. What this method does is upload the data to the default bucket (which is created if it does not exist) into the path described by the key_prefix variable. To see this for yourself, once you have uploaded the data files, go to the S3 console and look to see where the files have been uploaded.\n",
    "\n",
    "For additional resources, see the __[SageMaker API documentation](http://sagemaker.readthedocs.io/en/latest/)__ and in addition the __[SageMaker Developer Guide.](https://docs.aws.amazon.com/sagemaker/latest/dg/)__"
   ]
  },
  {
   "cell_type": "code",
   "execution_count": 20,
   "metadata": {
    "colab": {},
    "colab_type": "code",
    "id": "FWAOxXd9M95V"
   },
   "outputs": [],
   "source": [
    "import sagemaker\n",
    "\n",
    "session = sagemaker.Session() # Store the current SageMaker session\n",
    "\n",
    "# S3 prefix (which folder will we use)\n",
    "prefix = 'sentiment-update'\n",
    "\n",
    "test_location = session.upload_data(os.path.join(data_dir, 'test.csv'), key_prefix=prefix)\n",
    "val_location = session.upload_data(os.path.join(data_dir, 'validation.csv'), key_prefix=prefix)\n",
    "train_location = session.upload_data(os.path.join(data_dir, 'train.csv'), key_prefix=prefix)"
   ]
  },
  {
   "cell_type": "markdown",
   "metadata": {
    "colab_type": "text",
    "id": "EtpyFm0tM95Z"
   },
   "source": [
    "### Creating the XGBoost model\n",
    "\n",
    "Now that the data has been uploaded it is time to create the XGBoost model. To begin with, we need to do some setup. At this point it is worth discussing what a model is in SageMaker. It is easiest to think of a model of comprising three different objects in the SageMaker ecosystem, which interact with one another.\n",
    "\n",
    "- Model Artifacts\n",
    "- Training Code (Container)\n",
    "- Inference Code (Container)\n",
    "\n",
    "The Model Artifacts are what you might think of as the actual model itself. For example, if you were building a neural network, the model artifacts would be the weights of the various layers. In our case, for an XGBoost model, the artifacts are the actual trees that are created during training.\n",
    "\n",
    "The other two objects, the training code and the inference code are then used the manipulate the training artifacts. More precisely, the training code uses the training data that is provided and creates the model artifacts, while the inference code uses the model artifacts to make predictions on new data.\n",
    "\n",
    "The way that SageMaker runs the training and inference code is by making use of Docker containers. For now, think of a container as being a way of packaging code up so that dependencies aren't an issue."
   ]
  },
  {
   "cell_type": "code",
   "execution_count": 21,
   "metadata": {
    "colab": {},
    "colab_type": "code",
    "id": "ehnvMKwbM95a"
   },
   "outputs": [],
   "source": [
    "from sagemaker import get_execution_role\n",
    "\n",
    "# Our current execution role is require when creating the model as the training\n",
    "# and inference code will need to access the model artifacts.\n",
    "role = get_execution_role()"
   ]
  },
  {
   "cell_type": "code",
   "execution_count": 22,
   "metadata": {
    "colab": {},
    "colab_type": "code",
    "id": "eCOSVb22M95e"
   },
   "outputs": [
    {
     "name": "stderr",
     "output_type": "stream",
     "text": [
      "WARNING:root:There is a more up to date SageMaker XGBoost image. To use the newer image, please set 'repo_version'='0.90-1'. For example:\n",
      "\tget_image_uri(region, 'xgboost', '0.90-1').\n"
     ]
    }
   ],
   "source": [
    "# We need to retrieve the location of the container which is provided by Amazon for using XGBoost.\n",
    "# As a matter of convenience, the training and inference code both use the same container.\n",
    "from sagemaker.amazon.amazon_estimator import get_image_uri\n",
    "\n",
    "container = get_image_uri(session.boto_region_name, 'xgboost')"
   ]
  },
  {
   "cell_type": "code",
   "execution_count": 23,
   "metadata": {
    "colab": {},
    "colab_type": "code",
    "id": "J-A9cc4sM95k"
   },
   "outputs": [],
   "source": [
    "# First we create a SageMaker estimator object for our model.\n",
    "xgb = sagemaker.estimator.Estimator(container, # The location of the container we wish to use\n",
    "                                    role,                                    # What is our current IAM Role\n",
    "                                    train_instance_count=1,                  # How many compute instances\n",
    "                                    train_instance_type='ml.m4.xlarge',      # What kind of compute instances\n",
    "                                    output_path='s3://{}/{}/output'.format(session.default_bucket(), prefix),\n",
    "                                    sagemaker_session=session)\n",
    "\n",
    "# And then set the algorithm specific parameters.\n",
    "xgb.set_hyperparameters(max_depth=5,\n",
    "                        eta=0.2,\n",
    "                        gamma=4,\n",
    "                        min_child_weight=6,\n",
    "                        subsample=0.8,\n",
    "                        silent=0,\n",
    "                        objective='binary:logistic',\n",
    "                        early_stopping_rounds=10,\n",
    "                        num_round=500)"
   ]
  },
  {
   "cell_type": "markdown",
   "metadata": {
    "colab_type": "text",
    "id": "LsDRi6PFM95o"
   },
   "source": [
    "### Fit the XGBoost model\n",
    "\n",
    "Now that our model has been set up we simply need to attach the training and validation datasets and then ask SageMaker to set up the computation."
   ]
  },
  {
   "cell_type": "code",
   "execution_count": 24,
   "metadata": {
    "colab": {},
    "colab_type": "code",
    "id": "gm3N_Pm_M95p"
   },
   "outputs": [],
   "source": [
    "s3_input_train = sagemaker.s3_input(s3_data=train_location, content_type='csv')\n",
    "s3_input_validation = sagemaker.s3_input(s3_data=val_location, content_type='csv')"
   ]
  },
  {
   "cell_type": "code",
   "execution_count": 25,
   "metadata": {
    "colab": {},
    "colab_type": "code",
    "id": "fil4A7u6M95t"
   },
   "outputs": [
    {
     "name": "stdout",
     "output_type": "stream",
     "text": [
      "2019-12-31 13:36:22 Starting - Starting the training job...\n",
      "2019-12-31 13:36:23 Starting - Launching requested ML instances......\n",
      "2019-12-31 13:37:27 Starting - Preparing the instances for training......\n",
      "2019-12-31 13:38:48 Downloading - Downloading input data\n",
      "2019-12-31 13:38:48 Training - Downloading the training image...\n",
      "2019-12-31 13:39:08 Training - Training image download completed. Training in progress.\u001b[34mArguments: train\u001b[0m\n",
      "\u001b[34m[2019-12-31:13:39:08:INFO] Running standalone xgboost training.\u001b[0m\n",
      "\u001b[34m[2019-12-31:13:39:08:INFO] File size need to be processed in the node: 238.47mb. Available memory size in the node: 8507.95mb\u001b[0m\n",
      "\u001b[34m[2019-12-31:13:39:08:INFO] Determined delimiter of CSV input is ','\u001b[0m\n",
      "\u001b[34m[13:39:08] S3DistributionType set as FullyReplicated\u001b[0m\n",
      "\u001b[34m[13:39:10] 15000x5000 matrix with 75000000 entries loaded from /opt/ml/input/data/train?format=csv&label_column=0&delimiter=,\u001b[0m\n",
      "\u001b[34m[2019-12-31:13:39:10:INFO] Determined delimiter of CSV input is ','\u001b[0m\n",
      "\u001b[34m[13:39:10] S3DistributionType set as FullyReplicated\u001b[0m\n",
      "\u001b[34m[13:39:11] 10000x5000 matrix with 50000000 entries loaded from /opt/ml/input/data/validation?format=csv&label_column=0&delimiter=,\u001b[0m\n",
      "\u001b[34m[13:39:15] src/tree/updater_prune.cc:74: tree pruning end, 1 roots, 42 extra nodes, 6 pruned nodes, max_depth=5\u001b[0m\n",
      "\u001b[34m[0]#011train-error:0.297267#011validation-error:0.3002\u001b[0m\n",
      "\u001b[34mMultiple eval metrics have been passed: 'validation-error' will be used for early stopping.\n",
      "\u001b[0m\n",
      "\u001b[34mWill train until validation-error hasn't improved in 10 rounds.\u001b[0m\n",
      "\u001b[34m[13:39:16] src/tree/updater_prune.cc:74: tree pruning end, 1 roots, 42 extra nodes, 8 pruned nodes, max_depth=5\u001b[0m\n",
      "\u001b[34m[1]#011train-error:0.280533#011validation-error:0.2815\u001b[0m\n",
      "\u001b[34m[13:39:18] src/tree/updater_prune.cc:74: tree pruning end, 1 roots, 36 extra nodes, 4 pruned nodes, max_depth=5\u001b[0m\n",
      "\u001b[34m[2]#011train-error:0.272733#011validation-error:0.2741\u001b[0m\n",
      "\u001b[34m[13:39:19] src/tree/updater_prune.cc:74: tree pruning end, 1 roots, 38 extra nodes, 0 pruned nodes, max_depth=5\u001b[0m\n",
      "\u001b[34m[3]#011train-error:0.268467#011validation-error:0.2726\u001b[0m\n",
      "\u001b[34m[13:39:21] src/tree/updater_prune.cc:74: tree pruning end, 1 roots, 48 extra nodes, 4 pruned nodes, max_depth=5\u001b[0m\n",
      "\u001b[34m[4]#011train-error:0.255133#011validation-error:0.2612\u001b[0m\n",
      "\u001b[34m[13:39:22] src/tree/updater_prune.cc:74: tree pruning end, 1 roots, 30 extra nodes, 2 pruned nodes, max_depth=5\u001b[0m\n",
      "\u001b[34m[5]#011train-error:0.251667#011validation-error:0.2603\u001b[0m\n",
      "\u001b[34m[13:39:23] src/tree/updater_prune.cc:74: tree pruning end, 1 roots, 34 extra nodes, 2 pruned nodes, max_depth=5\u001b[0m\n",
      "\u001b[34m[6]#011train-error:0.2424#011validation-error:0.2512\u001b[0m\n",
      "\u001b[34m[13:39:24] src/tree/updater_prune.cc:74: tree pruning end, 1 roots, 30 extra nodes, 4 pruned nodes, max_depth=5\u001b[0m\n",
      "\u001b[34m[7]#011train-error:0.235467#011validation-error:0.2452\u001b[0m\n",
      "\u001b[34m[13:39:26] src/tree/updater_prune.cc:74: tree pruning end, 1 roots, 36 extra nodes, 2 pruned nodes, max_depth=5\u001b[0m\n",
      "\u001b[34m[8]#011train-error:0.228533#011validation-error:0.2371\u001b[0m\n",
      "\u001b[34m[13:39:27] src/tree/updater_prune.cc:74: tree pruning end, 1 roots, 24 extra nodes, 6 pruned nodes, max_depth=5\u001b[0m\n",
      "\u001b[34m[9]#011train-error:0.225133#011validation-error:0.2356\u001b[0m\n",
      "\u001b[34m[13:39:28] src/tree/updater_prune.cc:74: tree pruning end, 1 roots, 24 extra nodes, 6 pruned nodes, max_depth=5\u001b[0m\n",
      "\u001b[34m[10]#011train-error:0.2186#011validation-error:0.2325\u001b[0m\n",
      "\u001b[34m[13:39:29] src/tree/updater_prune.cc:74: tree pruning end, 1 roots, 28 extra nodes, 14 pruned nodes, max_depth=5\u001b[0m\n",
      "\u001b[34m[11]#011train-error:0.215467#011validation-error:0.2304\u001b[0m\n",
      "\u001b[34m[13:39:31] src/tree/updater_prune.cc:74: tree pruning end, 1 roots, 34 extra nodes, 6 pruned nodes, max_depth=5\u001b[0m\n",
      "\u001b[34m[12]#011train-error:0.211467#011validation-error:0.2276\u001b[0m\n",
      "\u001b[34m[13:39:32] src/tree/updater_prune.cc:74: tree pruning end, 1 roots, 32 extra nodes, 2 pruned nodes, max_depth=5\u001b[0m\n",
      "\u001b[34m[13]#011train-error:0.2064#011validation-error:0.2222\u001b[0m\n",
      "\u001b[34m[13:39:33] src/tree/updater_prune.cc:74: tree pruning end, 1 roots, 32 extra nodes, 6 pruned nodes, max_depth=5\u001b[0m\n",
      "\u001b[34m[14]#011train-error:0.2034#011validation-error:0.219\u001b[0m\n",
      "\u001b[34m[13:39:34] src/tree/updater_prune.cc:74: tree pruning end, 1 roots, 38 extra nodes, 8 pruned nodes, max_depth=5\u001b[0m\n",
      "\u001b[34m[15]#011train-error:0.1996#011validation-error:0.2197\u001b[0m\n",
      "\u001b[34m[13:39:36] src/tree/updater_prune.cc:74: tree pruning end, 1 roots, 32 extra nodes, 10 pruned nodes, max_depth=5\u001b[0m\n",
      "\u001b[34m[16]#011train-error:0.1954#011validation-error:0.2142\u001b[0m\n",
      "\u001b[34m[13:39:37] src/tree/updater_prune.cc:74: tree pruning end, 1 roots, 26 extra nodes, 4 pruned nodes, max_depth=5\u001b[0m\n",
      "\u001b[34m[17]#011train-error:0.193667#011validation-error:0.2115\u001b[0m\n",
      "\u001b[34m[13:39:38] src/tree/updater_prune.cc:74: tree pruning end, 1 roots, 36 extra nodes, 8 pruned nodes, max_depth=5\u001b[0m\n",
      "\u001b[34m[18]#011train-error:0.188267#011validation-error:0.2087\u001b[0m\n",
      "\u001b[34m[13:39:40] src/tree/updater_prune.cc:74: tree pruning end, 1 roots, 30 extra nodes, 0 pruned nodes, max_depth=5\u001b[0m\n",
      "\u001b[34m[19]#011train-error:0.185067#011validation-error:0.208\u001b[0m\n",
      "\u001b[34m[13:39:41] src/tree/updater_prune.cc:74: tree pruning end, 1 roots, 24 extra nodes, 6 pruned nodes, max_depth=5\u001b[0m\n",
      "\u001b[34m[20]#011train-error:0.1832#011validation-error:0.206\u001b[0m\n",
      "\u001b[34m[13:39:42] src/tree/updater_prune.cc:74: tree pruning end, 1 roots, 30 extra nodes, 6 pruned nodes, max_depth=5\u001b[0m\n",
      "\u001b[34m[21]#011train-error:0.180267#011validation-error:0.2038\u001b[0m\n",
      "\u001b[34m[13:39:43] src/tree/updater_prune.cc:74: tree pruning end, 1 roots, 30 extra nodes, 4 pruned nodes, max_depth=5\u001b[0m\n",
      "\u001b[34m[22]#011train-error:0.178667#011validation-error:0.2032\u001b[0m\n",
      "\u001b[34m[13:39:45] src/tree/updater_prune.cc:74: tree pruning end, 1 roots, 26 extra nodes, 6 pruned nodes, max_depth=5\u001b[0m\n",
      "\u001b[34m[23]#011train-error:0.177#011validation-error:0.203\u001b[0m\n",
      "\u001b[34m[13:39:46] src/tree/updater_prune.cc:74: tree pruning end, 1 roots, 26 extra nodes, 12 pruned nodes, max_depth=5\u001b[0m\n",
      "\u001b[34m[24]#011train-error:0.1752#011validation-error:0.2011\u001b[0m\n",
      "\u001b[34m[13:39:47] src/tree/updater_prune.cc:74: tree pruning end, 1 roots, 16 extra nodes, 2 pruned nodes, max_depth=5\u001b[0m\n",
      "\u001b[34m[25]#011train-error:0.1734#011validation-error:0.1984\u001b[0m\n",
      "\u001b[34m[13:39:48] src/tree/updater_prune.cc:74: tree pruning end, 1 roots, 26 extra nodes, 10 pruned nodes, max_depth=5\u001b[0m\n",
      "\u001b[34m[26]#011train-error:0.1722#011validation-error:0.1967\u001b[0m\n",
      "\u001b[34m[13:39:50] src/tree/updater_prune.cc:74: tree pruning end, 1 roots, 30 extra nodes, 2 pruned nodes, max_depth=5\u001b[0m\n",
      "\u001b[34m[27]#011train-error:0.170933#011validation-error:0.1962\u001b[0m\n",
      "\u001b[34m[13:39:51] src/tree/updater_prune.cc:74: tree pruning end, 1 roots, 22 extra nodes, 12 pruned nodes, max_depth=5\u001b[0m\n",
      "\u001b[34m[28]#011train-error:0.170333#011validation-error:0.1942\u001b[0m\n",
      "\u001b[34m[13:39:52] src/tree/updater_prune.cc:74: tree pruning end, 1 roots, 22 extra nodes, 8 pruned nodes, max_depth=5\u001b[0m\n",
      "\u001b[34m[29]#011train-error:0.169333#011validation-error:0.1929\u001b[0m\n",
      "\u001b[34m[13:39:53] src/tree/updater_prune.cc:74: tree pruning end, 1 roots, 18 extra nodes, 10 pruned nodes, max_depth=5\u001b[0m\n",
      "\u001b[34m[30]#011train-error:0.168733#011validation-error:0.1926\u001b[0m\n",
      "\u001b[34m[13:39:55] src/tree/updater_prune.cc:74: tree pruning end, 1 roots, 32 extra nodes, 10 pruned nodes, max_depth=5\u001b[0m\n",
      "\u001b[34m[31]#011train-error:0.167#011validation-error:0.1904\u001b[0m\n",
      "\u001b[34m[13:39:56] src/tree/updater_prune.cc:74: tree pruning end, 1 roots, 20 extra nodes, 12 pruned nodes, max_depth=5\u001b[0m\n",
      "\u001b[34m[32]#011train-error:0.164933#011validation-error:0.1902\u001b[0m\n",
      "\u001b[34m[13:39:57] src/tree/updater_prune.cc:74: tree pruning end, 1 roots, 30 extra nodes, 8 pruned nodes, max_depth=5\u001b[0m\n",
      "\u001b[34m[33]#011train-error:0.162667#011validation-error:0.1894\u001b[0m\n",
      "\u001b[34m[13:39:58] src/tree/updater_prune.cc:74: tree pruning end, 1 roots, 28 extra nodes, 8 pruned nodes, max_depth=5\u001b[0m\n",
      "\u001b[34m[34]#011train-error:0.1614#011validation-error:0.1877\u001b[0m\n",
      "\u001b[34m[13:40:00] src/tree/updater_prune.cc:74: tree pruning end, 1 roots, 26 extra nodes, 12 pruned nodes, max_depth=5\u001b[0m\n",
      "\u001b[34m[35]#011train-error:0.158067#011validation-error:0.1857\u001b[0m\n",
      "\u001b[34m[13:40:01] src/tree/updater_prune.cc:74: tree pruning end, 1 roots, 16 extra nodes, 16 pruned nodes, max_depth=5\u001b[0m\n",
      "\u001b[34m[36]#011train-error:0.157333#011validation-error:0.1848\u001b[0m\n"
     ]
    },
    {
     "name": "stdout",
     "output_type": "stream",
     "text": [
      "\u001b[34m[13:40:02] src/tree/updater_prune.cc:74: tree pruning end, 1 roots, 20 extra nodes, 10 pruned nodes, max_depth=5\u001b[0m\n",
      "\u001b[34m[37]#011train-error:0.156733#011validation-error:0.1839\u001b[0m\n",
      "\u001b[34m[13:40:04] src/tree/updater_prune.cc:74: tree pruning end, 1 roots, 28 extra nodes, 6 pruned nodes, max_depth=5\u001b[0m\n",
      "\u001b[34m[38]#011train-error:0.154267#011validation-error:0.1826\u001b[0m\n",
      "\u001b[34m[13:40:05] src/tree/updater_prune.cc:74: tree pruning end, 1 roots, 24 extra nodes, 8 pruned nodes, max_depth=5\u001b[0m\n",
      "\u001b[34m[39]#011train-error:0.152333#011validation-error:0.1804\u001b[0m\n",
      "\u001b[34m[13:40:06] src/tree/updater_prune.cc:74: tree pruning end, 1 roots, 24 extra nodes, 20 pruned nodes, max_depth=5\u001b[0m\n",
      "\u001b[34m[40]#011train-error:0.151267#011validation-error:0.1787\u001b[0m\n",
      "\u001b[34m[13:40:07] src/tree/updater_prune.cc:74: tree pruning end, 1 roots, 20 extra nodes, 12 pruned nodes, max_depth=5\u001b[0m\n",
      "\u001b[34m[41]#011train-error:0.148733#011validation-error:0.1776\u001b[0m\n",
      "\u001b[34m[13:40:09] src/tree/updater_prune.cc:74: tree pruning end, 1 roots, 10 extra nodes, 12 pruned nodes, max_depth=5\u001b[0m\n",
      "\u001b[34m[42]#011train-error:0.148133#011validation-error:0.1773\u001b[0m\n",
      "\u001b[34m[13:40:10] src/tree/updater_prune.cc:74: tree pruning end, 1 roots, 18 extra nodes, 16 pruned nodes, max_depth=5\u001b[0m\n",
      "\u001b[34m[43]#011train-error:0.147667#011validation-error:0.1767\u001b[0m\n",
      "\u001b[34m[13:40:11] src/tree/updater_prune.cc:74: tree pruning end, 1 roots, 22 extra nodes, 2 pruned nodes, max_depth=5\u001b[0m\n",
      "\u001b[34m[44]#011train-error:0.146933#011validation-error:0.177\u001b[0m\n",
      "\u001b[34m[13:40:12] src/tree/updater_prune.cc:74: tree pruning end, 1 roots, 22 extra nodes, 14 pruned nodes, max_depth=5\u001b[0m\n",
      "\u001b[34m[45]#011train-error:0.146333#011validation-error:0.1764\u001b[0m\n",
      "\u001b[34m[13:40:14] src/tree/updater_prune.cc:74: tree pruning end, 1 roots, 24 extra nodes, 8 pruned nodes, max_depth=5\u001b[0m\n",
      "\u001b[34m[46]#011train-error:0.145#011validation-error:0.1754\u001b[0m\n",
      "\u001b[34m[13:40:15] src/tree/updater_prune.cc:74: tree pruning end, 1 roots, 20 extra nodes, 6 pruned nodes, max_depth=5\u001b[0m\n",
      "\u001b[34m[47]#011train-error:0.1444#011validation-error:0.1754\u001b[0m\n",
      "\u001b[34m[13:40:16] src/tree/updater_prune.cc:74: tree pruning end, 1 roots, 12 extra nodes, 8 pruned nodes, max_depth=5\u001b[0m\n",
      "\u001b[34m[48]#011train-error:0.1422#011validation-error:0.1739\u001b[0m\n",
      "\u001b[34m[13:40:17] src/tree/updater_prune.cc:74: tree pruning end, 1 roots, 24 extra nodes, 8 pruned nodes, max_depth=5\u001b[0m\n",
      "\u001b[34m[49]#011train-error:0.1406#011validation-error:0.174\u001b[0m\n",
      "\u001b[34m[13:40:19] src/tree/updater_prune.cc:74: tree pruning end, 1 roots, 20 extra nodes, 10 pruned nodes, max_depth=5\u001b[0m\n",
      "\u001b[34m[50]#011train-error:0.139533#011validation-error:0.1727\u001b[0m\n",
      "\u001b[34m[13:40:20] src/tree/updater_prune.cc:74: tree pruning end, 1 roots, 26 extra nodes, 12 pruned nodes, max_depth=5\u001b[0m\n",
      "\u001b[34m[51]#011train-error:0.139#011validation-error:0.1725\u001b[0m\n",
      "\u001b[34m[13:40:21] src/tree/updater_prune.cc:74: tree pruning end, 1 roots, 32 extra nodes, 4 pruned nodes, max_depth=5\u001b[0m\n",
      "\u001b[34m[52]#011train-error:0.1382#011validation-error:0.1721\u001b[0m\n",
      "\u001b[34m[13:40:22] src/tree/updater_prune.cc:74: tree pruning end, 1 roots, 12 extra nodes, 2 pruned nodes, max_depth=5\u001b[0m\n",
      "\u001b[34m[53]#011train-error:0.138133#011validation-error:0.1716\u001b[0m\n",
      "\u001b[34m[13:40:24] src/tree/updater_prune.cc:74: tree pruning end, 1 roots, 28 extra nodes, 8 pruned nodes, max_depth=5\u001b[0m\n",
      "\u001b[34m[54]#011train-error:0.137067#011validation-error:0.1706\u001b[0m\n",
      "\u001b[34m[13:40:25] src/tree/updater_prune.cc:74: tree pruning end, 1 roots, 16 extra nodes, 4 pruned nodes, max_depth=5\u001b[0m\n",
      "\u001b[34m[55]#011train-error:0.137067#011validation-error:0.17\u001b[0m\n",
      "\u001b[34m[13:40:26] src/tree/updater_prune.cc:74: tree pruning end, 1 roots, 30 extra nodes, 12 pruned nodes, max_depth=5\u001b[0m\n",
      "\u001b[34m[56]#011train-error:0.1344#011validation-error:0.1686\u001b[0m\n",
      "\u001b[34m[13:40:28] src/tree/updater_prune.cc:74: tree pruning end, 1 roots, 30 extra nodes, 12 pruned nodes, max_depth=5\u001b[0m\n",
      "\u001b[34m[57]#011train-error:0.132933#011validation-error:0.1681\u001b[0m\n",
      "\u001b[34m[13:40:29] src/tree/updater_prune.cc:74: tree pruning end, 1 roots, 16 extra nodes, 8 pruned nodes, max_depth=5\u001b[0m\n",
      "\u001b[34m[58]#011train-error:0.132933#011validation-error:0.1661\u001b[0m\n",
      "\u001b[34m[13:40:30] src/tree/updater_prune.cc:74: tree pruning end, 1 roots, 18 extra nodes, 18 pruned nodes, max_depth=5\u001b[0m\n",
      "\u001b[34m[59]#011train-error:0.132067#011validation-error:0.1654\u001b[0m\n",
      "\u001b[34m[13:40:31] src/tree/updater_prune.cc:74: tree pruning end, 1 roots, 22 extra nodes, 16 pruned nodes, max_depth=5\u001b[0m\n",
      "\u001b[34m[60]#011train-error:0.1314#011validation-error:0.1653\u001b[0m\n",
      "\u001b[34m[13:40:33] src/tree/updater_prune.cc:74: tree pruning end, 1 roots, 26 extra nodes, 16 pruned nodes, max_depth=5\u001b[0m\n",
      "\u001b[34m[61]#011train-error:0.129867#011validation-error:0.1656\u001b[0m\n",
      "\u001b[34m[13:40:34] src/tree/updater_prune.cc:74: tree pruning end, 1 roots, 18 extra nodes, 14 pruned nodes, max_depth=5\u001b[0m\n",
      "\u001b[34m[62]#011train-error:0.128867#011validation-error:0.1652\u001b[0m\n",
      "\u001b[34m[13:40:35] src/tree/updater_prune.cc:74: tree pruning end, 1 roots, 22 extra nodes, 10 pruned nodes, max_depth=5\u001b[0m\n",
      "\u001b[34m[63]#011train-error:0.128067#011validation-error:0.1643\u001b[0m\n",
      "\u001b[34m[13:40:36] src/tree/updater_prune.cc:74: tree pruning end, 1 roots, 18 extra nodes, 18 pruned nodes, max_depth=5\u001b[0m\n",
      "\u001b[34m[64]#011train-error:0.127533#011validation-error:0.1636\u001b[0m\n",
      "\u001b[34m[13:40:38] src/tree/updater_prune.cc:74: tree pruning end, 1 roots, 16 extra nodes, 8 pruned nodes, max_depth=5\u001b[0m\n",
      "\u001b[34m[65]#011train-error:0.1268#011validation-error:0.1639\u001b[0m\n",
      "\u001b[34m[13:40:39] src/tree/updater_prune.cc:74: tree pruning end, 1 roots, 28 extra nodes, 4 pruned nodes, max_depth=5\u001b[0m\n",
      "\u001b[34m[66]#011train-error:0.1254#011validation-error:0.1639\u001b[0m\n",
      "\u001b[34m[13:40:40] src/tree/updater_prune.cc:74: tree pruning end, 1 roots, 16 extra nodes, 12 pruned nodes, max_depth=5\u001b[0m\n",
      "\u001b[34m[67]#011train-error:0.124933#011validation-error:0.1638\u001b[0m\n",
      "\u001b[34m[13:40:41] src/tree/updater_prune.cc:74: tree pruning end, 1 roots, 26 extra nodes, 8 pruned nodes, max_depth=5\u001b[0m\n",
      "\u001b[34m[68]#011train-error:0.124267#011validation-error:0.1638\u001b[0m\n",
      "\u001b[34m[13:40:43] src/tree/updater_prune.cc:74: tree pruning end, 1 roots, 28 extra nodes, 4 pruned nodes, max_depth=5\u001b[0m\n",
      "\u001b[34m[69]#011train-error:0.124067#011validation-error:0.1628\u001b[0m\n",
      "\u001b[34m[13:40:44] src/tree/updater_prune.cc:74: tree pruning end, 1 roots, 28 extra nodes, 14 pruned nodes, max_depth=5\u001b[0m\n",
      "\u001b[34m[70]#011train-error:0.1224#011validation-error:0.162\u001b[0m\n",
      "\u001b[34m[13:40:45] src/tree/updater_prune.cc:74: tree pruning end, 1 roots, 20 extra nodes, 12 pruned nodes, max_depth=5\u001b[0m\n",
      "\u001b[34m[71]#011train-error:0.122267#011validation-error:0.1614\u001b[0m\n",
      "\u001b[34m[13:40:46] src/tree/updater_prune.cc:74: tree pruning end, 1 roots, 22 extra nodes, 6 pruned nodes, max_depth=5\u001b[0m\n",
      "\u001b[34m[72]#011train-error:0.1212#011validation-error:0.1629\u001b[0m\n",
      "\u001b[34m[13:40:48] src/tree/updater_prune.cc:74: tree pruning end, 1 roots, 16 extra nodes, 14 pruned nodes, max_depth=5\u001b[0m\n",
      "\u001b[34m[73]#011train-error:0.1212#011validation-error:0.1617\u001b[0m\n",
      "\u001b[34m[13:40:49] src/tree/updater_prune.cc:74: tree pruning end, 1 roots, 12 extra nodes, 14 pruned nodes, max_depth=5\u001b[0m\n",
      "\u001b[34m[74]#011train-error:0.121467#011validation-error:0.1613\u001b[0m\n",
      "\u001b[34m[13:40:50] src/tree/updater_prune.cc:74: tree pruning end, 1 roots, 14 extra nodes, 4 pruned nodes, max_depth=5\u001b[0m\n",
      "\u001b[34m[75]#011train-error:0.121067#011validation-error:0.1601\u001b[0m\n",
      "\u001b[34m[13:40:51] src/tree/updater_prune.cc:74: tree pruning end, 1 roots, 10 extra nodes, 10 pruned nodes, max_depth=5\u001b[0m\n",
      "\u001b[34m[76]#011train-error:0.120067#011validation-error:0.1602\u001b[0m\n",
      "\u001b[34m[13:40:53] src/tree/updater_prune.cc:74: tree pruning end, 1 roots, 22 extra nodes, 4 pruned nodes, max_depth=5\u001b[0m\n",
      "\u001b[34m[77]#011train-error:0.1188#011validation-error:0.1605\u001b[0m\n",
      "\u001b[34m[13:40:54] src/tree/updater_prune.cc:74: tree pruning end, 1 roots, 14 extra nodes, 0 pruned nodes, max_depth=5\u001b[0m\n",
      "\u001b[34m[78]#011train-error:0.117933#011validation-error:0.1595\u001b[0m\n",
      "\u001b[34m[13:40:55] src/tree/updater_prune.cc:74: tree pruning end, 1 roots, 12 extra nodes, 18 pruned nodes, max_depth=5\u001b[0m\n",
      "\u001b[34m[79]#011train-error:0.117933#011validation-error:0.1583\u001b[0m\n",
      "\u001b[34m[13:40:56] src/tree/updater_prune.cc:74: tree pruning end, 1 roots, 16 extra nodes, 8 pruned nodes, max_depth=5\u001b[0m\n",
      "\u001b[34m[80]#011train-error:0.117267#011validation-error:0.1579\u001b[0m\n",
      "\u001b[34m[13:40:58] src/tree/updater_prune.cc:74: tree pruning end, 1 roots, 14 extra nodes, 4 pruned nodes, max_depth=5\u001b[0m\n",
      "\u001b[34m[81]#011train-error:0.116467#011validation-error:0.1582\u001b[0m\n",
      "\u001b[34m[13:40:59] src/tree/updater_prune.cc:74: tree pruning end, 1 roots, 18 extra nodes, 24 pruned nodes, max_depth=5\u001b[0m\n",
      "\u001b[34m[82]#011train-error:0.115533#011validation-error:0.1578\u001b[0m\n",
      "\u001b[34m[13:41:00] src/tree/updater_prune.cc:74: tree pruning end, 1 roots, 20 extra nodes, 2 pruned nodes, max_depth=5\u001b[0m\n",
      "\u001b[34m[83]#011train-error:0.115467#011validation-error:0.1569\u001b[0m\n",
      "\u001b[34m[13:41:01] src/tree/updater_prune.cc:74: tree pruning end, 1 roots, 18 extra nodes, 6 pruned nodes, max_depth=5\u001b[0m\n",
      "\u001b[34m[84]#011train-error:0.1152#011validation-error:0.1566\u001b[0m\n"
     ]
    },
    {
     "name": "stdout",
     "output_type": "stream",
     "text": [
      "\u001b[34m[13:41:03] src/tree/updater_prune.cc:74: tree pruning end, 1 roots, 10 extra nodes, 16 pruned nodes, max_depth=5\u001b[0m\n",
      "\u001b[34m[85]#011train-error:0.1152#011validation-error:0.1566\u001b[0m\n",
      "\u001b[34m[13:41:04] src/tree/updater_prune.cc:74: tree pruning end, 1 roots, 16 extra nodes, 8 pruned nodes, max_depth=5\u001b[0m\n",
      "\u001b[34m[86]#011train-error:0.115133#011validation-error:0.1571\u001b[0m\n",
      "\u001b[34m[13:41:05] src/tree/updater_prune.cc:74: tree pruning end, 1 roots, 18 extra nodes, 2 pruned nodes, max_depth=5\u001b[0m\n",
      "\u001b[34m[87]#011train-error:0.1146#011validation-error:0.1564\u001b[0m\n",
      "\u001b[34m[13:41:06] src/tree/updater_prune.cc:74: tree pruning end, 1 roots, 14 extra nodes, 12 pruned nodes, max_depth=5\u001b[0m\n",
      "\u001b[34m[88]#011train-error:0.1138#011validation-error:0.1559\u001b[0m\n",
      "\u001b[34m[13:41:08] src/tree/updater_prune.cc:74: tree pruning end, 1 roots, 12 extra nodes, 6 pruned nodes, max_depth=5\u001b[0m\n",
      "\u001b[34m[89]#011train-error:0.113267#011validation-error:0.1556\u001b[0m\n",
      "\u001b[34m[13:41:09] src/tree/updater_prune.cc:74: tree pruning end, 1 roots, 18 extra nodes, 10 pruned nodes, max_depth=5\u001b[0m\n",
      "\u001b[34m[90]#011train-error:0.1126#011validation-error:0.1549\u001b[0m\n",
      "\u001b[34m[13:41:10] src/tree/updater_prune.cc:74: tree pruning end, 1 roots, 10 extra nodes, 4 pruned nodes, max_depth=5\u001b[0m\n",
      "\u001b[34m[91]#011train-error:0.113133#011validation-error:0.1556\u001b[0m\n",
      "\u001b[34m[13:41:11] src/tree/updater_prune.cc:74: tree pruning end, 1 roots, 16 extra nodes, 12 pruned nodes, max_depth=5\u001b[0m\n",
      "\u001b[34m[92]#011train-error:0.113133#011validation-error:0.1541\u001b[0m\n",
      "\u001b[34m[13:41:13] src/tree/updater_prune.cc:74: tree pruning end, 1 roots, 24 extra nodes, 8 pruned nodes, max_depth=5\u001b[0m\n",
      "\u001b[34m[93]#011train-error:0.1108#011validation-error:0.1549\u001b[0m\n",
      "\u001b[34m[13:41:14] src/tree/updater_prune.cc:74: tree pruning end, 1 roots, 16 extra nodes, 6 pruned nodes, max_depth=5\u001b[0m\n",
      "\u001b[34m[94]#011train-error:0.110667#011validation-error:0.1537\u001b[0m\n",
      "\u001b[34m[13:41:15] src/tree/updater_prune.cc:74: tree pruning end, 1 roots, 14 extra nodes, 6 pruned nodes, max_depth=5\u001b[0m\n",
      "\u001b[34m[95]#011train-error:0.110533#011validation-error:0.1536\u001b[0m\n",
      "\u001b[34m[13:41:16] src/tree/updater_prune.cc:74: tree pruning end, 1 roots, 16 extra nodes, 2 pruned nodes, max_depth=5\u001b[0m\n",
      "\u001b[34m[96]#011train-error:0.1108#011validation-error:0.153\u001b[0m\n",
      "\u001b[34m[13:41:18] src/tree/updater_prune.cc:74: tree pruning end, 1 roots, 34 extra nodes, 6 pruned nodes, max_depth=5\u001b[0m\n",
      "\u001b[34m[97]#011train-error:0.110067#011validation-error:0.152\u001b[0m\n",
      "\u001b[34m[13:41:19] src/tree/updater_prune.cc:74: tree pruning end, 1 roots, 20 extra nodes, 14 pruned nodes, max_depth=5\u001b[0m\n",
      "\u001b[34m[98]#011train-error:0.1098#011validation-error:0.1511\u001b[0m\n",
      "\u001b[34m[13:41:20] src/tree/updater_prune.cc:74: tree pruning end, 1 roots, 18 extra nodes, 8 pruned nodes, max_depth=5\u001b[0m\n",
      "\u001b[34m[99]#011train-error:0.109267#011validation-error:0.1507\u001b[0m\n",
      "\u001b[34m[13:41:21] src/tree/updater_prune.cc:74: tree pruning end, 1 roots, 32 extra nodes, 4 pruned nodes, max_depth=5\u001b[0m\n",
      "\u001b[34m[100]#011train-error:0.108267#011validation-error:0.1504\u001b[0m\n",
      "\u001b[34m[13:41:23] src/tree/updater_prune.cc:74: tree pruning end, 1 roots, 20 extra nodes, 10 pruned nodes, max_depth=5\u001b[0m\n",
      "\u001b[34m[101]#011train-error:0.108333#011validation-error:0.1505\u001b[0m\n",
      "\u001b[34m[13:41:24] src/tree/updater_prune.cc:74: tree pruning end, 1 roots, 12 extra nodes, 10 pruned nodes, max_depth=5\u001b[0m\n",
      "\u001b[34m[102]#011train-error:0.108333#011validation-error:0.1503\u001b[0m\n",
      "\u001b[34m[13:41:25] src/tree/updater_prune.cc:74: tree pruning end, 1 roots, 12 extra nodes, 8 pruned nodes, max_depth=5\u001b[0m\n",
      "\u001b[34m[103]#011train-error:0.107467#011validation-error:0.1507\u001b[0m\n",
      "\u001b[34m[13:41:27] src/tree/updater_prune.cc:74: tree pruning end, 1 roots, 12 extra nodes, 8 pruned nodes, max_depth=5\u001b[0m\n",
      "\u001b[34m[104]#011train-error:0.107067#011validation-error:0.1507\u001b[0m\n",
      "\u001b[34m[13:41:28] src/tree/updater_prune.cc:74: tree pruning end, 1 roots, 22 extra nodes, 4 pruned nodes, max_depth=5\u001b[0m\n",
      "\u001b[34m[105]#011train-error:0.106667#011validation-error:0.1504\u001b[0m\n",
      "\u001b[34m[13:41:29] src/tree/updater_prune.cc:74: tree pruning end, 1 roots, 14 extra nodes, 12 pruned nodes, max_depth=5\u001b[0m\n",
      "\u001b[34m[106]#011train-error:0.106333#011validation-error:0.149\u001b[0m\n",
      "\u001b[34m[13:41:30] src/tree/updater_prune.cc:74: tree pruning end, 1 roots, 10 extra nodes, 4 pruned nodes, max_depth=5\u001b[0m\n",
      "\u001b[34m[107]#011train-error:0.106#011validation-error:0.1486\u001b[0m\n",
      "\u001b[34m[13:41:32] src/tree/updater_prune.cc:74: tree pruning end, 1 roots, 18 extra nodes, 6 pruned nodes, max_depth=5\u001b[0m\n",
      "\u001b[34m[108]#011train-error:0.1056#011validation-error:0.1482\u001b[0m\n",
      "\u001b[34m[13:41:33] src/tree/updater_prune.cc:74: tree pruning end, 1 roots, 10 extra nodes, 2 pruned nodes, max_depth=5\u001b[0m\n",
      "\u001b[34m[109]#011train-error:0.1048#011validation-error:0.1479\u001b[0m\n",
      "\u001b[34m[13:41:34] src/tree/updater_prune.cc:74: tree pruning end, 1 roots, 24 extra nodes, 10 pruned nodes, max_depth=5\u001b[0m\n",
      "\u001b[34m[110]#011train-error:0.104467#011validation-error:0.1484\u001b[0m\n",
      "\u001b[34m[13:41:35] src/tree/updater_prune.cc:74: tree pruning end, 1 roots, 14 extra nodes, 10 pruned nodes, max_depth=5\u001b[0m\n",
      "\u001b[34m[111]#011train-error:0.104333#011validation-error:0.1481\u001b[0m\n",
      "\u001b[34m[13:41:37] src/tree/updater_prune.cc:74: tree pruning end, 1 roots, 24 extra nodes, 28 pruned nodes, max_depth=5\u001b[0m\n",
      "\u001b[34m[112]#011train-error:0.102733#011validation-error:0.1478\u001b[0m\n",
      "\u001b[34m[13:41:38] src/tree/updater_prune.cc:74: tree pruning end, 1 roots, 10 extra nodes, 0 pruned nodes, max_depth=5\u001b[0m\n",
      "\u001b[34m[113]#011train-error:0.1024#011validation-error:0.1473\u001b[0m\n",
      "\u001b[34m[13:41:39] src/tree/updater_prune.cc:74: tree pruning end, 1 roots, 12 extra nodes, 12 pruned nodes, max_depth=5\u001b[0m\n",
      "\u001b[34m[114]#011train-error:0.1022#011validation-error:0.1481\u001b[0m\n",
      "\u001b[34m[13:41:40] src/tree/updater_prune.cc:74: tree pruning end, 1 roots, 22 extra nodes, 10 pruned nodes, max_depth=5\u001b[0m\n",
      "\u001b[34m[115]#011train-error:0.1018#011validation-error:0.1471\u001b[0m\n",
      "\u001b[34m[13:41:42] src/tree/updater_prune.cc:74: tree pruning end, 1 roots, 10 extra nodes, 6 pruned nodes, max_depth=5\u001b[0m\n",
      "\u001b[34m[116]#011train-error:0.101133#011validation-error:0.1468\u001b[0m\n",
      "\u001b[34m[13:41:43] src/tree/updater_prune.cc:74: tree pruning end, 1 roots, 12 extra nodes, 4 pruned nodes, max_depth=5\u001b[0m\n",
      "\u001b[34m[117]#011train-error:0.1006#011validation-error:0.146\u001b[0m\n",
      "\u001b[34m[13:41:44] src/tree/updater_prune.cc:74: tree pruning end, 1 roots, 14 extra nodes, 10 pruned nodes, max_depth=5\u001b[0m\n",
      "\u001b[34m[118]#011train-error:0.099867#011validation-error:0.1455\u001b[0m\n",
      "\u001b[34m[13:41:46] src/tree/updater_prune.cc:74: tree pruning end, 1 roots, 12 extra nodes, 4 pruned nodes, max_depth=5\u001b[0m\n",
      "\u001b[34m[119]#011train-error:0.099867#011validation-error:0.1455\u001b[0m\n",
      "\u001b[34m[13:41:47] src/tree/updater_prune.cc:74: tree pruning end, 1 roots, 16 extra nodes, 8 pruned nodes, max_depth=5\u001b[0m\n",
      "\u001b[34m[120]#011train-error:0.098867#011validation-error:0.146\u001b[0m\n",
      "\u001b[34m[13:41:48] src/tree/updater_prune.cc:74: tree pruning end, 1 roots, 14 extra nodes, 8 pruned nodes, max_depth=5\u001b[0m\n",
      "\u001b[34m[121]#011train-error:0.0988#011validation-error:0.1456\u001b[0m\n",
      "\u001b[34m[13:41:49] src/tree/updater_prune.cc:74: tree pruning end, 1 roots, 10 extra nodes, 2 pruned nodes, max_depth=5\u001b[0m\n",
      "\u001b[34m[122]#011train-error:0.0984#011validation-error:0.1459\u001b[0m\n",
      "\u001b[34m[13:41:51] src/tree/updater_prune.cc:74: tree pruning end, 1 roots, 12 extra nodes, 8 pruned nodes, max_depth=5\u001b[0m\n",
      "\u001b[34m[123]#011train-error:0.0988#011validation-error:0.1453\u001b[0m\n",
      "\u001b[34m[13:41:52] src/tree/updater_prune.cc:74: tree pruning end, 1 roots, 26 extra nodes, 0 pruned nodes, max_depth=5\u001b[0m\n",
      "\u001b[34m[124]#011train-error:0.098867#011validation-error:0.1446\u001b[0m\n",
      "\u001b[34m[13:41:53] src/tree/updater_prune.cc:74: tree pruning end, 1 roots, 16 extra nodes, 12 pruned nodes, max_depth=5\u001b[0m\n",
      "\u001b[34m[125]#011train-error:0.098667#011validation-error:0.1447\u001b[0m\n",
      "\u001b[34m[13:41:54] src/tree/updater_prune.cc:74: tree pruning end, 1 roots, 12 extra nodes, 8 pruned nodes, max_depth=5\u001b[0m\n",
      "\u001b[34m[126]#011train-error:0.098867#011validation-error:0.1444\u001b[0m\n",
      "\u001b[34m[13:41:56] src/tree/updater_prune.cc:74: tree pruning end, 1 roots, 12 extra nodes, 22 pruned nodes, max_depth=5\u001b[0m\n",
      "\u001b[34m[127]#011train-error:0.098267#011validation-error:0.1447\u001b[0m\n",
      "\u001b[34m[13:41:57] src/tree/updater_prune.cc:74: tree pruning end, 1 roots, 12 extra nodes, 10 pruned nodes, max_depth=5\u001b[0m\n",
      "\u001b[34m[128]#011train-error:0.097667#011validation-error:0.1445\u001b[0m\n",
      "\u001b[34m[13:41:58] src/tree/updater_prune.cc:74: tree pruning end, 1 roots, 20 extra nodes, 10 pruned nodes, max_depth=5\u001b[0m\n",
      "\u001b[34m[129]#011train-error:0.0978#011validation-error:0.1442\u001b[0m\n",
      "\u001b[34m[13:41:59] src/tree/updater_prune.cc:74: tree pruning end, 1 roots, 14 extra nodes, 10 pruned nodes, max_depth=5\u001b[0m\n",
      "\u001b[34m[130]#011train-error:0.0978#011validation-error:0.1435\u001b[0m\n",
      "\u001b[34m[13:42:01] src/tree/updater_prune.cc:74: tree pruning end, 1 roots, 10 extra nodes, 12 pruned nodes, max_depth=5\u001b[0m\n",
      "\u001b[34m[131]#011train-error:0.0976#011validation-error:0.1437\u001b[0m\n",
      "\u001b[34m[13:42:02] src/tree/updater_prune.cc:74: tree pruning end, 1 roots, 26 extra nodes, 12 pruned nodes, max_depth=5\u001b[0m\n",
      "\u001b[34m[132]#011train-error:0.096667#011validation-error:0.1443\u001b[0m\n",
      "\u001b[34m[13:42:03] src/tree/updater_prune.cc:74: tree pruning end, 1 roots, 12 extra nodes, 4 pruned nodes, max_depth=5\u001b[0m\n",
      "\u001b[34m[133]#011train-error:0.095867#011validation-error:0.1436\u001b[0m\n",
      "\u001b[34m[13:42:05] src/tree/updater_prune.cc:74: tree pruning end, 1 roots, 20 extra nodes, 14 pruned nodes, max_depth=5\u001b[0m\n",
      "\u001b[34m[134]#011train-error:0.094267#011validation-error:0.1434\u001b[0m\n",
      "\u001b[34m[13:42:06] src/tree/updater_prune.cc:74: tree pruning end, 1 roots, 14 extra nodes, 10 pruned nodes, max_depth=5\u001b[0m\n",
      "\u001b[34m[135]#011train-error:0.094667#011validation-error:0.1425\u001b[0m\n",
      "\u001b[34m[13:42:07] src/tree/updater_prune.cc:74: tree pruning end, 1 roots, 10 extra nodes, 8 pruned nodes, max_depth=5\u001b[0m\n",
      "\u001b[34m[136]#011train-error:0.094133#011validation-error:0.1426\u001b[0m\n",
      "\u001b[34m[13:42:08] src/tree/updater_prune.cc:74: tree pruning end, 1 roots, 10 extra nodes, 8 pruned nodes, max_depth=5\u001b[0m\n",
      "\u001b[34m[137]#011train-error:0.093667#011validation-error:0.1426\u001b[0m\n",
      "\u001b[34m[13:42:10] src/tree/updater_prune.cc:74: tree pruning end, 1 roots, 12 extra nodes, 4 pruned nodes, max_depth=5\u001b[0m\n",
      "\u001b[34m[138]#011train-error:0.094#011validation-error:0.1427\u001b[0m\n",
      "\u001b[34m[13:42:11] src/tree/updater_prune.cc:74: tree pruning end, 1 roots, 24 extra nodes, 8 pruned nodes, max_depth=5\u001b[0m\n",
      "\u001b[34m[139]#011train-error:0.093667#011validation-error:0.1434\u001b[0m\n",
      "\u001b[34m[13:42:12] src/tree/updater_prune.cc:74: tree pruning end, 1 roots, 14 extra nodes, 12 pruned nodes, max_depth=5\u001b[0m\n",
      "\u001b[34m[140]#011train-error:0.0936#011validation-error:0.1435\u001b[0m\n"
     ]
    },
    {
     "name": "stdout",
     "output_type": "stream",
     "text": [
      "\u001b[34m[13:42:13] src/tree/updater_prune.cc:74: tree pruning end, 1 roots, 14 extra nodes, 18 pruned nodes, max_depth=5\u001b[0m\n",
      "\u001b[34m[141]#011train-error:0.093467#011validation-error:0.1438\u001b[0m\n",
      "\u001b[34m[13:42:15] src/tree/updater_prune.cc:74: tree pruning end, 1 roots, 20 extra nodes, 4 pruned nodes, max_depth=5\u001b[0m\n",
      "\u001b[34m[142]#011train-error:0.092933#011validation-error:0.1431\u001b[0m\n",
      "\u001b[34m[13:42:16] src/tree/updater_prune.cc:74: tree pruning end, 1 roots, 12 extra nodes, 2 pruned nodes, max_depth=5\u001b[0m\n",
      "\u001b[34m[143]#011train-error:0.0932#011validation-error:0.1427\u001b[0m\n",
      "\u001b[34m[13:42:17] src/tree/updater_prune.cc:74: tree pruning end, 1 roots, 24 extra nodes, 4 pruned nodes, max_depth=5\u001b[0m\n",
      "\u001b[34m[144]#011train-error:0.092333#011validation-error:0.1424\u001b[0m\n",
      "\u001b[34m[13:42:19] src/tree/updater_prune.cc:74: tree pruning end, 1 roots, 12 extra nodes, 12 pruned nodes, max_depth=5\u001b[0m\n",
      "\u001b[34m[145]#011train-error:0.092133#011validation-error:0.1422\u001b[0m\n",
      "\u001b[34m[13:42:20] src/tree/updater_prune.cc:74: tree pruning end, 1 roots, 12 extra nodes, 0 pruned nodes, max_depth=5\u001b[0m\n",
      "\u001b[34m[146]#011train-error:0.0918#011validation-error:0.1417\u001b[0m\n",
      "\u001b[34m[13:42:21] src/tree/updater_prune.cc:74: tree pruning end, 1 roots, 10 extra nodes, 12 pruned nodes, max_depth=5\u001b[0m\n",
      "\u001b[34m[147]#011train-error:0.092067#011validation-error:0.1417\u001b[0m\n",
      "\u001b[34m[13:42:22] src/tree/updater_prune.cc:74: tree pruning end, 1 roots, 10 extra nodes, 12 pruned nodes, max_depth=5\u001b[0m\n",
      "\u001b[34m[148]#011train-error:0.091467#011validation-error:0.1419\u001b[0m\n",
      "\u001b[34m[13:42:24] src/tree/updater_prune.cc:74: tree pruning end, 1 roots, 10 extra nodes, 6 pruned nodes, max_depth=5\u001b[0m\n",
      "\u001b[34m[149]#011train-error:0.091533#011validation-error:0.1417\u001b[0m\n",
      "\u001b[34m[13:42:25] src/tree/updater_prune.cc:74: tree pruning end, 1 roots, 10 extra nodes, 20 pruned nodes, max_depth=5\u001b[0m\n",
      "\u001b[34m[150]#011train-error:0.091067#011validation-error:0.1413\u001b[0m\n",
      "\u001b[34m[13:42:26] src/tree/updater_prune.cc:74: tree pruning end, 1 roots, 14 extra nodes, 14 pruned nodes, max_depth=5\u001b[0m\n",
      "\u001b[34m[151]#011train-error:0.090133#011validation-error:0.1409\u001b[0m\n",
      "\u001b[34m[13:42:27] src/tree/updater_prune.cc:74: tree pruning end, 1 roots, 20 extra nodes, 16 pruned nodes, max_depth=5\u001b[0m\n",
      "\u001b[34m[152]#011train-error:0.089533#011validation-error:0.1411\u001b[0m\n",
      "\u001b[34m[13:42:29] src/tree/updater_prune.cc:74: tree pruning end, 1 roots, 18 extra nodes, 12 pruned nodes, max_depth=5\u001b[0m\n",
      "\u001b[34m[153]#011train-error:0.089467#011validation-error:0.1404\u001b[0m\n",
      "\u001b[34m[13:42:30] src/tree/updater_prune.cc:74: tree pruning end, 1 roots, 10 extra nodes, 8 pruned nodes, max_depth=5\u001b[0m\n",
      "\u001b[34m[154]#011train-error:0.089333#011validation-error:0.1402\u001b[0m\n",
      "\u001b[34m[13:42:31] src/tree/updater_prune.cc:74: tree pruning end, 1 roots, 14 extra nodes, 4 pruned nodes, max_depth=5\u001b[0m\n",
      "\u001b[34m[155]#011train-error:0.0894#011validation-error:0.1398\u001b[0m\n",
      "\u001b[34m[13:42:32] src/tree/updater_prune.cc:74: tree pruning end, 1 roots, 14 extra nodes, 6 pruned nodes, max_depth=5\u001b[0m\n",
      "\u001b[34m[156]#011train-error:0.089333#011validation-error:0.1396\u001b[0m\n",
      "\u001b[34m[13:42:34] src/tree/updater_prune.cc:74: tree pruning end, 1 roots, 16 extra nodes, 8 pruned nodes, max_depth=5\u001b[0m\n",
      "\u001b[34m[157]#011train-error:0.088667#011validation-error:0.1399\u001b[0m\n",
      "\u001b[34m[13:42:35] src/tree/updater_prune.cc:74: tree pruning end, 1 roots, 16 extra nodes, 6 pruned nodes, max_depth=5\u001b[0m\n",
      "\u001b[34m[158]#011train-error:0.087867#011validation-error:0.1394\u001b[0m\n",
      "\u001b[34m[13:42:36] src/tree/updater_prune.cc:74: tree pruning end, 1 roots, 12 extra nodes, 14 pruned nodes, max_depth=5\u001b[0m\n",
      "\u001b[34m[159]#011train-error:0.087333#011validation-error:0.1397\u001b[0m\n",
      "\u001b[34m[13:42:37] src/tree/updater_prune.cc:74: tree pruning end, 1 roots, 14 extra nodes, 8 pruned nodes, max_depth=5\u001b[0m\n",
      "\u001b[34m[160]#011train-error:0.087533#011validation-error:0.1391\u001b[0m\n",
      "\u001b[34m[13:42:39] src/tree/updater_prune.cc:74: tree pruning end, 1 roots, 14 extra nodes, 20 pruned nodes, max_depth=5\u001b[0m\n",
      "\u001b[34m[161]#011train-error:0.0872#011validation-error:0.1388\u001b[0m\n",
      "\u001b[34m[13:42:40] src/tree/updater_prune.cc:74: tree pruning end, 1 roots, 20 extra nodes, 6 pruned nodes, max_depth=5\u001b[0m\n",
      "\u001b[34m[162]#011train-error:0.086533#011validation-error:0.1376\u001b[0m\n",
      "\u001b[34m[13:42:41] src/tree/updater_prune.cc:74: tree pruning end, 1 roots, 16 extra nodes, 2 pruned nodes, max_depth=5\u001b[0m\n",
      "\u001b[34m[163]#011train-error:0.086267#011validation-error:0.1384\u001b[0m\n",
      "\u001b[34m[13:42:42] src/tree/updater_prune.cc:74: tree pruning end, 1 roots, 14 extra nodes, 8 pruned nodes, max_depth=5\u001b[0m\n",
      "\u001b[34m[164]#011train-error:0.0862#011validation-error:0.139\u001b[0m\n",
      "\n",
      "2019-12-31 13:42:56 Uploading - Uploading generated training model\u001b[34m[13:42:44] src/tree/updater_prune.cc:74: tree pruning end, 1 roots, 28 extra nodes, 6 pruned nodes, max_depth=5\u001b[0m\n",
      "\u001b[34m[165]#011train-error:0.085667#011validation-error:0.1391\u001b[0m\n",
      "\u001b[34m[13:42:45] src/tree/updater_prune.cc:74: tree pruning end, 1 roots, 14 extra nodes, 4 pruned nodes, max_depth=5\u001b[0m\n",
      "\u001b[34m[166]#011train-error:0.0852#011validation-error:0.1402\u001b[0m\n",
      "\u001b[34m[13:42:46] src/tree/updater_prune.cc:74: tree pruning end, 1 roots, 10 extra nodes, 2 pruned nodes, max_depth=5\u001b[0m\n",
      "\u001b[34m[167]#011train-error:0.085067#011validation-error:0.14\u001b[0m\n",
      "\u001b[34m[13:42:47] src/tree/updater_prune.cc:74: tree pruning end, 1 roots, 16 extra nodes, 6 pruned nodes, max_depth=5\u001b[0m\n",
      "\u001b[34m[168]#011train-error:0.0852#011validation-error:0.1398\u001b[0m\n",
      "\u001b[34m[13:42:49] src/tree/updater_prune.cc:74: tree pruning end, 1 roots, 18 extra nodes, 14 pruned nodes, max_depth=5\u001b[0m\n",
      "\u001b[34m[169]#011train-error:0.084933#011validation-error:0.1393\u001b[0m\n",
      "\u001b[34m[13:42:50] src/tree/updater_prune.cc:74: tree pruning end, 1 roots, 12 extra nodes, 18 pruned nodes, max_depth=5\u001b[0m\n",
      "\u001b[34m[170]#011train-error:0.085#011validation-error:0.1391\u001b[0m\n",
      "\u001b[34m[13:42:51] src/tree/updater_prune.cc:74: tree pruning end, 1 roots, 12 extra nodes, 2 pruned nodes, max_depth=5\u001b[0m\n",
      "\u001b[34m[171]#011train-error:0.084733#011validation-error:0.1392\u001b[0m\n",
      "\u001b[34m[13:42:52] src/tree/updater_prune.cc:74: tree pruning end, 1 roots, 14 extra nodes, 12 pruned nodes, max_depth=5\u001b[0m\n",
      "\u001b[34m[172]#011train-error:0.084533#011validation-error:0.1395\u001b[0m\n",
      "\u001b[34mStopping. Best iteration:\u001b[0m\n",
      "\u001b[34m[162]#011train-error:0.086533#011validation-error:0.1376\n",
      "\u001b[0m\n",
      "\n",
      "2019-12-31 13:43:03 Completed - Training job completed\n",
      "Training seconds: 272\n",
      "Billable seconds: 272\n"
     ]
    }
   ],
   "source": [
    "xgb.fit({'train': s3_input_train, 'validation': s3_input_validation})"
   ]
  },
  {
   "cell_type": "markdown",
   "metadata": {
    "colab_type": "text",
    "id": "7ngrBPocM95x"
   },
   "source": [
    "### Testing the model\n",
    "\n",
    "Now that we've fit our XGBoost model, it's time to see how well it performs. To do this we will use SageMakers Batch Transform functionality. Batch Transform is a convenient way to perform inference on a large dataset in a way that is not realtime. That is, we don't necessarily need to use our model's results immediately and instead we can peform inference on a large number of samples. An example of this in industry might be peforming an end of month report. This method of inference can also be useful to us as it means to can perform inference on our entire test set. \n",
    "\n",
    "To perform a Batch Transformation we need to first create a transformer objects from our trained estimator object."
   ]
  },
  {
   "cell_type": "code",
   "execution_count": 26,
   "metadata": {
    "colab": {},
    "colab_type": "code",
    "id": "p0VeKTiEM951"
   },
   "outputs": [],
   "source": [
    "xgb_transformer = xgb.transformer(instance_count = 1, instance_type = 'ml.m4.xlarge')"
   ]
  },
  {
   "cell_type": "markdown",
   "metadata": {
    "colab_type": "text",
    "id": "DpVDl9-UM955"
   },
   "source": [
    "Next we actually perform the transform job. When doing so we need to make sure to specify the type of data we are sending so that it is serialized correctly in the background. In our case we are providing our model with csv data so we specify `text/csv`. Also, if the test data that we have provided is too large to process all at once then we need to specify how the data file should be split up. Since each line is a single entry in our data set we tell SageMaker that it can split the input on each line."
   ]
  },
  {
   "cell_type": "code",
   "execution_count": 27,
   "metadata": {
    "colab": {},
    "colab_type": "code",
    "id": "Xv0NPbfbM956"
   },
   "outputs": [],
   "source": [
    "xgb_transformer.transform(test_location, content_type='text/csv', split_type='Line')"
   ]
  },
  {
   "cell_type": "markdown",
   "metadata": {
    "colab_type": "text",
    "id": "m_PD5QN3M959"
   },
   "source": [
    "Currently the transform job is running but it is doing so in the background. Since we wish to wait until the transform job is done and we would like a bit of feedback we can run the `wait()` method."
   ]
  },
  {
   "cell_type": "code",
   "execution_count": 28,
   "metadata": {
    "colab": {},
    "colab_type": "code",
    "id": "TO7ItWJjM95_"
   },
   "outputs": [
    {
     "name": "stdout",
     "output_type": "stream",
     "text": [
      "....................\u001b[34mArguments: serve\u001b[0m\n",
      "\u001b[34m[2019-12-31 13:46:49 +0000] [1] [INFO] Starting gunicorn 19.7.1\u001b[0m\n",
      "\u001b[34m[2019-12-31 13:46:49 +0000] [1] [INFO] Listening at: http://0.0.0.0:8080 (1)\u001b[0m\n",
      "\u001b[34m[2019-12-31 13:46:49 +0000] [1] [INFO] Using worker: gevent\u001b[0m\n",
      "\u001b[34m[2019-12-31 13:46:49 +0000] [38] [INFO] Booting worker with pid: 38\u001b[0m\n",
      "\u001b[34m[2019-12-31 13:46:49 +0000] [39] [INFO] Booting worker with pid: 39\u001b[0m\n",
      "\u001b[34m[2019-12-31:13:46:49:INFO] Model loaded successfully for worker : 38\u001b[0m\n",
      "\u001b[34m[2019-12-31 13:46:49 +0000] [40] [INFO] Booting worker with pid: 40\u001b[0m\n",
      "\u001b[34m[2019-12-31 13:46:49 +0000] [41] [INFO] Booting worker with pid: 41\u001b[0m\n",
      "\u001b[34m[2019-12-31:13:46:49:INFO] Model loaded successfully for worker : 39\u001b[0m\n",
      "\u001b[34m[2019-12-31:13:46:50:INFO] Model loaded successfully for worker : 40\u001b[0m\n",
      "\u001b[34m[2019-12-31:13:46:50:INFO] Model loaded successfully for worker : 41\u001b[0m\n",
      "\u001b[34m[2019-12-31:13:47:18:INFO] Sniff delimiter as ','\u001b[0m\n",
      "\u001b[34m[2019-12-31:13:47:18:INFO] Determined delimiter of CSV input is ','\u001b[0m\n",
      "\u001b[35m[2019-12-31:13:47:18:INFO] Sniff delimiter as ','\u001b[0m\n",
      "\u001b[35m[2019-12-31:13:47:18:INFO] Determined delimiter of CSV input is ','\u001b[0m\n",
      "\u001b[34m[2019-12-31:13:47:18:INFO] Sniff delimiter as ','\u001b[0m\n",
      "\u001b[34m[2019-12-31:13:47:18:INFO] Determined delimiter of CSV input is ','\u001b[0m\n",
      "\u001b[34m[2019-12-31:13:47:18:INFO] Sniff delimiter as ','\u001b[0m\n",
      "\u001b[34m[2019-12-31:13:47:18:INFO] Determined delimiter of CSV input is ','\u001b[0m\n",
      "\u001b[34m[2019-12-31:13:47:18:INFO] Sniff delimiter as ','\u001b[0m\n",
      "\u001b[35m[2019-12-31:13:47:18:INFO] Sniff delimiter as ','\u001b[0m\n",
      "\u001b[35m[2019-12-31:13:47:18:INFO] Determined delimiter of CSV input is ','\u001b[0m\n",
      "\u001b[35m[2019-12-31:13:47:18:INFO] Sniff delimiter as ','\u001b[0m\n",
      "\u001b[35m[2019-12-31:13:47:18:INFO] Determined delimiter of CSV input is ','\u001b[0m\n",
      "\u001b[35m[2019-12-31:13:47:18:INFO] Sniff delimiter as ','\u001b[0m\n",
      "\u001b[34m[2019-12-31:13:47:18:INFO] Determined delimiter of CSV input is ','\u001b[0m\n",
      "\u001b[35m[2019-12-31:13:47:18:INFO] Determined delimiter of CSV input is ','\u001b[0m\n",
      "\u001b[32m2019-12-31T13:47:15.602:[sagemaker logs]: MaxConcurrentTransforms=4, MaxPayloadInMB=6, BatchStrategy=MULTI_RECORD\u001b[0m\n",
      "\u001b[34m[2019-12-31:13:47:20:INFO] Sniff delimiter as ','\u001b[0m\n",
      "\u001b[34m[2019-12-31:13:47:20:INFO] Determined delimiter of CSV input is ','\u001b[0m\n",
      "\u001b[34m[2019-12-31:13:47:20:INFO] Sniff delimiter as ','\u001b[0m\n",
      "\u001b[34m[2019-12-31:13:47:20:INFO] Determined delimiter of CSV input is ','\u001b[0m\n",
      "\u001b[34m[2019-12-31:13:47:21:INFO] Sniff delimiter as ','\u001b[0m\n",
      "\u001b[34m[2019-12-31:13:47:21:INFO] Determined delimiter of CSV input is ','\u001b[0m\n",
      "\u001b[35m[2019-12-31:13:47:20:INFO] Sniff delimiter as ','\u001b[0m\n",
      "\u001b[35m[2019-12-31:13:47:20:INFO] Determined delimiter of CSV input is ','\u001b[0m\n",
      "\u001b[35m[2019-12-31:13:47:20:INFO] Sniff delimiter as ','\u001b[0m\n",
      "\u001b[35m[2019-12-31:13:47:20:INFO] Determined delimiter of CSV input is ','\u001b[0m\n",
      "\u001b[35m[2019-12-31:13:47:21:INFO] Sniff delimiter as ','\u001b[0m\n",
      "\u001b[35m[2019-12-31:13:47:21:INFO] Determined delimiter of CSV input is ','\u001b[0m\n",
      "\u001b[34m[2019-12-31:13:47:21:INFO] Sniff delimiter as ','\u001b[0m\n",
      "\u001b[34m[2019-12-31:13:47:21:INFO] Determined delimiter of CSV input is ','\u001b[0m\n",
      "\u001b[35m[2019-12-31:13:47:21:INFO] Sniff delimiter as ','\u001b[0m\n",
      "\u001b[35m[2019-12-31:13:47:21:INFO] Determined delimiter of CSV input is ','\u001b[0m\n",
      "\u001b[34m[2019-12-31:13:47:23:INFO] Sniff delimiter as ','\u001b[0m\n",
      "\u001b[34m[2019-12-31:13:47:23:INFO] Determined delimiter of CSV input is ','\u001b[0m\n",
      "\u001b[34m[2019-12-31:13:47:23:INFO] Sniff delimiter as ','\u001b[0m\n",
      "\u001b[34m[2019-12-31:13:47:23:INFO] Determined delimiter of CSV input is ','\u001b[0m\n",
      "\u001b[35m[2019-12-31:13:47:23:INFO] Sniff delimiter as ','\u001b[0m\n",
      "\u001b[35m[2019-12-31:13:47:23:INFO] Determined delimiter of CSV input is ','\u001b[0m\n",
      "\u001b[35m[2019-12-31:13:47:23:INFO] Sniff delimiter as ','\u001b[0m\n",
      "\u001b[35m[2019-12-31:13:47:23:INFO] Determined delimiter of CSV input is ','\u001b[0m\n",
      "\u001b[34m[2019-12-31:13:47:23:INFO] Sniff delimiter as ','\u001b[0m\n",
      "\u001b[34m[2019-12-31:13:47:23:INFO] Determined delimiter of CSV input is ','\u001b[0m\n",
      "\u001b[35m[2019-12-31:13:47:23:INFO] Sniff delimiter as ','\u001b[0m\n",
      "\u001b[35m[2019-12-31:13:47:23:INFO] Determined delimiter of CSV input is ','\u001b[0m\n",
      "\u001b[34m[2019-12-31:13:47:23:INFO] Sniff delimiter as ','\u001b[0m\n",
      "\u001b[34m[2019-12-31:13:47:23:INFO] Determined delimiter of CSV input is ','\u001b[0m\n",
      "\u001b[35m[2019-12-31:13:47:23:INFO] Sniff delimiter as ','\u001b[0m\n",
      "\u001b[35m[2019-12-31:13:47:23:INFO] Determined delimiter of CSV input is ','\u001b[0m\n",
      "\u001b[34m[2019-12-31:13:47:25:INFO] Sniff delimiter as ','\u001b[0m\n",
      "\u001b[34m[2019-12-31:13:47:25:INFO] Determined delimiter of CSV input is ','\u001b[0m\n",
      "\u001b[34m[2019-12-31:13:47:25:INFO] Sniff delimiter as ','\u001b[0m\n",
      "\u001b[34m[2019-12-31:13:47:25:INFO] Determined delimiter of CSV input is ','\u001b[0m\n",
      "\u001b[35m[2019-12-31:13:47:25:INFO] Sniff delimiter as ','\u001b[0m\n",
      "\u001b[35m[2019-12-31:13:47:25:INFO] Determined delimiter of CSV input is ','\u001b[0m\n",
      "\u001b[35m[2019-12-31:13:47:25:INFO] Sniff delimiter as ','\u001b[0m\n",
      "\u001b[35m[2019-12-31:13:47:25:INFO] Determined delimiter of CSV input is ','\u001b[0m\n",
      "\u001b[34m[2019-12-31:13:47:25:INFO] Sniff delimiter as ','\u001b[0m\n",
      "\u001b[34m[2019-12-31:13:47:25:INFO] Determined delimiter of CSV input is ','\u001b[0m\n",
      "\u001b[34m[2019-12-31:13:47:26:INFO] Sniff delimiter as ','\u001b[0m\n",
      "\u001b[34m[2019-12-31:13:47:26:INFO] Determined delimiter of CSV input is ','\u001b[0m\n",
      "\u001b[35m[2019-12-31:13:47:25:INFO] Sniff delimiter as ','\u001b[0m\n",
      "\u001b[35m[2019-12-31:13:47:25:INFO] Determined delimiter of CSV input is ','\u001b[0m\n",
      "\u001b[35m[2019-12-31:13:47:26:INFO] Sniff delimiter as ','\u001b[0m\n",
      "\u001b[35m[2019-12-31:13:47:26:INFO] Determined delimiter of CSV input is ','\u001b[0m\n",
      "\u001b[34m[2019-12-31:13:47:28:INFO] Sniff delimiter as ','\u001b[0m\n",
      "\u001b[34m[2019-12-31:13:47:28:INFO] Determined delimiter of CSV input is ','\u001b[0m\n",
      "\u001b[35m[2019-12-31:13:47:28:INFO] Sniff delimiter as ','\u001b[0m\n",
      "\u001b[35m[2019-12-31:13:47:28:INFO] Determined delimiter of CSV input is ','\u001b[0m\n",
      "\u001b[34m[2019-12-31:13:47:28:INFO] Sniff delimiter as ','\u001b[0m\n",
      "\u001b[34m[2019-12-31:13:47:28:INFO] Determined delimiter of CSV input is ','\u001b[0m\n",
      "\u001b[35m[2019-12-31:13:47:28:INFO] Sniff delimiter as ','\u001b[0m\n",
      "\u001b[35m[2019-12-31:13:47:28:INFO] Determined delimiter of CSV input is ','\u001b[0m\n",
      "\u001b[34m[2019-12-31:13:47:30:INFO] Sniff delimiter as ','\u001b[0m\n",
      "\u001b[34m[2019-12-31:13:47:30:INFO] Determined delimiter of CSV input is ','\u001b[0m\n",
      "\u001b[34m[2019-12-31:13:47:30:INFO] Sniff delimiter as ','\u001b[0m\n",
      "\u001b[34m[2019-12-31:13:47:30:INFO] Determined delimiter of CSV input is ','\u001b[0m\n",
      "\u001b[35m[2019-12-31:13:47:30:INFO] Sniff delimiter as ','\u001b[0m\n",
      "\u001b[35m[2019-12-31:13:47:30:INFO] Determined delimiter of CSV input is ','\u001b[0m\n",
      "\u001b[35m[2019-12-31:13:47:30:INFO] Sniff delimiter as ','\u001b[0m\n",
      "\u001b[35m[2019-12-31:13:47:30:INFO] Determined delimiter of CSV input is ','\u001b[0m\n",
      "\u001b[34m[2019-12-31:13:47:30:INFO] Sniff delimiter as ','\u001b[0m\n",
      "\u001b[34m[2019-12-31:13:47:30:INFO] Determined delimiter of CSV input is ','\u001b[0m\n",
      "\u001b[34m[2019-12-31:13:47:31:INFO] Sniff delimiter as ','\u001b[0m\n",
      "\u001b[34m[2019-12-31:13:47:31:INFO] Determined delimiter of CSV input is ','\u001b[0m\n",
      "\u001b[35m[2019-12-31:13:47:30:INFO] Sniff delimiter as ','\u001b[0m\n",
      "\u001b[35m[2019-12-31:13:47:30:INFO] Determined delimiter of CSV input is ','\u001b[0m\n",
      "\u001b[35m[2019-12-31:13:47:31:INFO] Sniff delimiter as ','\u001b[0m\n",
      "\u001b[35m[2019-12-31:13:47:31:INFO] Determined delimiter of CSV input is ','\u001b[0m\n",
      "\u001b[34m[2019-12-31:13:47:32:INFO] Sniff delimiter as ','\u001b[0m\n",
      "\u001b[34m[2019-12-31:13:47:32:INFO] Determined delimiter of CSV input is ','\u001b[0m\n",
      "\u001b[34m[2019-12-31:13:47:32:INFO] Sniff delimiter as ','\u001b[0m\n",
      "\u001b[34m[2019-12-31:13:47:32:INFO] Determined delimiter of CSV input is ','\u001b[0m\n",
      "\u001b[34m[2019-12-31:13:47:33:INFO] Sniff delimiter as ','\u001b[0m\n",
      "\u001b[34m[2019-12-31:13:47:33:INFO] Determined delimiter of CSV input is ','\u001b[0m\n",
      "\u001b[34m[2019-12-31:13:47:33:INFO] Sniff delimiter as ','\u001b[0m\n",
      "\u001b[35m[2019-12-31:13:47:32:INFO] Sniff delimiter as ','\u001b[0m\n",
      "\u001b[35m[2019-12-31:13:47:32:INFO] Determined delimiter of CSV input is ','\u001b[0m\n",
      "\u001b[35m[2019-12-31:13:47:32:INFO] Sniff delimiter as ','\u001b[0m\n",
      "\u001b[35m[2019-12-31:13:47:32:INFO] Determined delimiter of CSV input is ','\u001b[0m\n",
      "\u001b[35m[2019-12-31:13:47:33:INFO] Sniff delimiter as ','\u001b[0m\n",
      "\u001b[35m[2019-12-31:13:47:33:INFO] Determined delimiter of CSV input is ','\u001b[0m\n",
      "\u001b[35m[2019-12-31:13:47:33:INFO] Sniff delimiter as ','\u001b[0m\n",
      "\u001b[34m[2019-12-31:13:47:33:INFO] Determined delimiter of CSV input is ','\u001b[0m\n",
      "\u001b[35m[2019-12-31:13:47:33:INFO] Determined delimiter of CSV input is ','\u001b[0m\n",
      "\u001b[34m[2019-12-31:13:47:35:INFO] Sniff delimiter as ','\u001b[0m\n",
      "\u001b[34m[2019-12-31:13:47:35:INFO] Determined delimiter of CSV input is ','\u001b[0m\n",
      "\u001b[34m[2019-12-31:13:47:35:INFO] Sniff delimiter as ','\u001b[0m\n",
      "\u001b[34m[2019-12-31:13:47:35:INFO] Determined delimiter of CSV input is ','\u001b[0m\n",
      "\u001b[34m[2019-12-31:13:47:35:INFO] Sniff delimiter as ','\u001b[0m\n",
      "\u001b[34m[2019-12-31:13:47:35:INFO] Determined delimiter of CSV input is ','\u001b[0m\n",
      "\u001b[35m[2019-12-31:13:47:35:INFO] Sniff delimiter as ','\u001b[0m\n",
      "\u001b[35m[2019-12-31:13:47:35:INFO] Determined delimiter of CSV input is ','\u001b[0m\n",
      "\u001b[35m[2019-12-31:13:47:35:INFO] Sniff delimiter as ','\u001b[0m\n",
      "\u001b[35m[2019-12-31:13:47:35:INFO] Determined delimiter of CSV input is ','\u001b[0m\n",
      "\u001b[35m[2019-12-31:13:47:35:INFO] Sniff delimiter as ','\u001b[0m\n",
      "\u001b[35m[2019-12-31:13:47:35:INFO] Determined delimiter of CSV input is ','\u001b[0m\n",
      "\u001b[34m[2019-12-31:13:47:35:INFO] Sniff delimiter as ','\u001b[0m\n",
      "\u001b[34m[2019-12-31:13:47:35:INFO] Determined delimiter of CSV input is ','\u001b[0m\n",
      "\u001b[35m[2019-12-31:13:47:35:INFO] Sniff delimiter as ','\u001b[0m\n",
      "\u001b[35m[2019-12-31:13:47:35:INFO] Determined delimiter of CSV input is ','\u001b[0m\n",
      "\u001b[34m[2019-12-31:13:47:37:INFO] Sniff delimiter as ','\u001b[0m\n",
      "\u001b[34m[2019-12-31:13:47:37:INFO] Determined delimiter of CSV input is ','\u001b[0m\n",
      "\u001b[35m[2019-12-31:13:47:37:INFO] Sniff delimiter as ','\u001b[0m\n",
      "\u001b[35m[2019-12-31:13:47:37:INFO] Determined delimiter of CSV input is ','\u001b[0m\n"
     ]
    },
    {
     "name": "stdout",
     "output_type": "stream",
     "text": [
      "\u001b[34m[2019-12-31:13:47:37:INFO] Sniff delimiter as ','\u001b[0m\n",
      "\u001b[34m[2019-12-31:13:47:37:INFO] Determined delimiter of CSV input is ','\u001b[0m\n",
      "\u001b[34m[2019-12-31:13:47:38:INFO] Sniff delimiter as ','\u001b[0m\n",
      "\u001b[34m[2019-12-31:13:47:38:INFO] Determined delimiter of CSV input is ','\u001b[0m\n",
      "\u001b[35m[2019-12-31:13:47:37:INFO] Sniff delimiter as ','\u001b[0m\n",
      "\u001b[35m[2019-12-31:13:47:37:INFO] Determined delimiter of CSV input is ','\u001b[0m\n",
      "\u001b[35m[2019-12-31:13:47:38:INFO] Sniff delimiter as ','\u001b[0m\n",
      "\u001b[35m[2019-12-31:13:47:38:INFO] Determined delimiter of CSV input is ','\u001b[0m\n",
      "\u001b[34m[2019-12-31:13:47:39:INFO] Sniff delimiter as ','\u001b[0m\n",
      "\u001b[35m[2019-12-31:13:47:39:INFO] Sniff delimiter as ','\u001b[0m\n",
      "\u001b[34m[2019-12-31:13:47:39:INFO] Determined delimiter of CSV input is ','\u001b[0m\n",
      "\u001b[34m[2019-12-31:13:47:40:INFO] Sniff delimiter as ','\u001b[0m\n",
      "\u001b[34m[2019-12-31:13:47:40:INFO] Determined delimiter of CSV input is ','\u001b[0m\n",
      "\u001b[34m[2019-12-31:13:47:40:INFO] Sniff delimiter as ','\u001b[0m\n",
      "\u001b[34m[2019-12-31:13:47:40:INFO] Determined delimiter of CSV input is ','\u001b[0m\n",
      "\u001b[34m[2019-12-31:13:47:40:INFO] Sniff delimiter as ','\u001b[0m\n",
      "\u001b[34m[2019-12-31:13:47:40:INFO] Determined delimiter of CSV input is ','\u001b[0m\n",
      "\u001b[35m[2019-12-31:13:47:39:INFO] Determined delimiter of CSV input is ','\u001b[0m\n",
      "\u001b[35m[2019-12-31:13:47:40:INFO] Sniff delimiter as ','\u001b[0m\n",
      "\u001b[35m[2019-12-31:13:47:40:INFO] Determined delimiter of CSV input is ','\u001b[0m\n",
      "\u001b[35m[2019-12-31:13:47:40:INFO] Sniff delimiter as ','\u001b[0m\n",
      "\u001b[35m[2019-12-31:13:47:40:INFO] Determined delimiter of CSV input is ','\u001b[0m\n",
      "\u001b[35m[2019-12-31:13:47:40:INFO] Sniff delimiter as ','\u001b[0m\n",
      "\u001b[35m[2019-12-31:13:47:40:INFO] Determined delimiter of CSV input is ','\u001b[0m\n",
      "\n"
     ]
    }
   ],
   "source": [
    "xgb_transformer.wait()"
   ]
  },
  {
   "cell_type": "markdown",
   "metadata": {
    "colab_type": "text",
    "id": "hGjaq5E4M96G"
   },
   "source": [
    "Now the transform job has executed and the result, the estimated sentiment of each review, has been saved on S3. Since we would rather work on this file locally we can perform a bit of notebook magic to copy the file to the `data_dir`."
   ]
  },
  {
   "cell_type": "code",
   "execution_count": 29,
   "metadata": {
    "colab": {},
    "colab_type": "code",
    "id": "zyNSkYs2M96H"
   },
   "outputs": [
    {
     "name": "stdout",
     "output_type": "stream",
     "text": [
      "Completed 256.0 KiB/370.1 KiB (3.4 MiB/s) with 1 file(s) remaining\r",
      "Completed 370.1 KiB/370.1 KiB (4.9 MiB/s) with 1 file(s) remaining\r",
      "download: s3://sagemaker-us-east-1-479756289622/xgboost-2019-12-31-13-43-37-351/test.csv.out to ../data/sentiment_update/test.csv.out\r\n"
     ]
    }
   ],
   "source": [
    "!aws s3 cp --recursive $xgb_transformer.output_path $data_dir"
   ]
  },
  {
   "cell_type": "markdown",
   "metadata": {
    "colab_type": "text",
    "id": "TXAYSgjlM96P"
   },
   "source": [
    "The last step is now to read in the output from our model, convert the output to something a little more usable, in this case we want the sentiment to be either `1` (positive) or `0` (negative), and then compare to the ground truth labels."
   ]
  },
  {
   "cell_type": "code",
   "execution_count": 30,
   "metadata": {
    "colab": {},
    "colab_type": "code",
    "id": "A17bQpIkM96Q"
   },
   "outputs": [],
   "source": [
    "predictions = pd.read_csv(os.path.join(data_dir, 'test.csv.out'), header=None)\n",
    "predictions = [round(num) for num in predictions.squeeze().values]"
   ]
  },
  {
   "cell_type": "code",
   "execution_count": 31,
   "metadata": {
    "colab": {},
    "colab_type": "code",
    "id": "bjDYtQ6JM96V"
   },
   "outputs": [
    {
     "data": {
      "text/plain": [
       "0.86184"
      ]
     },
     "execution_count": 31,
     "metadata": {},
     "output_type": "execute_result"
    }
   ],
   "source": [
    "from sklearn.metrics import accuracy_score\n",
    "accuracy_score(test_y, predictions)"
   ]
  },
  {
   "cell_type": "markdown",
   "metadata": {
    "colab_type": "text",
    "id": "MKxkYRcUM96Y"
   },
   "source": [
    "## Step 5: Looking at New Data\n",
    "\n",
    "So now we have an XGBoost sentiment analysis model that we believe is working pretty well. As a result, we deployed it and we are using it in some sort of app.\n",
    "\n",
    "However, as we allow users to use our app we periodically record submitted movie reviews so that we can perform some quality control on our deployed model. Once we've accumulated enough reviews we go through them by hand and evaluate whether they are positive or negative (there are many ways you might do this in practice aside from by hand). The reason for doing this is so that we can check to see how well our model is doing."
   ]
  },
  {
   "cell_type": "code",
   "execution_count": 32,
   "metadata": {
    "colab": {},
    "colab_type": "code",
    "id": "TcqSyMQOM96Z"
   },
   "outputs": [],
   "source": [
    "import new_data\n",
    "\n",
    "new_X, new_Y = new_data.get_new_data()"
   ]
  },
  {
   "cell_type": "markdown",
   "metadata": {
    "colab_type": "text",
    "id": "oe25xc_pM96c"
   },
   "source": [
    "**NOTE:** Part of the fun in this notebook is trying to figure out what exactly is happening with the new data, so try not to cheat by looking in the `new_data` module. Also, the `new_data` module assumes that the cache created earlier in Step 3 is still stored in `../cache/sentiment_analysis`."
   ]
  },
  {
   "cell_type": "markdown",
   "metadata": {
    "colab_type": "text",
    "id": "rPuJ1JxKM96d"
   },
   "source": [
    "### (TODO) Testing the current model\n",
    "\n",
    "Now that we've loaded the new data, let's check to see how our current XGBoost model performs on it.\n",
    "\n",
    "First, note that the data that has been loaded has already been pre-processed so that each entry in `new_X` is a list of words that have been processed using `nltk`. However, we have not yet constructed the bag of words encoding, which we will do now.\n",
    "\n",
    "First, we use the vocabulary that we constructed earlier using the original training data to construct a `CountVectorizer` which we will use to transform our new data into its bag of words encoding.\n",
    "\n",
    "**TODO:** Create the CountVectorizer object using the vocabulary created earlier and use it to transform the new data."
   ]
  },
  {
   "cell_type": "code",
   "execution_count": 33,
   "metadata": {
    "colab": {},
    "colab_type": "code",
    "id": "KeLwGqMOM96e"
   },
   "outputs": [],
   "source": [
    "# TODO: Create the CountVectorizer using the previously constructed vocabulary\n",
    "vectorizer = CountVectorizer(vocabulary=vocabulary, preprocessor=lambda x: x, tokenizer=lambda x: x)\n",
    "\n",
    "# TODO: Transform our new data set and store the transformed data in the variable new_XV\n",
    "new_XV = vectorizer.transform(new_X).toarray()\n",
    "        "
   ]
  },
  {
   "cell_type": "markdown",
   "metadata": {
    "colab_type": "text",
    "id": "wiy8UV6OM96i"
   },
   "source": [
    "As a quick sanity check, we make sure that the length of each of our bag of words encoded reviews is correct. In particular, it must be the same size as the vocabulary which in our case is `5000`."
   ]
  },
  {
   "cell_type": "code",
   "execution_count": 34,
   "metadata": {
    "colab": {},
    "colab_type": "code",
    "id": "8BTdVK-mM96j"
   },
   "outputs": [
    {
     "data": {
      "text/plain": [
       "5000"
      ]
     },
     "execution_count": 34,
     "metadata": {},
     "output_type": "execute_result"
    }
   ],
   "source": [
    "len(new_XV[100])"
   ]
  },
  {
   "cell_type": "markdown",
   "metadata": {
    "colab_type": "text",
    "id": "EZvHGBYdM96m"
   },
   "source": [
    "Now that we've performed the data processing that is required by our model we can save it locally and then upload it to S3 so that we can construct a batch transform job in order to see how well our model is working.\n",
    "\n",
    "First, we save the data locally.\n",
    "\n",
    "**TODO:** Save the new data (after it has been transformed using the original vocabulary) to the local notebook instance."
   ]
  },
  {
   "cell_type": "code",
   "execution_count": 35,
   "metadata": {
    "colab": {},
    "colab_type": "code",
    "id": "IC_h8qFrM96n"
   },
   "outputs": [],
   "source": [
    "# TODO: Save the data contained in new_XV locally in the data_dir with the file name new_data.csv\n",
    "pd.DataFrame(new_XV).to_csv(os.path.join(data_dir, 'new_data.csv'), header=False, index=False)"
   ]
  },
  {
   "cell_type": "markdown",
   "metadata": {
    "colab_type": "text",
    "id": "OwVArbF5M96q"
   },
   "source": [
    "Next, we upload the data to S3.\n",
    "\n",
    "**TODO:** Upload the csv file created above to S3."
   ]
  },
  {
   "cell_type": "code",
   "execution_count": 36,
   "metadata": {
    "colab": {},
    "colab_type": "code",
    "id": "ZjpX1pX5M96r"
   },
   "outputs": [],
   "source": [
    "# TODO: Upload the new_data.csv file contained in the data_dir folder to S3 and save the resulting\n",
    "#       URI as new_data_location\n",
    "\n",
    "new_data_location = session.upload_data(os.path.join(data_dir, 'new_data.csv'), key_prefix=prefix)"
   ]
  },
  {
   "cell_type": "markdown",
   "metadata": {
    "colab_type": "text",
    "id": "_tGbkDyPM96u"
   },
   "source": [
    "Then, once the new data has been uploaded to S3, we create and run the batch transform job to get our model's predictions about the sentiment of the new movie reviews.\n",
    "\n",
    "**TODO:** Using the `xgb_transformer` object that was created earlier (at the end of Step 4 to test the XGBoost model), transform the data located at `new_data_location`."
   ]
  },
  {
   "cell_type": "code",
   "execution_count": 37,
   "metadata": {
    "colab": {},
    "colab_type": "code",
    "id": "4aFAKX2OM96v"
   },
   "outputs": [
    {
     "name": "stdout",
     "output_type": "stream",
     "text": [
      "...................\u001b[34mArguments: serve\u001b[0m\n",
      "\u001b[34m[2019-12-31 13:53:50 +0000] [1] [INFO] Starting gunicorn 19.7.1\u001b[0m\n",
      "\u001b[34m[2019-12-31 13:53:50 +0000] [1] [INFO] Listening at: http://0.0.0.0:8080 (1)\u001b[0m\n",
      "\u001b[34m[2019-12-31 13:53:50 +0000] [1] [INFO] Using worker: gevent\u001b[0m\n",
      "\u001b[34m[2019-12-31 13:53:50 +0000] [38] [INFO] Booting worker with pid: 38\u001b[0m\n",
      "\u001b[34m[2019-12-31 13:53:50 +0000] [39] [INFO] Booting worker with pid: 39\u001b[0m\n",
      "\u001b[34m[2019-12-31 13:53:50 +0000] [40] [INFO] Booting worker with pid: 40\u001b[0m\n",
      "\u001b[34m[2019-12-31:13:53:50:INFO] Model loaded successfully for worker : 39\u001b[0m\n",
      "\u001b[34m[2019-12-31:13:53:50:INFO] Model loaded successfully for worker : 38\u001b[0m\n",
      "\u001b[34m[2019-12-31 13:53:50 +0000] [41] [INFO] Booting worker with pid: 41\u001b[0m\n",
      "\u001b[34m[2019-12-31:13:53:50:INFO] Model loaded successfully for worker : 40\u001b[0m\n",
      "\u001b[34m[2019-12-31:13:53:50:INFO] Model loaded successfully for worker : 41\u001b[0m\n",
      "\u001b[34m[2019-12-31:13:54:24:INFO] Sniff delimiter as ','\u001b[0m\n",
      "\u001b[34m[2019-12-31:13:54:24:INFO] Determined delimiter of CSV input is ','\u001b[0m\n",
      "\u001b[34m[2019-12-31:13:54:24:INFO] Sniff delimiter as ','\u001b[0m\n",
      "\u001b[34m[2019-12-31:13:54:24:INFO] Determined delimiter of CSV input is ','\u001b[0m\n",
      "\u001b[34m[2019-12-31:13:54:24:INFO] Sniff delimiter as ','\u001b[0m\n",
      "\u001b[34m[2019-12-31:13:54:24:INFO] Determined delimiter of CSV input is ','\u001b[0m\n",
      "\u001b[34m[2019-12-31:13:54:24:INFO] Sniff delimiter as ','\u001b[0m\n",
      "\u001b[34m[2019-12-31:13:54:24:INFO] Determined delimiter of CSV input is ','\u001b[0m\n",
      "\u001b[35m[2019-12-31:13:54:24:INFO] Sniff delimiter as ','\u001b[0m\n",
      "\u001b[35m[2019-12-31:13:54:24:INFO] Determined delimiter of CSV input is ','\u001b[0m\n",
      "\u001b[35m[2019-12-31:13:54:24:INFO] Sniff delimiter as ','\u001b[0m\n",
      "\u001b[35m[2019-12-31:13:54:24:INFO] Determined delimiter of CSV input is ','\u001b[0m\n",
      "\u001b[35m[2019-12-31:13:54:24:INFO] Sniff delimiter as ','\u001b[0m\n",
      "\u001b[35m[2019-12-31:13:54:24:INFO] Determined delimiter of CSV input is ','\u001b[0m\n",
      "\u001b[35m[2019-12-31:13:54:24:INFO] Sniff delimiter as ','\u001b[0m\n",
      "\u001b[35m[2019-12-31:13:54:24:INFO] Determined delimiter of CSV input is ','\u001b[0m\n",
      "\u001b[32m2019-12-31T13:54:21.530:[sagemaker logs]: MaxConcurrentTransforms=4, MaxPayloadInMB=6, BatchStrategy=MULTI_RECORD\u001b[0m\n",
      "\u001b[34m[2019-12-31:13:54:26:INFO] Sniff delimiter as ','\u001b[0m\n",
      "\u001b[34m[2019-12-31:13:54:26:INFO] Determined delimiter of CSV input is ','\u001b[0m\n",
      "\u001b[34m[2019-12-31:13:54:26:INFO] Sniff delimiter as ','\u001b[0m\n",
      "\u001b[34m[2019-12-31:13:54:26:INFO] Determined delimiter of CSV input is ','\u001b[0m\n",
      "\u001b[35m[2019-12-31:13:54:26:INFO] Sniff delimiter as ','\u001b[0m\n",
      "\u001b[35m[2019-12-31:13:54:26:INFO] Determined delimiter of CSV input is ','\u001b[0m\n",
      "\u001b[35m[2019-12-31:13:54:26:INFO] Sniff delimiter as ','\u001b[0m\n",
      "\u001b[35m[2019-12-31:13:54:26:INFO] Determined delimiter of CSV input is ','\u001b[0m\n",
      "\u001b[34m[2019-12-31:13:54:27:INFO] Sniff delimiter as ','\u001b[0m\n",
      "\u001b[34m[2019-12-31:13:54:27:INFO] Determined delimiter of CSV input is ','\u001b[0m\n",
      "\u001b[34m[2019-12-31:13:54:27:INFO] Sniff delimiter as ','\u001b[0m\n",
      "\u001b[34m[2019-12-31:13:54:27:INFO] Determined delimiter of CSV input is ','\u001b[0m\n",
      "\u001b[35m[2019-12-31:13:54:27:INFO] Sniff delimiter as ','\u001b[0m\n",
      "\u001b[35m[2019-12-31:13:54:27:INFO] Determined delimiter of CSV input is ','\u001b[0m\n",
      "\u001b[35m[2019-12-31:13:54:27:INFO] Sniff delimiter as ','\u001b[0m\n",
      "\u001b[35m[2019-12-31:13:54:27:INFO] Determined delimiter of CSV input is ','\u001b[0m\n",
      "\u001b[34m[2019-12-31:13:54:29:INFO] Sniff delimiter as ','\u001b[0m\n",
      "\u001b[34m[2019-12-31:13:54:29:INFO] Determined delimiter of CSV input is ','\u001b[0m\n",
      "\u001b[34m[2019-12-31:13:54:29:INFO] Sniff delimiter as ','\u001b[0m\n",
      "\u001b[34m[2019-12-31:13:54:29:INFO] Determined delimiter of CSV input is ','\u001b[0m\n",
      "\u001b[34m[2019-12-31:13:54:29:INFO] Sniff delimiter as ','\u001b[0m\n",
      "\u001b[34m[2019-12-31:13:54:29:INFO] Determined delimiter of CSV input is ','\u001b[0m\n",
      "\u001b[35m[2019-12-31:13:54:29:INFO] Sniff delimiter as ','\u001b[0m\n",
      "\u001b[35m[2019-12-31:13:54:29:INFO] Determined delimiter of CSV input is ','\u001b[0m\n",
      "\u001b[35m[2019-12-31:13:54:29:INFO] Sniff delimiter as ','\u001b[0m\n",
      "\u001b[35m[2019-12-31:13:54:29:INFO] Determined delimiter of CSV input is ','\u001b[0m\n",
      "\u001b[35m[2019-12-31:13:54:29:INFO] Sniff delimiter as ','\u001b[0m\n",
      "\u001b[35m[2019-12-31:13:54:29:INFO] Determined delimiter of CSV input is ','\u001b[0m\n",
      "\u001b[34m[2019-12-31:13:54:29:INFO] Sniff delimiter as ','\u001b[0m\n",
      "\u001b[34m[2019-12-31:13:54:29:INFO] Determined delimiter of CSV input is ','\u001b[0m\n",
      "\u001b[35m[2019-12-31:13:54:29:INFO] Sniff delimiter as ','\u001b[0m\n",
      "\u001b[35m[2019-12-31:13:54:29:INFO] Determined delimiter of CSV input is ','\u001b[0m\n",
      "\u001b[34m[2019-12-31:13:54:31:INFO] Sniff delimiter as ','\u001b[0m\n",
      "\u001b[34m[2019-12-31:13:54:31:INFO] Determined delimiter of CSV input is ','\u001b[0m\n",
      "\u001b[34m[2019-12-31:13:54:31:INFO] Sniff delimiter as ','\u001b[0m\n",
      "\u001b[35m[2019-12-31:13:54:31:INFO] Sniff delimiter as ','\u001b[0m\n",
      "\u001b[35m[2019-12-31:13:54:31:INFO] Determined delimiter of CSV input is ','\u001b[0m\n",
      "\u001b[35m[2019-12-31:13:54:31:INFO] Sniff delimiter as ','\u001b[0m\n",
      "\u001b[34m[2019-12-31:13:54:31:INFO] Determined delimiter of CSV input is ','\u001b[0m\n",
      "\u001b[34m[2019-12-31:13:54:31:INFO] Sniff delimiter as ','\u001b[0m\n",
      "\u001b[34m[2019-12-31:13:54:31:INFO] Determined delimiter of CSV input is ','\u001b[0m\n",
      "\u001b[35m[2019-12-31:13:54:31:INFO] Determined delimiter of CSV input is ','\u001b[0m\n",
      "\u001b[35m[2019-12-31:13:54:31:INFO] Sniff delimiter as ','\u001b[0m\n",
      "\u001b[35m[2019-12-31:13:54:31:INFO] Determined delimiter of CSV input is ','\u001b[0m\n",
      "\u001b[34m[2019-12-31:13:54:32:INFO] Sniff delimiter as ','\u001b[0m\n",
      "\u001b[34m[2019-12-31:13:54:32:INFO] Determined delimiter of CSV input is ','\u001b[0m\n",
      "\u001b[35m[2019-12-31:13:54:32:INFO] Sniff delimiter as ','\u001b[0m\n",
      "\u001b[35m[2019-12-31:13:54:32:INFO] Determined delimiter of CSV input is ','\u001b[0m\n",
      "\u001b[34m[2019-12-31:13:54:33:INFO] Sniff delimiter as ','\u001b[0m\n",
      "\u001b[35m[2019-12-31:13:54:33:INFO] Sniff delimiter as ','\u001b[0m\n",
      "\u001b[34m[2019-12-31:13:54:33:INFO] Determined delimiter of CSV input is ','\u001b[0m\n",
      "\u001b[34m[2019-12-31:13:54:33:INFO] Sniff delimiter as ','\u001b[0m\n",
      "\u001b[34m[2019-12-31:13:54:33:INFO] Determined delimiter of CSV input is ','\u001b[0m\n",
      "\u001b[35m[2019-12-31:13:54:33:INFO] Determined delimiter of CSV input is ','\u001b[0m\n",
      "\u001b[35m[2019-12-31:13:54:33:INFO] Sniff delimiter as ','\u001b[0m\n",
      "\u001b[35m[2019-12-31:13:54:33:INFO] Determined delimiter of CSV input is ','\u001b[0m\n",
      "\u001b[34m[2019-12-31:13:54:34:INFO] Determined delimiter of CSV input is ','\u001b[0m\n",
      "\u001b[35m[2019-12-31:13:54:34:INFO] Determined delimiter of CSV input is ','\u001b[0m\n",
      "\u001b[34m[2019-12-31:13:54:36:INFO] Sniff delimiter as ','\u001b[0m\n",
      "\u001b[34m[2019-12-31:13:54:36:INFO] Determined delimiter of CSV input is ','\u001b[0m\n",
      "\u001b[34m[2019-12-31:13:54:36:INFO] Sniff delimiter as ','\u001b[0m\n",
      "\u001b[34m[2019-12-31:13:54:36:INFO] Determined delimiter of CSV input is ','\u001b[0m\n",
      "\u001b[34m[2019-12-31:13:54:36:INFO] Sniff delimiter as ','\u001b[0m\n",
      "\u001b[34m[2019-12-31:13:54:36:INFO] Determined delimiter of CSV input is ','\u001b[0m\n",
      "\u001b[35m[2019-12-31:13:54:36:INFO] Sniff delimiter as ','\u001b[0m\n",
      "\u001b[35m[2019-12-31:13:54:36:INFO] Determined delimiter of CSV input is ','\u001b[0m\n",
      "\u001b[35m[2019-12-31:13:54:36:INFO] Sniff delimiter as ','\u001b[0m\n",
      "\u001b[35m[2019-12-31:13:54:36:INFO] Determined delimiter of CSV input is ','\u001b[0m\n",
      "\u001b[35m[2019-12-31:13:54:36:INFO] Sniff delimiter as ','\u001b[0m\n",
      "\u001b[35m[2019-12-31:13:54:36:INFO] Determined delimiter of CSV input is ','\u001b[0m\n",
      "\u001b[34m[2019-12-31:13:54:37:INFO] Sniff delimiter as ','\u001b[0m\n",
      "\u001b[34m[2019-12-31:13:54:37:INFO] Determined delimiter of CSV input is ','\u001b[0m\n",
      "\u001b[35m[2019-12-31:13:54:37:INFO] Sniff delimiter as ','\u001b[0m\n",
      "\u001b[35m[2019-12-31:13:54:37:INFO] Determined delimiter of CSV input is ','\u001b[0m\n",
      "\u001b[34m[2019-12-31:13:54:38:INFO] Sniff delimiter as ','\u001b[0m\n",
      "\u001b[34m[2019-12-31:13:54:38:INFO] Determined delimiter of CSV input is ','\u001b[0m\n",
      "\u001b[34m[2019-12-31:13:54:38:INFO] Sniff delimiter as ','\u001b[0m\n",
      "\u001b[34m[2019-12-31:13:54:38:INFO] Determined delimiter of CSV input is ','\u001b[0m\n",
      "\u001b[34m[2019-12-31:13:54:38:INFO] Sniff delimiter as ','\u001b[0m\n",
      "\u001b[34m[2019-12-31:13:54:38:INFO] Determined delimiter of CSV input is ','\u001b[0m\n",
      "\u001b[35m[2019-12-31:13:54:38:INFO] Sniff delimiter as ','\u001b[0m\n",
      "\u001b[35m[2019-12-31:13:54:38:INFO] Determined delimiter of CSV input is ','\u001b[0m\n",
      "\u001b[35m[2019-12-31:13:54:38:INFO] Sniff delimiter as ','\u001b[0m\n",
      "\u001b[35m[2019-12-31:13:54:38:INFO] Determined delimiter of CSV input is ','\u001b[0m\n",
      "\u001b[35m[2019-12-31:13:54:38:INFO] Sniff delimiter as ','\u001b[0m\n",
      "\u001b[35m[2019-12-31:13:54:38:INFO] Determined delimiter of CSV input is ','\u001b[0m\n",
      "\u001b[34m[2019-12-31:13:54:39:INFO] Sniff delimiter as ','\u001b[0m\n",
      "\u001b[34m[2019-12-31:13:54:39:INFO] Determined delimiter of CSV input is ','\u001b[0m\n",
      "\u001b[35m[2019-12-31:13:54:39:INFO] Sniff delimiter as ','\u001b[0m\n",
      "\u001b[35m[2019-12-31:13:54:39:INFO] Determined delimiter of CSV input is ','\u001b[0m\n",
      "\u001b[34m[2019-12-31:13:54:40:INFO] Sniff delimiter as ','\u001b[0m\n",
      "\u001b[34m[2019-12-31:13:54:40:INFO] Determined delimiter of CSV input is ','\u001b[0m\n",
      "\u001b[34m[2019-12-31:13:54:40:INFO] Sniff delimiter as ','\u001b[0m\n",
      "\u001b[34m[2019-12-31:13:54:40:INFO] Determined delimiter of CSV input is ','\u001b[0m\n",
      "\u001b[35m[2019-12-31:13:54:40:INFO] Sniff delimiter as ','\u001b[0m\n",
      "\u001b[35m[2019-12-31:13:54:40:INFO] Determined delimiter of CSV input is ','\u001b[0m\n",
      "\u001b[35m[2019-12-31:13:54:40:INFO] Sniff delimiter as ','\u001b[0m\n",
      "\u001b[35m[2019-12-31:13:54:40:INFO] Determined delimiter of CSV input is ','\u001b[0m\n",
      "\u001b[34m[2019-12-31:13:54:41:INFO] Sniff delimiter as ','\u001b[0m\n",
      "\u001b[34m[2019-12-31:13:54:41:INFO] Determined delimiter of CSV input is ','\u001b[0m\n",
      "\u001b[35m[2019-12-31:13:54:41:INFO] Sniff delimiter as ','\u001b[0m\n",
      "\u001b[35m[2019-12-31:13:54:41:INFO] Determined delimiter of CSV input is ','\u001b[0m\n",
      "\u001b[34m[2019-12-31:13:54:42:INFO] Sniff delimiter as ','\u001b[0m\n",
      "\u001b[34m[2019-12-31:13:54:42:INFO] Determined delimiter of CSV input is ','\u001b[0m\n",
      "\u001b[35m[2019-12-31:13:54:42:INFO] Sniff delimiter as ','\u001b[0m\n",
      "\u001b[35m[2019-12-31:13:54:42:INFO] Determined delimiter of CSV input is ','\u001b[0m\n",
      "\u001b[34m[2019-12-31:13:54:43:INFO] Sniff delimiter as ','\u001b[0m\n",
      "\u001b[34m[2019-12-31:13:54:43:INFO] Determined delimiter of CSV input is ','\u001b[0m\n",
      "\u001b[34m[2019-12-31:13:54:43:INFO] Sniff delimiter as ','\u001b[0m\n",
      "\u001b[34m[2019-12-31:13:54:43:INFO] Determined delimiter of CSV input is ','\u001b[0m\n",
      "\u001b[34m[2019-12-31:13:54:43:INFO] Sniff delimiter as ','\u001b[0m\n",
      "\u001b[34m[2019-12-31:13:54:43:INFO] Determined delimiter of CSV input is ','\u001b[0m\n",
      "\u001b[35m[2019-12-31:13:54:43:INFO] Sniff delimiter as ','\u001b[0m\n",
      "\u001b[35m[2019-12-31:13:54:43:INFO] Determined delimiter of CSV input is ','\u001b[0m\n",
      "\u001b[35m[2019-12-31:13:54:43:INFO] Sniff delimiter as ','\u001b[0m\n",
      "\u001b[35m[2019-12-31:13:54:43:INFO] Determined delimiter of CSV input is ','\u001b[0m\n",
      "\u001b[35m[2019-12-31:13:54:43:INFO] Sniff delimiter as ','\u001b[0m\n",
      "\u001b[35m[2019-12-31:13:54:43:INFO] Determined delimiter of CSV input is ','\u001b[0m\n"
     ]
    },
    {
     "name": "stdout",
     "output_type": "stream",
     "text": [
      "\u001b[34m[2019-12-31:13:54:45:INFO] Sniff delimiter as ','\u001b[0m\n",
      "\u001b[34m[2019-12-31:13:54:45:INFO] Determined delimiter of CSV input is ','\u001b[0m\n",
      "\u001b[35m[2019-12-31:13:54:45:INFO] Sniff delimiter as ','\u001b[0m\n",
      "\u001b[35m[2019-12-31:13:54:45:INFO] Determined delimiter of CSV input is ','\u001b[0m\n",
      "\u001b[34m[2019-12-31:13:54:46:INFO] Sniff delimiter as ','\u001b[0m\n",
      "\u001b[34m[2019-12-31:13:54:46:INFO] Determined delimiter of CSV input is ','\u001b[0m\n",
      "\u001b[35m[2019-12-31:13:54:46:INFO] Sniff delimiter as ','\u001b[0m\n",
      "\u001b[35m[2019-12-31:13:54:46:INFO] Determined delimiter of CSV input is ','\u001b[0m\n",
      "\n"
     ]
    }
   ],
   "source": [
    "# TODO: Using xgb_transformer, transform the new_data_location data. You may wish to **wait** until\n",
    "#       the batch transform job has finished.\n",
    "xgb_transformer.transform(new_data_location, content_type='text/csv', split_type='Line')\n",
    "xgb_transformer.wait()"
   ]
  },
  {
   "cell_type": "markdown",
   "metadata": {
    "colab_type": "text",
    "id": "5cb7bTB2M96y"
   },
   "source": [
    "As usual, we copy the results of the batch transform job to our local instance."
   ]
  },
  {
   "cell_type": "code",
   "execution_count": 38,
   "metadata": {
    "colab": {},
    "colab_type": "code",
    "id": "lUAZrHHnM967"
   },
   "outputs": [
    {
     "name": "stdout",
     "output_type": "stream",
     "text": [
      "Completed 256.0 KiB/370.5 KiB (3.6 MiB/s) with 1 file(s) remaining\r",
      "Completed 370.5 KiB/370.5 KiB (5.1 MiB/s) with 1 file(s) remaining\r",
      "download: s3://sagemaker-us-east-1-479756289622/xgboost-2019-12-31-13-50-43-952/new_data.csv.out to ../data/sentiment_update/new_data.csv.out\r\n"
     ]
    }
   ],
   "source": [
    "!aws s3 cp --recursive $xgb_transformer.output_path $data_dir"
   ]
  },
  {
   "cell_type": "markdown",
   "metadata": {
    "colab_type": "text",
    "id": "8MouODrpM96-"
   },
   "source": [
    "Read in the results of the batch transform job."
   ]
  },
  {
   "cell_type": "code",
   "execution_count": 39,
   "metadata": {
    "colab": {},
    "colab_type": "code",
    "id": "ibWQFYWYM97N"
   },
   "outputs": [],
   "source": [
    "predictions = pd.read_csv(os.path.join(data_dir, 'new_data.csv.out'), header=None)\n",
    "predictions = [round(num) for num in predictions.squeeze().values]"
   ]
  },
  {
   "cell_type": "markdown",
   "metadata": {
    "colab_type": "text",
    "id": "IwyoK_dGM97Q"
   },
   "source": [
    "And check the accuracy of our current model."
   ]
  },
  {
   "cell_type": "code",
   "execution_count": 40,
   "metadata": {
    "colab": {},
    "colab_type": "code",
    "id": "lLZt0L0cM97R"
   },
   "outputs": [
    {
     "data": {
      "text/plain": [
       "0.73684"
      ]
     },
     "execution_count": 40,
     "metadata": {},
     "output_type": "execute_result"
    }
   ],
   "source": [
    "accuracy_score(new_Y, predictions)"
   ]
  },
  {
   "cell_type": "markdown",
   "metadata": {
    "colab_type": "text",
    "id": "Jz0HAdwxM97U"
   },
   "source": [
    "So it would appear that *something* has changed since our model is no longer (as) effective at determining the sentiment of a user provided review.\n",
    "\n",
    "In a real life scenario you would check a number of different things to see what exactly is going on. In our case, we are only going to check one and that is whether some aspect of the underlying distribution has changed. In other words, we want to see if the words that appear in our new collection of reviews matches the words that appear in the original training set. Of course, we want to narrow our scope a little bit so we will only look at the `5000` most frequently appearing words in each data set, or in other words, the vocabulary generated by each data set.\n",
    "\n",
    "Before doing that, however, let's take a look at some of the incorrectly classified reviews in the new data set.\n",
    "\n",
    "To start, we will deploy the original XGBoost model. We will then use the deployed model to infer the sentiment of some of the new reviews. This will also serve as a nice excuse to deploy our model so that we can mimic a real life scenario where we have a model that has been deployed and is being used in production.\n",
    "\n",
    "**TODO:** Deploy the XGBoost model."
   ]
  },
  {
   "cell_type": "code",
   "execution_count": 41,
   "metadata": {
    "colab": {},
    "colab_type": "code",
    "id": "6aSGg0rDM97W"
   },
   "outputs": [
    {
     "name": "stderr",
     "output_type": "stream",
     "text": [
      "WARNING:sagemaker:Using already existing model: xgboost-2019-12-31-13-36-22-197\n"
     ]
    },
    {
     "name": "stdout",
     "output_type": "stream",
     "text": [
      "---------------------------------------------------------------------------------------------------------------!"
     ]
    }
   ],
   "source": [
    "# TODO: Deploy the model that was created earlier. Recall that the object name is 'xgb'.\n",
    "xgb_predictor = xgb.deploy(initial_instance_count=1, instance_type='ml.m4.xlarge')"
   ]
  },
  {
   "cell_type": "markdown",
   "metadata": {
    "colab_type": "text",
    "id": "JVa0vFHEM97Z"
   },
   "source": [
    "### Diagnose the problem\n",
    "\n",
    "Now that we have our deployed \"production\" model, we can send some of our new data to it and filter out some of the incorrectly classified reviews."
   ]
  },
  {
   "cell_type": "code",
   "execution_count": 42,
   "metadata": {
    "colab": {},
    "colab_type": "code",
    "id": "P1aixhe5M97a"
   },
   "outputs": [],
   "source": [
    "from sagemaker.predictor import csv_serializer\n",
    "\n",
    "# We need to tell the endpoint what format the data we are sending is in so that SageMaker can perform the serialization.\n",
    "xgb_predictor.content_type = 'text/csv'\n",
    "xgb_predictor.serializer = csv_serializer"
   ]
  },
  {
   "cell_type": "markdown",
   "metadata": {
    "colab_type": "text",
    "id": "g4Goie4lM97i"
   },
   "source": [
    "It will be useful to look at a few different examples of incorrectly classified reviews so we will start by creating a *generator* which we will use to iterate through some of the new reviews and find ones that are incorrect.\n",
    "\n",
    "**NOTE:** Understanding what Python generators are isn't really required for this module. The reason we use them here is so that we don't have to iterate through all of the new reviews, searching for incorrectly classified samples."
   ]
  },
  {
   "cell_type": "code",
   "execution_count": 43,
   "metadata": {
    "colab": {},
    "colab_type": "code",
    "id": "0DFNOz2uM97j"
   },
   "outputs": [],
   "source": [
    "def get_sample(in_X, in_XV, in_Y):\n",
    "    for idx, smp in enumerate(in_X):\n",
    "        res = round(float(xgb_predictor.predict(in_XV[idx])))\n",
    "        if res != in_Y[idx]:\n",
    "            yield smp, in_Y[idx]"
   ]
  },
  {
   "cell_type": "code",
   "execution_count": 44,
   "metadata": {
    "colab": {},
    "colab_type": "code",
    "id": "CO4SA2BzM97r"
   },
   "outputs": [],
   "source": [
    "gn = get_sample(new_X, new_XV, new_Y)"
   ]
  },
  {
   "cell_type": "markdown",
   "metadata": {
    "colab_type": "text",
    "id": "u1eiiCNtM97t"
   },
   "source": [
    "At this point, `gn` is the *generator* which generates samples from the new data set which are not classified correctly. To get the *next* sample we simply call the `next` method on our generator."
   ]
  },
  {
   "cell_type": "code",
   "execution_count": 45,
   "metadata": {
    "colab": {},
    "colab_type": "code",
    "id": "h8Yb7X6YM97v"
   },
   "outputs": [
    {
     "name": "stdout",
     "output_type": "stream",
     "text": [
      "(['watch', 'movi', 'realli', 'late', 'last', 'night', 'usual', 'late', 'pretti', 'forgiv', 'movi', 'although', 'tri', 'could', 'stand', 'movi', 'kept', 'get', 'wors', 'wors', 'movi', 'went', 'although', 'know', 'suppos', 'comedi', 'find', 'funni', 'also', 'especi', 'unrealist', 'jade', 'portray', 'rural', 'life', 'case', 'think', 'countri', 'life', 'like', 'definit', 'agre', 'guy', 'cast', 'member', 'cute', 'french', 'guy', 'realli', 'fake', 'agre', 'tri', 'good', 'lesson', 'stori', 'overal', 'recommend', 'one', '8', 'watch', 'annoy'], 0)\n"
     ]
    }
   ],
   "source": [
    "print(next(gn))"
   ]
  },
  {
   "cell_type": "markdown",
   "metadata": {
    "colab_type": "text",
    "id": "MBWZPs-vM97z"
   },
   "source": [
    "After looking at a few examples, maybe we decide to look at the most frequently appearing `5000` words in each data set, the original training data set and the new data set. The reason for looking at this might be that we expect the frequency of use of different words to have changed, maybe there is some new slang that has been introduced or some other artifact of popular culture that has changed the way that people write movie reviews.\n",
    "\n",
    "To do this, we start by fitting a `CountVectorizer` to the new data."
   ]
  },
  {
   "cell_type": "code",
   "execution_count": 46,
   "metadata": {
    "colab": {},
    "colab_type": "code",
    "id": "w2JiCFxjM97z"
   },
   "outputs": [
    {
     "data": {
      "text/plain": [
       "CountVectorizer(analyzer='word', binary=False, decode_error='strict',\n",
       "        dtype=<class 'numpy.int64'>, encoding='utf-8', input='content',\n",
       "        lowercase=True, max_df=1.0, max_features=5000, min_df=1,\n",
       "        ngram_range=(1, 1),\n",
       "        preprocessor=<function <lambda> at 0x7f048acdcea0>,\n",
       "        stop_words=None, strip_accents=None,\n",
       "        token_pattern='(?u)\\\\b\\\\w\\\\w+\\\\b',\n",
       "        tokenizer=<function <lambda> at 0x7f048acdcf28>, vocabulary=None)"
      ]
     },
     "execution_count": 46,
     "metadata": {},
     "output_type": "execute_result"
    }
   ],
   "source": [
    "new_vectorizer = CountVectorizer(max_features=5000,\n",
    "                preprocessor=lambda x: x, tokenizer=lambda x: x)\n",
    "new_vectorizer.fit(new_X)"
   ]
  },
  {
   "cell_type": "markdown",
   "metadata": {
    "colab_type": "text",
    "id": "IWjCCDi4M974"
   },
   "source": [
    "Now that we have this new `CountVectorizor` object, we can check to see if the corresponding vocabulary has changed between the two data sets."
   ]
  },
  {
   "cell_type": "code",
   "execution_count": 47,
   "metadata": {
    "colab": {},
    "colab_type": "code",
    "id": "F39n1HiTM975"
   },
   "outputs": [],
   "source": [
    "original_vocabulary = set(vocabulary.keys())\n",
    "new_vocabulary = set(new_vectorizer.vocabulary_.keys())"
   ]
  },
  {
   "cell_type": "markdown",
   "metadata": {
    "colab_type": "text",
    "id": "HDkhF11WM978"
   },
   "source": [
    "We can look at the words that were in the original vocabulary but not in the new vocabulary."
   ]
  },
  {
   "cell_type": "code",
   "execution_count": 48,
   "metadata": {
    "colab": {},
    "colab_type": "code",
    "id": "NHaowqm2M979"
   },
   "outputs": [
    {
     "name": "stdout",
     "output_type": "stream",
     "text": [
      "{'ghetto', '21st', 'spill', 'reincarn', 'weari', 'victorian', 'playboy'}\n"
     ]
    }
   ],
   "source": [
    "print(original_vocabulary - new_vocabulary)"
   ]
  },
  {
   "cell_type": "markdown",
   "metadata": {
    "colab_type": "text",
    "id": "ihFaoHSPM98A"
   },
   "source": [
    "And similarly, we can look at the words that are in the new vocabulary but which were not in the original vocabulary."
   ]
  },
  {
   "cell_type": "code",
   "execution_count": 49,
   "metadata": {
    "colab": {},
    "colab_type": "code",
    "id": "-9DCLLp6M98B"
   },
   "outputs": [
    {
     "name": "stdout",
     "output_type": "stream",
     "text": [
      "{'banana', 'optimist', 'dubiou', 'omin', 'orchestr', 'masterson', 'sophi'}\n"
     ]
    }
   ],
   "source": [
    "print(new_vocabulary - original_vocabulary)"
   ]
  },
  {
   "cell_type": "markdown",
   "metadata": {
    "colab_type": "text",
    "id": "j016LEYjM98D"
   },
   "source": [
    "These words themselves don't tell us much, however if one of these words occured with a large frequency, that might tell us something. In particular, we wouldn't really expect any of the words above to appear with too much frequency.\n",
    "\n",
    "**Question** What exactly is going on here. Not only what (if any) words appear with a larger than expected frequency but also, what does this mean? What has changed about the world that our original model no longer takes into account?\n",
    "\n",
    "**NOTE:** This is meant to be a very open ended question. To investigate you may need more cells than the one provided below. Also, there isn't really a *correct* answer, this is meant to be an opportunity to explore the data."
   ]
  },
  {
   "cell_type": "code",
   "execution_count": null,
   "metadata": {
    "colab": {},
    "colab_type": "code",
    "id": "EO_QmUFaM98E"
   },
   "outputs": [],
   "source": []
  },
  {
   "cell_type": "markdown",
   "metadata": {
    "colab_type": "text",
    "id": "LnfvokT-M98J"
   },
   "source": [
    "### (TODO) Build a new model\n",
    "\n",
    "Supposing that we believe something has changed about the underlying distribution of the words that our reviews are made up of, we need to create a new model. This way our new model will take into account whatever it is that has changed.\n",
    "\n",
    "To begin with, we will use the new vocabulary to create a bag of words encoding of the new data. We will then use this data to train a new XGBoost model.\n",
    "\n",
    "**NOTE:** Because we believe that the underlying distribution of words has changed it should follow that the original vocabulary that we used to construct a bag of words encoding of the reviews is no longer valid. This means that we need to be careful with our data. If we send an bag of words encoded review using the *original* vocabulary we should not expect any sort of meaningful results.\n",
    "\n",
    "In particular, this means that if we had deployed our XGBoost model like we did in the Web App notebook then we would need to implement this vocabulary change in the Lambda function as well."
   ]
  },
  {
   "cell_type": "code",
   "execution_count": 50,
   "metadata": {
    "colab": {},
    "colab_type": "code",
    "id": "Qrm6OtuAM98K"
   },
   "outputs": [],
   "source": [
    "new_XV = new_vectorizer.transform(new_X).toarray()"
   ]
  },
  {
   "cell_type": "markdown",
   "metadata": {
    "colab_type": "text",
    "id": "i6a8Bt_8M98N"
   },
   "source": [
    "And a quick check to make sure that the newly encoded reviews have the correct length, which should be the size of the new vocabulary which we created."
   ]
  },
  {
   "cell_type": "code",
   "execution_count": 51,
   "metadata": {
    "colab": {},
    "colab_type": "code",
    "id": "cuBWJylhM98O"
   },
   "outputs": [
    {
     "data": {
      "text/plain": [
       "5000"
      ]
     },
     "execution_count": 51,
     "metadata": {},
     "output_type": "execute_result"
    }
   ],
   "source": [
    "len(new_XV[0])"
   ]
  },
  {
   "cell_type": "markdown",
   "metadata": {
    "colab_type": "text",
    "id": "iDT9SpjNM98T"
   },
   "source": [
    "Now that we have our newly encoded, newly collected data, we can split it up into a training and validation set so that we can train a new XGBoost model. As usual, we first split up the data, then save it locally and then upload it to S3."
   ]
  },
  {
   "cell_type": "code",
   "execution_count": 52,
   "metadata": {
    "colab": {},
    "colab_type": "code",
    "id": "VGfm7Un_M98U"
   },
   "outputs": [],
   "source": [
    "import pandas as pd\n",
    "\n",
    "# Earlier we shuffled the training dataset so to make things simple we can just assign\n",
    "# the first 10 000 reviews to the validation set and use the remaining reviews for training.\n",
    "new_val_X = pd.DataFrame(new_XV[:10000])\n",
    "new_train_X = pd.DataFrame(new_XV[10000:])\n",
    "\n",
    "new_val_y = pd.DataFrame(new_Y[:10000])\n",
    "new_train_y = pd.DataFrame(new_Y[10000:])"
   ]
  },
  {
   "cell_type": "markdown",
   "metadata": {
    "colab_type": "text",
    "id": "Cy5L9g4gM98a"
   },
   "source": [
    "In order to save some memory we will effectively delete the `new_X` variable. Remember that this contained a list of reviews and each review was a list of words. Note that once this cell has been executed you will need to read the new data in again if you want to work with it."
   ]
  },
  {
   "cell_type": "code",
   "execution_count": 53,
   "metadata": {
    "colab": {},
    "colab_type": "code",
    "id": "bRORDDB6M98c"
   },
   "outputs": [],
   "source": [
    "new_X = None"
   ]
  },
  {
   "cell_type": "markdown",
   "metadata": {
    "colab_type": "text",
    "id": "6JTeL9RKM98h"
   },
   "source": [
    "Next we save the new training and validation sets locally. Note that we overwrite the training and validation sets used earlier. This is mostly because the amount of space that we have available on our notebook instance is limited. Of course, you can increase this if you'd like but to do so may increase the cost of running the notebook instance."
   ]
  },
  {
   "cell_type": "code",
   "execution_count": 54,
   "metadata": {
    "colab": {},
    "colab_type": "code",
    "id": "suxf83RuM98i"
   },
   "outputs": [],
   "source": [
    "pd.DataFrame(new_XV).to_csv(os.path.join(data_dir, 'new_data.csv'), header=False, index=False)\n",
    "\n",
    "pd.concat([new_val_y, new_val_X], axis=1).to_csv(os.path.join(data_dir, 'new_validation.csv'), header=False, index=False)\n",
    "pd.concat([new_train_y, new_train_X], axis=1).to_csv(os.path.join(data_dir, 'new_train.csv'), header=False, index=False)"
   ]
  },
  {
   "cell_type": "markdown",
   "metadata": {
    "colab_type": "text",
    "id": "PKIf8NpqM980"
   },
   "source": [
    "Now that we've saved our data to the local instance, we can safely delete the variables to save on memory."
   ]
  },
  {
   "cell_type": "code",
   "execution_count": 55,
   "metadata": {
    "colab": {},
    "colab_type": "code",
    "id": "x56g9Ax2M981"
   },
   "outputs": [],
   "source": [
    "new_val_y = new_val_X = new_train_y = new_train_X = new_XV = None"
   ]
  },
  {
   "cell_type": "markdown",
   "metadata": {
    "colab_type": "text",
    "id": "FnMdyALIM985"
   },
   "source": [
    "Lastly, we make sure to upload the new training and validation sets to S3.\n",
    "\n",
    "**TODO:** Upload the new data as well as the new training and validation data sets to S3."
   ]
  },
  {
   "cell_type": "code",
   "execution_count": 56,
   "metadata": {
    "colab": {},
    "colab_type": "code",
    "id": "AnTN2U2wM98-"
   },
   "outputs": [],
   "source": [
    "# TODO: Upload the new data and the new validation.csv and train.csv files in the data_dir directory to S3.\n",
    "new_data_location = session.upload_data(os.path.join(data_dir, 'new_data.csv'), key_prefix=prefix)\n",
    "new_val_location = session.upload_data(os.path.join(data_dir, 'new_validation.csv'), key_prefix=prefix)\n",
    "new_train_location = session.upload_data(os.path.join(data_dir, 'new_train.csv'), key_prefix=prefix)"
   ]
  },
  {
   "cell_type": "markdown",
   "metadata": {
    "colab_type": "text",
    "id": "IUq9G2DXM99B"
   },
   "source": [
    "Once our new training data has been uploaded to S3, we can create a new XGBoost model that will take into account the changes that have occured in our data set.\n",
    "\n",
    "**TODO:** Create a new XGBoost estimator object."
   ]
  },
  {
   "cell_type": "code",
   "execution_count": 57,
   "metadata": {
    "colab": {},
    "colab_type": "code",
    "id": "A139N9A9M99C"
   },
   "outputs": [],
   "source": [
    "# TODO: First, create a SageMaker estimator object for our model.\n",
    "new_xgb = None\n",
    "\n",
    "# TODO: Then set the algorithm specific parameters. You may wish to use the same parameters that were\n",
    "#       used when training the original model.\n",
    "new_xgb = sagemaker.estimator.Estimator(container, # The location of the container we wish to use\n",
    "                                    role,                                    # What is our current IAM Role\n",
    "                                    train_instance_count=1,                  # How many compute instances\n",
    "                                    train_instance_type='ml.m4.xlarge',      # What kind of compute instances\n",
    "                                    output_path='s3://{}/{}/output'.format(session.default_bucket(), prefix),\n",
    "                                    sagemaker_session=session)\n",
    "\n",
    "# TODO: Then set the algorithm specific parameters. You may wish to use the same parameters that were\n",
    "#       used when training the original model.\n",
    "\n",
    "# Solution:\n",
    "new_xgb.set_hyperparameters(max_depth=5,\n",
    "                        eta=0.2,\n",
    "                        gamma=4,\n",
    "                        min_child_weight=6,\n",
    "                        subsample=0.8,\n",
    "                        silent=0,\n",
    "                        objective='binary:logistic',\n",
    "                        early_stopping_rounds=10,\n",
    "                        num_round=500)"
   ]
  },
  {
   "cell_type": "markdown",
   "metadata": {
    "colab_type": "text",
    "id": "W3tmNDOCM99F"
   },
   "source": [
    "Once the model has been created, we can train it with our new data.\n",
    "\n",
    "**TODO:** Train the new XGBoost model."
   ]
  },
  {
   "cell_type": "code",
   "execution_count": 58,
   "metadata": {
    "colab": {},
    "colab_type": "code",
    "id": "lXH6f022M99G"
   },
   "outputs": [],
   "source": [
    "# TODO: First, make sure that you create s3 input objects so that SageMaker knows where to\n",
    "#       find the training and validation data.\n",
    "s3_new_input_train = sagemaker.s3_input(s3_data=new_train_location, content_type='csv')\n",
    "s3_new_input_validation = sagemaker.s3_input(s3_data=new_val_location, content_type='csv')"
   ]
  },
  {
   "cell_type": "code",
   "execution_count": 59,
   "metadata": {
    "colab": {},
    "colab_type": "code",
    "id": "N2-6lXTGM99J"
   },
   "outputs": [
    {
     "name": "stdout",
     "output_type": "stream",
     "text": [
      "2019-12-31 14:09:43 Starting - Starting the training job...\n",
      "2019-12-31 14:09:44 Starting - Launching requested ML instances......\n",
      "2019-12-31 14:10:50 Starting - Preparing the instances for training......\n",
      "2019-12-31 14:12:01 Downloading - Downloading input data\n",
      "2019-12-31 14:12:01 Training - Downloading the training image..\u001b[34mArguments: train\u001b[0m\n",
      "\u001b[34m[2019-12-31:14:12:20:INFO] Running standalone xgboost training.\u001b[0m\n",
      "\u001b[34m[2019-12-31:14:12:20:INFO] File size need to be processed in the node: 238.47mb. Available memory size in the node: 8507.12mb\u001b[0m\n",
      "\u001b[34m[2019-12-31:14:12:20:INFO] Determined delimiter of CSV input is ','\u001b[0m\n",
      "\u001b[34m[14:12:20] S3DistributionType set as FullyReplicated\u001b[0m\n",
      "\u001b[34m[14:12:22] 15000x5000 matrix with 75000000 entries loaded from /opt/ml/input/data/train?format=csv&label_column=0&delimiter=,\u001b[0m\n",
      "\u001b[34m[2019-12-31:14:12:22:INFO] Determined delimiter of CSV input is ','\u001b[0m\n",
      "\u001b[34m[14:12:22] S3DistributionType set as FullyReplicated\u001b[0m\n",
      "\u001b[34m[14:12:23] 10000x5000 matrix with 50000000 entries loaded from /opt/ml/input/data/validation?format=csv&label_column=0&delimiter=,\u001b[0m\n",
      "\u001b[34m[14:12:27] src/tree/updater_prune.cc:74: tree pruning end, 1 roots, 44 extra nodes, 2 pruned nodes, max_depth=5\u001b[0m\n",
      "\u001b[34m[0]#011train-error:0.311267#011validation-error:0.3162\u001b[0m\n",
      "\u001b[34mMultiple eval metrics have been passed: 'validation-error' will be used for early stopping.\n",
      "\u001b[0m\n",
      "\u001b[34mWill train until validation-error hasn't improved in 10 rounds.\u001b[0m\n",
      "\n",
      "2019-12-31 14:12:19 Training - Training image download completed. Training in progress.\u001b[34m[14:12:28] src/tree/updater_prune.cc:74: tree pruning end, 1 roots, 44 extra nodes, 8 pruned nodes, max_depth=5\u001b[0m\n",
      "\u001b[34m[1]#011train-error:0.305067#011validation-error:0.3098\u001b[0m\n",
      "\u001b[34m[14:12:30] src/tree/updater_prune.cc:74: tree pruning end, 1 roots, 34 extra nodes, 6 pruned nodes, max_depth=5\u001b[0m\n",
      "\u001b[34m[2]#011train-error:0.281467#011validation-error:0.2845\u001b[0m\n",
      "\u001b[34m[14:12:31] src/tree/updater_prune.cc:74: tree pruning end, 1 roots, 32 extra nodes, 8 pruned nodes, max_depth=5\u001b[0m\n",
      "\u001b[34m[3]#011train-error:0.263133#011validation-error:0.2693\u001b[0m\n",
      "\u001b[34m[14:12:32] src/tree/updater_prune.cc:74: tree pruning end, 1 roots, 48 extra nodes, 6 pruned nodes, max_depth=5\u001b[0m\n",
      "\u001b[34m[4]#011train-error:0.2696#011validation-error:0.274\u001b[0m\n",
      "\u001b[34m[14:12:34] src/tree/updater_prune.cc:74: tree pruning end, 1 roots, 38 extra nodes, 2 pruned nodes, max_depth=5\u001b[0m\n",
      "\u001b[34m[5]#011train-error:0.264667#011validation-error:0.2698\u001b[0m\n",
      "\u001b[34m[14:12:35] src/tree/updater_prune.cc:74: tree pruning end, 1 roots, 42 extra nodes, 10 pruned nodes, max_depth=5\u001b[0m\n",
      "\u001b[34m[6]#011train-error:0.2592#011validation-error:0.2664\u001b[0m\n",
      "\u001b[34m[14:12:36] src/tree/updater_prune.cc:74: tree pruning end, 1 roots, 36 extra nodes, 6 pruned nodes, max_depth=5\u001b[0m\n",
      "\u001b[34m[7]#011train-error:0.248333#011validation-error:0.2593\u001b[0m\n",
      "\u001b[34m[14:12:37] src/tree/updater_prune.cc:74: tree pruning end, 1 roots, 40 extra nodes, 10 pruned nodes, max_depth=5\u001b[0m\n",
      "\u001b[34m[8]#011train-error:0.2394#011validation-error:0.2491\u001b[0m\n",
      "\u001b[34m[14:12:39] src/tree/updater_prune.cc:74: tree pruning end, 1 roots, 38 extra nodes, 8 pruned nodes, max_depth=5\u001b[0m\n",
      "\u001b[34m[9]#011train-error:0.236467#011validation-error:0.2458\u001b[0m\n",
      "\u001b[34m[14:12:40] src/tree/updater_prune.cc:74: tree pruning end, 1 roots, 34 extra nodes, 10 pruned nodes, max_depth=5\u001b[0m\n",
      "\u001b[34m[10]#011train-error:0.232733#011validation-error:0.2456\u001b[0m\n",
      "\u001b[34m[14:12:41] src/tree/updater_prune.cc:74: tree pruning end, 1 roots, 42 extra nodes, 4 pruned nodes, max_depth=5\u001b[0m\n",
      "\u001b[34m[11]#011train-error:0.228867#011validation-error:0.2427\u001b[0m\n",
      "\u001b[34m[14:12:43] src/tree/updater_prune.cc:74: tree pruning end, 1 roots, 26 extra nodes, 14 pruned nodes, max_depth=5\u001b[0m\n",
      "\u001b[34m[12]#011train-error:0.225#011validation-error:0.2371\u001b[0m\n",
      "\u001b[34m[14:12:44] src/tree/updater_prune.cc:74: tree pruning end, 1 roots, 40 extra nodes, 8 pruned nodes, max_depth=5\u001b[0m\n",
      "\u001b[34m[13]#011train-error:0.219#011validation-error:0.2337\u001b[0m\n",
      "\u001b[34m[14:12:45] src/tree/updater_prune.cc:74: tree pruning end, 1 roots, 36 extra nodes, 6 pruned nodes, max_depth=5\u001b[0m\n",
      "\u001b[34m[14]#011train-error:0.216333#011validation-error:0.2329\u001b[0m\n",
      "\u001b[34m[14:12:46] src/tree/updater_prune.cc:74: tree pruning end, 1 roots, 32 extra nodes, 8 pruned nodes, max_depth=5\u001b[0m\n",
      "\u001b[34m[15]#011train-error:0.2124#011validation-error:0.2332\u001b[0m\n",
      "\u001b[34m[14:12:48] src/tree/updater_prune.cc:74: tree pruning end, 1 roots, 42 extra nodes, 2 pruned nodes, max_depth=5\u001b[0m\n",
      "\u001b[34m[16]#011train-error:0.207733#011validation-error:0.2281\u001b[0m\n",
      "\u001b[34m[14:12:49] src/tree/updater_prune.cc:74: tree pruning end, 1 roots, 32 extra nodes, 8 pruned nodes, max_depth=5\u001b[0m\n",
      "\u001b[34m[17]#011train-error:0.204067#011validation-error:0.2269\u001b[0m\n",
      "\u001b[34m[14:12:50] src/tree/updater_prune.cc:74: tree pruning end, 1 roots, 38 extra nodes, 6 pruned nodes, max_depth=5\u001b[0m\n",
      "\u001b[34m[18]#011train-error:0.2028#011validation-error:0.2251\u001b[0m\n",
      "\u001b[34m[14:12:51] src/tree/updater_prune.cc:74: tree pruning end, 1 roots, 42 extra nodes, 6 pruned nodes, max_depth=5\u001b[0m\n",
      "\u001b[34m[19]#011train-error:0.199933#011validation-error:0.2227\u001b[0m\n",
      "\u001b[34m[14:12:53] src/tree/updater_prune.cc:74: tree pruning end, 1 roots, 38 extra nodes, 6 pruned nodes, max_depth=5\u001b[0m\n",
      "\u001b[34m[20]#011train-error:0.196733#011validation-error:0.2208\u001b[0m\n",
      "\u001b[34m[14:12:54] src/tree/updater_prune.cc:74: tree pruning end, 1 roots, 30 extra nodes, 10 pruned nodes, max_depth=5\u001b[0m\n",
      "\u001b[34m[21]#011train-error:0.193133#011validation-error:0.2193\u001b[0m\n",
      "\u001b[34m[14:12:55] src/tree/updater_prune.cc:74: tree pruning end, 1 roots, 30 extra nodes, 6 pruned nodes, max_depth=5\u001b[0m\n",
      "\u001b[34m[22]#011train-error:0.191267#011validation-error:0.2175\u001b[0m\n",
      "\u001b[34m[14:12:56] src/tree/updater_prune.cc:74: tree pruning end, 1 roots, 30 extra nodes, 12 pruned nodes, max_depth=5\u001b[0m\n",
      "\u001b[34m[23]#011train-error:0.189667#011validation-error:0.2153\u001b[0m\n",
      "\u001b[34m[14:12:58] src/tree/updater_prune.cc:74: tree pruning end, 1 roots, 30 extra nodes, 4 pruned nodes, max_depth=5\u001b[0m\n",
      "\u001b[34m[24]#011train-error:0.187267#011validation-error:0.2116\u001b[0m\n",
      "\u001b[34m[14:12:59] src/tree/updater_prune.cc:74: tree pruning end, 1 roots, 30 extra nodes, 10 pruned nodes, max_depth=5\u001b[0m\n",
      "\u001b[34m[25]#011train-error:0.1854#011validation-error:0.212\u001b[0m\n",
      "\u001b[34m[14:13:00] src/tree/updater_prune.cc:74: tree pruning end, 1 roots, 22 extra nodes, 14 pruned nodes, max_depth=5\u001b[0m\n",
      "\u001b[34m[26]#011train-error:0.183667#011validation-error:0.2093\u001b[0m\n",
      "\u001b[34m[14:13:02] src/tree/updater_prune.cc:74: tree pruning end, 1 roots, 44 extra nodes, 2 pruned nodes, max_depth=5\u001b[0m\n",
      "\u001b[34m[27]#011train-error:0.180133#011validation-error:0.2076\u001b[0m\n",
      "\u001b[34m[14:13:03] src/tree/updater_prune.cc:74: tree pruning end, 1 roots, 26 extra nodes, 10 pruned nodes, max_depth=5\u001b[0m\n",
      "\u001b[34m[28]#011train-error:0.178533#011validation-error:0.2061\u001b[0m\n",
      "\u001b[34m[14:13:04] src/tree/updater_prune.cc:74: tree pruning end, 1 roots, 42 extra nodes, 12 pruned nodes, max_depth=5\u001b[0m\n",
      "\u001b[34m[29]#011train-error:0.1766#011validation-error:0.2051\u001b[0m\n",
      "\u001b[34m[14:13:05] src/tree/updater_prune.cc:74: tree pruning end, 1 roots, 24 extra nodes, 8 pruned nodes, max_depth=5\u001b[0m\n",
      "\u001b[34m[30]#011train-error:0.176467#011validation-error:0.2047\u001b[0m\n",
      "\u001b[34m[14:13:07] src/tree/updater_prune.cc:74: tree pruning end, 1 roots, 34 extra nodes, 6 pruned nodes, max_depth=5\u001b[0m\n",
      "\u001b[34m[31]#011train-error:0.175333#011validation-error:0.2028\u001b[0m\n",
      "\u001b[34m[14:13:08] src/tree/updater_prune.cc:74: tree pruning end, 1 roots, 20 extra nodes, 10 pruned nodes, max_depth=5\u001b[0m\n",
      "\u001b[34m[32]#011train-error:0.1734#011validation-error:0.2016\u001b[0m\n",
      "\u001b[34m[14:13:09] src/tree/updater_prune.cc:74: tree pruning end, 1 roots, 30 extra nodes, 12 pruned nodes, max_depth=5\u001b[0m\n",
      "\u001b[34m[33]#011train-error:0.1712#011validation-error:0.202\u001b[0m\n",
      "\u001b[34m[14:13:10] src/tree/updater_prune.cc:74: tree pruning end, 1 roots, 20 extra nodes, 10 pruned nodes, max_depth=5\u001b[0m\n",
      "\u001b[34m[34]#011train-error:0.1694#011validation-error:0.1993\u001b[0m\n",
      "\u001b[34m[14:13:12] src/tree/updater_prune.cc:74: tree pruning end, 1 roots, 28 extra nodes, 6 pruned nodes, max_depth=5\u001b[0m\n",
      "\u001b[34m[35]#011train-error:0.168133#011validation-error:0.1991\u001b[0m\n",
      "\u001b[34m[14:13:13] src/tree/updater_prune.cc:74: tree pruning end, 1 roots, 16 extra nodes, 8 pruned nodes, max_depth=5\u001b[0m\n",
      "\u001b[34m[36]#011train-error:0.167467#011validation-error:0.1985\u001b[0m\n",
      "\u001b[34m[14:13:14] src/tree/updater_prune.cc:74: tree pruning end, 1 roots, 34 extra nodes, 6 pruned nodes, max_depth=5\u001b[0m\n",
      "\u001b[34m[37]#011train-error:0.1646#011validation-error:0.1979\u001b[0m\n",
      "\u001b[34m[14:13:15] src/tree/updater_prune.cc:74: tree pruning end, 1 roots, 36 extra nodes, 6 pruned nodes, max_depth=5\u001b[0m\n",
      "\u001b[34m[38]#011train-error:0.162133#011validation-error:0.1971\u001b[0m\n",
      "\u001b[34m[14:13:17] src/tree/updater_prune.cc:74: tree pruning end, 1 roots, 18 extra nodes, 6 pruned nodes, max_depth=5\u001b[0m\n",
      "\u001b[34m[39]#011train-error:0.161133#011validation-error:0.1965\u001b[0m\n",
      "\u001b[34m[14:13:18] src/tree/updater_prune.cc:74: tree pruning end, 1 roots, 18 extra nodes, 4 pruned nodes, max_depth=5\u001b[0m\n",
      "\u001b[34m[40]#011train-error:0.158867#011validation-error:0.1942\u001b[0m\n"
     ]
    },
    {
     "name": "stdout",
     "output_type": "stream",
     "text": [
      "\u001b[34m[14:13:19] src/tree/updater_prune.cc:74: tree pruning end, 1 roots, 34 extra nodes, 10 pruned nodes, max_depth=5\u001b[0m\n",
      "\u001b[34m[41]#011train-error:0.1568#011validation-error:0.1927\u001b[0m\n",
      "\u001b[34m[14:13:20] src/tree/updater_prune.cc:74: tree pruning end, 1 roots, 26 extra nodes, 6 pruned nodes, max_depth=5\u001b[0m\n",
      "\u001b[34m[42]#011train-error:0.155933#011validation-error:0.1909\u001b[0m\n",
      "\u001b[34m[14:13:22] src/tree/updater_prune.cc:74: tree pruning end, 1 roots, 24 extra nodes, 14 pruned nodes, max_depth=5\u001b[0m\n",
      "\u001b[34m[43]#011train-error:0.1548#011validation-error:0.1916\u001b[0m\n",
      "\u001b[34m[14:13:23] src/tree/updater_prune.cc:74: tree pruning end, 1 roots, 34 extra nodes, 6 pruned nodes, max_depth=5\u001b[0m\n",
      "\u001b[34m[44]#011train-error:0.154333#011validation-error:0.1917\u001b[0m\n",
      "\u001b[34m[14:13:24] src/tree/updater_prune.cc:74: tree pruning end, 1 roots, 24 extra nodes, 2 pruned nodes, max_depth=5\u001b[0m\n",
      "\u001b[34m[45]#011train-error:0.154#011validation-error:0.1918\u001b[0m\n",
      "\u001b[34m[14:13:26] src/tree/updater_prune.cc:74: tree pruning end, 1 roots, 16 extra nodes, 6 pruned nodes, max_depth=5\u001b[0m\n",
      "\u001b[34m[46]#011train-error:0.1536#011validation-error:0.1909\u001b[0m\n",
      "\u001b[34m[14:13:27] src/tree/updater_prune.cc:74: tree pruning end, 1 roots, 22 extra nodes, 6 pruned nodes, max_depth=5\u001b[0m\n",
      "\u001b[34m[47]#011train-error:0.1526#011validation-error:0.1915\u001b[0m\n",
      "\u001b[34m[14:13:28] src/tree/updater_prune.cc:74: tree pruning end, 1 roots, 38 extra nodes, 6 pruned nodes, max_depth=5\u001b[0m\n",
      "\u001b[34m[48]#011train-error:0.1512#011validation-error:0.1915\u001b[0m\n",
      "\u001b[34m[14:13:29] src/tree/updater_prune.cc:74: tree pruning end, 1 roots, 28 extra nodes, 10 pruned nodes, max_depth=5\u001b[0m\n",
      "\u001b[34m[49]#011train-error:0.149733#011validation-error:0.191\u001b[0m\n",
      "\u001b[34m[14:13:31] src/tree/updater_prune.cc:74: tree pruning end, 1 roots, 24 extra nodes, 6 pruned nodes, max_depth=5\u001b[0m\n",
      "\u001b[34m[50]#011train-error:0.1496#011validation-error:0.19\u001b[0m\n",
      "\u001b[34m[14:13:32] src/tree/updater_prune.cc:74: tree pruning end, 1 roots, 20 extra nodes, 8 pruned nodes, max_depth=5\u001b[0m\n",
      "\u001b[34m[51]#011train-error:0.1496#011validation-error:0.1881\u001b[0m\n",
      "\u001b[34m[14:13:33] src/tree/updater_prune.cc:74: tree pruning end, 1 roots, 32 extra nodes, 14 pruned nodes, max_depth=5\u001b[0m\n",
      "\u001b[34m[52]#011train-error:0.148933#011validation-error:0.1889\u001b[0m\n",
      "\u001b[34m[14:13:34] src/tree/updater_prune.cc:74: tree pruning end, 1 roots, 26 extra nodes, 6 pruned nodes, max_depth=5\u001b[0m\n",
      "\u001b[34m[53]#011train-error:0.148267#011validation-error:0.188\u001b[0m\n",
      "\u001b[34m[14:13:36] src/tree/updater_prune.cc:74: tree pruning end, 1 roots, 18 extra nodes, 16 pruned nodes, max_depth=5\u001b[0m\n",
      "\u001b[34m[54]#011train-error:0.147333#011validation-error:0.1866\u001b[0m\n",
      "\u001b[34m[14:13:37] src/tree/updater_prune.cc:74: tree pruning end, 1 roots, 20 extra nodes, 12 pruned nodes, max_depth=5\u001b[0m\n",
      "\u001b[34m[55]#011train-error:0.146267#011validation-error:0.186\u001b[0m\n",
      "\u001b[34m[14:13:38] src/tree/updater_prune.cc:74: tree pruning end, 1 roots, 20 extra nodes, 2 pruned nodes, max_depth=5\u001b[0m\n",
      "\u001b[34m[56]#011train-error:0.144733#011validation-error:0.1857\u001b[0m\n",
      "\u001b[34m[14:13:40] src/tree/updater_prune.cc:74: tree pruning end, 1 roots, 20 extra nodes, 8 pruned nodes, max_depth=5\u001b[0m\n",
      "\u001b[34m[57]#011train-error:0.143667#011validation-error:0.1857\u001b[0m\n",
      "\u001b[34m[14:13:41] src/tree/updater_prune.cc:74: tree pruning end, 1 roots, 14 extra nodes, 10 pruned nodes, max_depth=5\u001b[0m\n",
      "\u001b[34m[58]#011train-error:0.143133#011validation-error:0.1855\u001b[0m\n",
      "\u001b[34m[14:13:42] src/tree/updater_prune.cc:74: tree pruning end, 1 roots, 28 extra nodes, 12 pruned nodes, max_depth=5\u001b[0m\n",
      "\u001b[34m[59]#011train-error:0.142267#011validation-error:0.1854\u001b[0m\n",
      "\u001b[34m[14:13:43] src/tree/updater_prune.cc:74: tree pruning end, 1 roots, 12 extra nodes, 6 pruned nodes, max_depth=5\u001b[0m\n",
      "\u001b[34m[60]#011train-error:0.142#011validation-error:0.1857\u001b[0m\n",
      "\u001b[34m[14:13:45] src/tree/updater_prune.cc:74: tree pruning end, 1 roots, 16 extra nodes, 12 pruned nodes, max_depth=5\u001b[0m\n",
      "\u001b[34m[61]#011train-error:0.1414#011validation-error:0.1858\u001b[0m\n",
      "\u001b[34m[14:13:46] src/tree/updater_prune.cc:74: tree pruning end, 1 roots, 18 extra nodes, 12 pruned nodes, max_depth=5\u001b[0m\n",
      "\u001b[34m[62]#011train-error:0.141133#011validation-error:0.1867\u001b[0m\n",
      "\u001b[34m[14:13:47] src/tree/updater_prune.cc:74: tree pruning end, 1 roots, 18 extra nodes, 2 pruned nodes, max_depth=5\u001b[0m\n",
      "\u001b[34m[63]#011train-error:0.140667#011validation-error:0.1863\u001b[0m\n",
      "\u001b[34m[14:13:48] src/tree/updater_prune.cc:74: tree pruning end, 1 roots, 18 extra nodes, 10 pruned nodes, max_depth=5\u001b[0m\n",
      "\u001b[34m[64]#011train-error:0.139667#011validation-error:0.1845\u001b[0m\n",
      "\u001b[34m[14:13:50] src/tree/updater_prune.cc:74: tree pruning end, 1 roots, 26 extra nodes, 6 pruned nodes, max_depth=5\u001b[0m\n",
      "\u001b[34m[65]#011train-error:0.138933#011validation-error:0.1833\u001b[0m\n",
      "\u001b[34m[14:13:51] src/tree/updater_prune.cc:74: tree pruning end, 1 roots, 20 extra nodes, 8 pruned nodes, max_depth=5\u001b[0m\n",
      "\u001b[34m[66]#011train-error:0.138267#011validation-error:0.1841\u001b[0m\n",
      "\u001b[34m[14:13:52] src/tree/updater_prune.cc:74: tree pruning end, 1 roots, 26 extra nodes, 8 pruned nodes, max_depth=5\u001b[0m\n",
      "\u001b[34m[67]#011train-error:0.1376#011validation-error:0.1843\u001b[0m\n",
      "\u001b[34m[14:13:54] src/tree/updater_prune.cc:74: tree pruning end, 1 roots, 22 extra nodes, 4 pruned nodes, max_depth=5\u001b[0m\n",
      "\u001b[34m[68]#011train-error:0.137267#011validation-error:0.1839\u001b[0m\n",
      "\u001b[34m[14:13:55] src/tree/updater_prune.cc:74: tree pruning end, 1 roots, 16 extra nodes, 6 pruned nodes, max_depth=5\u001b[0m\n",
      "\u001b[34m[69]#011train-error:0.1362#011validation-error:0.1833\u001b[0m\n",
      "\u001b[34m[14:13:56] src/tree/updater_prune.cc:74: tree pruning end, 1 roots, 28 extra nodes, 6 pruned nodes, max_depth=5\u001b[0m\n",
      "\u001b[34m[70]#011train-error:0.134333#011validation-error:0.1822\u001b[0m\n",
      "\u001b[34m[14:13:57] src/tree/updater_prune.cc:74: tree pruning end, 1 roots, 16 extra nodes, 6 pruned nodes, max_depth=5\u001b[0m\n",
      "\u001b[34m[71]#011train-error:0.133867#011validation-error:0.1824\u001b[0m\n",
      "\u001b[34m[14:13:59] src/tree/updater_prune.cc:74: tree pruning end, 1 roots, 30 extra nodes, 2 pruned nodes, max_depth=5\u001b[0m\n",
      "\u001b[34m[72]#011train-error:0.133133#011validation-error:0.1815\u001b[0m\n",
      "\u001b[34m[14:14:00] src/tree/updater_prune.cc:74: tree pruning end, 1 roots, 16 extra nodes, 12 pruned nodes, max_depth=5\u001b[0m\n",
      "\u001b[34m[73]#011train-error:0.133267#011validation-error:0.181\u001b[0m\n",
      "\u001b[34m[14:14:01] src/tree/updater_prune.cc:74: tree pruning end, 1 roots, 22 extra nodes, 4 pruned nodes, max_depth=5\u001b[0m\n",
      "\u001b[34m[74]#011train-error:0.133133#011validation-error:0.181\u001b[0m\n",
      "\u001b[34m[14:14:02] src/tree/updater_prune.cc:74: tree pruning end, 1 roots, 24 extra nodes, 12 pruned nodes, max_depth=5\u001b[0m\n",
      "\u001b[34m[75]#011train-error:0.133#011validation-error:0.1819\u001b[0m\n",
      "\u001b[34m[14:14:04] src/tree/updater_prune.cc:74: tree pruning end, 1 roots, 20 extra nodes, 8 pruned nodes, max_depth=5\u001b[0m\n",
      "\u001b[34m[76]#011train-error:0.132067#011validation-error:0.182\u001b[0m\n",
      "\u001b[34m[14:14:05] src/tree/updater_prune.cc:74: tree pruning end, 1 roots, 22 extra nodes, 16 pruned nodes, max_depth=5\u001b[0m\n",
      "\u001b[34m[77]#011train-error:0.131867#011validation-error:0.1818\u001b[0m\n",
      "\u001b[34m[14:14:06] src/tree/updater_prune.cc:74: tree pruning end, 1 roots, 16 extra nodes, 8 pruned nodes, max_depth=5\u001b[0m\n",
      "\u001b[34m[78]#011train-error:0.130867#011validation-error:0.1813\u001b[0m\n",
      "\u001b[34m[14:14:08] src/tree/updater_prune.cc:74: tree pruning end, 1 roots, 32 extra nodes, 10 pruned nodes, max_depth=5\u001b[0m\n",
      "\u001b[34m[79]#011train-error:0.128533#011validation-error:0.1808\u001b[0m\n",
      "\u001b[34m[14:14:09] src/tree/updater_prune.cc:74: tree pruning end, 1 roots, 16 extra nodes, 12 pruned nodes, max_depth=5\u001b[0m\n",
      "\u001b[34m[80]#011train-error:0.127933#011validation-error:0.1803\u001b[0m\n",
      "\u001b[34m[14:14:10] src/tree/updater_prune.cc:74: tree pruning end, 1 roots, 12 extra nodes, 18 pruned nodes, max_depth=5\u001b[0m\n",
      "\u001b[34m[81]#011train-error:0.1282#011validation-error:0.1792\u001b[0m\n",
      "\u001b[34m[14:14:11] src/tree/updater_prune.cc:74: tree pruning end, 1 roots, 28 extra nodes, 12 pruned nodes, max_depth=5\u001b[0m\n",
      "\u001b[34m[82]#011train-error:0.128067#011validation-error:0.1799\u001b[0m\n",
      "\u001b[34m[14:14:13] src/tree/updater_prune.cc:74: tree pruning end, 1 roots, 20 extra nodes, 6 pruned nodes, max_depth=5\u001b[0m\n",
      "\u001b[34m[83]#011train-error:0.1278#011validation-error:0.1799\u001b[0m\n",
      "\u001b[34m[14:14:14] src/tree/updater_prune.cc:74: tree pruning end, 1 roots, 12 extra nodes, 6 pruned nodes, max_depth=5\u001b[0m\n",
      "\u001b[34m[84]#011train-error:0.127#011validation-error:0.18\u001b[0m\n",
      "\u001b[34m[14:14:15] src/tree/updater_prune.cc:74: tree pruning end, 1 roots, 12 extra nodes, 8 pruned nodes, max_depth=5\u001b[0m\n",
      "\u001b[34m[85]#011train-error:0.127667#011validation-error:0.18\u001b[0m\n",
      "\u001b[34m[14:14:16] src/tree/updater_prune.cc:74: tree pruning end, 1 roots, 16 extra nodes, 10 pruned nodes, max_depth=5\u001b[0m\n",
      "\u001b[34m[86]#011train-error:0.1276#011validation-error:0.1805\u001b[0m\n",
      "\u001b[34m[14:14:18] src/tree/updater_prune.cc:74: tree pruning end, 1 roots, 12 extra nodes, 2 pruned nodes, max_depth=5\u001b[0m\n",
      "\u001b[34m[87]#011train-error:0.1276#011validation-error:0.1797\u001b[0m\n",
      "\u001b[34m[14:14:19] src/tree/updater_prune.cc:74: tree pruning end, 1 roots, 26 extra nodes, 6 pruned nodes, max_depth=5\u001b[0m\n",
      "\u001b[34m[88]#011train-error:0.126267#011validation-error:0.1793\u001b[0m\n"
     ]
    },
    {
     "name": "stdout",
     "output_type": "stream",
     "text": [
      "\u001b[34m[14:14:20] src/tree/updater_prune.cc:74: tree pruning end, 1 roots, 22 extra nodes, 6 pruned nodes, max_depth=5\u001b[0m\n",
      "\u001b[34m[89]#011train-error:0.125867#011validation-error:0.1791\u001b[0m\n",
      "\u001b[34m[14:14:22] src/tree/updater_prune.cc:74: tree pruning end, 1 roots, 16 extra nodes, 6 pruned nodes, max_depth=5\u001b[0m\n",
      "\u001b[34m[90]#011train-error:0.1254#011validation-error:0.1784\u001b[0m\n",
      "\u001b[34m[14:14:23] src/tree/updater_prune.cc:74: tree pruning end, 1 roots, 12 extra nodes, 10 pruned nodes, max_depth=5\u001b[0m\n",
      "\u001b[34m[91]#011train-error:0.125333#011validation-error:0.1783\u001b[0m\n",
      "\u001b[34m[14:14:24] src/tree/updater_prune.cc:74: tree pruning end, 1 roots, 22 extra nodes, 10 pruned nodes, max_depth=5\u001b[0m\n",
      "\u001b[34m[92]#011train-error:0.1246#011validation-error:0.1765\u001b[0m\n",
      "\u001b[34m[14:14:25] src/tree/updater_prune.cc:74: tree pruning end, 1 roots, 12 extra nodes, 12 pruned nodes, max_depth=5\u001b[0m\n",
      "\u001b[34m[93]#011train-error:0.124733#011validation-error:0.176\u001b[0m\n",
      "\u001b[34m[14:14:27] src/tree/updater_prune.cc:74: tree pruning end, 1 roots, 20 extra nodes, 8 pruned nodes, max_depth=5\u001b[0m\n",
      "\u001b[34m[94]#011train-error:0.123667#011validation-error:0.1756\u001b[0m\n",
      "\u001b[34m[14:14:28] src/tree/updater_prune.cc:74: tree pruning end, 1 roots, 22 extra nodes, 14 pruned nodes, max_depth=5\u001b[0m\n",
      "\u001b[34m[95]#011train-error:0.123067#011validation-error:0.1761\u001b[0m\n",
      "\u001b[34m[14:14:29] src/tree/updater_prune.cc:74: tree pruning end, 1 roots, 20 extra nodes, 12 pruned nodes, max_depth=5\u001b[0m\n",
      "\u001b[34m[96]#011train-error:0.123#011validation-error:0.177\u001b[0m\n",
      "\u001b[34m[14:14:30] src/tree/updater_prune.cc:74: tree pruning end, 1 roots, 36 extra nodes, 14 pruned nodes, max_depth=5\u001b[0m\n",
      "\u001b[34m[97]#011train-error:0.122267#011validation-error:0.1759\u001b[0m\n",
      "\u001b[34m[14:14:32] src/tree/updater_prune.cc:74: tree pruning end, 1 roots, 14 extra nodes, 6 pruned nodes, max_depth=5\u001b[0m\n",
      "\u001b[34m[98]#011train-error:0.121733#011validation-error:0.1762\u001b[0m\n",
      "\u001b[34m[14:14:33] src/tree/updater_prune.cc:74: tree pruning end, 1 roots, 10 extra nodes, 2 pruned nodes, max_depth=5\u001b[0m\n",
      "\u001b[34m[99]#011train-error:0.121533#011validation-error:0.1763\u001b[0m\n",
      "\u001b[34m[14:14:34] src/tree/updater_prune.cc:74: tree pruning end, 1 roots, 18 extra nodes, 6 pruned nodes, max_depth=5\u001b[0m\n",
      "\u001b[34m[100]#011train-error:0.1206#011validation-error:0.1762\u001b[0m\n",
      "\u001b[34m[14:14:36] src/tree/updater_prune.cc:74: tree pruning end, 1 roots, 14 extra nodes, 8 pruned nodes, max_depth=5\u001b[0m\n",
      "\u001b[34m[101]#011train-error:0.119933#011validation-error:0.1759\u001b[0m\n",
      "\u001b[34m[14:14:37] src/tree/updater_prune.cc:74: tree pruning end, 1 roots, 16 extra nodes, 6 pruned nodes, max_depth=5\u001b[0m\n",
      "\u001b[34m[102]#011train-error:0.118733#011validation-error:0.1758\u001b[0m\n",
      "\u001b[34m[14:14:38] src/tree/updater_prune.cc:74: tree pruning end, 1 roots, 34 extra nodes, 8 pruned nodes, max_depth=5\u001b[0m\n",
      "\u001b[34m[103]#011train-error:0.118133#011validation-error:0.1752\u001b[0m\n",
      "\u001b[34m[14:14:39] src/tree/updater_prune.cc:74: tree pruning end, 1 roots, 18 extra nodes, 4 pruned nodes, max_depth=5\u001b[0m\n",
      "\u001b[34m[104]#011train-error:0.116533#011validation-error:0.175\u001b[0m\n",
      "\u001b[34m[14:14:41] src/tree/updater_prune.cc:74: tree pruning end, 1 roots, 10 extra nodes, 10 pruned nodes, max_depth=5\u001b[0m\n",
      "\u001b[34m[105]#011train-error:0.1162#011validation-error:0.1751\u001b[0m\n",
      "\u001b[34m[14:14:42] src/tree/updater_prune.cc:74: tree pruning end, 1 roots, 10 extra nodes, 12 pruned nodes, max_depth=5\u001b[0m\n",
      "\u001b[34m[106]#011train-error:0.1166#011validation-error:0.175\u001b[0m\n",
      "\u001b[34m[14:14:43] src/tree/updater_prune.cc:74: tree pruning end, 1 roots, 18 extra nodes, 14 pruned nodes, max_depth=5\u001b[0m\n",
      "\u001b[34m[107]#011train-error:0.116133#011validation-error:0.1754\u001b[0m\n",
      "\u001b[34m[14:14:44] src/tree/updater_prune.cc:74: tree pruning end, 1 roots, 10 extra nodes, 8 pruned nodes, max_depth=5\u001b[0m\n",
      "\u001b[34m[108]#011train-error:0.115867#011validation-error:0.175\u001b[0m\n",
      "\u001b[34m[14:14:46] src/tree/updater_prune.cc:74: tree pruning end, 1 roots, 10 extra nodes, 2 pruned nodes, max_depth=5\u001b[0m\n",
      "\u001b[34m[109]#011train-error:0.115467#011validation-error:0.1751\u001b[0m\n",
      "\u001b[34m[14:14:47] src/tree/updater_prune.cc:74: tree pruning end, 1 roots, 24 extra nodes, 12 pruned nodes, max_depth=5\u001b[0m\n",
      "\u001b[34m[110]#011train-error:0.114867#011validation-error:0.1756\u001b[0m\n",
      "\u001b[34m[14:14:48] src/tree/updater_prune.cc:74: tree pruning end, 1 roots, 14 extra nodes, 8 pruned nodes, max_depth=5\u001b[0m\n",
      "\u001b[34m[111]#011train-error:0.114467#011validation-error:0.1745\u001b[0m\n",
      "\u001b[34m[14:14:50] src/tree/updater_prune.cc:74: tree pruning end, 1 roots, 24 extra nodes, 12 pruned nodes, max_depth=5\u001b[0m\n",
      "\u001b[34m[112]#011train-error:0.114133#011validation-error:0.1742\u001b[0m\n",
      "\u001b[34m[14:14:51] src/tree/updater_prune.cc:74: tree pruning end, 1 roots, 16 extra nodes, 10 pruned nodes, max_depth=5\u001b[0m\n",
      "\u001b[34m[113]#011train-error:0.1138#011validation-error:0.173\u001b[0m\n",
      "\u001b[34m[14:14:52] src/tree/updater_prune.cc:74: tree pruning end, 1 roots, 12 extra nodes, 0 pruned nodes, max_depth=5\u001b[0m\n",
      "\u001b[34m[114]#011train-error:0.1136#011validation-error:0.1732\u001b[0m\n",
      "\u001b[34m[14:14:53] src/tree/updater_prune.cc:74: tree pruning end, 1 roots, 16 extra nodes, 6 pruned nodes, max_depth=5\u001b[0m\n",
      "\u001b[34m[115]#011train-error:0.112667#011validation-error:0.1725\u001b[0m\n",
      "\u001b[34m[14:14:55] src/tree/updater_prune.cc:74: tree pruning end, 1 roots, 16 extra nodes, 6 pruned nodes, max_depth=5\u001b[0m\n",
      "\u001b[34m[116]#011train-error:0.112133#011validation-error:0.1726\u001b[0m\n",
      "\u001b[34m[14:14:56] src/tree/updater_prune.cc:74: tree pruning end, 1 roots, 22 extra nodes, 10 pruned nodes, max_depth=5\u001b[0m\n",
      "\u001b[34m[117]#011train-error:0.112067#011validation-error:0.1737\u001b[0m\n",
      "\u001b[34m[14:14:57] src/tree/updater_prune.cc:74: tree pruning end, 1 roots, 16 extra nodes, 8 pruned nodes, max_depth=5\u001b[0m\n",
      "\u001b[34m[118]#011train-error:0.111933#011validation-error:0.174\u001b[0m\n",
      "\u001b[34m[14:14:58] src/tree/updater_prune.cc:74: tree pruning end, 1 roots, 10 extra nodes, 4 pruned nodes, max_depth=5\u001b[0m\n",
      "\u001b[34m[119]#011train-error:0.111467#011validation-error:0.1746\u001b[0m\n",
      "\u001b[34m[14:15:00] src/tree/updater_prune.cc:74: tree pruning end, 1 roots, 26 extra nodes, 18 pruned nodes, max_depth=5\u001b[0m\n",
      "\u001b[34m[120]#011train-error:0.110667#011validation-error:0.1746\u001b[0m\n",
      "\n",
      "2019-12-31 14:15:13 Uploading - Uploading generated training model\n",
      "2019-12-31 14:15:13 Completed - Training job completed\n",
      "\u001b[34m[14:15:01] src/tree/updater_prune.cc:74: tree pruning end, 1 roots, 12 extra nodes, 16 pruned nodes, max_depth=5\u001b[0m\n",
      "\u001b[34m[121]#011train-error:0.110267#011validation-error:0.1754\u001b[0m\n",
      "\u001b[34m[14:15:02] src/tree/updater_prune.cc:74: tree pruning end, 1 roots, 20 extra nodes, 6 pruned nodes, max_depth=5\u001b[0m\n",
      "\u001b[34m[122]#011train-error:0.110533#011validation-error:0.1761\u001b[0m\n",
      "\u001b[34m[14:15:04] src/tree/updater_prune.cc:74: tree pruning end, 1 roots, 18 extra nodes, 4 pruned nodes, max_depth=5\u001b[0m\n",
      "\u001b[34m[123]#011train-error:0.109867#011validation-error:0.1762\u001b[0m\n",
      "\u001b[34m[14:15:05] src/tree/updater_prune.cc:74: tree pruning end, 1 roots, 32 extra nodes, 8 pruned nodes, max_depth=5\u001b[0m\n",
      "\u001b[34m[124]#011train-error:0.1092#011validation-error:0.1755\u001b[0m\n",
      "\u001b[34m[14:15:06] src/tree/updater_prune.cc:74: tree pruning end, 1 roots, 10 extra nodes, 2 pruned nodes, max_depth=5\u001b[0m\n",
      "\u001b[34m[125]#011train-error:0.109#011validation-error:0.1754\u001b[0m\n",
      "\u001b[34mStopping. Best iteration:\u001b[0m\n",
      "\u001b[34m[115]#011train-error:0.112667#011validation-error:0.1725\n",
      "\u001b[0m\n",
      "Training seconds: 208\n",
      "Billable seconds: 208\n"
     ]
    }
   ],
   "source": [
    "# TODO: Using the new validation and training data, 'fit' your new model.\n",
    "new_xgb.fit({'train': s3_new_input_train, 'validation': s3_new_input_validation})"
   ]
  },
  {
   "cell_type": "markdown",
   "metadata": {
    "colab_type": "text",
    "id": "nl94kFmTM99N"
   },
   "source": [
    "### (TODO) Check the new model\n",
    "\n",
    "So now we have a new XGBoost model that we believe more accurately represents the state of the world at this time, at least in how it relates to the sentiment analysis problem that we are working on. The next step is to double check that our model is performing reasonably.\n",
    "\n",
    "To do this, we will first test our model on the new data.\n",
    "\n",
    "**Note:** In practice this is a pretty bad idea. We already trained our model on the new data, so testing it shouldn't really tell us much. In fact, this is sort of a textbook example of leakage. We are only doing it here so that we have a numerical baseline.\n",
    "\n",
    "**Question:** How might you address the leakage problem?"
   ]
  },
  {
   "cell_type": "markdown",
   "metadata": {
    "colab_type": "text",
    "id": "AW-90eYaM99O"
   },
   "source": [
    "First, we create a new transformer based on our new XGBoost model.\n",
    "\n",
    "**TODO:** Create a transformer object from the newly created XGBoost model."
   ]
  },
  {
   "cell_type": "code",
   "execution_count": 60,
   "metadata": {
    "colab": {},
    "colab_type": "code",
    "id": "KItaHDFZM99P"
   },
   "outputs": [],
   "source": [
    "# TODO: Create a transformer object from the new_xgb model\n",
    "new_xgb_transformer = new_xgb.transformer(instance_count = 1, instance_type = 'ml.m4.xlarge')"
   ]
  },
  {
   "cell_type": "markdown",
   "metadata": {
    "colab_type": "text",
    "id": "F2eF8T0CM99T"
   },
   "source": [
    "Next we test our model on the new data.\n",
    "\n",
    "**TODO:** Use the transformer object to transform the new data (stored in the `new_data_location` variable)"
   ]
  },
  {
   "cell_type": "code",
   "execution_count": 61,
   "metadata": {
    "colab": {},
    "colab_type": "code",
    "id": "Gr1oo1KQM99U"
   },
   "outputs": [
    {
     "name": "stdout",
     "output_type": "stream",
     "text": [
      "....................\u001b[34mArguments: serve\u001b[0m\n",
      "\u001b[34m[2019-12-31 14:18:39 +0000] [1] [INFO] Starting gunicorn 19.7.1\u001b[0m\n",
      "\u001b[34m[2019-12-31 14:18:39 +0000] [1] [INFO] Listening at: http://0.0.0.0:8080 (1)\u001b[0m\n",
      "\u001b[34m[2019-12-31 14:18:39 +0000] [1] [INFO] Using worker: gevent\u001b[0m\n",
      "\u001b[34m[2019-12-31 14:18:39 +0000] [38] [INFO] Booting worker with pid: 38\u001b[0m\n",
      "\u001b[34m[2019-12-31 14:18:39 +0000] [39] [INFO] Booting worker with pid: 39\u001b[0m\n",
      "\u001b[34m[2019-12-31 14:18:39 +0000] [40] [INFO] Booting worker with pid: 40\u001b[0m\n",
      "\u001b[34m[2019-12-31:14:18:39:INFO] Model loaded successfully for worker : 38\u001b[0m\n",
      "\u001b[34m[2019-12-31:14:18:39:INFO] Model loaded successfully for worker : 39\u001b[0m\n",
      "\u001b[34m[2019-12-31:14:18:39:INFO] Model loaded successfully for worker : 40\u001b[0m\n",
      "\u001b[34m[2019-12-31 14:18:39 +0000] [41] [INFO] Booting worker with pid: 41\u001b[0m\n",
      "\u001b[34m[2019-12-31:14:18:39:INFO] Model loaded successfully for worker : 41\u001b[0m\n",
      "\u001b[32m2019-12-31T14:19:20.468:[sagemaker logs]: MaxConcurrentTransforms=4, MaxPayloadInMB=6, BatchStrategy=MULTI_RECORD\u001b[0m\n",
      "\u001b[34m[2019-12-31:14:19:24:INFO] Sniff delimiter as ','\u001b[0m\n",
      "\u001b[34m[2019-12-31:14:19:24:INFO] Determined delimiter of CSV input is ','\u001b[0m\n",
      "\u001b[34m[2019-12-31:14:19:24:INFO] Sniff delimiter as ','\u001b[0m\n",
      "\u001b[34m[2019-12-31:14:19:24:INFO] Determined delimiter of CSV input is ','\u001b[0m\n",
      "\u001b[35m[2019-12-31:14:19:24:INFO] Sniff delimiter as ','\u001b[0m\n",
      "\u001b[35m[2019-12-31:14:19:24:INFO] Determined delimiter of CSV input is ','\u001b[0m\n",
      "\u001b[35m[2019-12-31:14:19:24:INFO] Sniff delimiter as ','\u001b[0m\n",
      "\u001b[35m[2019-12-31:14:19:24:INFO] Determined delimiter of CSV input is ','\u001b[0m\n",
      "\u001b[34m[2019-12-31:14:19:24:INFO] Sniff delimiter as ','\u001b[0m\n",
      "\u001b[34m[2019-12-31:14:19:24:INFO] Determined delimiter of CSV input is ','\u001b[0m\n",
      "\u001b[35m[2019-12-31:14:19:24:INFO] Sniff delimiter as ','\u001b[0m\n",
      "\u001b[35m[2019-12-31:14:19:24:INFO] Determined delimiter of CSV input is ','\u001b[0m\n",
      "\u001b[34m[2019-12-31:14:19:26:INFO] Sniff delimiter as ','\u001b[0m\n",
      "\u001b[34m[2019-12-31:14:19:26:INFO] Determined delimiter of CSV input is ','\u001b[0m\n",
      "\u001b[34m[2019-12-31:14:19:26:INFO] Sniff delimiter as ','\u001b[0m\n",
      "\u001b[34m[2019-12-31:14:19:26:INFO] Determined delimiter of CSV input is ','\u001b[0m\n",
      "\u001b[34m[2019-12-31:14:19:26:INFO] Sniff delimiter as ','\u001b[0m\n",
      "\u001b[35m[2019-12-31:14:19:26:INFO] Sniff delimiter as ','\u001b[0m\n",
      "\u001b[35m[2019-12-31:14:19:26:INFO] Determined delimiter of CSV input is ','\u001b[0m\n",
      "\u001b[35m[2019-12-31:14:19:26:INFO] Sniff delimiter as ','\u001b[0m\n",
      "\u001b[35m[2019-12-31:14:19:26:INFO] Determined delimiter of CSV input is ','\u001b[0m\n",
      "\u001b[35m[2019-12-31:14:19:26:INFO] Sniff delimiter as ','\u001b[0m\n",
      "\u001b[34m[2019-12-31:14:19:26:INFO] Determined delimiter of CSV input is ','\u001b[0m\n",
      "\u001b[35m[2019-12-31:14:19:26:INFO] Determined delimiter of CSV input is ','\u001b[0m\n",
      "\u001b[34m[2019-12-31:14:19:27:INFO] Sniff delimiter as ','\u001b[0m\n",
      "\u001b[34m[2019-12-31:14:19:27:INFO] Determined delimiter of CSV input is ','\u001b[0m\n",
      "\u001b[34m[2019-12-31:14:19:27:INFO] Sniff delimiter as ','\u001b[0m\n",
      "\u001b[34m[2019-12-31:14:19:27:INFO] Determined delimiter of CSV input is ','\u001b[0m\n",
      "\u001b[35m[2019-12-31:14:19:27:INFO] Sniff delimiter as ','\u001b[0m\n",
      "\u001b[35m[2019-12-31:14:19:27:INFO] Determined delimiter of CSV input is ','\u001b[0m\n",
      "\u001b[35m[2019-12-31:14:19:27:INFO] Sniff delimiter as ','\u001b[0m\n",
      "\u001b[35m[2019-12-31:14:19:27:INFO] Determined delimiter of CSV input is ','\u001b[0m\n",
      "\u001b[34m[2019-12-31:14:19:28:INFO] Sniff delimiter as ','\u001b[0m\n",
      "\u001b[34m[2019-12-31:14:19:28:INFO] Determined delimiter of CSV input is ','\u001b[0m\n",
      "\u001b[34m[2019-12-31:14:19:28:INFO] Sniff delimiter as ','\u001b[0m\n",
      "\u001b[34m[2019-12-31:14:19:28:INFO] Determined delimiter of CSV input is ','\u001b[0m\n",
      "\u001b[35m[2019-12-31:14:19:28:INFO] Sniff delimiter as ','\u001b[0m\n",
      "\u001b[35m[2019-12-31:14:19:28:INFO] Determined delimiter of CSV input is ','\u001b[0m\n",
      "\u001b[35m[2019-12-31:14:19:28:INFO] Sniff delimiter as ','\u001b[0m\n",
      "\u001b[35m[2019-12-31:14:19:28:INFO] Determined delimiter of CSV input is ','\u001b[0m\n",
      "\u001b[34m[2019-12-31:14:19:30:INFO] Sniff delimiter as ','\u001b[0m\n",
      "\u001b[34m[2019-12-31:14:19:30:INFO] Determined delimiter of CSV input is ','\u001b[0m\n",
      "\u001b[35m[2019-12-31:14:19:30:INFO] Sniff delimiter as ','\u001b[0m\n",
      "\u001b[35m[2019-12-31:14:19:30:INFO] Determined delimiter of CSV input is ','\u001b[0m\n",
      "\u001b[34m[2019-12-31:14:19:30:INFO] Sniff delimiter as ','\u001b[0m\n",
      "\u001b[34m[2019-12-31:14:19:30:INFO] Determined delimiter of CSV input is ','\u001b[0m\n",
      "\u001b[35m[2019-12-31:14:19:30:INFO] Sniff delimiter as ','\u001b[0m\n",
      "\u001b[35m[2019-12-31:14:19:30:INFO] Determined delimiter of CSV input is ','\u001b[0m\n",
      "\u001b[34m[2019-12-31:14:19:31:INFO] Sniff delimiter as ','\u001b[0m\n",
      "\u001b[34m[2019-12-31:14:19:31:INFO] Determined delimiter of CSV input is ','\u001b[0m\n",
      "\u001b[34m[2019-12-31:14:19:31:INFO] Sniff delimiter as ','\u001b[0m\n",
      "\u001b[34m[2019-12-31:14:19:31:INFO] Determined delimiter of CSV input is ','\u001b[0m\n",
      "\u001b[35m[2019-12-31:14:19:31:INFO] Sniff delimiter as ','\u001b[0m\n",
      "\u001b[35m[2019-12-31:14:19:31:INFO] Determined delimiter of CSV input is ','\u001b[0m\n",
      "\u001b[35m[2019-12-31:14:19:31:INFO] Sniff delimiter as ','\u001b[0m\n",
      "\u001b[35m[2019-12-31:14:19:31:INFO] Determined delimiter of CSV input is ','\u001b[0m\n",
      "\u001b[34m[2019-12-31:14:19:32:INFO] Sniff delimiter as ','\u001b[0m\n",
      "\u001b[34m[2019-12-31:14:19:32:INFO] Determined delimiter of CSV input is ','\u001b[0m\n",
      "\u001b[34m[2019-12-31:14:19:32:INFO] Sniff delimiter as ','\u001b[0m\n",
      "\u001b[34m[2019-12-31:14:19:32:INFO] Determined delimiter of CSV input is ','\u001b[0m\n",
      "\u001b[35m[2019-12-31:14:19:32:INFO] Sniff delimiter as ','\u001b[0m\n",
      "\u001b[35m[2019-12-31:14:19:32:INFO] Determined delimiter of CSV input is ','\u001b[0m\n",
      "\u001b[35m[2019-12-31:14:19:32:INFO] Sniff delimiter as ','\u001b[0m\n",
      "\u001b[35m[2019-12-31:14:19:32:INFO] Determined delimiter of CSV input is ','\u001b[0m\n",
      "\u001b[34m[2019-12-31:14:19:33:INFO] Sniff delimiter as ','\u001b[0m\n",
      "\u001b[35m[2019-12-31:14:19:33:INFO] Sniff delimiter as ','\u001b[0m\n",
      "\u001b[34m[2019-12-31:14:19:33:INFO] Determined delimiter of CSV input is ','\u001b[0m\n",
      "\u001b[34m[2019-12-31:14:19:33:INFO] Sniff delimiter as ','\u001b[0m\n",
      "\u001b[34m[2019-12-31:14:19:33:INFO] Determined delimiter of CSV input is ','\u001b[0m\n",
      "\u001b[35m[2019-12-31:14:19:33:INFO] Determined delimiter of CSV input is ','\u001b[0m\n",
      "\u001b[35m[2019-12-31:14:19:33:INFO] Sniff delimiter as ','\u001b[0m\n",
      "\u001b[35m[2019-12-31:14:19:33:INFO] Determined delimiter of CSV input is ','\u001b[0m\n",
      "\u001b[34m[2019-12-31:14:19:35:INFO] Determined delimiter of CSV input is ','\u001b[0m\n",
      "\u001b[34m[2019-12-31:14:19:35:INFO] Sniff delimiter as ','\u001b[0m\n",
      "\u001b[34m[2019-12-31:14:19:35:INFO] Determined delimiter of CSV input is ','\u001b[0m\n",
      "\u001b[34m[2019-12-31:14:19:36:INFO] Sniff delimiter as ','\u001b[0m\n",
      "\u001b[34m[2019-12-31:14:19:36:INFO] Determined delimiter of CSV input is ','\u001b[0m\n",
      "\u001b[35m[2019-12-31:14:19:35:INFO] Determined delimiter of CSV input is ','\u001b[0m\n",
      "\u001b[35m[2019-12-31:14:19:35:INFO] Sniff delimiter as ','\u001b[0m\n",
      "\u001b[35m[2019-12-31:14:19:35:INFO] Determined delimiter of CSV input is ','\u001b[0m\n",
      "\u001b[35m[2019-12-31:14:19:36:INFO] Sniff delimiter as ','\u001b[0m\n",
      "\u001b[35m[2019-12-31:14:19:36:INFO] Determined delimiter of CSV input is ','\u001b[0m\n",
      "\u001b[34m[2019-12-31:14:19:37:INFO] Sniff delimiter as ','\u001b[0m\n",
      "\u001b[34m[2019-12-31:14:19:37:INFO] Determined delimiter of CSV input is ','\u001b[0m\n",
      "\u001b[35m[2019-12-31:14:19:37:INFO] Sniff delimiter as ','\u001b[0m\n",
      "\u001b[35m[2019-12-31:14:19:37:INFO] Determined delimiter of CSV input is ','\u001b[0m\n",
      "\u001b[34m[2019-12-31:14:19:37:INFO] Sniff delimiter as ','\u001b[0m\n",
      "\u001b[34m[2019-12-31:14:19:37:INFO] Determined delimiter of CSV input is ','\u001b[0m\n",
      "\u001b[35m[2019-12-31:14:19:37:INFO] Sniff delimiter as ','\u001b[0m\n",
      "\u001b[35m[2019-12-31:14:19:37:INFO] Determined delimiter of CSV input is ','\u001b[0m\n",
      "\u001b[34m[2019-12-31:14:19:38:INFO] Sniff delimiter as ','\u001b[0m\n",
      "\u001b[34m[2019-12-31:14:19:38:INFO] Determined delimiter of CSV input is ','\u001b[0m\n",
      "\u001b[34m[2019-12-31:14:19:38:INFO] Sniff delimiter as ','\u001b[0m\n",
      "\u001b[34m[2019-12-31:14:19:38:INFO] Determined delimiter of CSV input is ','\u001b[0m\n",
      "\u001b[35m[2019-12-31:14:19:38:INFO] Sniff delimiter as ','\u001b[0m\n",
      "\u001b[35m[2019-12-31:14:19:38:INFO] Determined delimiter of CSV input is ','\u001b[0m\n",
      "\u001b[35m[2019-12-31:14:19:38:INFO] Sniff delimiter as ','\u001b[0m\n",
      "\u001b[35m[2019-12-31:14:19:38:INFO] Determined delimiter of CSV input is ','\u001b[0m\n",
      "\u001b[34m[2019-12-31:14:19:39:INFO] Sniff delimiter as ','\u001b[0m\n",
      "\u001b[34m[2019-12-31:14:19:39:INFO] Determined delimiter of CSV input is ','\u001b[0m\n",
      "\u001b[34m[2019-12-31:14:19:40:INFO] Sniff delimiter as ','\u001b[0m\n",
      "\u001b[34m[2019-12-31:14:19:40:INFO] Determined delimiter of CSV input is ','\u001b[0m\n",
      "\u001b[35m[2019-12-31:14:19:39:INFO] Sniff delimiter as ','\u001b[0m\n",
      "\u001b[35m[2019-12-31:14:19:39:INFO] Determined delimiter of CSV input is ','\u001b[0m\n",
      "\u001b[35m[2019-12-31:14:19:40:INFO] Sniff delimiter as ','\u001b[0m\n",
      "\u001b[35m[2019-12-31:14:19:40:INFO] Determined delimiter of CSV input is ','\u001b[0m\n",
      "\u001b[34m[2019-12-31:14:19:40:INFO] Sniff delimiter as ','\u001b[0m\n",
      "\u001b[34m[2019-12-31:14:19:40:INFO] Determined delimiter of CSV input is ','\u001b[0m\n",
      "\u001b[34m[2019-12-31:14:19:40:INFO] Sniff delimiter as ','\u001b[0m\n",
      "\u001b[34m[2019-12-31:14:19:40:INFO] Determined delimiter of CSV input is ','\u001b[0m\n",
      "\u001b[35m[2019-12-31:14:19:40:INFO] Sniff delimiter as ','\u001b[0m\n",
      "\u001b[35m[2019-12-31:14:19:40:INFO] Determined delimiter of CSV input is ','\u001b[0m\n",
      "\u001b[35m[2019-12-31:14:19:40:INFO] Sniff delimiter as ','\u001b[0m\n",
      "\u001b[35m[2019-12-31:14:19:40:INFO] Determined delimiter of CSV input is ','\u001b[0m\n",
      "\u001b[34m[2019-12-31:14:19:42:INFO] Sniff delimiter as ','\u001b[0m\n",
      "\u001b[34m[2019-12-31:14:19:42:INFO] Determined delimiter of CSV input is ','\u001b[0m\n",
      "\u001b[34m[2019-12-31:14:19:42:INFO] Sniff delimiter as ','\u001b[0m\n",
      "\u001b[34m[2019-12-31:14:19:42:INFO] Determined delimiter of CSV input is ','\u001b[0m\n",
      "\u001b[34m[2019-12-31:14:19:42:INFO] Sniff delimiter as ','\u001b[0m\n",
      "\u001b[34m[2019-12-31:14:19:42:INFO] Determined delimiter of CSV input is ','\u001b[0m\n",
      "\u001b[35m[2019-12-31:14:19:42:INFO] Sniff delimiter as ','\u001b[0m\n",
      "\u001b[35m[2019-12-31:14:19:42:INFO] Determined delimiter of CSV input is ','\u001b[0m\n",
      "\u001b[35m[2019-12-31:14:19:42:INFO] Sniff delimiter as ','\u001b[0m\n",
      "\u001b[35m[2019-12-31:14:19:42:INFO] Determined delimiter of CSV input is ','\u001b[0m\n",
      "\u001b[35m[2019-12-31:14:19:42:INFO] Sniff delimiter as ','\u001b[0m\n",
      "\u001b[35m[2019-12-31:14:19:42:INFO] Determined delimiter of CSV input is ','\u001b[0m\n",
      "\u001b[34m[2019-12-31:14:19:43:INFO] Sniff delimiter as ','\u001b[0m\n",
      "\u001b[34m[2019-12-31:14:19:43:INFO] Determined delimiter of CSV input is ','\u001b[0m\n",
      "\u001b[35m[2019-12-31:14:19:43:INFO] Sniff delimiter as ','\u001b[0m\n",
      "\u001b[35m[2019-12-31:14:19:43:INFO] Determined delimiter of CSV input is ','\u001b[0m\n"
     ]
    },
    {
     "name": "stdout",
     "output_type": "stream",
     "text": [
      "\n",
      "\u001b[34m[2019-12-31:14:19:44:INFO] Sniff delimiter as ','\u001b[0m\n",
      "\u001b[34m[2019-12-31:14:19:44:INFO] Determined delimiter of CSV input is ','\u001b[0m\n",
      "\u001b[35m[2019-12-31:14:19:44:INFO] Sniff delimiter as ','\u001b[0m\n",
      "\u001b[35m[2019-12-31:14:19:44:INFO] Determined delimiter of CSV input is ','\u001b[0m\n",
      "\u001b[34m[2019-12-31:14:19:45:INFO] Sniff delimiter as ','\u001b[0m\n",
      "\u001b[34m[2019-12-31:14:19:45:INFO] Determined delimiter of CSV input is ','\u001b[0m\n",
      "\u001b[34m[2019-12-31:14:19:45:INFO] Sniff delimiter as ','\u001b[0m\n",
      "\u001b[34m[2019-12-31:14:19:45:INFO] Determined delimiter of CSV input is ','\u001b[0m\n",
      "\u001b[35m[2019-12-31:14:19:45:INFO] Sniff delimiter as ','\u001b[0m\n",
      "\u001b[35m[2019-12-31:14:19:45:INFO] Determined delimiter of CSV input is ','\u001b[0m\n",
      "\u001b[35m[2019-12-31:14:19:45:INFO] Sniff delimiter as ','\u001b[0m\n",
      "\u001b[35m[2019-12-31:14:19:45:INFO] Determined delimiter of CSV input is ','\u001b[0m\n",
      "\u001b[34m[2019-12-31:14:19:46:INFO] Sniff delimiter as ','\u001b[0m\n",
      "\u001b[35m[2019-12-31:14:19:46:INFO] Sniff delimiter as ','\u001b[0m\n",
      "\u001b[34m[2019-12-31:14:19:46:INFO] Determined delimiter of CSV input is ','\u001b[0m\n",
      "\u001b[35m[2019-12-31:14:19:46:INFO] Determined delimiter of CSV input is ','\u001b[0m\n",
      "\u001b[34m[2019-12-31:14:19:47:INFO] Sniff delimiter as ','\u001b[0m\n",
      "\u001b[34m[2019-12-31:14:19:47:INFO] Determined delimiter of CSV input is ','\u001b[0m\n",
      "\u001b[35m[2019-12-31:14:19:47:INFO] Sniff delimiter as ','\u001b[0m\n",
      "\u001b[35m[2019-12-31:14:19:47:INFO] Determined delimiter of CSV input is ','\u001b[0m\n"
     ]
    }
   ],
   "source": [
    "# TODO: Using new_xgb_transformer, transform the new_data_location data. You may wish to\n",
    "#       'wait' for the transform job to finish.\n",
    "new_xgb_transformer.transform(new_data_location, content_type='text/csv', split_type='Line')\n",
    "new_xgb_transformer.wait()"
   ]
  },
  {
   "cell_type": "markdown",
   "metadata": {
    "colab_type": "text",
    "id": "04jReX8AM99W"
   },
   "source": [
    "Copy the results to our local instance."
   ]
  },
  {
   "cell_type": "code",
   "execution_count": 62,
   "metadata": {
    "colab": {},
    "colab_type": "code",
    "id": "FMl0Jl0lM99Y"
   },
   "outputs": [
    {
     "name": "stdout",
     "output_type": "stream",
     "text": [
      "Completed 256.0 KiB/366.8 KiB (1.0 MiB/s) with 1 file(s) remaining\r",
      "Completed 366.8 KiB/366.8 KiB (1.5 MiB/s) with 1 file(s) remaining\r",
      "download: s3://sagemaker-us-east-1-479756289622/xgboost-2019-12-31-14-15-26-885/new_data.csv.out to ../data/sentiment_update/new_data.csv.out\r\n"
     ]
    }
   ],
   "source": [
    "!aws s3 cp --recursive $new_xgb_transformer.output_path $data_dir"
   ]
  },
  {
   "cell_type": "markdown",
   "metadata": {
    "colab_type": "text",
    "id": "WQ_MBA_3M99b"
   },
   "source": [
    "And see how well the model did."
   ]
  },
  {
   "cell_type": "code",
   "execution_count": 63,
   "metadata": {
    "colab": {},
    "colab_type": "code",
    "id": "1pjWtN-pM99c"
   },
   "outputs": [],
   "source": [
    "predictions = pd.read_csv(os.path.join(data_dir, 'new_data.csv.out'), header=None)\n",
    "predictions = [round(num) for num in predictions.squeeze().values]"
   ]
  },
  {
   "cell_type": "code",
   "execution_count": 64,
   "metadata": {
    "colab": {},
    "colab_type": "code",
    "id": "k3ZsJHOPM99e"
   },
   "outputs": [
    {
     "data": {
      "text/plain": [
       "0.8634"
      ]
     },
     "execution_count": 64,
     "metadata": {},
     "output_type": "execute_result"
    }
   ],
   "source": [
    "accuracy_score(new_Y, predictions)"
   ]
  },
  {
   "cell_type": "markdown",
   "metadata": {
    "colab_type": "text",
    "id": "aFmMniqPM99h"
   },
   "source": [
    "As expected, since we trained the model on this data, our model performs pretty well. So, we have reason to believe that our new XGBoost model is a \"better\" model.\n",
    "\n",
    "However, before we start changing our deployed model, we should first make sure that our new model isn't too different. In other words, if our new model performed really poorly on the original test data then this might be an indication that something else has gone wrong.\n",
    "\n",
    "To start with, since we got rid of the variable that stored the original test reviews, we will read them in again from the cache that we created in Step 3. Note that we need to make sure that we read in the original test data after it has been pre-processed with `nltk` but before it has been bag of words encoded. This is because we need to use the new vocabulary instead of the original one."
   ]
  },
  {
   "cell_type": "code",
   "execution_count": 65,
   "metadata": {
    "colab": {},
    "colab_type": "code",
    "id": "awklSVYIM99h"
   },
   "outputs": [
    {
     "name": "stdout",
     "output_type": "stream",
     "text": [
      "Read preprocessed data from cache file: preprocessed_data.pkl\n"
     ]
    }
   ],
   "source": [
    "cache_data = None\n",
    "with open(os.path.join(cache_dir, \"preprocessed_data.pkl\"), \"rb\") as f:\n",
    "            cache_data = pickle.load(f)\n",
    "            print(\"Read preprocessed data from cache file:\", \"preprocessed_data.pkl\")\n",
    "            \n",
    "test_X = cache_data['words_test']\n",
    "test_Y = cache_data['labels_test']\n",
    "\n",
    "# Here we set cache_data to None so that it doesn't occupy memory\n",
    "cache_data = None"
   ]
  },
  {
   "cell_type": "markdown",
   "metadata": {
    "colab_type": "text",
    "id": "xn-pG1iTM99j"
   },
   "source": [
    "Once we've loaded the original test reviews, we need to create a bag of words encoding of them using the new vocabulary that we created, based on the new data.\n",
    "\n",
    "**TODO:** Transform the original test data using the new vocabulary."
   ]
  },
  {
   "cell_type": "code",
   "execution_count": 66,
   "metadata": {
    "colab": {},
    "colab_type": "code",
    "id": "sILv1I6AM99k"
   },
   "outputs": [],
   "source": [
    "# TODO: Use the new_vectorizer object that you created earlier to transform the test_X data.\n",
    "test_X = new_vectorizer.transform(test_X).toarray()"
   ]
  },
  {
   "cell_type": "markdown",
   "metadata": {
    "colab_type": "text",
    "id": "GtwK8nzbM99x"
   },
   "source": [
    "Now that we have correctly encoded the original test data, we can write it to the local instance, upload it to S3 and test it."
   ]
  },
  {
   "cell_type": "code",
   "execution_count": 67,
   "metadata": {
    "colab": {},
    "colab_type": "code",
    "id": "RgHI1Sp-M99y"
   },
   "outputs": [],
   "source": [
    "pd.DataFrame(test_X).to_csv(os.path.join(data_dir, 'test.csv'), header=False, index=False)"
   ]
  },
  {
   "cell_type": "code",
   "execution_count": 68,
   "metadata": {
    "colab": {},
    "colab_type": "code",
    "id": "8p1fh4pqM991"
   },
   "outputs": [],
   "source": [
    "test_location = session.upload_data(os.path.join(data_dir, 'test.csv'), key_prefix=prefix)"
   ]
  },
  {
   "cell_type": "code",
   "execution_count": 69,
   "metadata": {
    "colab": {},
    "colab_type": "code",
    "id": "c0Xmk6N5M994"
   },
   "outputs": [
    {
     "name": "stdout",
     "output_type": "stream",
     "text": [
      ".....................\u001b[34mArguments: serve\u001b[0m\n",
      "\u001b[34m[2019-12-31 14:25:51 +0000] [1] [INFO] Starting gunicorn 19.7.1\u001b[0m\n",
      "\u001b[34m[2019-12-31 14:25:51 +0000] [1] [INFO] Listening at: http://0.0.0.0:8080 (1)\u001b[0m\n",
      "\u001b[34m[2019-12-31 14:25:51 +0000] [1] [INFO] Using worker: gevent\u001b[0m\n",
      "\u001b[34m[2019-12-31 14:25:51 +0000] [38] [INFO] Booting worker with pid: 38\u001b[0m\n",
      "\u001b[34m[2019-12-31 14:25:51 +0000] [39] [INFO] Booting worker with pid: 39\u001b[0m\n",
      "\u001b[34m[2019-12-31 14:25:51 +0000] [40] [INFO] Booting worker with pid: 40\u001b[0m\n",
      "\u001b[34m[2019-12-31 14:25:51 +0000] [41] [INFO] Booting worker with pid: 41\u001b[0m\n",
      "\u001b[34m[2019-12-31:14:25:51:INFO] Model loaded successfully for worker : 38\u001b[0m\n",
      "\u001b[34m[2019-12-31:14:25:51:INFO] Model loaded successfully for worker : 39\u001b[0m\n",
      "\u001b[34m[2019-12-31:14:25:51:INFO] Model loaded successfully for worker : 40\u001b[0m\n",
      "\u001b[34m[2019-12-31:14:25:51:INFO] Model loaded successfully for worker : 41\u001b[0m\n",
      "\u001b[32m2019-12-31T14:26:29.361:[sagemaker logs]: MaxConcurrentTransforms=4, MaxPayloadInMB=6, BatchStrategy=MULTI_RECORD\u001b[0m\n",
      "\u001b[34m[2019-12-31:14:26:32:INFO] Sniff delimiter as ','\u001b[0m\n",
      "\u001b[34m[2019-12-31:14:26:32:INFO] Determined delimiter of CSV input is ','\u001b[0m\n",
      "\u001b[34m[2019-12-31:14:26:32:INFO] Sniff delimiter as ','\u001b[0m\n",
      "\u001b[35m[2019-12-31:14:26:32:INFO] Sniff delimiter as ','\u001b[0m\n",
      "\u001b[35m[2019-12-31:14:26:32:INFO] Determined delimiter of CSV input is ','\u001b[0m\n",
      "\u001b[35m[2019-12-31:14:26:32:INFO] Sniff delimiter as ','\u001b[0m\n",
      "\u001b[34m[2019-12-31:14:26:32:INFO] Determined delimiter of CSV input is ','\u001b[0m\n",
      "\u001b[34m[2019-12-31:14:26:32:INFO] Sniff delimiter as ','\u001b[0m\n",
      "\u001b[34m[2019-12-31:14:26:32:INFO] Determined delimiter of CSV input is ','\u001b[0m\n",
      "\u001b[34m[2019-12-31:14:26:32:INFO] Sniff delimiter as ','\u001b[0m\n",
      "\u001b[34m[2019-12-31:14:26:32:INFO] Determined delimiter of CSV input is ','\u001b[0m\n",
      "\u001b[35m[2019-12-31:14:26:32:INFO] Determined delimiter of CSV input is ','\u001b[0m\n",
      "\u001b[35m[2019-12-31:14:26:32:INFO] Sniff delimiter as ','\u001b[0m\n",
      "\u001b[35m[2019-12-31:14:26:32:INFO] Determined delimiter of CSV input is ','\u001b[0m\n",
      "\u001b[35m[2019-12-31:14:26:32:INFO] Sniff delimiter as ','\u001b[0m\n",
      "\u001b[35m[2019-12-31:14:26:32:INFO] Determined delimiter of CSV input is ','\u001b[0m\n",
      "\u001b[34m[2019-12-31:14:26:34:INFO] Sniff delimiter as ','\u001b[0m\n",
      "\u001b[34m[2019-12-31:14:26:34:INFO] Determined delimiter of CSV input is ','\u001b[0m\n",
      "\u001b[34m[2019-12-31:14:26:34:INFO] Sniff delimiter as ','\u001b[0m\n",
      "\u001b[34m[2019-12-31:14:26:34:INFO] Determined delimiter of CSV input is ','\u001b[0m\n",
      "\u001b[34m[2019-12-31:14:26:34:INFO] Sniff delimiter as ','\u001b[0m\n",
      "\u001b[34m[2019-12-31:14:26:34:INFO] Determined delimiter of CSV input is ','\u001b[0m\n",
      "\u001b[35m[2019-12-31:14:26:34:INFO] Sniff delimiter as ','\u001b[0m\n",
      "\u001b[35m[2019-12-31:14:26:34:INFO] Determined delimiter of CSV input is ','\u001b[0m\n",
      "\u001b[35m[2019-12-31:14:26:34:INFO] Sniff delimiter as ','\u001b[0m\n",
      "\u001b[35m[2019-12-31:14:26:34:INFO] Determined delimiter of CSV input is ','\u001b[0m\n",
      "\u001b[35m[2019-12-31:14:26:34:INFO] Sniff delimiter as ','\u001b[0m\n",
      "\u001b[35m[2019-12-31:14:26:34:INFO] Determined delimiter of CSV input is ','\u001b[0m\n",
      "\u001b[34m[2019-12-31:14:26:34:INFO] Sniff delimiter as ','\u001b[0m\n",
      "\u001b[34m[2019-12-31:14:26:34:INFO] Determined delimiter of CSV input is ','\u001b[0m\n",
      "\u001b[35m[2019-12-31:14:26:34:INFO] Sniff delimiter as ','\u001b[0m\n",
      "\u001b[35m[2019-12-31:14:26:34:INFO] Determined delimiter of CSV input is ','\u001b[0m\n",
      "\u001b[34m[2019-12-31:14:26:37:INFO] Sniff delimiter as ','\u001b[0m\n",
      "\u001b[34m[2019-12-31:14:26:37:INFO] Determined delimiter of CSV input is ','\u001b[0m\n",
      "\u001b[34m[2019-12-31:14:26:37:INFO] Sniff delimiter as ','\u001b[0m\n",
      "\u001b[34m[2019-12-31:14:26:37:INFO] Determined delimiter of CSV input is ','\u001b[0m\n",
      "\u001b[35m[2019-12-31:14:26:37:INFO] Sniff delimiter as ','\u001b[0m\n",
      "\u001b[35m[2019-12-31:14:26:37:INFO] Determined delimiter of CSV input is ','\u001b[0m\n",
      "\u001b[35m[2019-12-31:14:26:37:INFO] Sniff delimiter as ','\u001b[0m\n",
      "\u001b[35m[2019-12-31:14:26:37:INFO] Determined delimiter of CSV input is ','\u001b[0m\n",
      "\u001b[34m[2019-12-31:14:26:37:INFO] Sniff delimiter as ','\u001b[0m\n",
      "\u001b[34m[2019-12-31:14:26:37:INFO] Determined delimiter of CSV input is ','\u001b[0m\n",
      "\u001b[34m[2019-12-31:14:26:37:INFO] Sniff delimiter as ','\u001b[0m\n",
      "\u001b[34m[2019-12-31:14:26:37:INFO] Determined delimiter of CSV input is ','\u001b[0m\n",
      "\u001b[35m[2019-12-31:14:26:37:INFO] Sniff delimiter as ','\u001b[0m\n",
      "\u001b[35m[2019-12-31:14:26:37:INFO] Determined delimiter of CSV input is ','\u001b[0m\n",
      "\u001b[35m[2019-12-31:14:26:37:INFO] Sniff delimiter as ','\u001b[0m\n",
      "\u001b[35m[2019-12-31:14:26:37:INFO] Determined delimiter of CSV input is ','\u001b[0m\n",
      "\u001b[34m[2019-12-31:14:26:39:INFO] Sniff delimiter as ','\u001b[0m\n",
      "\u001b[34m[2019-12-31:14:26:39:INFO] Determined delimiter of CSV input is ','\u001b[0m\n",
      "\u001b[35m[2019-12-31:14:26:39:INFO] Sniff delimiter as ','\u001b[0m\n",
      "\u001b[35m[2019-12-31:14:26:39:INFO] Determined delimiter of CSV input is ','\u001b[0m\n",
      "\u001b[34m[2019-12-31:14:26:39:INFO] Sniff delimiter as ','\u001b[0m\n",
      "\u001b[34m[2019-12-31:14:26:39:INFO] Determined delimiter of CSV input is ','\u001b[0m\n",
      "\u001b[34m[2019-12-31:14:26:39:INFO] Sniff delimiter as ','\u001b[0m\n",
      "\u001b[34m[2019-12-31:14:26:39:INFO] Determined delimiter of CSV input is ','\u001b[0m\n",
      "\u001b[34m[2019-12-31:14:26:39:INFO] Sniff delimiter as ','\u001b[0m\n",
      "\u001b[34m[2019-12-31:14:26:39:INFO] Determined delimiter of CSV input is ','\u001b[0m\n",
      "\u001b[35m[2019-12-31:14:26:39:INFO] Sniff delimiter as ','\u001b[0m\n",
      "\u001b[35m[2019-12-31:14:26:39:INFO] Determined delimiter of CSV input is ','\u001b[0m\n",
      "\u001b[35m[2019-12-31:14:26:39:INFO] Sniff delimiter as ','\u001b[0m\n",
      "\u001b[35m[2019-12-31:14:26:39:INFO] Determined delimiter of CSV input is ','\u001b[0m\n",
      "\u001b[35m[2019-12-31:14:26:39:INFO] Sniff delimiter as ','\u001b[0m\n",
      "\u001b[35m[2019-12-31:14:26:39:INFO] Determined delimiter of CSV input is ','\u001b[0m\n",
      "\u001b[34m[2019-12-31:14:26:41:INFO] Sniff delimiter as ','\u001b[0m\n",
      "\u001b[34m[2019-12-31:14:26:41:INFO] Determined delimiter of CSV input is ','\u001b[0m\n",
      "\u001b[34m[2019-12-31:14:26:41:INFO] Sniff delimiter as ','\u001b[0m\n",
      "\u001b[34m[2019-12-31:14:26:41:INFO] Determined delimiter of CSV input is ','\u001b[0m\n",
      "\u001b[34m[2019-12-31:14:26:41:INFO] Sniff delimiter as ','\u001b[0m\n",
      "\u001b[34m[2019-12-31:14:26:41:INFO] Determined delimiter of CSV input is ','\u001b[0m\n",
      "\u001b[35m[2019-12-31:14:26:41:INFO] Sniff delimiter as ','\u001b[0m\n",
      "\u001b[35m[2019-12-31:14:26:41:INFO] Determined delimiter of CSV input is ','\u001b[0m\n",
      "\u001b[35m[2019-12-31:14:26:41:INFO] Sniff delimiter as ','\u001b[0m\n",
      "\u001b[35m[2019-12-31:14:26:41:INFO] Determined delimiter of CSV input is ','\u001b[0m\n",
      "\u001b[35m[2019-12-31:14:26:41:INFO] Sniff delimiter as ','\u001b[0m\n",
      "\u001b[35m[2019-12-31:14:26:41:INFO] Determined delimiter of CSV input is ','\u001b[0m\n",
      "\u001b[34m[2019-12-31:14:26:44:INFO] Sniff delimiter as ','\u001b[0m\n",
      "\u001b[34m[2019-12-31:14:26:44:INFO] Determined delimiter of CSV input is ','\u001b[0m\n",
      "\u001b[35m[2019-12-31:14:26:44:INFO] Sniff delimiter as ','\u001b[0m\n",
      "\u001b[35m[2019-12-31:14:26:44:INFO] Determined delimiter of CSV input is ','\u001b[0m\n",
      "\u001b[34m[2019-12-31:14:26:45:INFO] Sniff delimiter as ','\u001b[0m\n",
      "\u001b[34m[2019-12-31:14:26:45:INFO] Determined delimiter of CSV input is ','\u001b[0m\n",
      "\u001b[34m[2019-12-31:14:26:45:INFO] Sniff delimiter as ','\u001b[0m\n",
      "\u001b[34m[2019-12-31:14:26:45:INFO] Determined delimiter of CSV input is ','\u001b[0m\n",
      "\u001b[35m[2019-12-31:14:26:45:INFO] Sniff delimiter as ','\u001b[0m\n",
      "\u001b[35m[2019-12-31:14:26:45:INFO] Determined delimiter of CSV input is ','\u001b[0m\n",
      "\u001b[35m[2019-12-31:14:26:45:INFO] Sniff delimiter as ','\u001b[0m\n",
      "\u001b[35m[2019-12-31:14:26:45:INFO] Determined delimiter of CSV input is ','\u001b[0m\n",
      "\u001b[34m[2019-12-31:14:26:47:INFO] Sniff delimiter as ','\u001b[0m\n",
      "\u001b[34m[2019-12-31:14:26:47:INFO] Determined delimiter of CSV input is ','\u001b[0m\n",
      "\u001b[34m[2019-12-31:14:26:47:INFO] Sniff delimiter as ','\u001b[0m\n",
      "\u001b[34m[2019-12-31:14:26:47:INFO] Determined delimiter of CSV input is ','\u001b[0m\n",
      "\u001b[34m[2019-12-31:14:26:47:INFO] Sniff delimiter as ','\u001b[0m\n",
      "\u001b[34m[2019-12-31:14:26:47:INFO] Determined delimiter of CSV input is ','\u001b[0m\n",
      "\u001b[34m[2019-12-31:14:26:47:INFO] Sniff delimiter as ','\u001b[0m\n",
      "\u001b[35m[2019-12-31:14:26:47:INFO] Sniff delimiter as ','\u001b[0m\n",
      "\u001b[35m[2019-12-31:14:26:47:INFO] Determined delimiter of CSV input is ','\u001b[0m\n",
      "\u001b[35m[2019-12-31:14:26:47:INFO] Sniff delimiter as ','\u001b[0m\n",
      "\u001b[35m[2019-12-31:14:26:47:INFO] Determined delimiter of CSV input is ','\u001b[0m\n",
      "\u001b[35m[2019-12-31:14:26:47:INFO] Sniff delimiter as ','\u001b[0m\n",
      "\u001b[35m[2019-12-31:14:26:47:INFO] Determined delimiter of CSV input is ','\u001b[0m\n",
      "\u001b[35m[2019-12-31:14:26:47:INFO] Sniff delimiter as ','\u001b[0m\n",
      "\u001b[34m[2019-12-31:14:26:47:INFO] Determined delimiter of CSV input is ','\u001b[0m\n",
      "\u001b[35m[2019-12-31:14:26:47:INFO] Determined delimiter of CSV input is ','\u001b[0m\n",
      "\n",
      "\u001b[34m[2019-12-31:14:26:49:INFO] Determined delimiter of CSV input is ','\u001b[0m\n",
      "\u001b[34m[2019-12-31:14:26:49:INFO] Sniff delimiter as ','\u001b[0m\n",
      "\u001b[34m[2019-12-31:14:26:49:INFO] Determined delimiter of CSV input is ','\u001b[0m\n",
      "\u001b[34m[2019-12-31:14:26:49:INFO] Sniff delimiter as ','\u001b[0m\n",
      "\u001b[34m[2019-12-31:14:26:49:INFO] Determined delimiter of CSV input is ','\u001b[0m\n",
      "\u001b[35m[2019-12-31:14:26:49:INFO] Determined delimiter of CSV input is ','\u001b[0m\n",
      "\u001b[35m[2019-12-31:14:26:49:INFO] Sniff delimiter as ','\u001b[0m\n",
      "\u001b[35m[2019-12-31:14:26:49:INFO] Determined delimiter of CSV input is ','\u001b[0m\n",
      "\u001b[35m[2019-12-31:14:26:49:INFO] Sniff delimiter as ','\u001b[0m\n",
      "\u001b[35m[2019-12-31:14:26:49:INFO] Determined delimiter of CSV input is ','\u001b[0m\n",
      "\u001b[34m[2019-12-31:14:26:49:INFO] Sniff delimiter as ','\u001b[0m\n",
      "\u001b[34m[2019-12-31:14:26:49:INFO] Determined delimiter of CSV input is ','\u001b[0m\n",
      "\u001b[35m[2019-12-31:14:26:49:INFO] Sniff delimiter as ','\u001b[0m\n",
      "\u001b[35m[2019-12-31:14:26:49:INFO] Determined delimiter of CSV input is ','\u001b[0m\n",
      "\u001b[34m[2019-12-31:14:26:51:INFO] Sniff delimiter as ','\u001b[0m\n",
      "\u001b[34m[2019-12-31:14:26:51:INFO] Determined delimiter of CSV input is ','\u001b[0m\n",
      "\u001b[35m[2019-12-31:14:26:51:INFO] Sniff delimiter as ','\u001b[0m\n",
      "\u001b[35m[2019-12-31:14:26:51:INFO] Determined delimiter of CSV input is ','\u001b[0m\n",
      "\u001b[34m[2019-12-31:14:26:52:INFO] Sniff delimiter as ','\u001b[0m\n",
      "\u001b[34m[2019-12-31:14:26:52:INFO] Determined delimiter of CSV input is ','\u001b[0m\n",
      "\u001b[34m[2019-12-31:14:26:52:INFO] Sniff delimiter as ','\u001b[0m\n",
      "\u001b[34m[2019-12-31:14:26:52:INFO] Determined delimiter of CSV input is ','\u001b[0m\n",
      "\u001b[34m[2019-12-31:14:26:52:INFO] Sniff delimiter as ','\u001b[0m\n",
      "\u001b[34m[2019-12-31:14:26:52:INFO] Determined delimiter of CSV input is ','\u001b[0m\n",
      "\u001b[35m[2019-12-31:14:26:52:INFO] Sniff delimiter as ','\u001b[0m\n",
      "\u001b[35m[2019-12-31:14:26:52:INFO] Determined delimiter of CSV input is ','\u001b[0m\n",
      "\u001b[35m[2019-12-31:14:26:52:INFO] Sniff delimiter as ','\u001b[0m\n",
      "\u001b[35m[2019-12-31:14:26:52:INFO] Determined delimiter of CSV input is ','\u001b[0m\n",
      "\u001b[35m[2019-12-31:14:26:52:INFO] Sniff delimiter as ','\u001b[0m\n",
      "\u001b[35m[2019-12-31:14:26:52:INFO] Determined delimiter of CSV input is ','\u001b[0m\n",
      "\u001b[34m[2019-12-31:14:26:54:INFO] Sniff delimiter as ','\u001b[0m\n",
      "\u001b[34m[2019-12-31:14:26:54:INFO] Determined delimiter of CSV input is ','\u001b[0m\n",
      "\u001b[34m[2019-12-31:14:26:54:INFO] Sniff delimiter as ','\u001b[0m\n",
      "\u001b[34m[2019-12-31:14:26:54:INFO] Determined delimiter of CSV input is ','\u001b[0m\n",
      "\u001b[34m[2019-12-31:14:26:54:INFO] Sniff delimiter as ','\u001b[0m\n",
      "\u001b[34m[2019-12-31:14:26:54:INFO] Determined delimiter of CSV input is ','\u001b[0m\n",
      "\u001b[35m[2019-12-31:14:26:54:INFO] Sniff delimiter as ','\u001b[0m\n",
      "\u001b[35m[2019-12-31:14:26:54:INFO] Determined delimiter of CSV input is ','\u001b[0m\n",
      "\u001b[35m[2019-12-31:14:26:54:INFO] Sniff delimiter as ','\u001b[0m\n",
      "\u001b[35m[2019-12-31:14:26:54:INFO] Determined delimiter of CSV input is ','\u001b[0m\n",
      "\u001b[35m[2019-12-31:14:26:54:INFO] Sniff delimiter as ','\u001b[0m\n",
      "\u001b[35m[2019-12-31:14:26:54:INFO] Determined delimiter of CSV input is ','\u001b[0m\n"
     ]
    }
   ],
   "source": [
    "new_xgb_transformer.transform(test_location, content_type='text/csv', split_type='Line')\n",
    "new_xgb_transformer.wait()"
   ]
  },
  {
   "cell_type": "code",
   "execution_count": 70,
   "metadata": {
    "colab": {},
    "colab_type": "code",
    "id": "qYo5qm5nM99_"
   },
   "outputs": [
    {
     "name": "stdout",
     "output_type": "stream",
     "text": [
      "Completed 256.0 KiB/367.3 KiB (3.8 MiB/s) with 1 file(s) remaining\r",
      "Completed 367.3 KiB/367.3 KiB (5.2 MiB/s) with 1 file(s) remaining\r",
      "download: s3://sagemaker-us-east-1-479756289622/xgboost-2019-12-31-14-22-32-347/test.csv.out to ../data/sentiment_update/test.csv.out\r\n"
     ]
    }
   ],
   "source": [
    "!aws s3 cp --recursive $new_xgb_transformer.output_path $data_dir"
   ]
  },
  {
   "cell_type": "code",
   "execution_count": 71,
   "metadata": {
    "colab": {},
    "colab_type": "code",
    "id": "L6Hm79oPM9-E"
   },
   "outputs": [],
   "source": [
    "predictions = pd.read_csv(os.path.join(data_dir, 'test.csv.out'), header=None)\n",
    "predictions = [round(num) for num in predictions.squeeze().values]"
   ]
  },
  {
   "cell_type": "code",
   "execution_count": 72,
   "metadata": {
    "colab": {},
    "colab_type": "code",
    "id": "g1_F1P0dM9-G"
   },
   "outputs": [
    {
     "data": {
      "text/plain": [
       "0.8418"
      ]
     },
     "execution_count": 72,
     "metadata": {},
     "output_type": "execute_result"
    }
   ],
   "source": [
    "accuracy_score(test_Y, predictions)"
   ]
  },
  {
   "cell_type": "markdown",
   "metadata": {
    "colab_type": "text",
    "id": "csaCN6CaM9-J"
   },
   "source": [
    "It would appear that our new XGBoost model is performing quite well on the old test data. This gives us some indication that our new model should be put into production and replace our original model."
   ]
  },
  {
   "cell_type": "markdown",
   "metadata": {
    "colab_type": "text",
    "id": "kVVvAt5pM9-K"
   },
   "source": [
    "## Step 6: (TODO) Updating the Model\n",
    "\n",
    "So we have a new model that we'd like to use instead of one that is already deployed. Furthermore, we are assuming that the model that is already deployed is being used in some sort of application. As a result, what we want to do is update the existing endpoint so that it uses our new model.\n",
    "\n",
    "Of course, to do this we need to create an endpoint configuration for our newly created model.\n",
    "\n",
    "First, note that we can access the name of the model that we created above using the `model_name` property of the transformer. The reason for this is that in order for the transformer to create a batch transform job it needs to first create the model object inside of SageMaker. Since we've sort of already done this we should take advantage of it."
   ]
  },
  {
   "cell_type": "code",
   "execution_count": 73,
   "metadata": {
    "colab": {},
    "colab_type": "code",
    "id": "d3XAAv6uM9-M"
   },
   "outputs": [
    {
     "data": {
      "text/plain": [
       "'xgboost-2019-12-31-14-09-42-921'"
      ]
     },
     "execution_count": 73,
     "metadata": {},
     "output_type": "execute_result"
    }
   ],
   "source": [
    "new_xgb_transformer.model_name"
   ]
  },
  {
   "cell_type": "markdown",
   "metadata": {
    "colab_type": "text",
    "id": "tf9cUsa4M9-Q"
   },
   "source": [
    "Next, we create an endpoint configuration using the low level approach of creating the dictionary object which describes the endpoint configuration we want.\n",
    "\n",
    "**TODO:** Using the low level approach, create a new endpoint configuration. Don't forget that it needs a name and that the name needs to be unique. If you get stuck, try looking at the Boston Housing Low Level Deployment tutorial notebook."
   ]
  },
  {
   "cell_type": "code",
   "execution_count": 74,
   "metadata": {
    "colab": {},
    "colab_type": "code",
    "id": "0p1G5tG2M9-Q"
   },
   "outputs": [],
   "source": [
    "from time import gmtime, strftime\n",
    "\n",
    "\n",
    "# TODO: Give our endpoint configuration a name. Remember, it needs to be unique.\n",
    "new_xgb_endpoint_config_name = \"newIMDB-endpoint-config-\" + strftime(\"%Y-%m-%d-%H-%M-%S\", gmtime())\n",
    "\n",
    "# TODO: Using the SageMaker Client, construct the endpoint configuration.\n",
    "new_xgb_endpoint_config_info = session.sagemaker_client.create_endpoint_config(\n",
    "                            EndpointConfigName = new_xgb_endpoint_config_name,\n",
    "                            ProductionVariants = [\n",
    "                                { # First we include the linear model\n",
    "                                    \"InstanceType\": \"ml.m4.xlarge\",\n",
    "                                    \"InitialVariantWeight\": 1,\n",
    "                                    \"InitialInstanceCount\": 1,\n",
    "                                    \"ModelName\": new_xgb_transformer.model_name,\n",
    "                                    \"VariantName\": \"XGB-Model\"\n",
    "                                }])"
   ]
  },
  {
   "cell_type": "markdown",
   "metadata": {
    "colab_type": "text",
    "id": "EtYVgWaEM9-W"
   },
   "source": [
    "Once the endpoint configuration has been constructed, it is a straightforward matter to ask SageMaker to update the existing endpoint so that it uses the new endpoint configuration.\n",
    "\n",
    "Of note here is that SageMaker does this in such a way that there is no downtime. Essentially, SageMaker deploys the new model and then updates the original endpoint so that it points to the newly deployed model. After that, the original model is shut down. This way, whatever app is using our endpoint won't notice that we've changed the model that is being used.\n",
    "\n",
    "**TODO:** Use the SageMaker Client to update the endpoint that you deployed earlier."
   ]
  },
  {
   "cell_type": "code",
   "execution_count": 75,
   "metadata": {
    "colab": {},
    "colab_type": "code",
    "id": "hwupu6eCM9-Y"
   },
   "outputs": [
    {
     "data": {
      "text/plain": [
       "{'EndpointArn': 'arn:aws:sagemaker:us-east-1:479756289622:endpoint/xgboost-2019-12-31-13-36-22-197',\n",
       " 'ResponseMetadata': {'RequestId': 'b400a35e-ceea-40ce-9cc1-0cb450a410f4',\n",
       "  'HTTPStatusCode': 200,\n",
       "  'HTTPHeaders': {'x-amzn-requestid': 'b400a35e-ceea-40ce-9cc1-0cb450a410f4',\n",
       "   'content-type': 'application/x-amz-json-1.1',\n",
       "   'content-length': '99',\n",
       "   'date': 'Tue, 31 Dec 2019 14:27:16 GMT'},\n",
       "  'RetryAttempts': 0}}"
      ]
     },
     "execution_count": 75,
     "metadata": {},
     "output_type": "execute_result"
    }
   ],
   "source": [
    "# TODO: Update the xgb_predictor.endpoint so that it uses new_xgb_endpoint_config_name.\n",
    "session.sagemaker_client.update_endpoint(EndpointName=xgb_predictor.endpoint, EndpointConfigName=new_xgb_endpoint_config_name)"
   ]
  },
  {
   "cell_type": "markdown",
   "metadata": {
    "colab_type": "text",
    "id": "rx70LI-IM9-a"
   },
   "source": [
    "And, as is generally the case with SageMaker requests, this is being done in the background so if we want to wait for it to complete we need to call the appropriate method."
   ]
  },
  {
   "cell_type": "code",
   "execution_count": null,
   "metadata": {
    "colab": {},
    "colab_type": "code",
    "id": "prR5aiJjM9-b"
   },
   "outputs": [
    {
     "name": "stdout",
     "output_type": "stream",
     "text": [
      "--------------------"
     ]
    }
   ],
   "source": [
    "session.wait_for_endpoint(xgb_predictor.endpoint)"
   ]
  },
  {
   "cell_type": "markdown",
   "metadata": {
    "colab_type": "text",
    "id": "Ho1U6mErM9-h"
   },
   "source": [
    "## Step 7: Delete the Endpoint\n",
    "\n",
    "Of course, since we are done with the deployed endpoint we need to make sure to shut it down, otherwise we will continue to be charged for it."
   ]
  },
  {
   "cell_type": "code",
   "execution_count": 77,
   "metadata": {
    "colab": {},
    "colab_type": "code",
    "id": "zyyTuozRM9-i"
   },
   "outputs": [],
   "source": [
    "xgb_predictor.delete_endpoint()"
   ]
  },
  {
   "cell_type": "markdown",
   "metadata": {
    "colab_type": "text",
    "id": "cH1M8W0AM9-j"
   },
   "source": [
    "## Some Additional Questions\n",
    "\n",
    "This notebook is a little different from the other notebooks in this module. In part, this is because it is meant to be a little bit closer to the type of problem you may face in a real world scenario. Of course, this problem is a very easy one with a prescribed solution, but there are many other interesting questions that we did not consider here and that you may wish to consider yourself.\n",
    "\n",
    "For example,\n",
    "- What other ways could the underlying distribution change?\n",
    "- Is it a good idea to re-train the model using only the new data?\n",
    "- What would change if the quantity of new data wasn't large. Say you only received 500 samples?\n"
   ]
  },
  {
   "cell_type": "markdown",
   "metadata": {
    "colab_type": "text",
    "id": "bIKBNmWfM9-k"
   },
   "source": [
    "## Optional: Clean up\n",
    "\n",
    "The default notebook instance on SageMaker doesn't have a lot of excess disk space available. As you continue to complete and execute notebooks you will eventually fill up this disk space, leading to errors which can be difficult to diagnose. Once you are completely finished using a notebook it is a good idea to remove the files that you created along the way. Of course, you can do this from the terminal or from the notebook hub if you would like. The cell below contains some commands to clean up the created files from within the notebook."
   ]
  },
  {
   "cell_type": "code",
   "execution_count": 78,
   "metadata": {
    "colab": {},
    "colab_type": "code",
    "id": "IoAiiY5KM9-k"
   },
   "outputs": [],
   "source": [
    "# First we will remove all of the files contained in the data_dir directory\n",
    "!rm $data_dir/*\n",
    "\n",
    "# And then we delete the directory itself\n",
    "!rmdir $data_dir\n",
    "\n",
    "# Similarly we will remove the files in the cache_dir directory and the directory itself\n",
    "!rm $cache_dir/*\n",
    "!rmdir $cache_dir"
   ]
  },
  {
   "cell_type": "code",
   "execution_count": 0,
   "metadata": {
    "colab": {},
    "colab_type": "code",
    "id": "06v_YusmM9-n"
   },
   "outputs": [],
   "source": []
  }
 ],
 "metadata": {
  "colab": {
   "collapsed_sections": [
    "mB56I9wgM94k",
    "ilMxu3OTM95S",
    "EtpyFm0tM95Z",
    "LsDRi6PFM95o"
   ],
   "name": "Copy of IMDB Sentiment Analysis - XGBoost (Updating a Model).ipynb",
   "provenance": []
  },
  "kernelspec": {
   "display_name": "conda_pytorch_p36",
   "language": "python",
   "name": "conda_pytorch_p36"
  },
  "language_info": {
   "codemirror_mode": {
    "name": "ipython",
    "version": 3
   },
   "file_extension": ".py",
   "mimetype": "text/x-python",
   "name": "python",
   "nbconvert_exporter": "python",
   "pygments_lexer": "ipython3",
   "version": "3.6.5"
  }
 },
 "nbformat": 4,
 "nbformat_minor": 1
}
