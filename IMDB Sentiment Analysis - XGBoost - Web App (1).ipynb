{
 "cells": [
  {
   "cell_type": "markdown",
   "metadata": {},
   "source": [
    "# Sentiment Analysis Web App\n",
    "\n",
    "_Deep Learning Nanodegree Program | Deployment_\n",
    "\n",
    "---\n",
    "\n",
    "In this notebook we will use Amazon's SageMaker service to construct a random tree model to predict the sentiment of a movie review. In addition, we will deploy this model to an endpoint and construct a very simple web app which will interact with our model's deployed endpoint.\n",
    "\n",
    "## General Outline\n",
    "\n",
    "Typically, when using a notebook instance with SageMaker, you will proceed through the following steps. Of course, not every step will need to be done with each project. Also, there is quite a lot of room for variation in many of the steps, as you will see throughout these lessons.\n",
    "\n",
    "1. Download or otherwise retrieve the data.\n",
    "2. Process / Prepare the data.\n",
    "3. Upload the processed data to S3.\n",
    "4. Train a chosen model.\n",
    "5. Test the trained model (typically using a batch transform job).\n",
    "6. Deploy the trained model.\n",
    "7. Use the deployed model.\n",
    "\n",
    "In this notebook we will progress through each of the steps above. We will also see that the final step, using the deployed model, can be quite challenging."
   ]
  },
  {
   "cell_type": "markdown",
   "metadata": {},
   "source": [
    "## Step 1: Downloading the data\n",
    "\n",
    "The dataset we are going to use is very popular among researchers in Natural Language Processing, usually referred to as the [IMDb dataset](http://ai.stanford.edu/~amaas/data/sentiment/). It consists of movie reviews from the website [imdb.com](http://www.imdb.com/), each labeled as either '**pos**itive', if the reviewer enjoyed the film, or '**neg**ative' otherwise.\n",
    "\n",
    "> Maas, Andrew L., et al. [Learning Word Vectors for Sentiment Analysis](http://ai.stanford.edu/~amaas/data/sentiment/). In _Proceedings of the 49th Annual Meeting of the Association for Computational Linguistics: Human Language Technologies_. Association for Computational Linguistics, 2011.\n",
    "\n",
    "We begin by using some Jupyter Notebook magic to download and extract the dataset."
   ]
  },
  {
   "cell_type": "code",
   "execution_count": 1,
   "metadata": {},
   "outputs": [
    {
     "name": "stdout",
     "output_type": "stream",
     "text": [
      "mkdir: cannot create directory ‘../data’: File exists\n",
      "--2019-12-31 12:26:46--  http://ai.stanford.edu/~amaas/data/sentiment/aclImdb_v1.tar.gz\n",
      "Resolving ai.stanford.edu (ai.stanford.edu)... 171.64.68.10\n",
      "Connecting to ai.stanford.edu (ai.stanford.edu)|171.64.68.10|:80... connected.\n",
      "HTTP request sent, awaiting response... 200 OK\n",
      "Length: 84125825 (80M) [application/x-gzip]\n",
      "Saving to: ‘../data/aclImdb_v1.tar.gz’\n",
      "\n",
      "../data/aclImdb_v1. 100%[===================>]  80.23M  21.8MB/s    in 5.5s    \n",
      "\n",
      "2019-12-31 12:26:52 (14.6 MB/s) - ‘../data/aclImdb_v1.tar.gz’ saved [84125825/84125825]\n",
      "\n"
     ]
    }
   ],
   "source": [
    "%mkdir ../data\n",
    "!wget -O ../data/aclImdb_v1.tar.gz http://ai.stanford.edu/~amaas/data/sentiment/aclImdb_v1.tar.gz\n",
    "!tar -zxf ../data/aclImdb_v1.tar.gz -C ../data"
   ]
  },
  {
   "cell_type": "markdown",
   "metadata": {},
   "source": [
    "## Step 2: Preparing and Processing the data\n",
    "\n",
    "The data we have downloaded is split into various files, each of which contains a single review. It will be much easier going forward if we combine these individual files into two large files, one for training and one for testing."
   ]
  },
  {
   "cell_type": "code",
   "execution_count": 2,
   "metadata": {},
   "outputs": [],
   "source": [
    "import os\n",
    "import glob\n",
    "\n",
    "def read_imdb_data(data_dir='../data/aclImdb'):\n",
    "    data = {}\n",
    "    labels = {}\n",
    "    \n",
    "    for data_type in ['train', 'test']:\n",
    "        data[data_type] = {}\n",
    "        labels[data_type] = {}\n",
    "        \n",
    "        for sentiment in ['pos', 'neg']:\n",
    "            data[data_type][sentiment] = []\n",
    "            labels[data_type][sentiment] = []\n",
    "            \n",
    "            path = os.path.join(data_dir, data_type, sentiment, '*.txt')\n",
    "            files = glob.glob(path)\n",
    "            \n",
    "            for f in files:\n",
    "                with open(f) as review:\n",
    "                    data[data_type][sentiment].append(review.read())\n",
    "                    # Here we represent a positive review by '1' and a negative review by '0'\n",
    "                    labels[data_type][sentiment].append(1 if sentiment == 'pos' else 0)\n",
    "                    \n",
    "            assert len(data[data_type][sentiment]) == len(labels[data_type][sentiment]), \\\n",
    "                    \"{}/{} data size does not match labels size\".format(data_type, sentiment)\n",
    "                \n",
    "    return data, labels"
   ]
  },
  {
   "cell_type": "code",
   "execution_count": 3,
   "metadata": {},
   "outputs": [
    {
     "name": "stdout",
     "output_type": "stream",
     "text": [
      "IMDB reviews: train = 12500 pos / 12500 neg, test = 12500 pos / 12500 neg\n"
     ]
    }
   ],
   "source": [
    "data, labels = read_imdb_data()\n",
    "print(\"IMDB reviews: train = {} pos / {} neg, test = {} pos / {} neg\".format(\n",
    "            len(data['train']['pos']), len(data['train']['neg']),\n",
    "            len(data['test']['pos']), len(data['test']['neg'])))"
   ]
  },
  {
   "cell_type": "code",
   "execution_count": 4,
   "metadata": {},
   "outputs": [],
   "source": [
    "from sklearn.utils import shuffle\n",
    "\n",
    "def prepare_imdb_data(data, labels):\n",
    "    \"\"\"Prepare training and test sets from IMDb movie reviews.\"\"\"\n",
    "    \n",
    "    #Combine positive and negative reviews and labels\n",
    "    data_train = data['train']['pos'] + data['train']['neg']\n",
    "    data_test = data['test']['pos'] + data['test']['neg']\n",
    "    labels_train = labels['train']['pos'] + labels['train']['neg']\n",
    "    labels_test = labels['test']['pos'] + labels['test']['neg']\n",
    "    \n",
    "    #Shuffle reviews and corresponding labels within training and test sets\n",
    "    data_train, labels_train = shuffle(data_train, labels_train)\n",
    "    data_test, labels_test = shuffle(data_test, labels_test)\n",
    "    \n",
    "    # Return a unified training data, test data, training labels, test labets\n",
    "    return data_train, data_test, labels_train, labels_test"
   ]
  },
  {
   "cell_type": "code",
   "execution_count": 5,
   "metadata": {},
   "outputs": [
    {
     "name": "stdout",
     "output_type": "stream",
     "text": [
      "IMDb reviews (combined): train = 25000, test = 25000\n"
     ]
    }
   ],
   "source": [
    "train_X, test_X, train_y, test_y = prepare_imdb_data(data, labels)\n",
    "print(\"IMDb reviews (combined): train = {}, test = {}\".format(len(train_X), len(test_X)))"
   ]
  },
  {
   "cell_type": "code",
   "execution_count": 6,
   "metadata": {},
   "outputs": [
    {
     "data": {
      "text/plain": [
       "'I am a fairly big fan of most of the films that have been based on Stephen King\\'s books - this one rates as one of the scariest and most memorable.<br /><br />I have just finished rewatching it for about the tenth time and I still find it heart-wrenching as well as scary.<br /><br />The scene where Gage is on a sure collision course with the monster truck is one which stands out. And the \"No fair\" uttered by little Miko Hughes near the end is a touch of brilliance.<br /><br />'"
      ]
     },
     "execution_count": 6,
     "metadata": {},
     "output_type": "execute_result"
    }
   ],
   "source": [
    "train_X[100]"
   ]
  },
  {
   "cell_type": "markdown",
   "metadata": {},
   "source": [
    "## Processing the data\n",
    "\n",
    "Now that we have our training and testing datasets merged and ready to use, we need to start processing the raw data into something that will be useable by our machine learning algorithm. To begin with, we remove any html formatting and any non-alpha numeric characters that may appear in the reviews. We will do this in a very simplistic way using Python's regular expression module. We will discuss the reason for this rather simplistic pre-processing later on."
   ]
  },
  {
   "cell_type": "code",
   "execution_count": 7,
   "metadata": {},
   "outputs": [],
   "source": [
    "import re\n",
    "\n",
    "REPLACE_NO_SPACE = re.compile(\"(\\.)|(\\;)|(\\:)|(\\!)|(\\')|(\\?)|(\\,)|(\\\")|(\\()|(\\))|(\\[)|(\\])\")\n",
    "REPLACE_WITH_SPACE = re.compile(\"(<br\\s*/><br\\s*/>)|(\\-)|(\\/)\")\n",
    "\n",
    "def review_to_words(review):\n",
    "    words = REPLACE_NO_SPACE.sub(\"\", review.lower())\n",
    "    words = REPLACE_WITH_SPACE.sub(\" \", words)\n",
    "    return words"
   ]
  },
  {
   "cell_type": "code",
   "execution_count": 8,
   "metadata": {},
   "outputs": [
    {
     "data": {
      "text/plain": [
       "'i am a fairly big fan of most of the films that have been based on stephen kings books   this one rates as one of the scariest and most memorable i have just finished rewatching it for about the tenth time and i still find it heart wrenching as well as scary the scene where gage is on a sure collision course with the monster truck is one which stands out and the no fair uttered by little miko hughes near the end is a touch of brilliance '"
      ]
     },
     "execution_count": 8,
     "metadata": {},
     "output_type": "execute_result"
    }
   ],
   "source": [
    "review_to_words(train_X[100])"
   ]
  },
  {
   "cell_type": "code",
   "execution_count": 9,
   "metadata": {},
   "outputs": [],
   "source": [
    "import pickle\n",
    "\n",
    "cache_dir = os.path.join(\"../cache\", \"sentiment_web_app\")  # where to store cache files\n",
    "os.makedirs(cache_dir, exist_ok=True)  # ensure cache directory exists\n",
    "\n",
    "def preprocess_data(data_train, data_test, labels_train, labels_test,\n",
    "                    cache_dir=cache_dir, cache_file=\"preprocessed_data.pkl\"):\n",
    "    \"\"\"Convert each review to words; read from cache if available.\"\"\"\n",
    "\n",
    "    # If cache_file is not None, try to read from it first\n",
    "    cache_data = None\n",
    "    if cache_file is not None:\n",
    "        try:\n",
    "            with open(os.path.join(cache_dir, cache_file), \"rb\") as f:\n",
    "                cache_data = pickle.load(f)\n",
    "            print(\"Read preprocessed data from cache file:\", cache_file)\n",
    "        except:\n",
    "            pass  # unable to read from cache, but that's okay\n",
    "    \n",
    "    # If cache is missing, then do the heavy lifting\n",
    "    if cache_data is None:\n",
    "        # Preprocess training and test data to obtain words for each review\n",
    "        #words_train = list(map(review_to_words, data_train))\n",
    "        #words_test = list(map(review_to_words, data_test))\n",
    "        words_train = [review_to_words(review) for review in data_train]\n",
    "        words_test = [review_to_words(review) for review in data_test]\n",
    "        \n",
    "        # Write to cache file for future runs\n",
    "        if cache_file is not None:\n",
    "            cache_data = dict(words_train=words_train, words_test=words_test,\n",
    "                              labels_train=labels_train, labels_test=labels_test)\n",
    "            with open(os.path.join(cache_dir, cache_file), \"wb\") as f:\n",
    "                pickle.dump(cache_data, f)\n",
    "            print(\"Wrote preprocessed data to cache file:\", cache_file)\n",
    "    else:\n",
    "        # Unpack data loaded from cache file\n",
    "        words_train, words_test, labels_train, labels_test = (cache_data['words_train'],\n",
    "                cache_data['words_test'], cache_data['labels_train'], cache_data['labels_test'])\n",
    "    \n",
    "    return words_train, words_test, labels_train, labels_test"
   ]
  },
  {
   "cell_type": "code",
   "execution_count": 10,
   "metadata": {},
   "outputs": [
    {
     "name": "stdout",
     "output_type": "stream",
     "text": [
      "Wrote preprocessed data to cache file: preprocessed_data.pkl\n"
     ]
    }
   ],
   "source": [
    "# Preprocess data\n",
    "train_X, test_X, train_y, test_y = preprocess_data(train_X, test_X, train_y, test_y)"
   ]
  },
  {
   "cell_type": "markdown",
   "metadata": {},
   "source": [
    "### Extract Bag-of-Words features\n",
    "\n",
    "For the model we will be implementing, rather than using the reviews directly, we are going to transform each review into a Bag-of-Words feature representation. Keep in mind that 'in the wild' we will only have access to the training set so our transformer can only use the training set to construct a representation."
   ]
  },
  {
   "cell_type": "code",
   "execution_count": 11,
   "metadata": {},
   "outputs": [],
   "source": [
    "import numpy as np\n",
    "from sklearn.feature_extraction.text import CountVectorizer\n",
    "from sklearn.externals import joblib\n",
    "# joblib is an enhanced version of pickle that is more efficient for storing NumPy arrays\n",
    "\n",
    "def extract_BoW_features(words_train, words_test, vocabulary_size=5000,\n",
    "                         cache_dir=cache_dir, cache_file=\"bow_features.pkl\"):\n",
    "    \"\"\"Extract Bag-of-Words for a given set of documents, already preprocessed into words.\"\"\"\n",
    "    \n",
    "    # If cache_file is not None, try to read from it first\n",
    "    cache_data = None\n",
    "    if cache_file is not None:\n",
    "        try:\n",
    "            with open(os.path.join(cache_dir, cache_file), \"rb\") as f:\n",
    "                cache_data = joblib.load(f)\n",
    "            print(\"Read features from cache file:\", cache_file)\n",
    "        except:\n",
    "            pass  # unable to read from cache, but that's okay\n",
    "    \n",
    "    # If cache is missing, then do the heavy lifting\n",
    "    if cache_data is None:\n",
    "        # Fit a vectorizer to training documents and use it to transform them\n",
    "        # NOTE: Training documents have already been preprocessed and tokenized into words;\n",
    "        #       pass in dummy functions to skip those steps, e.g. preprocessor=lambda x: x\n",
    "        vectorizer = CountVectorizer(max_features=vocabulary_size)\n",
    "        features_train = vectorizer.fit_transform(words_train).toarray()\n",
    "\n",
    "        # Apply the same vectorizer to transform the test documents (ignore unknown words)\n",
    "        features_test = vectorizer.transform(words_test).toarray()\n",
    "        \n",
    "        # NOTE: Remember to convert the features using .toarray() for a compact representation\n",
    "        \n",
    "        # Write to cache file for future runs (store vocabulary as well)\n",
    "        if cache_file is not None:\n",
    "            vocabulary = vectorizer.vocabulary_\n",
    "            cache_data = dict(features_train=features_train, features_test=features_test,\n",
    "                             vocabulary=vocabulary)\n",
    "            with open(os.path.join(cache_dir, cache_file), \"wb\") as f:\n",
    "                joblib.dump(cache_data, f)\n",
    "            print(\"Wrote features to cache file:\", cache_file)\n",
    "    else:\n",
    "        # Unpack data loaded from cache file\n",
    "        features_train, features_test, vocabulary = (cache_data['features_train'],\n",
    "                cache_data['features_test'], cache_data['vocabulary'])\n",
    "    \n",
    "    # Return both the extracted features as well as the vocabulary\n",
    "    return features_train, features_test, vocabulary"
   ]
  },
  {
   "cell_type": "code",
   "execution_count": 12,
   "metadata": {},
   "outputs": [
    {
     "name": "stdout",
     "output_type": "stream",
     "text": [
      "Wrote features to cache file: bow_features.pkl\n"
     ]
    }
   ],
   "source": [
    "# Extract Bag of Words features for both training and test datasets\n",
    "train_X, test_X, vocabulary = extract_BoW_features(train_X, test_X)"
   ]
  },
  {
   "cell_type": "code",
   "execution_count": 13,
   "metadata": {},
   "outputs": [
    {
     "data": {
      "text/plain": [
       "5000"
      ]
     },
     "execution_count": 13,
     "metadata": {},
     "output_type": "execute_result"
    }
   ],
   "source": [
    "len(train_X[100])"
   ]
  },
  {
   "cell_type": "markdown",
   "metadata": {},
   "source": [
    "## Step 3: Upload data to S3\n",
    "\n",
    "Now that we have created the feature representation of our training (and testing) data, it is time to start setting up and using the XGBoost classifier provided by SageMaker.\n",
    "\n",
    "### Writing the datasets\n",
    "\n",
    "The XGBoost classifier that we will be using requires the dataset to be written to a file and stored using Amazon S3. To do this, we will start by splitting the training dataset into two parts, the data we will train the model with and a validation set. Then, we will write those datasets to a file locally and then upload the files to S3. In addition, we will write the test set to a file and upload that file to S3. This is so that we can use SageMakers Batch Transform functionality to test our model once we've fit it."
   ]
  },
  {
   "cell_type": "code",
   "execution_count": 14,
   "metadata": {},
   "outputs": [],
   "source": [
    "import pandas as pd\n",
    "\n",
    "# Earlier we shuffled the training dataset so to make things simple we can just assign\n",
    "# the first 10 000 reviews to the validation set and use the remaining reviews for training.\n",
    "val_X = pd.DataFrame(train_X[:10000])\n",
    "train_X = pd.DataFrame(train_X[10000:])\n",
    "\n",
    "val_y = pd.DataFrame(train_y[:10000])\n",
    "train_y = pd.DataFrame(train_y[10000:])"
   ]
  },
  {
   "cell_type": "markdown",
   "metadata": {},
   "source": [
    "The documentation for the XGBoost algorithm in SageMaker requires that the training and validation datasets should contain no headers or index and that the label should occur first for each sample.\n",
    "\n",
    "For more information about this and other algorithms, the SageMaker developer documentation can be found on __[Amazon's website.](https://docs.aws.amazon.com/sagemaker/latest/dg/)__"
   ]
  },
  {
   "cell_type": "code",
   "execution_count": 15,
   "metadata": {},
   "outputs": [],
   "source": [
    "# First we make sure that the local directory in which we'd like to store the training and validation csv files exists.\n",
    "data_dir = '../data/sentiment_web_app'\n",
    "if not os.path.exists(data_dir):\n",
    "    os.makedirs(data_dir)"
   ]
  },
  {
   "cell_type": "code",
   "execution_count": 16,
   "metadata": {},
   "outputs": [],
   "source": [
    "pd.DataFrame(test_X).to_csv(os.path.join(data_dir, 'test.csv'), header=False, index=False)\n",
    "\n",
    "pd.concat([val_y, val_X], axis=1).to_csv(os.path.join(data_dir, 'validation.csv'), header=False, index=False)\n",
    "pd.concat([train_y, train_X], axis=1).to_csv(os.path.join(data_dir, 'train.csv'), header=False, index=False)"
   ]
  },
  {
   "cell_type": "code",
   "execution_count": 17,
   "metadata": {},
   "outputs": [],
   "source": [
    "# To save a bit of memory we can set text_X, train_X, val_X, train_y and val_y to None.\n",
    "\n",
    "test_X = train_X = val_X = train_y = val_y = None"
   ]
  },
  {
   "cell_type": "markdown",
   "metadata": {},
   "source": [
    "### Uploading Training / Validation files to S3\n",
    "\n",
    "Amazon's S3 service allows us to store files that can be accessed by both the built-in training models such as the XGBoost model we will be using as well as custom models such as the one we will see a little later.\n",
    "\n",
    "For this and most other tasks we will be doing using SageMaker, there are two methods we could use. The first is to use the low level functionality of SageMaker which requires knowing each of the objects involved in the SageMaker environment. The second is to use the high level functionality in which certain choices have been made on the user's behalf. The low level approach benefits from allowing the user a great deal of flexibility while the high level approach makes development much quicker. For our purposes we will opt to use the high level approach although using the low-level approach is certainly an option.\n",
    "\n",
    "Recall the method `upload_data()` which is a member of the object representing our current SageMaker session. What this method does is upload the data to the default bucket (which is created if it does not exist) into the path described by the key_prefix variable. To see this for yourself, once you have uploaded the data files, go to the S3 console and look to see where the files have been uploaded.\n",
    "\n",
    "For additional resources, see the __[SageMaker API documentation](http://sagemaker.readthedocs.io/en/latest/)__ and in addition the __[SageMaker Developer Guide.](https://docs.aws.amazon.com/sagemaker/latest/dg/)__"
   ]
  },
  {
   "cell_type": "code",
   "execution_count": 18,
   "metadata": {},
   "outputs": [],
   "source": [
    "import sagemaker\n",
    "\n",
    "session = sagemaker.Session() # Store the current SageMaker session\n",
    "\n",
    "# S3 prefix (which folder will we use)\n",
    "prefix = 'sentiment-web-app'\n",
    "\n",
    "test_location = session.upload_data(os.path.join(data_dir, 'test.csv'), key_prefix=prefix)\n",
    "val_location = session.upload_data(os.path.join(data_dir, 'validation.csv'), key_prefix=prefix)\n",
    "train_location = session.upload_data(os.path.join(data_dir, 'train.csv'), key_prefix=prefix)"
   ]
  },
  {
   "cell_type": "markdown",
   "metadata": {},
   "source": [
    "## Step 4: Creating the XGBoost model\n",
    "\n",
    "Now that the data has been uploaded it is time to create the XGBoost model. To begin with, we need to do some setup. At this point it is worth discussing what a model is in SageMaker. It is easiest to think of a model of comprising three different objects in the SageMaker ecosystem, which interact with one another.\n",
    "\n",
    "- Model Artifacts\n",
    "- Training Code (Container)\n",
    "- Inference Code (Container)\n",
    "\n",
    "The Model Artifacts are what you might think of as the actual model itself. For example, if you were building a neural network, the model artifacts would be the weights of the various layers. In our case, for an XGBoost model, the artifacts are the actual trees that are created during training.\n",
    "\n",
    "The other two objects, the training code and the inference code are then used to manipulate the training artifacts. More precisely, the training code uses the training data that is provided and creates the model artifacts, while the inference code uses the model artifacts to make predictions on new data.\n",
    "\n",
    "The way that SageMaker runs the training and inference code is by making use of Docker containers. For now, think of a container as being a way of packaging code up so that dependencies aren't an issue."
   ]
  },
  {
   "cell_type": "code",
   "execution_count": 19,
   "metadata": {},
   "outputs": [],
   "source": [
    "from sagemaker import get_execution_role\n",
    "\n",
    "# Our current execution role is required when creating the model as the training\n",
    "# and inference code will need to access the model artifacts.\n",
    "role = get_execution_role()"
   ]
  },
  {
   "cell_type": "code",
   "execution_count": 20,
   "metadata": {},
   "outputs": [
    {
     "name": "stderr",
     "output_type": "stream",
     "text": [
      "WARNING:root:There is a more up to date SageMaker XGBoost image. To use the newer image, please set 'repo_version'='0.90-1'. For example:\n",
      "\tget_image_uri(region, 'xgboost', '0.90-1').\n"
     ]
    }
   ],
   "source": [
    "# We need to retrieve the location of the container which is provided by Amazon for using XGBoost.\n",
    "# As a matter of convenience, the training and inference code both use the same container.\n",
    "from sagemaker.amazon.amazon_estimator import get_image_uri\n",
    "\n",
    "container = get_image_uri(session.boto_region_name, 'xgboost')"
   ]
  },
  {
   "cell_type": "code",
   "execution_count": 21,
   "metadata": {},
   "outputs": [],
   "source": [
    "# First we create a SageMaker estimator object for our model.\n",
    "xgb = sagemaker.estimator.Estimator(container, # The location of the container we wish to use\n",
    "                                    role,                                    # What is our current IAM Role\n",
    "                                    train_instance_count=1,                  # How many compute instances\n",
    "                                    train_instance_type='ml.m4.xlarge',      # What kind of compute instances\n",
    "                                    output_path='s3://{}/{}/output'.format(session.default_bucket(), prefix),\n",
    "                                    sagemaker_session=session)\n",
    "\n",
    "# And then set the algorithm specific parameters.\n",
    "xgb.set_hyperparameters(max_depth=5,\n",
    "                        eta=0.2,\n",
    "                        gamma=4,\n",
    "                        min_child_weight=6,\n",
    "                        subsample=0.8,\n",
    "                        silent=0,\n",
    "                        objective='binary:logistic',\n",
    "                        early_stopping_rounds=10,\n",
    "                        num_round=500)"
   ]
  },
  {
   "cell_type": "markdown",
   "metadata": {},
   "source": [
    "### Fit the XGBoost model\n",
    "\n",
    "Now that our model has been set up we simply need to attach the training and validation datasets and then ask SageMaker to set up the computation."
   ]
  },
  {
   "cell_type": "code",
   "execution_count": 22,
   "metadata": {},
   "outputs": [],
   "source": [
    "s3_input_train = sagemaker.s3_input(s3_data=train_location, content_type='csv')\n",
    "s3_input_validation = sagemaker.s3_input(s3_data=val_location, content_type='csv')"
   ]
  },
  {
   "cell_type": "code",
   "execution_count": 23,
   "metadata": {},
   "outputs": [
    {
     "name": "stdout",
     "output_type": "stream",
     "text": [
      "2019-12-31 12:32:21 Starting - Starting the training job...\n",
      "2019-12-31 12:32:22 Starting - Launching requested ML instances......\n",
      "2019-12-31 12:33:24 Starting - Preparing the instances for training......\n",
      "2019-12-31 12:34:24 Downloading - Downloading input data...\n",
      "2019-12-31 12:34:59 Training - Downloading the training image.\u001b[34mArguments: train\u001b[0m\n",
      "\u001b[34m[2019-12-31:12:35:21:INFO] Running standalone xgboost training.\u001b[0m\n",
      "\u001b[34m[2019-12-31:12:35:21:INFO] File size need to be processed in the node: 238.5mb. Available memory size in the node: 8498.3mb\u001b[0m\n",
      "\u001b[34m[2019-12-31:12:35:21:INFO] Determined delimiter of CSV input is ','\u001b[0m\n",
      "\u001b[34m[12:35:21] S3DistributionType set as FullyReplicated\u001b[0m\n",
      "\u001b[34m[12:35:23] 15000x5000 matrix with 75000000 entries loaded from /opt/ml/input/data/train?format=csv&label_column=0&delimiter=,\u001b[0m\n",
      "\u001b[34m[2019-12-31:12:35:23:INFO] Determined delimiter of CSV input is ','\u001b[0m\n",
      "\u001b[34m[12:35:23] S3DistributionType set as FullyReplicated\u001b[0m\n",
      "\u001b[34m[12:35:24] 10000x5000 matrix with 50000000 entries loaded from /opt/ml/input/data/validation?format=csv&label_column=0&delimiter=,\u001b[0m\n",
      "\u001b[34m[12:35:28] src/tree/updater_prune.cc:74: tree pruning end, 1 roots, 40 extra nodes, 10 pruned nodes, max_depth=5\u001b[0m\n",
      "\u001b[34m[0]#011train-error:0.309933#011validation-error:0.3026\u001b[0m\n",
      "\u001b[34mMultiple eval metrics have been passed: 'validation-error' will be used for early stopping.\n",
      "\u001b[0m\n",
      "\u001b[34mWill train until validation-error hasn't improved in 10 rounds.\u001b[0m\n",
      "\u001b[34m[12:35:29] src/tree/updater_prune.cc:74: tree pruning end, 1 roots, 40 extra nodes, 8 pruned nodes, max_depth=5\u001b[0m\n",
      "\u001b[34m[1]#011train-error:0.301733#011validation-error:0.2989\u001b[0m\n",
      "\u001b[34m[12:35:31] src/tree/updater_prune.cc:74: tree pruning end, 1 roots, 42 extra nodes, 8 pruned nodes, max_depth=5\u001b[0m\n",
      "\u001b[34m[2]#011train-error:0.2804#011validation-error:0.2859\u001b[0m\n",
      "\u001b[34m[12:35:32] src/tree/updater_prune.cc:74: tree pruning end, 1 roots, 46 extra nodes, 2 pruned nodes, max_depth=5\u001b[0m\n",
      "\u001b[34m[3]#011train-error:0.281933#011validation-error:0.2811\u001b[0m\n",
      "\u001b[34m[12:35:34] src/tree/updater_prune.cc:74: tree pruning end, 1 roots, 28 extra nodes, 6 pruned nodes, max_depth=5\u001b[0m\n",
      "\u001b[34m[4]#011train-error:0.267933#011validation-error:0.2657\u001b[0m\n",
      "\u001b[34m[12:35:35] src/tree/updater_prune.cc:74: tree pruning end, 1 roots, 30 extra nodes, 2 pruned nodes, max_depth=5\u001b[0m\n",
      "\u001b[34m[5]#011train-error:0.260133#011validation-error:0.2684\u001b[0m\n",
      "\u001b[34m[12:35:36] src/tree/updater_prune.cc:74: tree pruning end, 1 roots, 30 extra nodes, 8 pruned nodes, max_depth=5\u001b[0m\n",
      "\u001b[34m[6]#011train-error:0.248133#011validation-error:0.2571\u001b[0m\n",
      "\n",
      "2019-12-31 12:35:22 Training - Training image download completed. Training in progress.\u001b[34m[12:35:37] src/tree/updater_prune.cc:74: tree pruning end, 1 roots, 30 extra nodes, 4 pruned nodes, max_depth=5\u001b[0m\n",
      "\u001b[34m[7]#011train-error:0.245067#011validation-error:0.2541\u001b[0m\n",
      "\u001b[34m[12:35:39] src/tree/updater_prune.cc:74: tree pruning end, 1 roots, 38 extra nodes, 4 pruned nodes, max_depth=5\u001b[0m\n",
      "\u001b[34m[8]#011train-error:0.2364#011validation-error:0.2459\u001b[0m\n",
      "\u001b[34m[12:35:40] src/tree/updater_prune.cc:74: tree pruning end, 1 roots, 32 extra nodes, 4 pruned nodes, max_depth=5\u001b[0m\n",
      "\u001b[34m[9]#011train-error:0.2302#011validation-error:0.2393\u001b[0m\n",
      "\u001b[34m[12:35:41] src/tree/updater_prune.cc:74: tree pruning end, 1 roots, 22 extra nodes, 12 pruned nodes, max_depth=5\u001b[0m\n",
      "\u001b[34m[10]#011train-error:0.227267#011validation-error:0.2347\u001b[0m\n",
      "\u001b[34m[12:35:42] src/tree/updater_prune.cc:74: tree pruning end, 1 roots, 38 extra nodes, 8 pruned nodes, max_depth=5\u001b[0m\n",
      "\u001b[34m[11]#011train-error:0.218067#011validation-error:0.2298\u001b[0m\n",
      "\u001b[34m[12:35:44] src/tree/updater_prune.cc:74: tree pruning end, 1 roots, 30 extra nodes, 4 pruned nodes, max_depth=5\u001b[0m\n",
      "\u001b[34m[12]#011train-error:0.214533#011validation-error:0.2276\u001b[0m\n",
      "\u001b[34m[12:35:45] src/tree/updater_prune.cc:74: tree pruning end, 1 roots, 36 extra nodes, 2 pruned nodes, max_depth=5\u001b[0m\n",
      "\u001b[34m[13]#011train-error:0.210667#011validation-error:0.2237\u001b[0m\n",
      "\u001b[34m[12:35:46] src/tree/updater_prune.cc:74: tree pruning end, 1 roots, 36 extra nodes, 8 pruned nodes, max_depth=5\u001b[0m\n",
      "\u001b[34m[14]#011train-error:0.205667#011validation-error:0.2222\u001b[0m\n",
      "\u001b[34m[12:35:48] src/tree/updater_prune.cc:74: tree pruning end, 1 roots, 24 extra nodes, 14 pruned nodes, max_depth=5\u001b[0m\n",
      "\u001b[34m[15]#011train-error:0.204733#011validation-error:0.2202\u001b[0m\n",
      "\u001b[34m[12:35:49] src/tree/updater_prune.cc:74: tree pruning end, 1 roots, 30 extra nodes, 4 pruned nodes, max_depth=5\u001b[0m\n",
      "\u001b[34m[16]#011train-error:0.1998#011validation-error:0.2188\u001b[0m\n",
      "\u001b[34m[12:35:50] src/tree/updater_prune.cc:74: tree pruning end, 1 roots, 22 extra nodes, 10 pruned nodes, max_depth=5\u001b[0m\n",
      "\u001b[34m[17]#011train-error:0.1974#011validation-error:0.2163\u001b[0m\n",
      "\u001b[34m[12:35:51] src/tree/updater_prune.cc:74: tree pruning end, 1 roots, 18 extra nodes, 8 pruned nodes, max_depth=5\u001b[0m\n",
      "\u001b[34m[18]#011train-error:0.195133#011validation-error:0.2146\u001b[0m\n",
      "\u001b[34m[12:35:53] src/tree/updater_prune.cc:74: tree pruning end, 1 roots, 30 extra nodes, 8 pruned nodes, max_depth=5\u001b[0m\n",
      "\u001b[34m[19]#011train-error:0.191933#011validation-error:0.2106\u001b[0m\n",
      "\u001b[34m[12:35:54] src/tree/updater_prune.cc:74: tree pruning end, 1 roots, 32 extra nodes, 4 pruned nodes, max_depth=5\u001b[0m\n",
      "\u001b[34m[20]#011train-error:0.189933#011validation-error:0.2079\u001b[0m\n",
      "\u001b[34m[12:35:55] src/tree/updater_prune.cc:74: tree pruning end, 1 roots, 38 extra nodes, 8 pruned nodes, max_depth=5\u001b[0m\n",
      "\u001b[34m[21]#011train-error:0.185133#011validation-error:0.2052\u001b[0m\n",
      "\u001b[34m[12:35:57] src/tree/updater_prune.cc:74: tree pruning end, 1 roots, 40 extra nodes, 0 pruned nodes, max_depth=5\u001b[0m\n",
      "\u001b[34m[22]#011train-error:0.180933#011validation-error:0.2042\u001b[0m\n",
      "\u001b[34m[12:35:58] src/tree/updater_prune.cc:74: tree pruning end, 1 roots, 32 extra nodes, 8 pruned nodes, max_depth=5\u001b[0m\n",
      "\u001b[34m[23]#011train-error:0.1786#011validation-error:0.2025\u001b[0m\n",
      "\u001b[34m[12:35:59] src/tree/updater_prune.cc:74: tree pruning end, 1 roots, 28 extra nodes, 12 pruned nodes, max_depth=5\u001b[0m\n",
      "\u001b[34m[24]#011train-error:0.1744#011validation-error:0.2006\u001b[0m\n",
      "\u001b[34m[12:36:00] src/tree/updater_prune.cc:74: tree pruning end, 1 roots, 38 extra nodes, 10 pruned nodes, max_depth=5\u001b[0m\n",
      "\u001b[34m[25]#011train-error:0.1702#011validation-error:0.199\u001b[0m\n",
      "\u001b[34m[12:36:02] src/tree/updater_prune.cc:74: tree pruning end, 1 roots, 40 extra nodes, 0 pruned nodes, max_depth=5\u001b[0m\n",
      "\u001b[34m[26]#011train-error:0.1666#011validation-error:0.1977\u001b[0m\n",
      "\u001b[34m[12:36:03] src/tree/updater_prune.cc:74: tree pruning end, 1 roots, 40 extra nodes, 6 pruned nodes, max_depth=5\u001b[0m\n",
      "\u001b[34m[27]#011train-error:0.167067#011validation-error:0.1955\u001b[0m\n",
      "\u001b[34m[12:36:04] src/tree/updater_prune.cc:74: tree pruning end, 1 roots, 30 extra nodes, 8 pruned nodes, max_depth=5\u001b[0m\n",
      "\u001b[34m[28]#011train-error:0.164867#011validation-error:0.194\u001b[0m\n",
      "\u001b[34m[12:36:05] src/tree/updater_prune.cc:74: tree pruning end, 1 roots, 32 extra nodes, 4 pruned nodes, max_depth=5\u001b[0m\n",
      "\u001b[34m[29]#011train-error:0.161667#011validation-error:0.1925\u001b[0m\n",
      "\u001b[34m[12:36:07] src/tree/updater_prune.cc:74: tree pruning end, 1 roots, 16 extra nodes, 6 pruned nodes, max_depth=5\u001b[0m\n",
      "\u001b[34m[30]#011train-error:0.160733#011validation-error:0.1921\u001b[0m\n",
      "\u001b[34m[12:36:08] src/tree/updater_prune.cc:74: tree pruning end, 1 roots, 26 extra nodes, 4 pruned nodes, max_depth=5\u001b[0m\n",
      "\u001b[34m[31]#011train-error:0.159267#011validation-error:0.1904\u001b[0m\n",
      "\u001b[34m[12:36:09] src/tree/updater_prune.cc:74: tree pruning end, 1 roots, 22 extra nodes, 4 pruned nodes, max_depth=5\u001b[0m\n",
      "\u001b[34m[32]#011train-error:0.158#011validation-error:0.1891\u001b[0m\n",
      "\u001b[34m[12:36:11] src/tree/updater_prune.cc:74: tree pruning end, 1 roots, 20 extra nodes, 20 pruned nodes, max_depth=5\u001b[0m\n",
      "\u001b[34m[33]#011train-error:0.156067#011validation-error:0.1883\u001b[0m\n",
      "\u001b[34m[12:36:12] src/tree/updater_prune.cc:74: tree pruning end, 1 roots, 22 extra nodes, 10 pruned nodes, max_depth=5\u001b[0m\n",
      "\u001b[34m[34]#011train-error:0.1536#011validation-error:0.1885\u001b[0m\n",
      "\u001b[34m[12:36:13] src/tree/updater_prune.cc:74: tree pruning end, 1 roots, 22 extra nodes, 12 pruned nodes, max_depth=5\u001b[0m\n",
      "\u001b[34m[35]#011train-error:0.153333#011validation-error:0.1884\u001b[0m\n",
      "\u001b[34m[12:36:14] src/tree/updater_prune.cc:74: tree pruning end, 1 roots, 28 extra nodes, 6 pruned nodes, max_depth=5\u001b[0m\n",
      "\u001b[34m[36]#011train-error:0.153333#011validation-error:0.1877\u001b[0m\n",
      "\u001b[34m[12:36:16] src/tree/updater_prune.cc:74: tree pruning end, 1 roots, 18 extra nodes, 6 pruned nodes, max_depth=5\u001b[0m\n",
      "\u001b[34m[37]#011train-error:0.152133#011validation-error:0.1862\u001b[0m\n",
      "\u001b[34m[12:36:17] src/tree/updater_prune.cc:74: tree pruning end, 1 roots, 22 extra nodes, 4 pruned nodes, max_depth=5\u001b[0m\n",
      "\u001b[34m[38]#011train-error:0.150933#011validation-error:0.1837\u001b[0m\n"
     ]
    },
    {
     "name": "stdout",
     "output_type": "stream",
     "text": [
      "\u001b[34m[12:36:18] src/tree/updater_prune.cc:74: tree pruning end, 1 roots, 30 extra nodes, 8 pruned nodes, max_depth=5\u001b[0m\n",
      "\u001b[34m[39]#011train-error:0.1488#011validation-error:0.1833\u001b[0m\n",
      "\u001b[34m[12:36:19] src/tree/updater_prune.cc:74: tree pruning end, 1 roots, 22 extra nodes, 8 pruned nodes, max_depth=5\u001b[0m\n",
      "\u001b[34m[40]#011train-error:0.147733#011validation-error:0.1825\u001b[0m\n",
      "\u001b[34m[12:36:21] src/tree/updater_prune.cc:74: tree pruning end, 1 roots, 30 extra nodes, 10 pruned nodes, max_depth=5\u001b[0m\n",
      "\u001b[34m[41]#011train-error:0.146867#011validation-error:0.1819\u001b[0m\n",
      "\u001b[34m[12:36:22] src/tree/updater_prune.cc:74: tree pruning end, 1 roots, 14 extra nodes, 14 pruned nodes, max_depth=5\u001b[0m\n",
      "\u001b[34m[42]#011train-error:0.145467#011validation-error:0.1808\u001b[0m\n",
      "\u001b[34m[12:36:23] src/tree/updater_prune.cc:74: tree pruning end, 1 roots, 38 extra nodes, 4 pruned nodes, max_depth=5\u001b[0m\n",
      "\u001b[34m[43]#011train-error:0.143467#011validation-error:0.1798\u001b[0m\n",
      "\u001b[34m[12:36:24] src/tree/updater_prune.cc:74: tree pruning end, 1 roots, 44 extra nodes, 8 pruned nodes, max_depth=5\u001b[0m\n",
      "\u001b[34m[44]#011train-error:0.1408#011validation-error:0.1772\u001b[0m\n",
      "\u001b[34m[12:36:26] src/tree/updater_prune.cc:74: tree pruning end, 1 roots, 18 extra nodes, 6 pruned nodes, max_depth=5\u001b[0m\n",
      "\u001b[34m[45]#011train-error:0.1398#011validation-error:0.1762\u001b[0m\n",
      "\u001b[34m[12:36:27] src/tree/updater_prune.cc:74: tree pruning end, 1 roots, 22 extra nodes, 6 pruned nodes, max_depth=5\u001b[0m\n",
      "\u001b[34m[46]#011train-error:0.137267#011validation-error:0.1754\u001b[0m\n",
      "\u001b[34m[12:36:28] src/tree/updater_prune.cc:74: tree pruning end, 1 roots, 40 extra nodes, 4 pruned nodes, max_depth=5\u001b[0m\n",
      "\u001b[34m[47]#011train-error:0.135933#011validation-error:0.1748\u001b[0m\n",
      "\u001b[34m[12:36:29] src/tree/updater_prune.cc:74: tree pruning end, 1 roots, 28 extra nodes, 10 pruned nodes, max_depth=5\u001b[0m\n",
      "\u001b[34m[48]#011train-error:0.134667#011validation-error:0.1745\u001b[0m\n",
      "\u001b[34m[12:36:31] src/tree/updater_prune.cc:74: tree pruning end, 1 roots, 22 extra nodes, 10 pruned nodes, max_depth=5\u001b[0m\n",
      "\u001b[34m[49]#011train-error:0.134533#011validation-error:0.176\u001b[0m\n",
      "\u001b[34m[12:36:32] src/tree/updater_prune.cc:74: tree pruning end, 1 roots, 20 extra nodes, 6 pruned nodes, max_depth=5\u001b[0m\n",
      "\u001b[34m[50]#011train-error:0.134267#011validation-error:0.1759\u001b[0m\n",
      "\u001b[34m[12:36:33] src/tree/updater_prune.cc:74: tree pruning end, 1 roots, 32 extra nodes, 6 pruned nodes, max_depth=5\u001b[0m\n",
      "\u001b[34m[51]#011train-error:0.1332#011validation-error:0.1776\u001b[0m\n",
      "\u001b[34m[12:36:35] src/tree/updater_prune.cc:74: tree pruning end, 1 roots, 22 extra nodes, 4 pruned nodes, max_depth=5\u001b[0m\n",
      "\u001b[34m[52]#011train-error:0.132#011validation-error:0.176\u001b[0m\n",
      "\u001b[34m[12:36:36] src/tree/updater_prune.cc:74: tree pruning end, 1 roots, 14 extra nodes, 16 pruned nodes, max_depth=5\u001b[0m\n",
      "\u001b[34m[53]#011train-error:0.130933#011validation-error:0.175\u001b[0m\n",
      "\u001b[34m[12:36:37] src/tree/updater_prune.cc:74: tree pruning end, 1 roots, 24 extra nodes, 10 pruned nodes, max_depth=5\u001b[0m\n",
      "\u001b[34m[54]#011train-error:0.129733#011validation-error:0.1734\u001b[0m\n",
      "\u001b[34m[12:36:38] src/tree/updater_prune.cc:74: tree pruning end, 1 roots, 12 extra nodes, 12 pruned nodes, max_depth=5\u001b[0m\n",
      "\u001b[34m[55]#011train-error:0.129267#011validation-error:0.1737\u001b[0m\n",
      "\u001b[34m[12:36:40] src/tree/updater_prune.cc:74: tree pruning end, 1 roots, 26 extra nodes, 8 pruned nodes, max_depth=5\u001b[0m\n",
      "\u001b[34m[56]#011train-error:0.127867#011validation-error:0.1737\u001b[0m\n",
      "\u001b[34m[12:36:41] src/tree/updater_prune.cc:74: tree pruning end, 1 roots, 36 extra nodes, 8 pruned nodes, max_depth=5\u001b[0m\n",
      "\u001b[34m[57]#011train-error:0.125667#011validation-error:0.1731\u001b[0m\n",
      "\u001b[34m[12:36:42] src/tree/updater_prune.cc:74: tree pruning end, 1 roots, 22 extra nodes, 8 pruned nodes, max_depth=5\u001b[0m\n",
      "\u001b[34m[58]#011train-error:0.126867#011validation-error:0.1728\u001b[0m\n",
      "\u001b[34m[12:36:43] src/tree/updater_prune.cc:74: tree pruning end, 1 roots, 16 extra nodes, 8 pruned nodes, max_depth=5\u001b[0m\n",
      "\u001b[34m[59]#011train-error:0.125867#011validation-error:0.1718\u001b[0m\n",
      "\u001b[34m[12:36:45] src/tree/updater_prune.cc:74: tree pruning end, 1 roots, 16 extra nodes, 14 pruned nodes, max_depth=5\u001b[0m\n",
      "\u001b[34m[60]#011train-error:0.1268#011validation-error:0.1721\u001b[0m\n",
      "\u001b[34m[12:36:46] src/tree/updater_prune.cc:74: tree pruning end, 1 roots, 24 extra nodes, 4 pruned nodes, max_depth=5\u001b[0m\n",
      "\u001b[34m[61]#011train-error:0.125#011validation-error:0.1697\u001b[0m\n",
      "\u001b[34m[12:36:47] src/tree/updater_prune.cc:74: tree pruning end, 1 roots, 24 extra nodes, 4 pruned nodes, max_depth=5\u001b[0m\n",
      "\u001b[34m[62]#011train-error:0.124333#011validation-error:0.1688\u001b[0m\n",
      "\u001b[34m[12:36:48] src/tree/updater_prune.cc:74: tree pruning end, 1 roots, 12 extra nodes, 4 pruned nodes, max_depth=5\u001b[0m\n",
      "\u001b[34m[63]#011train-error:0.123467#011validation-error:0.1673\u001b[0m\n",
      "\u001b[34m[12:36:50] src/tree/updater_prune.cc:74: tree pruning end, 1 roots, 18 extra nodes, 10 pruned nodes, max_depth=5\u001b[0m\n",
      "\u001b[34m[64]#011train-error:0.123933#011validation-error:0.1665\u001b[0m\n",
      "\u001b[34m[12:36:51] src/tree/updater_prune.cc:74: tree pruning end, 1 roots, 30 extra nodes, 10 pruned nodes, max_depth=5\u001b[0m\n",
      "\u001b[34m[65]#011train-error:0.1224#011validation-error:0.1659\u001b[0m\n",
      "\u001b[34m[12:36:52] src/tree/updater_prune.cc:74: tree pruning end, 1 roots, 20 extra nodes, 6 pruned nodes, max_depth=5\u001b[0m\n",
      "\u001b[34m[66]#011train-error:0.121667#011validation-error:0.1653\u001b[0m\n",
      "\u001b[34m[12:36:54] src/tree/updater_prune.cc:74: tree pruning end, 1 roots, 22 extra nodes, 8 pruned nodes, max_depth=5\u001b[0m\n",
      "\u001b[34m[67]#011train-error:0.120933#011validation-error:0.1647\u001b[0m\n",
      "\u001b[34m[12:36:55] src/tree/updater_prune.cc:74: tree pruning end, 1 roots, 26 extra nodes, 4 pruned nodes, max_depth=5\u001b[0m\n",
      "\u001b[34m[68]#011train-error:0.118667#011validation-error:0.1633\u001b[0m\n",
      "\u001b[34m[12:36:56] src/tree/updater_prune.cc:74: tree pruning end, 1 roots, 20 extra nodes, 12 pruned nodes, max_depth=5\u001b[0m\n",
      "\u001b[34m[69]#011train-error:0.118533#011validation-error:0.1632\u001b[0m\n",
      "\u001b[34m[12:36:57] src/tree/updater_prune.cc:74: tree pruning end, 1 roots, 20 extra nodes, 16 pruned nodes, max_depth=5\u001b[0m\n",
      "\u001b[34m[70]#011train-error:0.1174#011validation-error:0.1626\u001b[0m\n",
      "\u001b[34m[12:36:59] src/tree/updater_prune.cc:74: tree pruning end, 1 roots, 28 extra nodes, 12 pruned nodes, max_depth=5\u001b[0m\n",
      "\u001b[34m[71]#011train-error:0.116133#011validation-error:0.1626\u001b[0m\n",
      "\u001b[34m[12:37:00] src/tree/updater_prune.cc:74: tree pruning end, 1 roots, 14 extra nodes, 8 pruned nodes, max_depth=5\u001b[0m\n",
      "\u001b[34m[72]#011train-error:0.114467#011validation-error:0.1615\u001b[0m\n",
      "\u001b[34m[12:37:01] src/tree/updater_prune.cc:74: tree pruning end, 1 roots, 16 extra nodes, 10 pruned nodes, max_depth=5\u001b[0m\n",
      "\u001b[34m[73]#011train-error:0.114267#011validation-error:0.1611\u001b[0m\n",
      "\u001b[34m[12:37:02] src/tree/updater_prune.cc:74: tree pruning end, 1 roots, 14 extra nodes, 12 pruned nodes, max_depth=5\u001b[0m\n",
      "\u001b[34m[74]#011train-error:0.115#011validation-error:0.1603\u001b[0m\n",
      "\u001b[34m[12:37:04] src/tree/updater_prune.cc:74: tree pruning end, 1 roots, 16 extra nodes, 14 pruned nodes, max_depth=5\u001b[0m\n",
      "\u001b[34m[75]#011train-error:0.114867#011validation-error:0.1598\u001b[0m\n",
      "\u001b[34m[12:37:05] src/tree/updater_prune.cc:74: tree pruning end, 1 roots, 30 extra nodes, 14 pruned nodes, max_depth=5\u001b[0m\n",
      "\u001b[34m[76]#011train-error:0.1128#011validation-error:0.1596\u001b[0m\n",
      "\u001b[34m[12:37:06] src/tree/updater_prune.cc:74: tree pruning end, 1 roots, 14 extra nodes, 6 pruned nodes, max_depth=5\u001b[0m\n",
      "\u001b[34m[77]#011train-error:0.113733#011validation-error:0.1586\u001b[0m\n",
      "\u001b[34m[12:37:07] src/tree/updater_prune.cc:74: tree pruning end, 1 roots, 22 extra nodes, 6 pruned nodes, max_depth=5\u001b[0m\n",
      "\u001b[34m[78]#011train-error:0.112867#011validation-error:0.1586\u001b[0m\n",
      "\u001b[34m[12:37:09] src/tree/updater_prune.cc:74: tree pruning end, 1 roots, 20 extra nodes, 4 pruned nodes, max_depth=5\u001b[0m\n",
      "\u001b[34m[79]#011train-error:0.112467#011validation-error:0.1574\u001b[0m\n",
      "\u001b[34m[12:37:10] src/tree/updater_prune.cc:74: tree pruning end, 1 roots, 16 extra nodes, 10 pruned nodes, max_depth=5\u001b[0m\n",
      "\u001b[34m[80]#011train-error:0.111667#011validation-error:0.1579\u001b[0m\n",
      "\u001b[34m[12:37:11] src/tree/updater_prune.cc:74: tree pruning end, 1 roots, 22 extra nodes, 4 pruned nodes, max_depth=5\u001b[0m\n",
      "\u001b[34m[81]#011train-error:0.1106#011validation-error:0.1581\u001b[0m\n",
      "\u001b[34m[12:37:13] src/tree/updater_prune.cc:74: tree pruning end, 1 roots, 14 extra nodes, 12 pruned nodes, max_depth=5\u001b[0m\n",
      "\u001b[34m[82]#011train-error:0.1108#011validation-error:0.1582\u001b[0m\n",
      "\u001b[34m[12:37:14] src/tree/updater_prune.cc:74: tree pruning end, 1 roots, 16 extra nodes, 6 pruned nodes, max_depth=5\u001b[0m\n",
      "\u001b[34m[83]#011train-error:0.110267#011validation-error:0.1579\u001b[0m\n",
      "\u001b[34m[12:37:15] src/tree/updater_prune.cc:74: tree pruning end, 1 roots, 18 extra nodes, 4 pruned nodes, max_depth=5\u001b[0m\n",
      "\u001b[34m[84]#011train-error:0.1098#011validation-error:0.1571\u001b[0m\n",
      "\u001b[34m[12:37:16] src/tree/updater_prune.cc:74: tree pruning end, 1 roots, 14 extra nodes, 10 pruned nodes, max_depth=5\u001b[0m\n",
      "\u001b[34m[85]#011train-error:0.108867#011validation-error:0.1557\u001b[0m\n",
      "\u001b[34m[12:37:18] src/tree/updater_prune.cc:74: tree pruning end, 1 roots, 32 extra nodes, 12 pruned nodes, max_depth=5\u001b[0m\n",
      "\u001b[34m[86]#011train-error:0.107733#011validation-error:0.1567\u001b[0m\n"
     ]
    },
    {
     "name": "stdout",
     "output_type": "stream",
     "text": [
      "\u001b[34m[12:37:19] src/tree/updater_prune.cc:74: tree pruning end, 1 roots, 16 extra nodes, 12 pruned nodes, max_depth=5\u001b[0m\n",
      "\u001b[34m[87]#011train-error:0.107333#011validation-error:0.1564\u001b[0m\n",
      "\u001b[34m[12:37:20] src/tree/updater_prune.cc:74: tree pruning end, 1 roots, 18 extra nodes, 4 pruned nodes, max_depth=5\u001b[0m\n",
      "\u001b[34m[88]#011train-error:0.106467#011validation-error:0.1555\u001b[0m\n",
      "\u001b[34m[12:37:21] src/tree/updater_prune.cc:74: tree pruning end, 1 roots, 20 extra nodes, 14 pruned nodes, max_depth=5\u001b[0m\n",
      "\u001b[34m[89]#011train-error:0.106#011validation-error:0.1556\u001b[0m\n",
      "\u001b[34m[12:37:23] src/tree/updater_prune.cc:74: tree pruning end, 1 roots, 18 extra nodes, 12 pruned nodes, max_depth=5\u001b[0m\n",
      "\u001b[34m[90]#011train-error:0.105333#011validation-error:0.1544\u001b[0m\n",
      "\u001b[34m[12:37:24] src/tree/updater_prune.cc:74: tree pruning end, 1 roots, 16 extra nodes, 4 pruned nodes, max_depth=5\u001b[0m\n",
      "\u001b[34m[91]#011train-error:0.104667#011validation-error:0.1543\u001b[0m\n",
      "\u001b[34m[12:37:25] src/tree/updater_prune.cc:74: tree pruning end, 1 roots, 22 extra nodes, 10 pruned nodes, max_depth=5\u001b[0m\n",
      "\u001b[34m[92]#011train-error:0.103933#011validation-error:0.1533\u001b[0m\n",
      "\u001b[34m[12:37:26] src/tree/updater_prune.cc:74: tree pruning end, 1 roots, 28 extra nodes, 4 pruned nodes, max_depth=5\u001b[0m\n",
      "\u001b[34m[93]#011train-error:0.104#011validation-error:0.1531\u001b[0m\n",
      "\u001b[34m[12:37:28] src/tree/updater_prune.cc:74: tree pruning end, 1 roots, 12 extra nodes, 2 pruned nodes, max_depth=5\u001b[0m\n",
      "\u001b[34m[94]#011train-error:0.103867#011validation-error:0.1526\u001b[0m\n",
      "\u001b[34m[12:37:29] src/tree/updater_prune.cc:74: tree pruning end, 1 roots, 14 extra nodes, 6 pruned nodes, max_depth=5\u001b[0m\n",
      "\u001b[34m[95]#011train-error:0.1032#011validation-error:0.1529\u001b[0m\n",
      "\u001b[34m[12:37:30] src/tree/updater_prune.cc:74: tree pruning end, 1 roots, 10 extra nodes, 6 pruned nodes, max_depth=5\u001b[0m\n",
      "\u001b[34m[96]#011train-error:0.1026#011validation-error:0.1526\u001b[0m\n",
      "\u001b[34m[12:37:32] src/tree/updater_prune.cc:74: tree pruning end, 1 roots, 34 extra nodes, 2 pruned nodes, max_depth=5\u001b[0m\n",
      "\u001b[34m[97]#011train-error:0.101333#011validation-error:0.1526\u001b[0m\n",
      "\u001b[34m[12:37:33] src/tree/updater_prune.cc:74: tree pruning end, 1 roots, 30 extra nodes, 6 pruned nodes, max_depth=5\u001b[0m\n",
      "\u001b[34m[98]#011train-error:0.100867#011validation-error:0.153\u001b[0m\n",
      "\u001b[34m[12:37:34] src/tree/updater_prune.cc:74: tree pruning end, 1 roots, 20 extra nodes, 8 pruned nodes, max_depth=5\u001b[0m\n",
      "\u001b[34m[99]#011train-error:0.100533#011validation-error:0.1517\u001b[0m\n",
      "\u001b[34m[12:37:35] src/tree/updater_prune.cc:74: tree pruning end, 1 roots, 12 extra nodes, 2 pruned nodes, max_depth=5\u001b[0m\n",
      "\u001b[34m[100]#011train-error:0.0998#011validation-error:0.152\u001b[0m\n",
      "\u001b[34m[12:37:37] src/tree/updater_prune.cc:74: tree pruning end, 1 roots, 10 extra nodes, 8 pruned nodes, max_depth=5\u001b[0m\n",
      "\u001b[34m[101]#011train-error:0.099667#011validation-error:0.1516\u001b[0m\n",
      "\u001b[34m[12:37:38] src/tree/updater_prune.cc:74: tree pruning end, 1 roots, 24 extra nodes, 6 pruned nodes, max_depth=5\u001b[0m\n",
      "\u001b[34m[102]#011train-error:0.0986#011validation-error:0.1516\u001b[0m\n",
      "\u001b[34m[12:37:39] src/tree/updater_prune.cc:74: tree pruning end, 1 roots, 16 extra nodes, 4 pruned nodes, max_depth=5\u001b[0m\n",
      "\u001b[34m[103]#011train-error:0.098133#011validation-error:0.152\u001b[0m\n",
      "\u001b[34m[12:37:41] src/tree/updater_prune.cc:74: tree pruning end, 1 roots, 20 extra nodes, 14 pruned nodes, max_depth=5\u001b[0m\n",
      "\u001b[34m[104]#011train-error:0.097467#011validation-error:0.1517\u001b[0m\n",
      "\u001b[34m[12:37:42] src/tree/updater_prune.cc:74: tree pruning end, 1 roots, 12 extra nodes, 6 pruned nodes, max_depth=5\u001b[0m\n",
      "\u001b[34m[105]#011train-error:0.0978#011validation-error:0.1507\u001b[0m\n",
      "\u001b[34m[12:37:43] src/tree/updater_prune.cc:74: tree pruning end, 1 roots, 16 extra nodes, 6 pruned nodes, max_depth=5\u001b[0m\n",
      "\u001b[34m[106]#011train-error:0.097#011validation-error:0.1501\u001b[0m\n",
      "\u001b[34m[12:37:44] src/tree/updater_prune.cc:74: tree pruning end, 1 roots, 30 extra nodes, 12 pruned nodes, max_depth=5\u001b[0m\n",
      "\u001b[34m[107]#011train-error:0.095333#011validation-error:0.1494\u001b[0m\n",
      "\u001b[34m[12:37:46] src/tree/updater_prune.cc:74: tree pruning end, 1 roots, 18 extra nodes, 6 pruned nodes, max_depth=5\u001b[0m\n",
      "\u001b[34m[108]#011train-error:0.0946#011validation-error:0.1499\u001b[0m\n",
      "\u001b[34m[12:37:47] src/tree/updater_prune.cc:74: tree pruning end, 1 roots, 14 extra nodes, 6 pruned nodes, max_depth=5\u001b[0m\n",
      "\u001b[34m[109]#011train-error:0.095067#011validation-error:0.1498\u001b[0m\n",
      "\u001b[34m[12:37:48] src/tree/updater_prune.cc:74: tree pruning end, 1 roots, 10 extra nodes, 8 pruned nodes, max_depth=5\u001b[0m\n",
      "\u001b[34m[110]#011train-error:0.094933#011validation-error:0.1497\u001b[0m\n",
      "\u001b[34m[12:37:49] src/tree/updater_prune.cc:74: tree pruning end, 1 roots, 20 extra nodes, 14 pruned nodes, max_depth=5\u001b[0m\n",
      "\u001b[34m[111]#011train-error:0.094#011validation-error:0.1494\u001b[0m\n",
      "\u001b[34m[12:37:51] src/tree/updater_prune.cc:74: tree pruning end, 1 roots, 14 extra nodes, 8 pruned nodes, max_depth=5\u001b[0m\n",
      "\u001b[34m[112]#011train-error:0.0934#011validation-error:0.1485\u001b[0m\n",
      "\u001b[34m[12:37:52] src/tree/updater_prune.cc:74: tree pruning end, 1 roots, 20 extra nodes, 4 pruned nodes, max_depth=5\u001b[0m\n",
      "\u001b[34m[113]#011train-error:0.093533#011validation-error:0.1482\u001b[0m\n",
      "\u001b[34m[12:37:53] src/tree/updater_prune.cc:74: tree pruning end, 1 roots, 18 extra nodes, 8 pruned nodes, max_depth=5\u001b[0m\n",
      "\u001b[34m[114]#011train-error:0.093267#011validation-error:0.1483\u001b[0m\n",
      "\u001b[34m[12:37:54] src/tree/updater_prune.cc:74: tree pruning end, 1 roots, 26 extra nodes, 12 pruned nodes, max_depth=5\u001b[0m\n",
      "\u001b[34m[115]#011train-error:0.092333#011validation-error:0.1477\u001b[0m\n",
      "\u001b[34m[12:37:56] src/tree/updater_prune.cc:74: tree pruning end, 1 roots, 16 extra nodes, 6 pruned nodes, max_depth=5\u001b[0m\n",
      "\u001b[34m[116]#011train-error:0.0916#011validation-error:0.1461\u001b[0m\n",
      "\u001b[34m[12:37:57] src/tree/updater_prune.cc:74: tree pruning end, 1 roots, 16 extra nodes, 12 pruned nodes, max_depth=5\u001b[0m\n",
      "\u001b[34m[117]#011train-error:0.092333#011validation-error:0.1463\u001b[0m\n",
      "\u001b[34m[12:37:58] src/tree/updater_prune.cc:74: tree pruning end, 1 roots, 12 extra nodes, 0 pruned nodes, max_depth=5\u001b[0m\n",
      "\u001b[34m[118]#011train-error:0.091867#011validation-error:0.1461\u001b[0m\n",
      "\u001b[34m[12:37:59] src/tree/updater_prune.cc:74: tree pruning end, 1 roots, 14 extra nodes, 10 pruned nodes, max_depth=5\u001b[0m\n",
      "\u001b[34m[119]#011train-error:0.0912#011validation-error:0.1456\u001b[0m\n",
      "\u001b[34m[12:38:01] src/tree/updater_prune.cc:74: tree pruning end, 1 roots, 12 extra nodes, 4 pruned nodes, max_depth=5\u001b[0m\n",
      "\u001b[34m[120]#011train-error:0.091267#011validation-error:0.1452\u001b[0m\n",
      "\u001b[34m[12:38:02] src/tree/updater_prune.cc:74: tree pruning end, 1 roots, 28 extra nodes, 8 pruned nodes, max_depth=5\u001b[0m\n",
      "\u001b[34m[121]#011train-error:0.090667#011validation-error:0.1451\u001b[0m\n",
      "\u001b[34m[12:38:03] src/tree/updater_prune.cc:74: tree pruning end, 1 roots, 14 extra nodes, 6 pruned nodes, max_depth=5\u001b[0m\n",
      "\u001b[34m[122]#011train-error:0.089867#011validation-error:0.1445\u001b[0m\n",
      "\u001b[34m[12:38:05] src/tree/updater_prune.cc:74: tree pruning end, 1 roots, 20 extra nodes, 6 pruned nodes, max_depth=5\u001b[0m\n",
      "\u001b[34m[123]#011train-error:0.0898#011validation-error:0.1454\u001b[0m\n",
      "\u001b[34m[12:38:06] src/tree/updater_prune.cc:74: tree pruning end, 1 roots, 12 extra nodes, 4 pruned nodes, max_depth=5\u001b[0m\n",
      "\u001b[34m[124]#011train-error:0.089733#011validation-error:0.1448\u001b[0m\n",
      "\u001b[34m[12:38:07] src/tree/updater_prune.cc:74: tree pruning end, 1 roots, 16 extra nodes, 2 pruned nodes, max_depth=5\u001b[0m\n",
      "\u001b[34m[125]#011train-error:0.088733#011validation-error:0.1449\u001b[0m\n",
      "\u001b[34m[12:38:08] src/tree/updater_prune.cc:74: tree pruning end, 1 roots, 12 extra nodes, 4 pruned nodes, max_depth=5\u001b[0m\n",
      "\u001b[34m[126]#011train-error:0.088133#011validation-error:0.1454\u001b[0m\n",
      "\n",
      "2019-12-31 12:38:20 Uploading - Uploading generated training model\u001b[34m[12:38:10] src/tree/updater_prune.cc:74: tree pruning end, 1 roots, 12 extra nodes, 10 pruned nodes, max_depth=5\u001b[0m\n",
      "\u001b[34m[127]#011train-error:0.088067#011validation-error:0.1454\u001b[0m\n",
      "\u001b[34m[12:38:11] src/tree/updater_prune.cc:74: tree pruning end, 1 roots, 12 extra nodes, 0 pruned nodes, max_depth=5\u001b[0m\n",
      "\u001b[34m[128]#011train-error:0.087867#011validation-error:0.1454\u001b[0m\n",
      "\u001b[34m[12:38:12] src/tree/updater_prune.cc:74: tree pruning end, 1 roots, 18 extra nodes, 10 pruned nodes, max_depth=5\u001b[0m\n",
      "\u001b[34m[129]#011train-error:0.087267#011validation-error:0.1449\u001b[0m\n",
      "\u001b[34m[12:38:14] src/tree/updater_prune.cc:74: tree pruning end, 1 roots, 18 extra nodes, 6 pruned nodes, max_depth=5\u001b[0m\n",
      "\u001b[34m[130]#011train-error:0.087333#011validation-error:0.1454\u001b[0m\n",
      "\u001b[34m[12:38:15] src/tree/updater_prune.cc:74: tree pruning end, 1 roots, 12 extra nodes, 10 pruned nodes, max_depth=5\u001b[0m\n",
      "\u001b[34m[131]#011train-error:0.087067#011validation-error:0.1449\u001b[0m\n",
      "\u001b[34m[12:38:16] src/tree/updater_prune.cc:74: tree pruning end, 1 roots, 12 extra nodes, 12 pruned nodes, max_depth=5\u001b[0m\n",
      "\u001b[34m[132]#011train-error:0.0866#011validation-error:0.1451\u001b[0m\n",
      "\u001b[34mStopping. Best iteration:\u001b[0m\n",
      "\u001b[34m[122]#011train-error:0.089867#011validation-error:0.1445\n",
      "\u001b[0m\n"
     ]
    },
    {
     "name": "stdout",
     "output_type": "stream",
     "text": [
      "\n",
      "2019-12-31 12:38:27 Completed - Training job completed\n",
      "Training seconds: 243\n",
      "Billable seconds: 243\n"
     ]
    }
   ],
   "source": [
    "xgb.fit({'train': s3_input_train, 'validation': s3_input_validation})"
   ]
  },
  {
   "cell_type": "markdown",
   "metadata": {},
   "source": [
    "## Step 5: Testing the model\n",
    "\n",
    "Now that we've fit our XGBoost model, it's time to see how well it performs. To do this we will use SageMakers Batch Transform functionality. Batch Transform is a convenient way to perform inference on a large dataset in a way that is not realtime. That is, we don't necessarily need to use our model's results immediately and instead we can perform inference on a large number of samples. An example of this in industry might be performing an end of month report. This method of inference can also be useful to us as it means that we can perform inference on our entire test set. \n",
    "\n",
    "To perform a Batch Transformation we need to first create a transformer objects from our trained estimator object."
   ]
  },
  {
   "cell_type": "code",
   "execution_count": 24,
   "metadata": {},
   "outputs": [],
   "source": [
    "xgb_transformer = xgb.transformer(instance_count = 1, instance_type = 'ml.m4.xlarge')"
   ]
  },
  {
   "cell_type": "markdown",
   "metadata": {},
   "source": [
    "Next we actually perform the transform job. When doing so we need to make sure to specify the type of data we are sending so that it is serialized correctly in the background. In our case we are providing our model with csv data so we specify `text/csv`. Also, if the test data that we have provided is too large to process all at once then we need to specify how the data file should be split up. Since each line is a single entry in our data set we tell SageMaker that it can split the input on each line."
   ]
  },
  {
   "cell_type": "code",
   "execution_count": 25,
   "metadata": {},
   "outputs": [],
   "source": [
    "xgb_transformer.transform(test_location, content_type='text/csv', split_type='Line')"
   ]
  },
  {
   "cell_type": "markdown",
   "metadata": {},
   "source": [
    "Currently the transform job is running but it is doing so in the background. Since we wish to wait until the transform job is done and we would like a bit of feedback we can run the `wait()` method."
   ]
  },
  {
   "cell_type": "code",
   "execution_count": 26,
   "metadata": {},
   "outputs": [
    {
     "name": "stdout",
     "output_type": "stream",
     "text": [
      "......................\u001b[34mArguments: serve\u001b[0m\n",
      "\u001b[34m[2019-12-31 12:42:29 +0000] [1] [INFO] Starting gunicorn 19.7.1\u001b[0m\n",
      "\u001b[34m[2019-12-31 12:42:29 +0000] [1] [INFO] Listening at: http://0.0.0.0:8080 (1)\u001b[0m\n",
      "\u001b[34m[2019-12-31 12:42:29 +0000] [1] [INFO] Using worker: gevent\u001b[0m\n",
      "\u001b[34m[2019-12-31 12:42:29 +0000] [39] [INFO] Booting worker with pid: 39\u001b[0m\n",
      "\u001b[34m[2019-12-31 12:42:29 +0000] [40] [INFO] Booting worker with pid: 40\u001b[0m\n",
      "\u001b[34m[2019-12-31 12:42:29 +0000] [41] [INFO] Booting worker with pid: 41\u001b[0m\n",
      "\u001b[34m[2019-12-31 12:42:29 +0000] [42] [INFO] Booting worker with pid: 42\u001b[0m\n",
      "\u001b[34m[2019-12-31:12:42:29:INFO] Model loaded successfully for worker : 39\u001b[0m\n",
      "\u001b[34m[2019-12-31:12:42:29:INFO] Model loaded successfully for worker : 42\u001b[0m\n",
      "\u001b[34m[2019-12-31:12:42:29:INFO] Model loaded successfully for worker : 40\u001b[0m\n",
      "\u001b[34m[2019-12-31:12:42:29:INFO] Model loaded successfully for worker : 41\u001b[0m\n",
      "\u001b[34m[2019-12-31:12:42:47:INFO] Sniff delimiter as ','\u001b[0m\n",
      "\u001b[34m[2019-12-31:12:42:47:INFO] Determined delimiter of CSV input is ','\u001b[0m\n",
      "\u001b[34m[2019-12-31:12:42:47:INFO] Sniff delimiter as ','\u001b[0m\n",
      "\u001b[34m[2019-12-31:12:42:47:INFO] Determined delimiter of CSV input is ','\u001b[0m\n",
      "\u001b[34m[2019-12-31:12:42:47:INFO] Sniff delimiter as ','\u001b[0m\n",
      "\u001b[34m[2019-12-31:12:42:47:INFO] Determined delimiter of CSV input is ','\u001b[0m\n",
      "\u001b[35m[2019-12-31:12:42:47:INFO] Sniff delimiter as ','\u001b[0m\n",
      "\u001b[35m[2019-12-31:12:42:47:INFO] Determined delimiter of CSV input is ','\u001b[0m\n",
      "\u001b[35m[2019-12-31:12:42:47:INFO] Sniff delimiter as ','\u001b[0m\n",
      "\u001b[35m[2019-12-31:12:42:47:INFO] Determined delimiter of CSV input is ','\u001b[0m\n",
      "\u001b[35m[2019-12-31:12:42:47:INFO] Sniff delimiter as ','\u001b[0m\n",
      "\u001b[35m[2019-12-31:12:42:47:INFO] Determined delimiter of CSV input is ','\u001b[0m\n",
      "\u001b[32m2019-12-31T12:42:44.519:[sagemaker logs]: MaxConcurrentTransforms=4, MaxPayloadInMB=6, BatchStrategy=MULTI_RECORD\u001b[0m\n",
      "\u001b[34m[2019-12-31:12:42:49:INFO] Sniff delimiter as ','\u001b[0m\n",
      "\u001b[34m[2019-12-31:12:42:49:INFO] Determined delimiter of CSV input is ','\u001b[0m\n",
      "\u001b[34m[2019-12-31:12:42:49:INFO] Sniff delimiter as ','\u001b[0m\n",
      "\u001b[34m[2019-12-31:12:42:49:INFO] Determined delimiter of CSV input is ','\u001b[0m\n",
      "\u001b[34m[2019-12-31:12:42:49:INFO] Sniff delimiter as ','\u001b[0m\n",
      "\u001b[34m[2019-12-31:12:42:49:INFO] Determined delimiter of CSV input is ','\u001b[0m\n",
      "\u001b[35m[2019-12-31:12:42:49:INFO] Sniff delimiter as ','\u001b[0m\n",
      "\u001b[35m[2019-12-31:12:42:49:INFO] Determined delimiter of CSV input is ','\u001b[0m\n",
      "\u001b[35m[2019-12-31:12:42:49:INFO] Sniff delimiter as ','\u001b[0m\n",
      "\u001b[35m[2019-12-31:12:42:49:INFO] Determined delimiter of CSV input is ','\u001b[0m\n",
      "\u001b[35m[2019-12-31:12:42:49:INFO] Sniff delimiter as ','\u001b[0m\n",
      "\u001b[35m[2019-12-31:12:42:49:INFO] Determined delimiter of CSV input is ','\u001b[0m\n",
      "\u001b[34m[2019-12-31:12:42:49:INFO] Sniff delimiter as ','\u001b[0m\n",
      "\u001b[34m[2019-12-31:12:42:49:INFO] Determined delimiter of CSV input is ','\u001b[0m\n",
      "\u001b[35m[2019-12-31:12:42:49:INFO] Sniff delimiter as ','\u001b[0m\n",
      "\u001b[35m[2019-12-31:12:42:49:INFO] Determined delimiter of CSV input is ','\u001b[0m\n",
      "\u001b[34m[2019-12-31:12:42:52:INFO] Sniff delimiter as ','\u001b[0m\n",
      "\u001b[34m[2019-12-31:12:42:52:INFO] Determined delimiter of CSV input is ','\u001b[0m\n",
      "\u001b[34m[2019-12-31:12:42:52:INFO] Sniff delimiter as ','\u001b[0m\n",
      "\u001b[34m[2019-12-31:12:42:52:INFO] Determined delimiter of CSV input is ','\u001b[0m\n",
      "\u001b[34m[2019-12-31:12:42:52:INFO] Sniff delimiter as ','\u001b[0m\n",
      "\u001b[34m[2019-12-31:12:42:52:INFO] Determined delimiter of CSV input is ','\u001b[0m\n",
      "\u001b[35m[2019-12-31:12:42:52:INFO] Sniff delimiter as ','\u001b[0m\n",
      "\u001b[35m[2019-12-31:12:42:52:INFO] Determined delimiter of CSV input is ','\u001b[0m\n",
      "\u001b[35m[2019-12-31:12:42:52:INFO] Sniff delimiter as ','\u001b[0m\n",
      "\u001b[35m[2019-12-31:12:42:52:INFO] Determined delimiter of CSV input is ','\u001b[0m\n",
      "\u001b[35m[2019-12-31:12:42:52:INFO] Sniff delimiter as ','\u001b[0m\n",
      "\u001b[35m[2019-12-31:12:42:52:INFO] Determined delimiter of CSV input is ','\u001b[0m\n",
      "\u001b[34m[2019-12-31:12:42:54:INFO] Sniff delimiter as ','\u001b[0m\n",
      "\u001b[34m[2019-12-31:12:42:54:INFO] Determined delimiter of CSV input is ','\u001b[0m\n",
      "\u001b[34m[2019-12-31:12:42:54:INFO] Sniff delimiter as ','\u001b[0m\n",
      "\u001b[34m[2019-12-31:12:42:54:INFO] Determined delimiter of CSV input is ','\u001b[0m\n",
      "\u001b[34m[2019-12-31:12:42:54:INFO] Sniff delimiter as ','\u001b[0m\n",
      "\u001b[34m[2019-12-31:12:42:54:INFO] Determined delimiter of CSV input is ','\u001b[0m\n",
      "\u001b[35m[2019-12-31:12:42:54:INFO] Sniff delimiter as ','\u001b[0m\n",
      "\u001b[35m[2019-12-31:12:42:54:INFO] Determined delimiter of CSV input is ','\u001b[0m\n",
      "\u001b[35m[2019-12-31:12:42:54:INFO] Sniff delimiter as ','\u001b[0m\n",
      "\u001b[35m[2019-12-31:12:42:54:INFO] Determined delimiter of CSV input is ','\u001b[0m\n",
      "\u001b[35m[2019-12-31:12:42:54:INFO] Sniff delimiter as ','\u001b[0m\n",
      "\u001b[35m[2019-12-31:12:42:54:INFO] Determined delimiter of CSV input is ','\u001b[0m\n",
      "\u001b[34m[2019-12-31:12:42:54:INFO] Sniff delimiter as ','\u001b[0m\n",
      "\u001b[34m[2019-12-31:12:42:54:INFO] Determined delimiter of CSV input is ','\u001b[0m\n",
      "\u001b[35m[2019-12-31:12:42:54:INFO] Sniff delimiter as ','\u001b[0m\n",
      "\u001b[35m[2019-12-31:12:42:54:INFO] Determined delimiter of CSV input is ','\u001b[0m\n",
      "\u001b[34m[2019-12-31:12:42:56:INFO] Sniff delimiter as ','\u001b[0m\n",
      "\u001b[34m[2019-12-31:12:42:56:INFO] Determined delimiter of CSV input is ','\u001b[0m\n",
      "\u001b[34m[2019-12-31:12:42:56:INFO] Sniff delimiter as ','\u001b[0m\n",
      "\u001b[35m[2019-12-31:12:42:56:INFO] Sniff delimiter as ','\u001b[0m\n",
      "\u001b[35m[2019-12-31:12:42:56:INFO] Determined delimiter of CSV input is ','\u001b[0m\n",
      "\u001b[35m[2019-12-31:12:42:56:INFO] Sniff delimiter as ','\u001b[0m\n",
      "\u001b[34m[2019-12-31:12:42:56:INFO] Determined delimiter of CSV input is ','\u001b[0m\n",
      "\u001b[35m[2019-12-31:12:42:56:INFO] Determined delimiter of CSV input is ','\u001b[0m\n",
      "\u001b[34m[2019-12-31:12:42:57:INFO] Sniff delimiter as ','\u001b[0m\n",
      "\u001b[34m[2019-12-31:12:42:57:INFO] Determined delimiter of CSV input is ','\u001b[0m\n",
      "\u001b[34m[2019-12-31:12:42:57:INFO] Sniff delimiter as ','\u001b[0m\n",
      "\u001b[34m[2019-12-31:12:42:57:INFO] Determined delimiter of CSV input is ','\u001b[0m\n",
      "\u001b[35m[2019-12-31:12:42:57:INFO] Sniff delimiter as ','\u001b[0m\n",
      "\u001b[35m[2019-12-31:12:42:57:INFO] Determined delimiter of CSV input is ','\u001b[0m\n",
      "\u001b[35m[2019-12-31:12:42:57:INFO] Sniff delimiter as ','\u001b[0m\n",
      "\u001b[35m[2019-12-31:12:42:57:INFO] Determined delimiter of CSV input is ','\u001b[0m\n",
      "\u001b[34m[2019-12-31:12:42:59:INFO] Sniff delimiter as ','\u001b[0m\n",
      "\u001b[34m[2019-12-31:12:42:59:INFO] Determined delimiter of CSV input is ','\u001b[0m\n",
      "\u001b[34m[2019-12-31:12:42:59:INFO] Sniff delimiter as ','\u001b[0m\n",
      "\u001b[34m[2019-12-31:12:42:59:INFO] Determined delimiter of CSV input is ','\u001b[0m\n",
      "\u001b[34m[2019-12-31:12:42:59:INFO] Sniff delimiter as ','\u001b[0m\n",
      "\u001b[34m[2019-12-31:12:42:59:INFO] Determined delimiter of CSV input is ','\u001b[0m\n",
      "\u001b[34m[2019-12-31:12:42:59:INFO] Sniff delimiter as ','\u001b[0m\n",
      "\u001b[34m[2019-12-31:12:42:59:INFO] Determined delimiter of CSV input is ','\u001b[0m\n",
      "\u001b[35m[2019-12-31:12:42:59:INFO] Sniff delimiter as ','\u001b[0m\n",
      "\u001b[35m[2019-12-31:12:42:59:INFO] Determined delimiter of CSV input is ','\u001b[0m\n",
      "\u001b[35m[2019-12-31:12:42:59:INFO] Sniff delimiter as ','\u001b[0m\n",
      "\u001b[35m[2019-12-31:12:42:59:INFO] Determined delimiter of CSV input is ','\u001b[0m\n",
      "\u001b[35m[2019-12-31:12:42:59:INFO] Sniff delimiter as ','\u001b[0m\n",
      "\u001b[35m[2019-12-31:12:42:59:INFO] Determined delimiter of CSV input is ','\u001b[0m\n",
      "\u001b[35m[2019-12-31:12:42:59:INFO] Sniff delimiter as ','\u001b[0m\n",
      "\u001b[35m[2019-12-31:12:42:59:INFO] Determined delimiter of CSV input is ','\u001b[0m\n",
      "\u001b[34m[2019-12-31:12:43:01:INFO] Sniff delimiter as ','\u001b[0m\n",
      "\u001b[34m[2019-12-31:12:43:01:INFO] Determined delimiter of CSV input is ','\u001b[0m\n",
      "\u001b[34m[2019-12-31:12:43:01:INFO] Sniff delimiter as ','\u001b[0m\n",
      "\u001b[34m[2019-12-31:12:43:01:INFO] Determined delimiter of CSV input is ','\u001b[0m\n",
      "\u001b[34m[2019-12-31:12:43:01:INFO] Sniff delimiter as ','\u001b[0m\n",
      "\u001b[34m[2019-12-31:12:43:01:INFO] Determined delimiter of CSV input is ','\u001b[0m\n",
      "\u001b[35m[2019-12-31:12:43:01:INFO] Sniff delimiter as ','\u001b[0m\n",
      "\u001b[35m[2019-12-31:12:43:01:INFO] Determined delimiter of CSV input is ','\u001b[0m\n",
      "\u001b[35m[2019-12-31:12:43:01:INFO] Sniff delimiter as ','\u001b[0m\n",
      "\u001b[35m[2019-12-31:12:43:01:INFO] Determined delimiter of CSV input is ','\u001b[0m\n",
      "\u001b[35m[2019-12-31:12:43:01:INFO] Sniff delimiter as ','\u001b[0m\n",
      "\u001b[35m[2019-12-31:12:43:01:INFO] Determined delimiter of CSV input is ','\u001b[0m\n",
      "\u001b[34m[2019-12-31:12:43:04:INFO] Sniff delimiter as ','\u001b[0m\n",
      "\u001b[34m[2019-12-31:12:43:04:INFO] Determined delimiter of CSV input is ','\u001b[0m\n",
      "\u001b[34m[2019-12-31:12:43:04:INFO] Sniff delimiter as ','\u001b[0m\n",
      "\u001b[34m[2019-12-31:12:43:04:INFO] Determined delimiter of CSV input is ','\u001b[0m\n",
      "\u001b[35m[2019-12-31:12:43:04:INFO] Sniff delimiter as ','\u001b[0m\n",
      "\u001b[35m[2019-12-31:12:43:04:INFO] Determined delimiter of CSV input is ','\u001b[0m\n",
      "\u001b[35m[2019-12-31:12:43:04:INFO] Sniff delimiter as ','\u001b[0m\n",
      "\u001b[35m[2019-12-31:12:43:04:INFO] Determined delimiter of CSV input is ','\u001b[0m\n",
      "\u001b[34m[2019-12-31:12:43:06:INFO] Sniff delimiter as ','\u001b[0m\n",
      "\u001b[34m[2019-12-31:12:43:06:INFO] Determined delimiter of CSV input is ','\u001b[0m\n",
      "\u001b[34m[2019-12-31:12:43:06:INFO] Sniff delimiter as ','\u001b[0m\n",
      "\u001b[34m[2019-12-31:12:43:06:INFO] Determined delimiter of CSV input is ','\u001b[0m\n",
      "\u001b[34m[2019-12-31:12:43:06:INFO] Sniff delimiter as ','\u001b[0m\n",
      "\u001b[34m[2019-12-31:12:43:06:INFO] Determined delimiter of CSV input is ','\u001b[0m\n",
      "\u001b[34m[2019-12-31:12:43:06:INFO] Sniff delimiter as ','\u001b[0m\n",
      "\u001b[34m[2019-12-31:12:43:06:INFO] Determined delimiter of CSV input is ','\u001b[0m\n",
      "\u001b[35m[2019-12-31:12:43:06:INFO] Sniff delimiter as ','\u001b[0m\n",
      "\u001b[35m[2019-12-31:12:43:06:INFO] Determined delimiter of CSV input is ','\u001b[0m\n",
      "\u001b[35m[2019-12-31:12:43:06:INFO] Sniff delimiter as ','\u001b[0m\n",
      "\u001b[35m[2019-12-31:12:43:06:INFO] Determined delimiter of CSV input is ','\u001b[0m\n",
      "\u001b[35m[2019-12-31:12:43:06:INFO] Sniff delimiter as ','\u001b[0m\n",
      "\u001b[35m[2019-12-31:12:43:06:INFO] Determined delimiter of CSV input is ','\u001b[0m\n",
      "\u001b[35m[2019-12-31:12:43:06:INFO] Sniff delimiter as ','\u001b[0m\n",
      "\u001b[35m[2019-12-31:12:43:06:INFO] Determined delimiter of CSV input is ','\u001b[0m\n",
      "\u001b[34m[2019-12-31:12:43:08:INFO] Sniff delimiter as ','\u001b[0m\n",
      "\u001b[34m[2019-12-31:12:43:08:INFO] Determined delimiter of CSV input is ','\u001b[0m\n",
      "\u001b[34m[2019-12-31:12:43:08:INFO] Sniff delimiter as ','\u001b[0m\n",
      "\u001b[34m[2019-12-31:12:43:08:INFO] Determined delimiter of CSV input is ','\u001b[0m\n",
      "\u001b[34m[2019-12-31:12:43:08:INFO] Sniff delimiter as ','\u001b[0m\n",
      "\u001b[34m[2019-12-31:12:43:08:INFO] Determined delimiter of CSV input is ','\u001b[0m\n",
      "\u001b[35m[2019-12-31:12:43:08:INFO] Sniff delimiter as ','\u001b[0m\n",
      "\u001b[35m[2019-12-31:12:43:08:INFO] Determined delimiter of CSV input is ','\u001b[0m\n",
      "\u001b[35m[2019-12-31:12:43:08:INFO] Sniff delimiter as ','\u001b[0m\n",
      "\u001b[35m[2019-12-31:12:43:08:INFO] Determined delimiter of CSV input is ','\u001b[0m\n",
      "\u001b[35m[2019-12-31:12:43:08:INFO] Sniff delimiter as ','\u001b[0m\n",
      "\u001b[35m[2019-12-31:12:43:08:INFO] Determined delimiter of CSV input is ','\u001b[0m\n",
      "\u001b[34m[2019-12-31:12:43:09:INFO] Sniff delimiter as ','\u001b[0m\n",
      "\u001b[34m[2019-12-31:12:43:09:INFO] Determined delimiter of CSV input is ','\u001b[0m\n",
      "\u001b[35m[2019-12-31:12:43:09:INFO] Sniff delimiter as ','\u001b[0m\n",
      "\u001b[35m[2019-12-31:12:43:09:INFO] Determined delimiter of CSV input is ','\u001b[0m\n",
      "\u001b[34m[2019-12-31:12:43:11:INFO] Sniff delimiter as ','\u001b[0m\n",
      "\u001b[34m[2019-12-31:12:43:11:INFO] Determined delimiter of CSV input is ','\u001b[0m\n",
      "\u001b[35m[2019-12-31:12:43:11:INFO] Sniff delimiter as ','\u001b[0m\n",
      "\u001b[35m[2019-12-31:12:43:11:INFO] Determined delimiter of CSV input is ','\u001b[0m\n"
     ]
    },
    {
     "name": "stdout",
     "output_type": "stream",
     "text": [
      "\n"
     ]
    }
   ],
   "source": [
    "xgb_transformer.wait()"
   ]
  },
  {
   "cell_type": "markdown",
   "metadata": {},
   "source": [
    "Now the transform job has executed and the result, the estimated sentiment of each review, has been saved on S3. Since we would rather work on this file locally we can perform a bit of notebook magic to copy the file to the `data_dir`."
   ]
  },
  {
   "cell_type": "code",
   "execution_count": 27,
   "metadata": {},
   "outputs": [
    {
     "name": "stdout",
     "output_type": "stream",
     "text": [
      "Completed 256.0 KiB/368.9 KiB (2.3 MiB/s) with 1 file(s) remaining\r",
      "Completed 368.9 KiB/368.9 KiB (3.3 MiB/s) with 1 file(s) remaining\r",
      "download: s3://sagemaker-us-east-1-479756289622/xgboost-2019-12-31-12-39-05-409/test.csv.out to ../data/sentiment_web_app/test.csv.out\r\n"
     ]
    }
   ],
   "source": [
    "!aws s3 cp --recursive $xgb_transformer.output_path $data_dir"
   ]
  },
  {
   "cell_type": "markdown",
   "metadata": {},
   "source": [
    "The last step is now to read in the output from our model, convert the output to something a little more usable, in this case we want the sentiment to be either `1` (positive) or `0` (negative), and then compare to the ground truth labels."
   ]
  },
  {
   "cell_type": "code",
   "execution_count": 28,
   "metadata": {},
   "outputs": [],
   "source": [
    "predictions = pd.read_csv(os.path.join(data_dir, 'test.csv.out'), header=None)\n",
    "predictions = [round(num) for num in predictions.squeeze().values]"
   ]
  },
  {
   "cell_type": "code",
   "execution_count": 29,
   "metadata": {},
   "outputs": [
    {
     "data": {
      "text/plain": [
       "0.85484"
      ]
     },
     "execution_count": 29,
     "metadata": {},
     "output_type": "execute_result"
    }
   ],
   "source": [
    "from sklearn.metrics import accuracy_score\n",
    "accuracy_score(test_y, predictions)"
   ]
  },
  {
   "cell_type": "markdown",
   "metadata": {},
   "source": [
    "## Step 6: Deploying the model\n",
    "\n",
    "Once we construct and fit our model, SageMaker stores the resulting model artifacts and we can use those to deploy an endpoint (inference code). To see this, look in the SageMaker console and you should see that a model has been created along with a link to the S3 location where the model artifacts have been stored.\n",
    "\n",
    "Deploying an endpoint is a lot like training the model with a few important differences. The first is that a deployed model doesn't change the model artifacts, so as you send it various testing instances the model won't change. Another difference is that since we aren't performing a fixed computation, as we were in the training step or while performing a batch transform, the compute instance that gets started stays running until we tell it to stop. This is important to note as if we forget and leave it running we will be charged the entire time.\n",
    "\n",
    "In other words **If you are no longer using a deployed endpoint, shut it down!**"
   ]
  },
  {
   "cell_type": "code",
   "execution_count": null,
   "metadata": {},
   "outputs": [
    {
     "name": "stderr",
     "output_type": "stream",
     "text": [
      "WARNING:sagemaker:Using already existing model: xgboost-2019-12-31-12-32-20-890\n"
     ]
    },
    {
     "name": "stdout",
     "output_type": "stream",
     "text": [
      "--------------------------------------"
     ]
    }
   ],
   "source": [
    "xgb_predictor = xgb.deploy(initial_instance_count = 1, instance_type = 'ml.m4.xlarge')"
   ]
  },
  {
   "cell_type": "markdown",
   "metadata": {},
   "source": [
    "### Testing the model (again)\n",
    "\n",
    "Now that we have deployed our endpoint, we can send the testing data to it and get back the inference results. We already did this earlier using the batch transform functionality of SageMaker, however, we will test our model again using the newly deployed endpoint so that we can make sure that it works properly and to get a bit of a feel for how the endpoint works.\n",
    "\n",
    "When using the created endpoint it is important to know that we are limited in the amount of information we can send in each call so we need to break the testing data up into chunks and then send each chunk. Also, we need to serialize our data before we send it to the endpoint to ensure that our data is transmitted properly. Fortunately, SageMaker can do the serialization part for us provided we tell it the format of our data."
   ]
  },
  {
   "cell_type": "code",
   "execution_count": null,
   "metadata": {},
   "outputs": [],
   "source": [
    "from sagemaker.predictor import csv_serializer\n",
    "\n",
    "# We need to tell the endpoint what format the data we are sending is in so that SageMaker can perform the serialization.\n",
    "xgb_predictor.content_type = 'text/csv'\n",
    "xgb_predictor.serializer = csv_serializer"
   ]
  },
  {
   "cell_type": "code",
   "execution_count": null,
   "metadata": {},
   "outputs": [],
   "source": [
    "# We split the data into chunks and send each chunk seperately, accumulating the results.\n",
    "\n",
    "def predict(data, rows=512):\n",
    "    split_array = np.array_split(data, int(data.shape[0] / float(rows) + 1))\n",
    "    predictions = ''\n",
    "    for array in split_array:\n",
    "        predictions = ','.join([predictions, xgb_predictor.predict(array).decode('utf-8')])\n",
    "    \n",
    "    return np.fromstring(predictions[1:], sep=',')"
   ]
  },
  {
   "cell_type": "code",
   "execution_count": null,
   "metadata": {},
   "outputs": [],
   "source": [
    "test_X = pd.read_csv(os.path.join(data_dir, 'test.csv'), header=None).values\n",
    "\n",
    "predictions = predict(test_X)\n",
    "predictions = [round(num) for num in predictions]"
   ]
  },
  {
   "cell_type": "markdown",
   "metadata": {},
   "source": [
    "Lastly, we check to see what the accuracy of our model is."
   ]
  },
  {
   "cell_type": "code",
   "execution_count": null,
   "metadata": {},
   "outputs": [],
   "source": [
    "from sklearn.metrics import accuracy_score\n",
    "accuracy_score(test_y, predictions)"
   ]
  },
  {
   "cell_type": "markdown",
   "metadata": {},
   "source": [
    "And the results here should agree with the model testing that we did earlier using the batch transform job.\n",
    "\n",
    "### Cleaning up\n",
    "\n",
    "Now that we've determined that deploying our model works as expected, we are going to shut it down. Remember that the longer the endpoint is left running, the greater the cost and since we have a bit more work to do before we are able to use our endpoint with our simple web app, we should shut everything down."
   ]
  },
  {
   "cell_type": "code",
   "execution_count": null,
   "metadata": {},
   "outputs": [],
   "source": [
    "xgb_predictor.delete_endpoint()"
   ]
  },
  {
   "cell_type": "markdown",
   "metadata": {},
   "source": [
    "## Step 7: Putting our model to work\n",
    "\n",
    "As we've mentioned a few times now, our goal is to have our model deployed and then access it using a very simple web app. The intent is for this web app to take some user submitted data (a review), send it off to our endpoint (the model) and then display the result.\n",
    "\n",
    "However, there is a small catch. Currently the only way we can access the endpoint to send it data is using the SageMaker API. We can, if we wish, expose the actual URL that our model's endpoint is receiving data from, however, if we just send it data ourselves we will not get anything in return. This is because the endpoint created by SageMaker requires the entity accessing it have the correct permissions. So, we would need to somehow authenticate our web app with AWS.\n",
    "\n",
    "Having a website that authenticates to AWS seems a bit beyond the scope of this lesson so we will opt for an alternative approach. Namely, we will create a new endpoint which does not require authentication and which acts as a proxy for the SageMaker endpoint.\n",
    "\n",
    "As an additional constraint, we will try to avoid doing any data processing in the web app itself. Remember that when we constructed and tested our model we started with a movie review, then we simplified it by removing any html formatting and punctuation, then we constructed a bag of words embedding and the resulting vector is what we sent to our model. All of this needs to be done to our user input as well.\n",
    "\n",
    "Fortunately we can do all of this data processing in the backend, using Amazon's Lambda service.\n",
    "\n",
    "<img src=\"Web App Diagram.svg\">\n",
    "\n",
    "The diagram above gives an overview of how the various services will work together. On the far right is the model which we trained above and which will be deployed using SageMaker. On the far left is our web app that collects a user's movie review, sends it off and expects a positive or negative sentiment in return.\n",
    "\n",
    "In the middle is where some of the magic happens. We will construct a Lambda function, which you can think of as a straightforward Python function that can be executed whenever a specified event occurs. This Python function will do the data processing we need to perform on a user submitted review. In addition, we will give this function permission to send and recieve data from a SageMaker endpoint.\n",
    "\n",
    "Lastly, the method we will use to execute the Lambda function is a new endpoint that we will create using API Gateway. This endpoint will be a url that listens for data to be sent to it. Once it gets some data it will pass that data on to the Lambda function and then return whatever the Lambda function returns. Essentially it will act as an interface that lets our web app communicate with the Lambda function.\n",
    "\n",
    "### Processing a single review\n",
    "\n",
    "For now, suppose we are given a movie review by our user in the form of a string, like so:"
   ]
  },
  {
   "cell_type": "code",
   "execution_count": null,
   "metadata": {},
   "outputs": [],
   "source": [
    "test_review = \"Nothing but a disgusting materialistic pageant of glistening abed remote control greed zombies, totally devoid of any heart or heat. A romantic comedy that has zero romantic chemestry and zero laughs!\""
   ]
  },
  {
   "cell_type": "markdown",
   "metadata": {},
   "source": [
    "How do we go from this string to the bag of words feature vector that is expected by our model?\n",
    "\n",
    "If we recall at the beginning of this notebook, the first step is to remove any unnecessary characters using the `review_to_words` method. Remember that we intentionally did this in a very simplistic way. This is because we are going to have to copy this method to our (eventual) Lambda function (we will go into more detail later) and this means it needs to be rather simplistic."
   ]
  },
  {
   "cell_type": "code",
   "execution_count": null,
   "metadata": {},
   "outputs": [],
   "source": [
    "test_words = review_to_words(test_review)\n",
    "print(test_words)"
   ]
  },
  {
   "cell_type": "markdown",
   "metadata": {},
   "source": [
    "Next, we need to construct a bag of words embedding of the `test_words` string. To do this, remember that a bag of words embedding uses a `vocabulary` consisting of the most frequently appearing words in a set of documents. Then, for each word in the vocabulary we record the number of times that word appears in `test_words`. We constructed the `vocabulary` earlier using the training set for our problem so encoding `test_words` is relatively straightforward."
   ]
  },
  {
   "cell_type": "code",
   "execution_count": null,
   "metadata": {},
   "outputs": [],
   "source": [
    "def bow_encoding(words, vocabulary):\n",
    "    bow = [0] * len(vocabulary) # Start by setting the count for each word in the vocabulary to zero.\n",
    "    for word in words.split():  # For each word in the string\n",
    "        if word in vocabulary:  # If the word is one that occurs in the vocabulary, increase its count.\n",
    "            bow[vocabulary[word]] += 1\n",
    "    return bow"
   ]
  },
  {
   "cell_type": "code",
   "execution_count": null,
   "metadata": {},
   "outputs": [],
   "source": [
    "test_bow = bow_encoding(test_words, vocabulary)\n",
    "print(test_bow)"
   ]
  },
  {
   "cell_type": "code",
   "execution_count": null,
   "metadata": {},
   "outputs": [],
   "source": [
    "len(test_bow)"
   ]
  },
  {
   "cell_type": "markdown",
   "metadata": {},
   "source": [
    "So now we know how to construct a bag of words encoding of a user provided review, how to we send it to our endpoint? First, we need to start the endpoint back up."
   ]
  },
  {
   "cell_type": "code",
   "execution_count": null,
   "metadata": {},
   "outputs": [],
   "source": [
    "xgb_predictor = xgb.deploy(initial_instance_count = 1, instance_type = 'ml.m4.xlarge')"
   ]
  },
  {
   "cell_type": "markdown",
   "metadata": {},
   "source": [
    "At this point we could just do the same thing that we did earlier when we tested our deployed model and send `test_bow` to our endpoint using the `xgb_predictor` object. However, when we eventually construct our Lambda function we won't have access to this object, so how do we call a SageMaker endpoint?\n",
    "\n",
    "It turns out that Python functions that are used in Lambda have access to another Amazon library called `boto3`. This library provides an API for working with Amazon services, including SageMaker. To start with, we need to get a handle to the SageMaker runtime."
   ]
  },
  {
   "cell_type": "code",
   "execution_count": null,
   "metadata": {},
   "outputs": [],
   "source": [
    "import boto3\n",
    "\n",
    "runtime = boto3.Session().client('sagemaker-runtime')"
   ]
  },
  {
   "cell_type": "markdown",
   "metadata": {},
   "source": [
    "And now that we have access to the SageMaker runtime, we can ask it to make use of (invoke) an endpoint that has already been created. However, we need to provide SageMaker with the name of the deployed endpoint. To find this out we can print it out using the `xgb_predictor` object."
   ]
  },
  {
   "cell_type": "code",
   "execution_count": null,
   "metadata": {},
   "outputs": [],
   "source": [
    "xgb_predictor.endpoint"
   ]
  },
  {
   "cell_type": "markdown",
   "metadata": {},
   "source": [
    "Using the SageMaker runtime and the name of our endpoint, we can invoke the endpoint and send it the `test_bow` data."
   ]
  },
  {
   "cell_type": "code",
   "execution_count": null,
   "metadata": {},
   "outputs": [],
   "source": [
    "response = runtime.invoke_endpoint(EndpointName = xgb_predictor.endpoint, # The name of the endpoint we created\n",
    "                                       ContentType = 'text/csv',                     # The data format that is expected\n",
    "                                       Body = test_bow)"
   ]
  },
  {
   "cell_type": "markdown",
   "metadata": {},
   "source": [
    "So why did we get an error?\n",
    "\n",
    "Because we tried to send the endpoint a list of integers but it expected us to send data of type `text/csv`. So, we need to convert it."
   ]
  },
  {
   "cell_type": "code",
   "execution_count": null,
   "metadata": {},
   "outputs": [],
   "source": [
    "response = runtime.invoke_endpoint(EndpointName = xgb_predictor.endpoint, # The name of the endpoint we created\n",
    "                                       ContentType = 'text/csv',                     # The data format that is expected\n",
    "                                       Body = ','.join([str(val) for val in test_bow]).encode('utf-8'))"
   ]
  },
  {
   "cell_type": "code",
   "execution_count": null,
   "metadata": {},
   "outputs": [],
   "source": [
    "print(response)"
   ]
  },
  {
   "cell_type": "markdown",
   "metadata": {},
   "source": [
    "As we can see, the response from our model is a somewhat complicated looking dict that contains a bunch of information. The bit that we are most interested in is `'Body'` object which is a streaming object that we need to `read` in order to make use of."
   ]
  },
  {
   "cell_type": "code",
   "execution_count": null,
   "metadata": {},
   "outputs": [],
   "source": [
    "response = response['Body'].read().decode('utf-8')\n",
    "print(response)"
   ]
  },
  {
   "cell_type": "markdown",
   "metadata": {},
   "source": [
    "Now that we know how to process the incoming user data we can start setting up the infrastructure to make our simple web app work. To do this we will make use of two different services. Amazon's Lambda and API Gateway services.\n",
    "\n",
    "Lambda is a service which allows someone to write some relatively simple code and have it executed whenever a chosen trigger occurs. For example, you may want to update a database whenever new data is uploaded to a folder stored on S3.\n",
    "\n",
    "API Gateway is a service that allows you to create HTTP endpoints (url addresses) which are connected to other AWS services. One of the benefits to this is that you get to decide what credentials, if any, are required to access these endpoints.\n",
    "\n",
    "In our case we are going to set up an HTTP endpoint through API Gateway which is open to the public. Then, whenever anyone sends data to our public endpoint we will trigger a Lambda function which will send the input (in our case a review) to our model's endpoint and then return the result."
   ]
  },
  {
   "cell_type": "markdown",
   "metadata": {},
   "source": [
    "### Setting up a Lambda function\n",
    "\n",
    "The first thing we are going to do is set up a Lambda function. This Lambda function will be executed whenever our public API has data sent to it. When it is executed it will receive the data, perform any sort of processing that is required, send the data (the review) to the SageMaker endpoint we've created and then return the result.\n",
    "\n",
    "#### Part A: Create an IAM Role for the Lambda function\n",
    "\n",
    "Since we want the Lambda function to call a SageMaker endpoint, we need to make sure that it has permission to do so. To do this, we will construct a role that we can later give the Lambda function.\n",
    "\n",
    "Using the AWS Console, navigate to the **IAM** page and click on **Roles**. Then, click on **Create role**. Make sure that the **AWS service** is the type of trusted entity selected and choose **Lambda** as the service that will use this role, then click **Next: Permissions**.\n",
    "\n",
    "In the search box type `sagemaker` and select the check box next to the **AmazonSageMakerFullAccess** policy. Then, click on **Next: Review**.\n",
    "\n",
    "Lastly, give this role a name. Make sure you use a name that you will remember later on, for example `LambdaSageMakerRole`. Then, click on **Create role**."
   ]
  },
  {
   "cell_type": "markdown",
   "metadata": {},
   "source": [
    "#### Part B: Create a Lambda function\n",
    "\n",
    "Now it is time to actually create the Lambda function. Remember from earlier that in order to process the user provided input and send it to our endpoint we need to gather two pieces of information:\n",
    "\n",
    " - The name of the endpoint, and\n",
    " - the vocabulary object.\n",
    "\n",
    "We will copy these pieces of information to our Lambda function after we create it.\n",
    "\n",
    "To start, using the AWS Console, navigate to the AWS Lambda page and click on **Create a function**. When you get to the next page, make sure that **Author from scratch** is selected. Now, name your Lambda function, using a name that you will remember later on, for example `sentiment_analysis_xgboost_func`. Make sure that the **Python 3.6** runtime is selected and then choose the role that you created in the previous part. Then, click on **Create Function**.\n",
    "\n",
    "On the next page you will see some information about the Lambda function you've just created. If you scroll down you should see an editor in which you can write the code that will be executed when your Lambda function is triggered. Collecting the code we wrote above to process a single review and adding it to the provided example `lambda_handler` we arrive at the following.\n",
    "\n",
    "```python\n",
    "# We need to use the low-level library to interact with SageMaker since the SageMaker API\n",
    "# is not available natively through Lambda.\n",
    "import boto3\n",
    "\n",
    "# And we need the regular expression library to do some of the data processing\n",
    "import re\n",
    "\n",
    "REPLACE_NO_SPACE = re.compile(\"(\\.)|(\\;)|(\\:)|(\\!)|(\\')|(\\?)|(\\,)|(\\\")|(\\()|(\\))|(\\[)|(\\])\")\n",
    "REPLACE_WITH_SPACE = re.compile(\"(<br\\s*/><br\\s*/>)|(\\-)|(\\/)\")\n",
    "\n",
    "def review_to_words(review):\n",
    "    words = REPLACE_NO_SPACE.sub(\"\", review.lower())\n",
    "    words = REPLACE_WITH_SPACE.sub(\" \", words)\n",
    "    return words\n",
    "    \n",
    "def bow_encoding(words, vocabulary):\n",
    "    bow = [0] * len(vocabulary) # Start by setting the count for each word in the vocabulary to zero.\n",
    "    for word in words.split():  # For each word in the string\n",
    "        if word in vocabulary:  # If the word is one that occurs in the vocabulary, increase its count.\n",
    "            bow[vocabulary[word]] += 1\n",
    "    return bow\n",
    "\n",
    "\n",
    "def lambda_handler(event, context):\n",
    "    \n",
    "    vocab = \"*** ACTUAL VOCABULARY GOES HERE ***\"\n",
    "    \n",
    "    words = review_to_words(event['body'])\n",
    "    bow = bow_encoding(words, vocab)\n",
    "\n",
    "    # The SageMaker runtime is what allows us to invoke the endpoint that we've created.\n",
    "    runtime = boto3.Session().client('sagemaker-runtime')\n",
    "\n",
    "    # Now we use the SageMaker runtime to invoke our endpoint, sending the review we were given\n",
    "    response = runtime.invoke_endpoint(EndpointName = '***ENDPOINT NAME HERE***',# The name of the endpoint we created\n",
    "                                       ContentType = 'text/csv',                 # The data format that is expected\n",
    "                                       Body = ','.join([str(val) for val in bow]).encode('utf-8')) # The actual review\n",
    "\n",
    "    # The response is an HTTP response whose body contains the result of our inference\n",
    "    result = response['Body'].read().decode('utf-8')\n",
    "    \n",
    "    # Round the result so that our web app only gets '1' or '0' as a response.\n",
    "    result = round(float(result))\n",
    "\n",
    "    return {\n",
    "        'statusCode' : 200,\n",
    "        'headers' : { 'Content-Type' : 'text/plain', 'Access-Control-Allow-Origin' : '*' },\n",
    "        'body' : str(result)\n",
    "    }\n",
    "```"
   ]
  },
  {
   "cell_type": "markdown",
   "metadata": {},
   "source": [
    "Once you have copy and pasted the code above into the Lambda code editor, replace the `**ENDPOINT NAME HERE**` portion with the name of the endpoint that we deployed earlier. You can determine the name of the endpoint using the code cell below."
   ]
  },
  {
   "cell_type": "code",
   "execution_count": null,
   "metadata": {},
   "outputs": [],
   "source": [
    "xgb_predictor.endpoint"
   ]
  },
  {
   "cell_type": "markdown",
   "metadata": {},
   "source": [
    "In addition, you will need to copy the vocabulary dict to the appropriate place in the code at the beginning of the `lambda_handler` method. The cell below prints out the vocabulary dict in a way that is easy to copy and paste."
   ]
  },
  {
   "cell_type": "code",
   "execution_count": 67,
   "metadata": {},
   "outputs": [
    {
     "name": "stdout",
     "output_type": "stream",
     "text": [
      "{'you': 4986, 'probably': 3407, 'heard': 2062, 'this': 4457, 'when': 4862, 'it': 2366, 'come': 886, 'to': 4507, 'movie': 2926, 'fully': 1847, 'loaded': 2632, 'with': 4911, 'crap': 1031, 'and': 226, 'yes': 4982, 'is': 2360, 'true': 4596, 'really': 3556, 'dreadful': 1353, 'totally': 4532, 'lame': 2510, 'got': 1944, 'be': 418, 'the': 4426, 'second': 3846, 'worst': 4952, 'ever': 1538, 'in': 2257, 'since': 3990, 'of': 3083, 'teenage': 4389, 'drama': 1346, 'queen': 3485, 'only': 3110, 'good': 1937, 'thing': 4450, 'about': 67, 'seem': 3861, 'over': 3148, 'talent': 4354, 'cast': 710, 'which': 4867, 'by': 642, 'far': 1653, 'better': 472, 'than': 4420, 'million': 2847, 'times': 4497, 'selling': 3873, 'point': 3316, 'dont': 1324, 'see': 3855, 'how': 2181, 'such': 4268, 'respected': 3653, 'actor': 103, 'like': 2599, 'matt': 2768, 'could': 1007, 'part': 3193, 'isnt': 2362, 'he': 2056, 'read': 3543, 'that': 4424, 'horrible': 2163, 'screenplay': 3831, 'before': 440, 'sign': 3970, 'on': 3105, 'what': 4858, 'didnt': 1242, 'also': 199, 'base': 402, 'surreal': 4317, 'fantasy': 1652, 'extraordinary': 1607, 'ability': 65, 'wall': 4781, 'go': 1924, 'faster': 1662, 'car': 680, 'after': 143, 'all': 187, 'just': 2437, 'know': 2489, 'kids': 2467, 'but': 636, 'they': 4442, 'have': 2052, 'gone': 1935, 'turn': 4605, 'out': 3141, 'more': 2904, 'silly': 3976, 'entertaining': 1499, 'little': 2624, 'realism': 3549, 'needed': 2988, 'plus': 3311, 'story': 4207, 'way': 4820, 'too': 4522, 'predictable': 3367, 'final': 1722, 'words': 4938, 'unless': 4669, 'are': 285, 'actually': 109, '12': 3, 'years': 4979, 'highly': 2105, 'doubt': 1332, 'any': 256, 'one': 3107, 'enjoy': 1484, 'senseless': 3878, 'my': 2951, 'money': 2888, 'feel': 1684, 'cheated': 775, 'rating': 3529, '10': 0, 'grade': 1951, 'think': 4452, 'truly': 4597, 'love': 2669, 'film': 1716, 'de': 1131, 'was': 4805, 'originally': 3131, 'silent': 3975, 'later': 2525, 'dubbed': 1379, 'into': 2332, 'french': 1830, 'despite': 1211, 'having': 2054, 'someone': 4064, 'voice': 4761, 'remains': 3611, 'stunning': 4244, 'tour': 4538, 'force': 1786, 'for': 1784, 'louis': 2665, 'brooks': 596, 'fact': 1621, 'her': 2085, 'singing': 3995, 'legendary': 2565, 'helps': 2082, 'us': 4690, 'dubbing': 1380, 'we': 4823, 'first': 1736, 'at': 331, 'resort': 3650, 'boyfriend': 558, 'georges': 1894, 'their': 4431, 'friend': 1835, 'enters': 1496, 'frame': 1815, 'as': 311, 'pair': 3176, 'legs': 2566, 'inside': 2297, 'changing': 752, 'costume': 1005, 'very': 4723, 'free': 1827, 'showing': 3958, 'off': 3084, 'body': 527, 'does': 1308, 'not': 3040, 'sit': 4003, 'well': 4843, 'title': 4504, 'miss': 2866, 'europe': 1529, 'happy': 2032, 'ending': 1471, 'going': 1931, 'sitting': 4007, 'end': 1468, 'easy': 1410, 'street': 4216, 'seems': 3864, 'focus': 1766, 'lot': 2661, 'men': 2805, 'beautiful': 428, 'women': 4923, 'plenty': 3307, 'reactions': 3542, 'staring': 4152, 'them': 4432, 'center': 732, 'magnificent': 2705, 'louise': 2666, 'if': 2222, 'mind': 2849, 'watching': 4815, 'films': 1721, 'from': 1840, 'then': 4436, 'consider': 949, 'checking': 778, 'name': 2960, 'most': 2909, 'average': 362, 'buffs': 612, 'may': 2775, 'soon': 4074, 'will': 4886, 'youll': 4988, 'want': 4788, 'check': 777, 'box': 555, 'can': 665, 'find': 1726, 'dvd': 1391, 'release': 3602, 'speed': 4103, 'correct': 1000, 'scenes': 3811, 'appear': 273, 'shown': 3959, 'fast': 1661, 'been': 438, 'were': 4848, 'shot': 3949, 'its': 2370, 'worth': 4953, 'minor': 2857, 'bitter': 491, 'happened': 2027, 'across': 96, 'cable': 644, 'night': 3013, 'started': 4157, 'thought': 4462, 'why': 4878, 'im': 2232, 'glad': 1916, 'gave': 1875, 'chance': 747, 'aint': 163, 'perfect': 3224, 'suffers': 4278, 'direction': 1261, 'occasional': 3074, 'overall': 3150, 'worked': 4941, 'elements': 1443, 'right': 3696, 'pulled': 3462, 'otherwise': 3137, 'pretty': 3384, 'ugly': 4625, 'due': 1382, 'jamie': 2379, 'who': 4871, 'lead': 2545, 'whoever': 4872, 'did': 1241, 'big': 478, 'favor': 1670, 'believable': 453, 'amazingly': 210, 'through': 4477, 'smooth': 4041, 'funnier': 1850, 'hell': 2077, 'tell': 4395, 'hes': 2093, 'working': 4944, 'instinct': 2308, 'doesnt': 1309, 'fail': 1625, 'him': 2110, 'plot': 3309, 'while': 4868, 'ties': 4490, 'together': 4511, 'theres': 4440, 'even': 1533, 'character': 758, 'grows': 1985, 'person': 3238, 'again': 146, 'couldve': 1009, 'without': 4913, 'makes': 2716, 'things': 4451, 'much': 2934, 'surprised': 4313, 'low': 2676, 'maybe': 2776, 'caught': 722, 'move': 2921, 'or': 3124, 'vice': 4727, 'id': 2212, 'give': 1912, 'show': 3953, '14': 6, 'ive': 2372, 'loved': 2670, 'because': 432, 'plain': 3286, 'funny': 1852, 'shows': 3960, 'something': 4066, 'new': 3003, 'everyday': 1541, 'favorite': 1671, 'always': 203, 'has': 2043, 'last': 2521, 'comments': 901, 'george': 1893, 'every': 1539, 'his': 2118, 'fat': 1663, 'giant': 1905, 'head': 2057, 'laughs': 2534, 'would': 4957, 'laugh': 2529, 'watch': 4811, 'friends': 1837, 'home': 2142, 'short': 3946, 'cool': 989, 'family': 1645, 'comedy': 890, 'series': 3890, 'enjoyable': 1485, 'everyone': 1542, 'definitely': 1162, 'havent': 2053, 'watched': 4813, 'yet': 4984, 'suggest': 4280, 'start': 4156, 'wouldnt': 4958, 'stop': 4201, 'though': 4461, 'there': 4438, 'arent': 288, 'anymore': 258, 'brand': 565, 'episodes': 1508, 'still': 4188, 're': 3535, 'runs': 3757, 'never': 3001, 'wears': 4832, 'begins': 444, 'between': 475, 'edgar': 1417, 'allen': 188, 'man': 2721, 'spend': 4105, 'an': 223, 'entire': 1502, 'creepy': 1052, 'castle': 712, 'course': 1019, 'hard': 2033, 'say': 3799, 'these': 4441, 'strange': 4211, 'people': 3221, 'supposed': 4306, 'wandering': 4785, 'around': 297, 'including': 2264, 'barbara': 397, 'fairly': 1631, 'odd': 3080, 'presentation': 3375, 'both': 547, 'english': 1483, 'back': 378, 'forth': 1804, 'few': 1700, 'perhaps': 3235, 'done': 1322, 'bits': 490, 'dialog': 1232, 'lost': 2660, 'rather': 3528, 'dark': 1115, 'being': 448, 'beyond': 476, 'small': 4033, 'circle': 821, 'light': 2595, 'doom': 1326, 'version': 4720, 'wondered': 4927, 'might': 2835, 'until': 4680, 'saw': 3798, 'topless': 4527, 'scene': 3809, 'guess': 1989, 'black': 493, 'white': 4870, 'those': 4460, 'novel': 3052, 'impress': 2250, 'adaptation': 113, 'exception': 1557, 'subplot': 4255, 'feature': 1678, 'debut': 1143, 'almost': 193, 'dead': 1132, 'book': 535, 'down': 1335, 'line': 2610, 'certainly': 738, 'large': 2517, 'cinematic': 818, 'instead': 2307, 'strong': 4229, 'element': 1442, 'other': 3135, 'best': 469, 'describe': 1194, 'long': 2644, 'journey': 2421, 'fans': 1650, 'scale': 3802, 'jewish': 2401, 'russian': 3762, 'protagonist': 3441, 'noble': 3021, '1970s': 17, 'during': 1387, 'time': 4495, 'muslim': 2949, 'war': 4792, 'forced': 1787, 'deal': 1135, 'number': 3060, 'unexpected': 4650, 'problems': 3409, 'life': 2592, 'sick': 3963, 'daughter': 1121, 'son': 4070, 'distant': 1295, 'gets': 1900, 'involved': 2346, 'some': 4061, 'dirty': 1268, 'neighborhood': 2993, 'nor': 3032, 'sad': 3767, 'essentially': 1523, 'involves': 2348, 'fine': 1729, 'luck': 2681, 'finding': 1727, 'unlike': 4670, 'received': 3564, 'had': 2003, 'clearly': 840, 'stated': 4161, 'idea': 2213, 'comic': 893, 'characters': 760, 'similar': 3978, 'jokes': 2415, 'another': 250, 'note': 3044, 'jay': 2386, 'himself': 2111, 'do': 1302, 'kung': 2498, 'fu': 1844, 'wont': 4932, 'anyone': 259, 'tries': 4585, 'act': 97, 'many': 2732, 'today': 4508, 'differences': 1247, 'luckily': 2682, 'contain': 962, 'fighting': 1709, 'visual': 4757, 'effects': 1431, 'acting': 99, 'pain': 3170, 'especially': 1520, 'else': 1448, 'so': 4046, 'reason': 3557, 'main': 2707, 'simply': 3986, 'popularity': 3334, 'wish': 4904, 'thus': 4486, 'making': 2718, 'getting': 1901, 'shouldnt': 3952, 'became': 431, 'budget': 610, 'china': 795, 'year': 4978, 'imdb': 2240, 'fed': 1682, 'up': 4683, 'am': 204, 'create': 1036, 'own': 3158, 'post': 3352, 'opening': 3114, 'kind': 2476, 'gas': 1874, 'fire': 1734, 'explosions': 1597, 'great': 1964, 'action': 100, 'packed': 3166, 'ice': 2210, 'nice': 3008, 'sometimes': 4067, 'steven': 4182, 'seagal': 3839, 'plays': 3301, 'rest': 3657, 'where': 4864, 'actors': 104, 'hired': 2117, 'bet': 470, 'dog': 1310, 'told': 4513, 'least': 2554, 'mostly': 2910, 'filled': 1715, 'rent': 3626, 'stock': 4193, 'shots': 3950, 'taken': 4350, 'air': 164, 'dialogs': 1233, 'music': 2946, 'pure': 3471, 'mean': 2779, 'cousin': 1021, 'shes': 3930, 'taking': 4352, 'burn': 625, 'next': 3007, 'gonna': 1936, 'said': 3774, 'review': 3676, 'cross': 1066, 'twin': 4615, 'non': 3027, 'whole': 4873, 'three': 4469, 'tied': 4489, 'pieces': 3273, 'fall': 1637, 'place': 3282, 'douglas': 1334, 'adams': 112, 'detail': 1217, 'thoroughly': 4459, 'modern': 2882, 'tragic': 4552, 'thin': 4449, 'lack': 2502, 'provoking': 3452, 'once': 3106, 'disturbing': 1300, 'ways': 4822, 'recall': 3562, 'possibly': 3351, 'wonderful': 4928, 'familiar': 1643, 'older': 3101, 'younger': 4990, 'woman': 4921, 'surprisingly': 4316, 'jail': 2376, 'mix': 2876, 'forgotten': 1797, 'indie': 2276, 'effort': 1432, 'actress': 105, 'candy': 668, 'gives': 1914, 'finest': 1730, 'performance': 3228, 'career': 686, 'drive': 1363, 'young': 4989, 'serious': 3891, 'violence': 4747, 'nudity': 3059, 'somewhat': 4068, 'surprising': 4315, 'handled': 2019, 'director': 1264, 'leads': 2548, 'sell': 3871, 'romance': 3732, 'enough': 1491, 'similarities': 3979, 'make': 2713, 'wonder': 4926, 'same': 3778, 'latter': 2528, 'appeared': 276, 'dancer': 1104, 'tv': 4610, 'rock': 3720, 'roll': 3728, 'cover': 1022, 'appearing': 277, 'eight': 1436, 'page': 3167, 'spread': 4133, '1968': 16, 'issue': 2364, 'adults': 126, 'magazine': 2701, 'she': 3923, 'witch': 4909, 'popular': 3333, 'cult': 1077, 'finally': 1724, 'made': 2697, 'video': 4733, 'set': 3898, 'classics': 837, 'available': 361, 'buy': 640, 'trying': 4601, 'missed': 2867, 'mark': 2739, 'editing': 1421, 'moments': 2887, 'takes': 4351, 'camera': 659, 'work': 4940, 'ie': 2221, 'lighting': 2596, 'amateur': 206, 'forgive': 1795, 'wasnt': 4807, 'sound': 4081, 'bit': 488, 'doing': 1312, 'future': 1856, 'total': 4531, 'expect': 1575, 'nearly': 2981, 'days': 1130, 'anything': 260, 'keep': 2449, 'your': 4991, 'expectations': 1576, 'get': 1899, 'hour': 2176, 'half': 2007, 'oh': 3096, 'yeah': 4977, 'bad': 382, 'ask': 316, 'me': 2778, 'take': 4349, 'thats': 4425, 'huge': 2185, 'stooges': 4200, 'fan': 1648, 'redeeming': 3577, 'quality': 3484, 'drinking': 1362, 'heavily': 2069, 'classic': 835, 'self': 3869, 'either': 1438, 'straight': 4210, 'named': 2961, 'larry': 2520, 'movies': 2927, 'opinion': 3118, 'here': 2086, 'real': 3547, 'potential': 3355, 'casting': 711, 'directed': 1259, 'filmed': 1717, 'edited': 1420, 'tried': 4584, 'antics': 255, 'musical': 2947, 'numbers': 3061, 'thrown': 4481, 'yourself': 4993, 'should': 3951, 'believe': 454, 'trash': 4565, 'subject': 4253, 'wait': 4770, 'sleep': 4024, 'kitchen': 2485, 'eat': 1411, 'frequently': 1832, 'masters': 2761, 'horror': 2168, 'live': 2625, 'constant': 957, 'projects': 3428, 'project': 3427, 'minds': 2852, 'directors': 1266, 'develop': 1222, 'bring': 585, 'food': 1778, 'began': 441, 'ran': 3513, 'edge': 1418, 'world': 4946, 'spoil': 4121, 'spoiled': 4122, 'spoiler': 4123, 'ahead': 159, 'sudden': 4272, 'no': 3020, 'sky': 4017, 'earlier': 1399, 'aliens': 184, 'huh': 2187, 'brain': 562, 'curse': 1086, 'storytelling': 4209, 'promising': 3433, 'build': 614, 'spoilers': 4124, 'jean': 2389, 'fate': 1665, 'countryside': 1015, 'lives': 2628, 'continue': 969, 'explore': 1594, 'fitting': 1742, 'deals': 1137, 'wealthy': 4827, 'upper': 4685, 'classes': 834, 'put': 3480, 'two': 4620, 'grand': 1953, 'rules': 3754, 'game': 1864, 'beautifully': 429, 'full': 1846, 'use': 4692, 'areas': 287, 'offers': 3090, 'particularly': 3195, 'ms': 2931, 'appears': 278, 'run': 3755, 'goes': 1930, 'selfish': 3870, 'portrayal': 3341, 'problem': 3408, 'script': 3834, 'high': 2100, 'points': 3319, 'emotions': 1461, 'clear': 839, 'whether': 4866, 'choices': 798, 'drawn': 1351, 'liked': 2600, 'relationship': 3597, 'each': 1395, 'ultimate': 4627, 'sympathy': 4343, 'bottom': 551, 'enormous': 1490, 'rich': 3685, 'help': 2079, 'depth': 1190, 'greatest': 1966, 'achievement': 94, 'shy': 3962, 'seeing': 3857, 'interested': 2324, 'cinema': 816, 'generally': 1881, 'production': 3419, 'premise': 3370, 'authentic': 358, 'england': 1482, 'john': 2409, 'williams': 4888, 'score': 3822, 'star': 4150, 'unfortunately': 4654, 'decent': 1147, 'flick': 1754, 'memorable': 2802, 'art': 304, 'house': 2178, 'style': 4249, 'mainstream': 2709, 'town': 4541, 'ordinary': 3128, 'genre': 1888, 'itself': 2371, 'satisfy': 3790, 'jane': 2380, 'fonda': 1777, 'unable': 4631, 'hide': 2097, 'factory': 1623, 'job': 2405, 'robert': 3713, 'contrived': 976, 'guy': 2000, 'loser': 2655, 'turns': 4609, '1990': 24, 'henry': 2084, 'ford': 1789, 'thomas': 4458, 'successfully': 4267, 'fool': 1779, 'mid': 2832, '90s': 61, '2003': 33, 'studios': 4241, 'try': 4600, 'stuff': 4243, 'couple': 1016, 'screens': 3832, 'multi': 2935, 'efforts': 1433, 'ill': 2228, 'sam': 3777, 'credits': 1050, 'heck': 2071, 'aware': 368, 'saying': 3800, 'basis': 408, 'sort': 4077, 'baby': 376, 'omen': 3104, 'kid': 2464, 'fell': 1690, 'flat': 1748, 'slow': 4031, 'incredibly': 2270, 'continued': 970, 'hoping': 2160, 'belief': 451, 'climax': 849, 'shed': 3924, 'okay': 3099, 'admit': 122, 'stale': 4141, 'closing': 859, 'designed': 1203, 'falls': 1640, 'drop': 1369, 'lying': 2690, 'blood': 512, 'hit': 2122, 'holding': 2130, 'sure': 4308, 'called': 652, 'special': 4097, 'crazy': 1035, 'mom': 2885, 'father': 1666, 'attempting': 342, 'balance': 387, 'everything': 1544, 'born': 544, 'girl': 1909, 'alive': 186, 'rats': 3531, 'above': 68, 'mother': 2911, 'nuts': 3064, 'merely': 2815, 'jealous': 2388, 'grow': 1982, 'michael': 2829, 'myers': 2952, 'prior': 3400, 'barely': 399, 'questions': 3489, 'open': 3112, 'doors': 1329, 'shut': 3961, 'sake': 3775, 'wild': 4885, 'mini': 2854, 'cartoon': 704, 'recognized': 3570, 'famous': 1647, 'smith': 4038, 'baker': 385, 'bill': 481, 'robinson': 3716, 'chorus': 803, 'girls': 1911, 'club': 863, 'stereotypes': 4179, 'cartoons': 705, 'meant': 2784, 'adult': 125, 'entertainment': 1500, 'local': 2634, 'talking': 4360, 'standard': 4144, 'animated': 241, 'universal': 4665, 'fox': 1814, 'disneys': 1290, 'early': 1400, 'mickey': 2831, 'mouse': 2919, 'loads': 2633, 'humor': 2192, 'uncle': 4636, 'went': 4847, 'disney': 1289, 'example': 1553, 'remember': 3616, 'certain': 737, '50': 51, 'now': 3054, 'clips': 852, 'south': 4087, 'park': 3190, 'viewers': 4739, 'excellent': 1555, 'actresses': 106, 'range': 3516, 'contains': 964, 'humour': 2194, 'quickly': 3491, 'experience': 1580, 'ups': 4686, 'ends': 1474, 'understand': 4643, 'parent': 3187, 'sat': 3786, 'hold': 2129, 'interest': 2323, 'appreciate': 279, 'view': 4736, 'children': 792, 'parents': 3188, 'childrens': 793, 'activities': 102, 'audience': 352, 'level': 2584, 'understood': 4647, 'allow': 189, 'complete': 921, 'piece': 3272, 'bear': 420, 'technically': 4382, 'sounds': 4084, 'personally': 3243, 'hate': 2046, 'awful': 372, 'considering': 952, 'seemed': 3862, 'written': 4972, 'old': 3100, 'school': 3813, 'reminded': 3619, 'play': 3296, 'none': 3028, 'child': 789, 'emotion': 1458, 'voices': 4763, 'thankfully': 4422, 'stick': 4185, 'save': 3794, 'positive': 3346, 'message': 2819, 'delivered': 1170, 'let': 2579, 'walk': 4775, 'messages': 2820, 'given': 1913, 'worry': 4950, 'inevitably': 2283, 'approach': 282, 'animals': 240, 'fear': 1676, 'win': 4892, 'competition': 918, 'left': 2561, 'authority': 360, 'figures': 1713, 'wow': 4962, 'seen': 3865, 'role': 3726, 'miscast': 2862, 'justin': 2440, 'single': 3996, 'land': 2511, 'power': 3359, 'behind': 447, 'painful': 3171, 'ok': 3098, 'played': 3297, 'professional': 3421, 'numerous': 3062, 'parts': 3199, 'cut': 1089, 'teeth': 4393, 'company': 910, 'figured': 1712, 'ready': 3546, 'ruins': 3752, 'screen': 3829, 'corrupt': 1001, 'cops': 993, 'sorry': 4076, 'ass': 323, 'hero': 2088, 'waste': 4808, 'theater': 4427, 'hbo': 2055, 'nothing': 3047, 'saturday': 3792, 'drunk': 1375, 'human': 2188, 'hollywood': 2137, 'blockbuster': 509, 'possible': 3350, 'original': 3129, 'hope': 2155, 'under': 4639, 'connection': 946, 'european': 1530, 'conventional': 979, 'american': 213, 'police': 3322, 'detective': 1220, 'attempt': 340, 'general': 1880, 'relative': 3599, 'boom': 537, '1960s': 15, 'vague': 4705, 'allowed': 190, 'influence': 2286, 'complexity': 924, 'medium': 2792, 'eg': 1434, 'practice': 3363, 'movement': 2923, 'anti': 254, 'figure': 1711, 'hollywoods': 2138, 'wing': 4896, 'values': 4710, 'tiresome': 4502, 'america': 212, 'vs': 4767, 'france': 1816, 'instance': 2304, '70s': 56, 'ignored': 2225, 'sense': 3877, 'warning': 4800, 'against': 147, 'gangsters': 1869, 'york': 4985, 'thriller': 4472, 'away': 369, 'returning': 3667, 'native': 2972, 'resolution': 3649, 'achieved': 93, 'further': 1853, 'inspector': 2299, 'whose': 4877, 'must': 2950, 'shake': 3914, 'control': 977, 'follow': 1772, 'importance': 2246, 'considered': 951, 'foreign': 1790, 'language': 2516, 'means': 2783, 'cannot': 670, 'signs': 3973, 'criminal': 1057, 'killed': 2469, 'comes': 891, 'spends': 4107, 'object': 3066, 'literally': 2622, 'viewed': 4737, 'chasing': 772, 'criminals': 1058, 'bed': 436, 'locked': 2637, 'cell': 730, 'loss': 2659, 'gun': 1996, 'follows': 1775, 'sequences': 3888, 'lady': 2507, 'says': 3801, 'looks': 2649, 'state': 4160, 'return': 3665, 'significant': 3972, 'avoid': 363, 'false': 1641, 'identity': 2217, 'kill': 2468, 'accepted': 82, 'society': 4050, 'theory': 4437, 'among': 217, 'rare': 3523, 'facts': 1624, 'towards': 4540, 'empathy': 1462, 'motivation': 2914, 'focusing': 1769, 'understandable': 4644, 'viewer': 4738, 'traditional': 4550, 'close': 853, 'etc': 1527, 'rise': 3702, 'case': 707, 'usual': 4699, 'cold': 872, 'turkey': 4604, 'therefore': 4439, 'share': 3920, 'less': 2575, 'complex': 923, 'thrillers': 4473, 'opposite': 3123, 'le': 2544, 'featured': 1679, 'gangster': 1868, 'powerful': 3360, 'outside': 3146, 'starts': 4159, 'partly': 3197, 'steps': 4177, 'largely': 2518, 'important': 2247, 'burning': 627, 'site': 4005, 'block': 508, 'held': 2074, 'setting': 3900, 'becomes': 434, 'irrelevant': 2358, 'stand': 4143, 'anywhere': 263, 'compare': 911, 'endings': 1472, 'despair': 1207, 'absolute': 71, 'terrible': 4407, 'prepared': 3371, 'confusing': 942, 'horribly': 2164, 'merit': 2816, 'nowhere': 3056, 'near': 2979, 'horrific': 2166, 'attempted': 341, 'typical': 4623, 'monster': 2892, 'slasher': 4020, 'nonsense': 3030, 'god': 1926, 'interesting': 2325, 'miracle': 2860, 'carries': 699, 'masterpiece': 2759, 'ultimately': 4628, 'weight': 4840, 'subplots': 4256, 'created': 1037, 'travel': 4567, 'knows': 2493, 'evil': 1548, 'brother': 598, 'sequence': 3887, 'beat': 423, 'traveling': 4568, 'stuck': 4237, 'soundtrack': 4085, 'cinematography': 820, 'dialogue': 1234, 'educational': 1425, 'purpose': 3474, 'sin': 3988, 'youre': 4992, 'teenager': 4390, 'tons': 4520, 'knew': 2486, 'chances': 748, 'sexual': 3908, 'pregnant': 3369, 'necessarily': 2983, 'lose': 2654, 'dreams': 1355, 'rarely': 3524, 'witnessed': 4915, 'gratuitous': 1961, 'hopeless': 2158, 'promise': 3430, 'initially': 2291, 'red': 3576, 'jr': 2423, 'roles': 3727, 'genius': 1887, 'coffee': 870, 'writer': 4968, 'produced': 3414, 'discovers': 1281, 'cheap': 774, 'commentary': 899, 'normally': 3034, 'write': 4967, 'disaster': 1276, 'produce': 3413, 'endless': 1473, 'longer': 2645, 'agree': 155, 'quote': 3496, 'wrong': 4973, 'tremendous': 4579, 'visually': 4758, 'emotionally': 1460, 'soft': 4051, 'intense': 2316, 'square': 4136, 'climactic': 848, 'tie': 4488, 'perfectly': 3226, 'nancy': 2964, 'wilson': 4891, 'emotional': 1459, 'suitable': 4285, 'dream': 1354, 'theme': 4433, 'although': 201, 'released': 3603, 'able': 66, 'hands': 2020, '60': 53, 'look': 2646, 'copy': 994, 'beach': 419, 'boys': 559, 'fits': 1741, 'ear': 1397, 'importantly': 2248, 'themes': 4434, 'sadness': 3770, 'regret': 3591, 'brings': 587, 'tears': 4380, 'eyes': 1613, 'however': 2183, 'crafted': 1029, 'catch': 714, 'closely': 855, 'obvious': 3071, 'easily': 1406, 'cameron': 661, 'altogether': 202, 'brilliance': 582, 'inspiration': 2300, 'alone': 194, 'honestly': 2147, 'touched': 4534, 'surprises': 4314, 'league': 2549, 'unlikely': 4671, 'sits': 4006, 'fun': 1848, 'chapter': 757, 'terrific': 4409, 'terms': 4406, 'expected': 1577, 'rings': 3699, 'changes': 751, 'formula': 1802, 'driven': 1365, 'giving': 1915, 'opens': 3115, 'scared': 3805, 'ghost': 1902, 'typically': 4624, 'decides': 1150, 'needs': 2990, 'knowledge': 2491, 'serving': 3897, 'guard': 1988, 'stolen': 4195, 'unfolds': 4651, 'corruption': 1002, 'violent': 4748, 'sleazy': 4023, 'results': 3662, 'coming': 896, 'deadly': 1133, 'fighter': 1708, 'nature': 2975, 'equally': 1510, 'knowing': 2490, 'likable': 2598, 'social': 4049, 'touching': 4536, 'personal': 3240, 'feeling': 1685, 'snake': 4042, 'amusing': 221, 'whilst': 4869, 'throughout': 4478, 'fair': 1630, 'amount': 219, 'relatively': 3600, 'pace': 3161, 'presents': 3377, 'potentially': 3356, 'per': 3223, 'sword': 4340, 'justice': 2438, 'consequences': 947, 'playing': 3300, 'tune': 4602, 'wife': 4884, 'weak': 4824, 'reduced': 3579, 'motion': 2913, 'pity': 3281, 'stronger': 4230, 'trashy': 4566, 'appropriate': 283, 'intrigue': 2333, 'excitement': 1562, 'effective': 1429, 'laid': 2508, 'previous': 3387, 'wholly': 4874, 'mildly': 2840, 'flawed': 1750, 'delightful': 1168, 'trilogy': 4586, 'songs': 4072, 'performed': 3230, '15': 7, 'talented': 4355, 'singers': 3994, 'performers': 3232, 'heart': 2064, 'felt': 1692, 'surprise': 4312, 'reality': 3551, 'happiness': 2031, 'winner': 4897, '13': 4, 'weeks': 4839, 'viewing': 4740, '30': 42, 'remaining': 3610, 'strangers': 4214, 'bands': 392, 'added': 116, 'tension': 4404, 'recorded': 3574, 'gentle': 1890, 'profound': 3423, 'understated': 4646, 'allows': 192, 'natural': 2973, 'scenery': 3810, 'road': 3709, 'trip': 4588, 'sophisticated': 4075, 'stars': 4155, 'carry': 700, 'impact': 2244, 'vision': 4754, 'sensitive': 3879, 'mixture': 2878, 'photographed': 3258, 'manages': 2725, 'maintain': 2710, 'paying': 3217, 'homage': 2141, 'countries': 1013, 'southern': 4088, 'student': 4238, 'western': 4853, 'girlfriend': 1910, 'following': 1774, 'religious': 3608, 'elderly': 1440, 'decided': 1149, 'italy': 2368, 'along': 195, 'visit': 4755, 'focused': 1767, 'struggle': 4234, 'fathers': 1667, 'demands': 1175, 'encounter': 1466, 'herself': 2092, 'eventually': 1537, 'promises': 3432, 'guide': 1993, 'duo': 1386, 'bar': 396, 'countless': 1012, 'border': 539, 'agents': 151, 'progress': 3425, 'various': 4715, 'reasons': 3560, 'beliefs': 452, 'reach': 3536, 'surrounded': 4318, 'overwhelming': 3157, 'manner': 2729, 'meaning': 2780, 'youth': 4994, 'age': 148, 'feels': 1687, 'happens': 2029, 'beauty': 430, 'need': 2987, 'superb': 4296, 'recent': 3566, 'currently': 1085, 'carefully': 689, 'magic': 2703, 'tender': 4401, 'brilliantly': 584, 'recommended': 3572, 'abysmal': 76, 'capital': 673, 'bush': 632, 'president': 3378, 'absolutely': 72, 'welcome': 4842, 'camp': 662, 'al': 170, 'joke': 2414, 'commercials': 903, 'leading': 2547, 'hopefully': 2157, 'season': 3843, 'texas': 4418, 'massacre': 2754, 'rubbish': 3748, 'song': 4071, 'awesome': 371, 'basically': 407, 'ages': 152, 'found': 1811, 'battle': 414, 'thousand': 4465, 'miles': 2843, 'ray': 3533, 'wise': 4903, 'dangerous': 1110, 'web': 4833, 'causing': 726, 'trouble': 4592, 'already': 197, 'stylish': 4251, 'exciting': 1563, 'sent': 3880, 'vhs': 4725, 'acted': 98, 'keeps': 2451, 'reviewers': 3678, 'sir': 4000, 'alexander': 180, 'wells': 4845, 'poor': 3328, 'ratings': 3530, 'aside': 315, 'seemingly': 3863, 'beginning': 443, 'moves': 2925, 'conclusion': 936, 'ralph': 3510, 'boss': 546, 'space': 4090, 'raymond': 3534, 'deliver': 1169, 'performances': 3229, 'mr': 2929, 'running': 3756, 'matched': 2763, 'experienced': 1581, 'phony': 3256, 'using': 4698, 'mass': 2753, 'driver': 1366, 'ridiculous': 3693, 'break': 569, 'choice': 797, 'manage': 2722, 'statement': 4162, 'destiny': 1212, 'doubts': 1333, 'wisdom': 4902, 'proper': 3436, 'response': 3654, 'die': 1243, 'standing': 4146, 'hand': 2015, 'universe': 4666, 'breaks': 571, 'shall': 3916, 'wars': 4804, 'blade': 495, 'remind': 3618, 'upon': 4684, 'latest': 2526, 'honor': 2150, 'humanity': 2189, 'leave': 2555, 'earth': 1403, 'core': 995, 'mood': 2898, 'whatever': 4859, 'breath': 573, 'commented': 900, 'media': 2789, 'surviving': 4323, 'examples': 1554, '80s': 59, 'developed': 1223, 'process': 3412, 'required': 3641, 'clean': 838, 'led': 2558, 'sadly': 3769, 'noted': 3045, 'fest': 1696, 'thinking': 4453, 'study': 4242, 'whatsoever': 4861, 'stupid': 4247, 'middle': 2833, 'julia': 2427, 'reading': 3544, 'step': 4175, 'below': 462, 'porn': 3336, 'guys': 2001, 'clue': 864, 'worse': 4951, 'absurd': 73, 'whom': 4875, 'assume': 328, 'writes': 4970, 'villain': 4744, 'value': 4709, 'honest': 2146, 'overlook': 3153, 'design': 1202, 'costumes': 1006, 'speak': 4094, 'push': 3477, 'forward': 1808, 'sci': 3815, 'fi': 1701, 'threw': 4470, 'came': 656, 'used': 4693, 'peoples': 3222, 'flaws': 1752, 'enjoyed': 1486, 'burns': 628, 'episode': 1507, 'mouth': 2920, 'madness': 2698, 'quite': 3495, 'pro': 3406, 'solid': 4057, 'directing': 1260, 'carpenter': 694, 'writing': 4971, 'rush': 3759, 'holes': 2133, 'worthwhile': 4955, 'mess': 2818, 'hardcore': 2034, 'slightest': 4028, 'enjoyment': 1488, 'member': 2800, 'staff': 4138, 'hamilton': 2012, 'recently': 3567, 'convinced': 984, 'double': 1331, 'result': 3660, 'flop': 1760, 'major': 2711, 'gold': 1932, 'urge': 4689, 'internet': 2327, 'vote': 4766, 'talents': 4356, 'likewise': 2603, 'putting': 3482, '100': 1, 'convince': 983, 'kinda': 2477, 'somewhere': 4069, 'program': 3424, 'awfully': 373, 'writers': 4969, 'suspects': 4328, 'boring': 543, 'unbelievably': 4635, 'annoying': 249, 'wanted': 4789, 'tough': 4537, 'chief': 788, 'crimes': 1056, 'uninteresting': 4660, 'bland': 500, 'disappointment': 1275, 'indeed': 2271, 'several': 3905, 'eric': 1514, 'paint': 3173, 'dry': 1377, '2007': 37, 'century': 736, 'extreme': 1609, 'valley': 4707, 'wooden': 4934, 'often': 3095, 'passing': 3204, 'effect': 1428, 'class': 833, 'captured': 677, 'accident': 84, 'cant': 671, 'utter': 4701, 'creating': 1039, 'sequels': 3886, 'prom': 3429, 'group': 1980, 'hiding': 2099, 'secret': 3849, 'brutal': 603, 'revenge': 3675, 'please': 3304, 'explain': 1586, 'rising': 3703, 'grave': 1962, 'steel': 4173, 'constantly': 958, 'wondering': 4930, 'happen': 2026, 'call': 651, 'laughing': 2533, 'begin': 442, 'initial': 2290, 'landscape': 2513, 'cgi': 740, 'showed': 3956, 'looked': 2647, 'drawing': 1350, 'lion': 2614, 'king': 2479, 'took': 4523, 'woods': 4935, 'apparent': 269, 'cheesy': 781, 'toilet': 4512, 'spent': 4108, 'roger': 3724, 'match': 2762, 'warned': 4798, 'disappointed': 1273, 'reviews': 3679, 'hunters': 2200, 'earned': 1401, 'afternoon': 144, 'theyre': 4445, 'ones': 3108, 'bin': 483, 'storyline': 4208, 'completely': 922, 'revolves': 3682, 'simple': 3983, 'daddy': 1096, 'tedious': 4387, 'side': 3965, 'cook': 988, 'cars': 702, 'meets': 2795, 'purchased': 3470, 'mysterious': 2955, 'explained': 1587, 'different': 1248, 'shadow': 3912, 'inner': 2292, 'darkness': 1117, 'exists': 1573, 'devil': 1228, 'pick': 3265, 'suits': 4287, 'fancy': 1649, 'trust': 4598, 'matter': 2769, 'companion': 909, 'wealth': 4826, 'followed': 1773, 'physically': 3263, 'souls': 4080, 'heaven': 2068, 'ryan': 3765, 'mary': 2751, 'tame': 4363, 'pleasure': 3306, 'florida': 1761, 'festival': 1697, 'treat': 4572, 'afterwards': 145, 'boy': 557, 'beneath': 464, 'foot': 1781, 'nearby': 2980, 'sees': 3866, 'living': 2629, 'creature': 1045, 'pay': 3216, 'chain': 741, 'events': 1536, 'involving': 2349, 'related': 3594, 'lots': 2662, 'recognize': 3569, 'stood': 4199, 'kennedy': 2454, 'experiment': 1583, 'fortune': 1806, 'lynch': 2691, 'dressing': 1359, 'drew': 1360, 'animal': 239, 'loving': 2675, 'brian': 576, 'cox': 1026, 'owner': 3159, 'chinese': 796, 'tells': 4397, 'death': 1141, 'obsessed': 3069, 'delivery': 1173, 'funniest': 1851, 'moment': 2886, 'day': 1129, 'extremely': 1610, 'mrs': 2930, 'perform': 3227, 'access': 83, 'plastic': 3294, 'amazing': 209, 'doctor': 1304, 'month': 2896, 'trade': 4547, 'starring': 4154, 'jackie': 2374, 'chan': 746, 'endearing': 1469, 'phone': 3255, 'wood': 4933, 'officers': 3093, 'event': 1535, 'apparently': 270, 'walked': 4776, 'spot': 4131, 'bus': 631, 'stopped': 4202, 'seven': 3903, 'waiting': 4772, 'bridge': 578, 'six': 4010, 'weird': 4841, 'lights': 2597, 'turning': 4608, 'returns': 3668, 'invasion': 2340, 'intriguing': 2335, 'ironic': 2355, 'witty': 4917, 'situations': 4009, 'brazil': 568, 'installment': 2303, 'cia': 814, 'killing': 2472, 'order': 3126, 'jason': 2383, 'bourne': 554, 'damon': 1101, 'credible': 1048, 'stay': 4166, 'gotten': 1947, 'folks': 1771, 'minute': 2858, 'somebody': 4062, 'chase': 769, 'add': 115, 'pictures': 3270, 'suspense': 4330, 'entertained': 1498, 'tired': 4501, 'looking': 2648, 'burt': 629, 'reynolds': 3684, 'former': 1800, 'heroes': 2089, 'plan': 3287, 'producers': 3416, 'footage': 1782, 'staged': 4140, 'logic': 2638, 'aspects': 322, 'twists': 4619, 'presence': 3373, 'notice': 3048, 'liners': 2611, 'daughters': 1122, 'escape': 1517, 'city': 825, 'cabin': 643, 'remote': 3622, 'intentions': 2321, 'wants': 4791, 'depression': 1189, 'ancient': 225, 'prison': 3401, 'photos': 3261, 'history': 2121, 'suicide': 4283, 'genuine': 1891, 'scares': 3806, 'hasnt': 2044, '25': 40, 'memory': 2804, 'searching': 3842, 'past': 3207, 'empty': 1465, 'search': 3841, 'sight': 3969, 'deeply': 1156, 'atmospheric': 334, 'horrifying': 2167, 'nightmare': 3014, 'david': 1124, 'empire': 1464, 'blue': 518, 'mixed': 2877, 'naked': 2959, 'angel': 231, 'mention': 2810, 'forbidden': 1785, 'form': 1798, 'concept': 930, 'expecting': 1578, 'unusual': 4681, 'appalling': 268, 'obviously': 3072, 'slightly': 4029, 'productions': 3420, 'paid': 3169, 'useless': 4695, 'pointless': 3318, 'plots': 3310, 'stealing': 4171, 'throws': 4482, 'window': 4894, 'shoot': 3942, 'brains': 563, 'store': 4204, 'brilliant': 583, 'subtle': 4260, 'highlights': 2104, 'bothered': 549, 'outer': 3143, 'christian': 808, 'heavy': 2070, 'handed': 2016, 'conversation': 980, 'jennifer': 2392, 'travesty': 4570, 'johnny': 2410, 'weekend': 4838, 'ago': 154, 'games': 1865, 'code': 869, 'decision': 1151, 'unrealistic': 4677, 'illogical': 2231, 'award': 366, 'died': 1244, 'awards': 367, 'stupidity': 4248, 'hey': 2095, 'kim': 2475, 'responsible': 3656, 'bringing': 586, 'humans': 2190, 'considerable': 950, 'amounts': 220, 'feed': 1683, '80': 58, '20': 29, 'idiots': 2220, 'opportunity': 3121, 'idiot': 2218, 'anime': 243, 'animation': 242, 'hates': 2048, 'development': 1225, 'brought': 600, 'transition': 4561, 'attention': 345, 'soldier': 4053, 'cause': 723, 'everyones': 1543, 'vampire': 4711, 'hunter': 2199, 'doc': 1303, 'savage': 3793, 'bored': 541, '60s': 54, 'batman': 413, 'except': 1556, 'accidentally': 85, 'late': 2523, 'television': 4394, 'moved': 2922, 'court': 1020, 'trial': 4580, 'imagination': 2236, 'blend': 504, 'citizen': 824, 'kane': 2442, 'wind': 4893, 'rated': 3527, 'higher': 2101, 'listed': 2618, 'top': 4525, 'realized': 3553, 'compared': 912, 'list': 2617, 'north': 3036, 'purchase': 3469, 'others': 3136, 'discover': 1279, 'hidden': 2096, 'treasure': 4571, 'national': 2970, 'practically': 3362, 'unknown': 4668, 'larger': 2519, 'vacation': 4704, 'situation': 4008, 'thinks': 4454, 'section': 3853, 'hotel': 2175, 'ham': 2011, 'vicious': 4728, 'germans': 1897, 'franchise': 1817, 'public': 3460, 'taste': 4369, 'angry': 238, 'telling': 4396, 'random': 3514, 'audio': 354, 'choose': 799, 'difficult': 1249, 'third': 4455, 'proves': 3447, 'skill': 4013, 'achieve': 92, 'desired': 1206, 'filmmakers': 1720, '90': 60, 'flow': 1762, 'anthony': 253, 'aimed': 162, 'department': 1182, 'nobody': 3022, 'surfing': 4311, 'advance': 127, 'digital': 1251, 'week': 4837, 'pleasant': 3302, 'wave': 4818, 'our': 3139, 'current': 1084, 'bay': 416, 'jaws': 2385, 'generations': 1884, 'interviews': 2330, 'present': 3374, 'fashion': 1659, 'leaves': 2556, 'james': 2378, 'sean': 3840, 'relations': 3596, 'nicely': 3009, 'type': 4621, 'wide': 4880, 'mad': 2696, 'killer': 2470, 'punk': 3468, 'la': 2500, 'academy': 77, 'failure': 1629, 'generation': 1883, 'glory': 1922, 'fascinated': 1657, 'enthusiasm': 1501, 'change': 749, 'ideal': 2214, 'convey': 982, 'delight': 1167, 'blame': 499, 'emphasis': 1463, 'landscapes': 2514, 'mentioned': 2811, 'gene': 1879, 'kelly': 2452, 'flicks': 1755, 'paris': 3189, 'dance': 1103, 'renting': 3629, '1980s': 21, 'dad': 1095, 'bought': 552, 'changed': 750, 'thanks': 4423, 'featuring': 1681, 'van': 4713, 'der': 1191, 'et': 1526, 'dub': 1378, 'translation': 4562, 'japanese': 2382, 'raise': 3507, 'question': 3487, 'intended': 2315, 'darker': 1116, 'narrative': 2966, 'based': 404, 'books': 536, 'mystery': 2956, 'underrated': 4642, 'regular': 3592, 'superhero': 4299, 'crew': 1053, 'include': 2261, 'ben': 463, 'stiller': 4189, 'william': 4887, 'macy': 2695, 'hank': 2024, 'paul': 3214, 'superman': 4301, 'bruce': 602, 'wayne': 4821, 'types': 4622, 'jobs': 2406, 'relate': 3593, 'joy': 2422, 'guessed': 1990, 'twins': 4616, 'switch': 4339, 'places': 3284, 'trap': 4563, 'nominated': 3025, 'oscar': 3133, 'ended': 1470, 'military': 2844, 'machine': 2693, 'excuse': 1564, 'iraq': 2351, 'heroic': 2090, 'drug': 1373, 'bore': 540, 'domestic': 1318, 'laughed': 2532, 'levels': 2585, 'hilarious': 2106, 'howard': 2182, 'independent': 2272, 'clichés': 846, 'comedies': 889, 'relief': 3605, 'unique': 4662, 'warming': 4795, 'recommend': 3571, 'chicago': 785, 'respect': 3652, 'richard': 3686, 'smile': 4036, 'facial': 1619, 'proved': 3446, 'craft': 1028, 'danes': 1108, 'super': 4295, 'suggested': 4281, 'unnecessary': 4672, 'shocked': 3939, 'hadnt': 2004, 'theaters': 4428, 'exceptional': 1558, 'thrills': 4475, 'pitt': 3280, 'stories': 4205, 'resemblance': 3645, 'jaw': 2384, 'ludicrous': 2685, 'bbc': 417, 'pass': 3201, 'amazed': 208, 'eve': 1532, 'sue': 4274, 'lines': 2612, 'seasons': 3844, 'team': 4378, 'christmas': 810, 'west': 4852, 'football': 1783, 'contained': 963, 'bollywood': 530, 'won': 4925, '17': 9, 'coach': 868, 'jazz': 2387, 'loves': 2674, 'learn': 2550, 'married': 2744, 'secretly': 3851, 'joe': 2407, 'strikes': 4225, 'lets': 2580, 'sisters': 4002, 'wedding': 4836, 'realise': 3548, 'halloween': 2010, 'godfather': 1927, 'hill': 2108, 'suspenseful': 4331, 'terrifying': 4410, 'inspired': 2301, 'scores': 3823, 'friday': 1834, '13th': 5, 'bloody': 513, 'charlie': 765, 'obscure': 3068, 'dr': 1340, 'lab': 2501, 'normal': 3033, 'grew': 1972, 'area': 286, 'identify': 2216, 'safe': 3771, 'finger': 1731, 'heroine': 2091, 'jack': 2373, 'besides': 468, 'lee': 2559, 'curtis': 1087, 'shoes': 3941, 'date': 1118, 'donald': 1321, 'steals': 4172, 'compelled': 915, 'send': 3875, 'legend': 2564, 'drives': 1367, 'picture': 3269, 'hear': 2061, 'forget': 1793, 'nowadays': 3055, 'image': 2233, 'afraid': 140, 'shadows': 3913, 'visible': 4753, 'teens': 4392, 'adds': 119, 'teenagers': 4391, 'fortunately': 1805, 'key': 2458, 'pursuit': 3476, 'grab': 1949, 'popcorn': 3331, 'pop': 3330, 'trick': 4582, 'mario': 2738, 'ann': 244, 'dorothy': 1330, 'known': 2492, 'glorious': 1921, 'opera': 3116, 'stage': 4139, 'smiling': 4037, 'strike': 4224, 'lay': 2542, 'dramatic': 1348, 'remarkable': 3613, 'dick': 1239, 'johnson': 2411, 'golden': 1934, 'photo': 3257, 'wrapped': 4964, 'shirt': 3937, 'victor': 4731, 'san': 3780, 'francisco': 1819, 'mgm': 2828, 'dying': 1393, 'met': 2822, 'finish': 1732, 'duke': 1383, 'husband': 2204, 'marriage': 2743, 'massive': 2756, 'estate': 1525, 'four': 1812, 'mistress': 2874, 'remarkably': 3614, 'listen': 2619, 'sing': 3992, 'notes': 3046, 'evidence': 1546, 'deserved': 1200, 'sings': 3997, 'energy': 1478, 'lovely': 2671, 'lovers': 2673, 'incredible': 2269, 'wished': 4905, 'channel': 753, 'discovered': 1280, 'spoken': 4126, 'ten': 4399, 'outstanding': 3147, 'scott': 3824, 'rescue': 3643, 'charge': 761, 'kidnapped': 2466, 'italian': 2367, 'danny': 1112, 'jonathan': 2417, 'exceptionally': 1559, 'turned': 4606, 'reel': 3581, 'impression': 2252, 'remake': 3612, 'tony': 4521, 'improvement': 2256, 'hardly': 2036, 'americas': 215, 'ranks': 3519, 'willing': 4889, 'march': 2734, 'shape': 3919, 'material': 2766, 'usually': 4700, 'surface': 4310, 'bag': 384, 'skip': 4016, 'petty': 3249, 'appealing': 272, 'deaf': 1134, 'ears': 1402, 'winds': 4895, 'assigned': 325, 'studio': 4240, 'widmark': 4882, 'established': 1524, 'peters': 3248, 'portrait': 3339, 'sexy': 3911, 'dumb': 1385, 'become': 433, 'winning': 4898, 'broadway': 592, 'convincingly': 986, 'introduced': 2337, 'impossible': 2249, 'tale': 4353, 'picks': 3268, 'finds': 1728, 'secrets': 3852, 'cash': 709, 'enterprise': 1495, 'noir': 3023, 'minutes': 2859, 'screenwriter': 3833, 'party': 3200, 'corny': 997, 'pulp': 3465, 'fiction': 1702, 'hanging': 2023, 'seconds': 3848, 'starting': 4158, 'instantly': 2306, 'curiosity': 1082, 'hot': 2174, 'hook': 2152, 'glenn': 1918, 'critics': 1064, 'stiff': 4187, 'expressed': 1601, 'whats': 4860, 'fight': 1707, 'individuals': 2278, 'country': 1014, 'likely': 2601, 'benefit': 465, 'vivid': 4760, 'fallen': 1638, 'particular': 3194, 'cried': 1054, 'precious': 3366, 'evident': 1547, 'angles': 237, 'desperation': 1210, 'accent': 78, 'backdrop': 379, 'fields': 1705, 'zombies': 4998, 'features': 1680, 'punch': 3466, 'suspect': 4327, 'decades': 1145, 'count': 1010, 'happening': 2028, 'extra': 1606, 'utterly': 4702, 'tea': 4373, 'trite': 4589, 'desire': 1205, 'slowly': 4032, 'pot': 3354, 'imaginative': 2237, 'nine': 3017, 'santa': 3783, 'claim': 828, 'boredom': 542, 'frank': 1821, 'sinatra': 3989, 'meet': 2793, 'notorious': 3051, 'whos': 4876, 'terror': 4412, 'hearts': 2066, 'advantage': 129, 'kirk': 2482, 'wallace': 4782, 'arrive': 300, 'christopher': 811, 'arm': 292, 'walking': 4779, 'silver': 3977, 'unforgettable': 4652, 'dealt': 1138, 'answer': 251, 'causes': 725, 'law': 2538, 'chick': 786, 'provide': 3448, 'grant': 1956, 'lord': 2652, 'unaware': 4632, 'imagined': 2239, 'realize': 3552, 'mothers': 2912, '2000': 30, 'tragedy': 4551, 'college': 875, 'buddy': 609, 'whereas': 4865, 'singer': 3993, 'village': 4743, 'spirit': 4113, 'bound': 553, '1950s': 14, 'arrives': 302, 'harris': 2038, 'immediately': 2242, 'continues': 971, 'homosexual': 2145, 'frustration': 1843, 'alcoholic': 177, 'needless': 2989, 'suffering': 4277, 'inferior': 2285, 'relationships': 3598, 'personalities': 3241, 'actions': 101, 'evening': 1534, 'claire': 831, 'intelligent': 2314, 'opposed': 3122, 'forgettable': 1794, 'pulls': 3464, 'richardson': 3688, 'fictional': 1703, 'depressed': 1187, 'sister': 4001, 'unbelievable': 4634, 'streep': 4215, 'states': 4163, 'extras': 1608, 'combined': 885, 'described': 1195, 'room': 3735, 'discuss': 1283, 'repeated': 3631, 'talk': 4358, 'lived': 2626, 'hugh': 2186, 'torn': 4528, 'apart': 264, 'feelings': 1686, 'superior': 4300, 'barry': 401, 'gorgeous': 1942, 'rachel': 3500, 'walken': 4777, 'stinker': 4191, 'concerned': 932, 'farce': 1654, 'ape': 266, 'successful': 4266, 'resembles': 3646, 'bargain': 400, 'basement': 405, 'embarrassing': 1454, 'inappropriate': 2259, 'fx': 1858, 'em': 1452, 'track': 4544, 'creatures': 1046, 'face': 1616, 'dare': 1113, 'quick': 3490, 'scripts': 3836, 'rick': 3689, 'thank': 4421, 'church': 813, 'pink': 3277, 'mike': 2838, 'robots': 3718, 'kicked': 2461, 'mst3k': 2932, 'gory': 1943, 'kept': 2456, 'atrocious': 335, 'convincing': 985, 'insult': 2309, 'intelligence': 2313, 'knock': 2488, 'persons': 3244, 'meat': 2787, 'hammer': 2014, 'acts': 107, 'arms': 294, 'bodies': 526, 'yellow': 4981, 'color': 877, 'myself': 2953, 'mistake': 2871, 'serial': 3889, 'supernatural': 4302, 'conspiracy': 956, 'photographer': 3259, 'murder': 2939, 'via': 4726, 'plant': 3293, 'plausible': 3295, 'mindless': 2851, 'fake': 1635, 'gore': 1941, 'unreal': 4676, 'pathetic': 3210, 'combination': 883, 'doomed': 1327, 'invisible': 2344, 'awake': 365, 'victim': 4729, 'touch': 4533, 'ruin': 3750, 'reputation': 3640, 'majority': 2712, 'painfully': 3172, 'explains': 1589, 'sets': 3899, 'island': 2361, 'leo': 2571, 'friendly': 1836, 'advice': 133, 'naturally': 2974, 'mission': 2870, 'beating': 425, 'exactly': 1551, 'truth': 4599, 'bother': 548, 'fairy': 1632, 'tales': 4357, 'pushing': 3479, 'placed': 3283, 'sheer': 3925, 'smart': 4035, 'covered': 1023, 'toward': 4539, 'saves': 3796, 'revelation': 3674, 'common': 906, 'device': 1227, 'twist': 4617, 'provides': 3450, 'saving': 3797, 'grace': 1950, 'explicit': 1591, 'haunted': 2050, 'boat': 523, 'water': 4816, 'accurate': 90, 'bunch': 623, 'credit': 1049, 'accept': 80, 'ghosts': 1903, 'rubber': 3747, 'confused': 941, 'keeping': 2450, '35': 45, 'ship': 3934, 'itll': 2369, 'front': 1841, 'von': 4765, 'beloved': 461, 'refuses': 3587, 'lake': 2509, 'travels': 4569, 'defend': 1158, 'brothers': 599, 'delivers': 1172, 'asks': 319, 'kingdom': 2480, 'receives': 3565, 'summer': 4291, 'laws': 2540, 'desert': 1198, 'guest': 1992, 'kills': 2474, 'spare': 4093, 'provided': 3449, 'german': 1896, 'loyal': 2679, 'destruction': 1216, 'poetic': 3313, 'saga': 3773, 'adventure': 130, 'epic': 1506, 'impressive': 2253, 'reaction': 3541, 'ii': 2226, 'hearted': 2065, 'charming': 768, 'puts': 3481, '30s': 44, 'shame': 3918, 'innovative': 2295, 'adorable': 124, 'ticket': 4487, 'male': 2719, 'twice': 4613, 'biggest': 480, 'comedic': 888, 'overrated': 3156, 'spanish': 4092, 'subtlety': 4261, 'political': 3324, 'childish': 791, 'teach': 4374, 'lesson': 2577, 'artists': 309, 'heads': 2059, 'philosophy': 3254, 'prize': 3405, 'literature': 2623, 'quotes': 3497, 'creative': 1041, 'deserve': 1199, 'couldnt': 1008, 'disgusting': 1286, 'broke': 593, 'angle': 236, 'hurts': 2203, 'load': 2631, 'badly': 383, 'scream': 3826, 'kissing': 2484, 'cost': 1003, 'bucks': 606, 'rental': 3627, 'flight': 1757, 'engaging': 1481, 'artist': 307, 'branagh': 564, 'patient': 3211, 'carter': 703, 'wit': 4908, 'virtually': 4751, 'care': 684, 'kenneth': 2455, 'community': 908, 'service': 3896, 'caring': 691, 'charm': 767, 'sentimental': 3882, 'compelling': 916, 'building': 615, 'word': 4937, 'lacking': 2504, 'martin': 2748, 'freeman': 1829, 'react': 3540, 'reminds': 3620, 'humorous': 2193, '1990s': 25, 'suffered': 4276, 'uk': 4626, 'noticed': 3049, 'anyway': 261, 'forgot': 1796, 'ultra': 4629, 'surely': 4309, 'con': 928, 'attempts': 343, 'originality': 3130, 'makers': 2715, 'qualities': 3483, 'gem': 1877, 'sequel': 3885, 'nasty': 2968, 'eccentric': 1414, 'uses': 4697, 'agent': 150, 'weve': 4856, 'format': 1799, 'watchable': 4812, 'fit': 1740, 'eerie': 1427, 'hitler': 2124, 'murdered': 2940, 'womans': 4922, 'combine': 884, 'deep': 1154, 'addition': 118, 'co': 867, 'user': 4696, 'devils': 1229, 'sounding': 4083, 'names': 2963, '1940s': 13, 'success': 4265, 'decade': 1144, 'portray': 3340, 'attitudes': 347, 'relevant': 3604, 'ground': 1979, 'racism': 3502, 'brando': 566, 'players': 3299, 'hits': 2125, 'supporting': 4304, 'oscars': 3134, 'marry': 2745, 'comedian': 887, 'japan': 2381, 'nation': 2969, 'proud': 3444, 'tradition': 4549, 'culture': 1079, 'theatre': 4429, 'location': 2635, 'photography': 3260, 'moral': 2902, 'technology': 4385, 'dated': 1119, 'issues': 2365, 'wwii': 4975, 'navy': 2976, 'members': 2801, 'dinosaurs': 1256, 'standards': 4145, 'lacks': 2505, 'length': 2569, 'routine': 3743, 'era': 1513, 'female': 1693, 'remembered': 3617, 'associated': 327, 'arguably': 289, 'irish': 2353, 'ireland': 2352, 'poverty': 3357, 'walls': 4783, 'tree': 4576, 'warm': 4794, 'centered': 733, 'pig': 3274, 'streets': 4217, 'prime': 3395, 'desperate': 1208, 'united': 4664, 'price': 3389, 'guilt': 1994, 'resources': 3651, 'portrays': 3344, 'arthur': 305, 'foster': 1809, 'mainly': 2708, 'irritating': 2359, 'disappointing': 1274, 'westerns': 4854, 'wins': 4899, 'command': 897, 'technique': 4383, 'passionate': 3206, 'band': 391, 'dull': 1384, 'industry': 2280, 'theatrical': 4430, 'breaking': 570, 'harvey': 2042, 'anybody': 257, 'hat': 2045, 'chaplin': 756, 'dignity': 1252, 'heat': 2067, 'blowing': 515, 'politics': 3326, 'jackson': 2375, 'displays': 1293, 'stellar': 4174, 'includes': 2263, 'julie': 2428, 'british': 589, 'royal': 3746, 'captain': 674, 'jenny': 2393, 'alan': 171, 'shell': 3927, 'shock': 3938, 'ian': 2209, 'smaller': 4034, 'faces': 1618, 'fantastic': 1651, 'margaret': 2735, 'grey': 1973, 'affect': 136, 'raising': 3509, 'directly': 1263, 'tonight': 4519, 'lane': 2515, 'matthew': 2772, 'sounded': 4082, 'taylor': 4372, 'neither': 2996, 'necessary': 2984, 'jerry': 2396, 'simpson': 3987, 'pride': 3391, 'disc': 1278, 'aspect': 321, '1st': 28, 'jungle': 2434, 'belong': 459, 'genuinely': 1892, 'conversations': 981, 'leaving': 2557, 'wanting': 4790, 'within': 4912, 'category': 718, 'involve': 2345, 'aged': 149, 'disagree': 1269, 'indians': 2275, 'consistent': 953, 'anyways': 262, 'junk': 2436, 'basketball': 409, 'greedy': 1969, 'businessman': 634, 'costs': 1004, 'millions': 2848, 'central': 735, 'overdone': 3152, 'pretentious': 3383, 'merits': 2817, 'sun': 4292, 'ballet': 389, 'intellectual': 2312, 'crowd': 1067, 'capable': 672, 'charismatic': 763, 'occasionally': 3075, 'occurs': 3078, 'irony': 2357, 'till': 4493, 'shines': 3932, 'pearl': 3220, 'flying': 1764, '3000': 43, 'fights': 1710, 'ridiculously': 3694, 'obsession': 3070, 'lies': 2591, 'cute': 1090, 'manipulative': 2727, 'disbelief': 1277, 'poster': 3353, 'holds': 2131, 'parties': 3196, 'mansion': 2731, 'ah': 158, 'schools': 3814, 'drugs': 1374, 'decide': 1148, 'treated': 4573, 'cliché': 844, 'worn': 4948, 'blunt': 520, 'believed': 455, 'fill': 1714, 'zero': 4996, 'cat': 713, 'size': 4012, 'reasonably': 3559, 'pet': 3246, 'enemy': 1477, 'rap': 3520, 'eye': 1611, 'bat': 410, 'parody': 3192, 'youve': 4995, 'satire': 3788, 'groups': 1981, 'cube': 1076, 'tone': 4517, 'childhood': 790, 'stands': 4147, 'experiences': 1582, 'raised': 3508, 'resident': 3647, 'difference': 1246, 'science': 3816, 'government': 1948, 'bomb': 531, 'fever': 1699, 'struck': 4232, 'exact': 1550, 'helped': 2080, 'victims': 4730, 'stephen': 4176, 'sutherland': 4333, 'investigation': 2343, 'jeffrey': 2391, 'understanding': 4645, 'portraying': 3343, 'helen': 2075, 'cup': 1080, 'hours': 2177, 'documentary': 1307, '11': 2, 'ride': 3692, 'london': 2641, 'sold': 4052, 'forty': 1807, 'urban': 4688, 'exploration': 1593, 'managed': 2723, 'armed': 293, 'carried': 698, 'protect': 3443, 'easier': 1405, 'pilot': 3276, 'subsequent': 4257, 'aired': 165, 'campy': 664, 'spin': 4112, '16': 8, 'appreciation': 281, 'enjoys': 1489, 'faith': 1633, 'letter': 2581, 'wrote': 4974, 'shop': 3945, 'exist': 1569, 'ridden': 3691, 'construction': 960, 'falk': 1636, 'pseudo': 3454, 'movements': 2924, 'poetry': 3314, 'smoke': 4039, 'beer': 439, 'ned': 2986, 'quirky': 3493, 'inventive': 2341, 'challenging': 744, 'quest': 3486, 'meaningful': 2781, 'honesty': 2148, 'corporate': 998, 'harry': 2039, 'breathtaking': 574, 'ease': 1404, 'fare': 1655, 'rain': 3506, 'dennis': 1179, 'measure': 2786, 'desperately': 1209, 'lonely': 2643, 'daniel': 1111, 'jesus': 2399, 'attend': 344, 'screening': 3830, 'missing': 2869, 'chases': 771, 'separate': 3883, 'glimpse': 1919, 'speech': 4102, 'los': 2653, 'angeles': 233, 'cage': 645, 'planning': 3291, '40': 48, 'dogs': 1311, 'stomach': 4196, 'toy': 4542, 'cop': 991, 'nicholas': 3010, 'officer': 3092, 'fourth': 1813, 'destroy': 1213, 'inducing': 2279, 'polished': 3323, 'duty': 1390, 'joan': 2404, 'reviewer': 3677, 'status': 4165, 'ingredients': 2289, 'moving': 2928, 'columbo': 881, 'mask': 2752, 'behavior': 446, 'youd': 4987, 'teaching': 4377, 'entertain': 1497, 'master': 2757, 'blind': 506, 'cares': 690, 'ball': 388, 'eager': 1396, 'fatal': 1664, 'ideas': 2215, 'coherent': 871, 'incomprehensible': 2267, 'martial': 2747, 'arts': 310, 'enjoying': 1487, 'burned': 626, 'artistic': 308, 'abilities': 64, 'upset': 4687, 'roots': 3738, 'sheriff': 3929, 'tricks': 4583, 'channels': 754, 'embarrassment': 1455, 'calls': 654, 'tongue': 4518, 'blows': 517, 'elephant': 1444, 'dislike': 1288, 'busy': 635, 'shooting': 3943, 'extent': 1605, 'revealed': 3671, 'progresses': 3426, 'realistic': 3550, 'mature': 2773, 'rob': 3710, 'roy': 3745, 'twelve': 4611, 'rented': 3628, 'bone': 533, 'chilling': 794, 'winters': 4901, 'scottish': 3825, 'folk': 1770, 'forest': 1791, 'failing': 1627, 'settle': 3902, 'sadistic': 3768, 'rape': 3521, 'soul': 4079, 'immensely': 2243, 'satisfying': 3791, 'specifically': 4100, 'beast': 422, 'struggling': 4236, 'jessica': 2398, 'wives': 4918, 'audiences': 353, 'endure': 1475, 'tim': 4494, 'somehow': 4063, 'works': 4945, 'wicked': 4879, 'villains': 4745, 'blatant': 502, 'rip': 3700, 'fails': 1628, 'toys': 4543, 'tarzan': 4367, 'screaming': 3827, 'threatening': 4468, 'mental': 2808, 'trapped': 4564, 'aging': 153, 'security': 3854, 'gang': 1867, 'adventures': 131, 'confidence': 938, 'wishing': 4907, 'infamous': 2284, 'ex': 1549, 'trained': 4557, 'army': 295, 'pie': 3271, 'train': 4556, 'wreck': 4965, 'reference': 3582, 'nevertheless': 3002, 'basic': 406, 'novels': 3053, 'introduction': 2339, 'commercial': 902, 'structure': 4233, 'rough': 3741, 'introduces': 2338, 'justify': 2439, 'vengeance': 4719, 'portrayed': 3342, 'judging': 2425, 'opened': 3113, 'exercise': 1568, 'chosen': 805, 'plans': 3292, 'locations': 2636, 'comparison': 914, 'shorts': 3948, 'product': 3418, 'gay': 1876, 'asking': 318, 'facing': 1620, 'unwatchable': 4682, 'finished': 1733, 'details': 1219, 'vast': 4716, 'collection': 874, 'unseen': 4678, 'picked': 3266, 'mine': 2853, 'concerns': 934, 'prisoners': 3403, 'chair': 742, 'maker': 2714, 'board': 522, 'meeting': 2794, 'acceptable': 81, 'suit': 4284, 'prisoner': 3402, 'tom': 4514, 'tiny': 4500, 'stereotypical': 4180, 'field': 1704, 'lincoln': 2608, 'executed': 1565, 'pleasantly': 3303, 'tense': 4403, 'scary': 3807, 'holiday': 2134, 'perspective': 3245, 'providing': 3451, 'context': 968, 'eastwood': 1409, 'drops': 1372, 'remain': 3609, 'uninspired': 4657, 'bride': 577, 'disappear': 1270, 'glass': 1917, 'everybody': 1540, 'devoid': 1230, 'blues': 519, 'soap': 4047, 'crucial': 1068, 'zombie': 4997, 'path': 3209, 'prefer': 3368, 'funeral': 1849, 'theyve': 4446, 'andrew': 228, 'lively': 2627, 'carrie': 697, 'anne': 246, 'billy': 482, 'blake': 498, 'nelson': 2997, 'innocent': 2294, 'witness': 4914, 'matrix': 2767, '50s': 52, 'mighty': 2836, 'rambo': 3511, 'jet': 2400, 'li': 2587, 'machines': 2694, 'choreographed': 801, 'chemistry': 782, 'kick': 2460, 'minded': 2850, 'presented': 3376, 'disappeared': 1271, 'crying': 1074, 'spectacular': 4101, 'depicts': 1186, 'workers': 4943, 'dollars': 1315, 'americans': 214, 'hurt': 2202, 'wearing': 4831, 'scientist': 3818, 'sucked': 4270, 'breasts': 572, 'outfit': 3144, 'demons': 1178, 'spell': 4104, 'witches': 4910, 'demon': 1177, 'wrestling': 4966, 'five': 1743, 'sports': 4130, 'quit': 3494, 'soccer': 4048, 'indian': 2274, 'clothes': 860, 'struggles': 4235, 'sucks': 4271, 'torture': 4529, 'freak': 1824, 'throw': 4479, 'asleep': 320, 'actual': 108, 'draws': 1352, 'deeper': 1155, 'fears': 1677, 'morality': 2903, 'civilization': 827, 'guilty': 1995, 'pull': 3461, 'walter': 4784, 'matthau': 2771, 'suppose': 4305, 'sympathetic': 4342, 'expensive': 1579, 'computer': 927, 'limited': 2606, 'brosnan': 597, 'granted': 1957, 'steve': 4181, 'neil': 2995, 'simon': 3982, 'slapstick': 4019, 'jerk': 2395, 'bright': 581, 'fired': 1735, 'hundred': 2195, 'bacall': 377, 'entirely': 1503, 'commit': 904, 'mans': 2730, 'gerard': 1895, 'iron': 2354, 'office': 3091, 'sharp': 3922, 'butt': 638, 'miserable': 2863, 'alert': 178, 'blow': 514, 'guessing': 1991, 'incompetent': 2266, 'faced': 1617, 'rate': 3526, 'visuals': 4759, 'repeat': 3630, 'condition': 937, 'themselves': 4435, 'dollar': 1314, 'direct': 1258, 'river': 3707, 'lewis': 2586, 'forever': 1792, 'survival': 4320, 'voight': 4764, 'beatty': 427, 'corpse': 999, 'revealing': 3672, 'planned': 3290, 'prevent': 3385, 'essential': 1522, '1980': 20, 'concerning': 933, 'lips': 2615, 'usa': 4691, 'sweet': 4336, 'period': 3236, 'pretend': 3381, 'university': 4667, 'visits': 4756, 'ruthless': 3764, 'crime': 1055, 'guns': 1998, 'franco': 1820, 'ring': 3698, 'mob': 2879, 'killings': 2473, 'families': 1644, '1973': 19, 'melodrama': 2797, 'don': 1320, 'comment': 898, 'website': 4834, 'cry': 1073, 'existence': 1571, 'household': 2179, 'speaking': 4095, 'depressing': 1188, 'mitchell': 2875, 'support': 4303, 'retired': 3664, 'twenty': 4612, 'masses': 2755, 'inept': 2281, 'entry': 1504, 'variety': 4714, 'mediocre': 2791, 'characterization': 759, 'analysis': 224, 'pleased': 3305, 'everywhere': 1545, 'cameras': 660, 'possibilities': 3348, 'poorly': 3329, 'dig': 1250, 'equipment': 1511, 'wasted': 4809, 'gain': 1863, 'rank': 3518, 'marketing': 2741, 'onto': 3111, 'bigger': 479, 'replaced': 3634, 'door': 1328, 'shower': 3957, 'partner': 3198, 'wet': 4855, 'investigate': 2342, 'students': 4239, 'cynical': 1093, 'hed': 2072, 'werent': 4849, 'nude': 3058, 'responsibility': 3655, 'argument': 291, 'record': 3573, 'fooled': 1780, 'buff': 611, 'manager': 2724, 'table': 4346, 'suggests': 4282, 'laughter': 2535, 'pacing': 3163, 'source': 4086, 'author': 359, 'grown': 1984, 'versions': 4721, 'environment': 1505, 'dramas': 1347, 'negative': 2991, 'greatly': 1967, 'directorial': 1265, 'midnight': 2834, '1996': 26, 'aforementioned': 139, 'ambitious': 211, 'anderson': 227, 'birthday': 487, 'thick': 4447, 'goofy': 1939, 'robin': 3715, 'learning': 2552, 'powers': 3361, 'occasion': 3073, 'fly': 1763, 'overly': 3155, 'moody': 2899, 'jumps': 2432, 'annoyed': 248, 'stanley': 4148, 'blew': 505, 'nick': 3012, 'frankly': 1823, 'blond': 510, 'roberts': 3714, 'goal': 1925, 'cared': 685, 'clark': 832, 'oil': 3097, 'assumed': 329, 'timeless': 4496, 'copies': 992, 'heres': 2087, 'relies': 3606, 'occur': 3076, 'slap': 4018, 'passion': 3205, 'hatred': 2049, 'talks': 4361, 'improve': 2254, 'spirits': 4115, 'gripping': 1976, 'jeremy': 2394, 'warmth': 4796, 'handsome': 2021, 'racist': 3503, 'reasonable': 3558, 'latin': 2527, 'settings': 3901, 'atmosphere': 333, 'business': 633, 'dimensional': 1253, 'swear': 4334, 'videos': 4734, 'twilight': 4614, 'zone': 4999, 'swimming': 4338, 'pool': 3327, 'hopes': 2159, 'composed': 926, 'cure': 1081, 'attached': 336, 'menacing': 2807, 'lit': 2621, 'showcase': 3954, 'drags': 1345, 'fellow': 1691, 'bugs': 613, 'makeup': 2717, 'jimmy': 2403, 'serve': 3893, 'highlight': 2103, 'nuclear': 3057, 'attacks': 339, 'filming': 1718, 'jumping': 2431, 'plane': 3288, 'excited': 1561, 'australia': 356, 'molly': 2884, 'australian': 357, 'calling': 653, 'method': 2824, 'wonderfully': 4929, 'nonetheless': 3029, 'simmons': 3981, 'oddly': 3081, 'adequate': 120, 'sarah': 3785, 'overlooked': 3154, 'transformation': 4560, 'union': 4661, 'doll': 1313, 'hint': 2112, 'frustrated': 1842, 'anger': 235, 'dolls': 1316, 'deliberately': 1166, 'depicting': 1184, 'distance': 1294, 'consists': 955, 'cuba': 1075, 'kiss': 2483, 'brown': 601, 'falling': 1639, 'mere': 2814, 'promised': 3431, 'concern': 931, 'lover': 2672, 'defense': 1159, 'musicals': 2948, 'adding': 117, 'reaching': 3539, 'wrap': 4963, 'dire': 1257, 'prince': 3396, 'eighties': 1437, 'stinks': 4192, 'colors': 879, 'exposed': 1598, 'highest': 2102, 'theyll': 4444, 'multiple': 2936, 'personality': 3242, 'mate': 2765, 'centers': 734, 'horrendous': 2162, 'sink': 3999, 'leslie': 2574, 'psychological': 3458, 'conceived': 929, 'effectively': 1430, 'previously': 3388, 'summary': 4290, 'proceeds': 3411, 'cutting': 1092, 'ad': 110, 'passed': 3202, 'connect': 944, 'occurred': 3077, 'slight': 4027, 'tend': 4400, 'hang': 2022, 'seriously': 3892, 'dragon': 1344, 'tiger': 4491, 'superbly': 4297, 'presumably': 3380, 'training': 4558, 'titled': 4505, 'idiotic': 2219, 'rival': 3706, 'cowboy': 1025, 'stunt': 4245, 'mars': 2746, 'failed': 1626, 'rushed': 3760, 'timing': 4498, 'defeat': 1157, 'physical': 3262, 'clever': 841, 'gags': 1862, 'prequel': 3372, 'hello': 2078, 'creator': 1043, 'simplicity': 3984, 'creation': 1040, 'pan': 3180, 'crappy': 1032, 'research': 3644, 'enter': 1494, 'sidekick': 3966, 'pops': 3332, 'skin': 4015, 'gotta': 1946, 'eating': 1413, 'monkey': 2890, 'performing': 3233, 'ed': 1415, 'neo': 2998, 'losing': 2658, 'trademark': 4548, 'lie': 2590, 'useful': 4694, 'gods': 1928, 'holy': 2140, 'judge': 2424, 'sorts': 4078, 'sleeping': 4025, 'recording': 3575, 'andrews': 229, 'radio': 3504, 'hire': 2116, 'calm': 655, 'answers': 252, 'dressed': 1358, 'womens': 4924, 'walks': 4780, 'impressed': 2251, 'asked': 317, 'accompanied': 86, 'subtitles': 4259, 'improved': 2255, 'waters': 4817, 'shocking': 3940, 'display': 1291, 'semi': 3874, 'lesbian': 2573, 'dress': 1357, 'grandmother': 1955, 'virgin': 4749, 'shelley': 3928, 'fame': 1642, 'familys': 1646, 'mall': 2720, 'finale': 1723, 'built': 618, 'waitress': 4773, 'reporter': 3636, 'morgan': 2905, 'mayor': 2777, 'phantom': 3251, 'worker': 4942, 'apartment': 265, 'celebrity': 729, 'proof': 3434, 'brief': 579, 'content': 966, 'ha': 2002, 'alright': 198, 'laughable': 2530, 'shark': 3921, 'birth': 486, 'scientists': 3819, 'loose': 2650, 'hunt': 2198, 'hated': 2047, 'handle': 2018, 'topic': 4526, 'harsh': 2040, 'tap': 4364, 'drink': 1361, 'foul': 1810, 'metal': 2823, 'elizabeth': 1445, 'ken': 2453, 'amanda': 205, 'controversial': 978, 'romantic': 3733, 'raped': 3522, 'gift': 1906, 'attitude': 346, 'prostitute': 3440, 'thoughtful': 4463, 'expressions': 1603, 'attractive': 351, 'daily': 1097, 'daring': 1114, 'korean': 2495, 'wounded': 4961, 'dancing': 1107, 'ladies': 2506, 'swedish': 4335, 'fury': 1855, '1983': 22, 'mentioning': 2812, 'hitchcock': 2123, 'museum': 2945, 'psycho': 3457, 'generous': 1886, 'alongside': 196, 'filmmaker': 1719, 'expert': 1585, 'formulaic': 1803, 'sole': 4055, 'murderer': 2941, 'prove': 3445, 'innocence': 2293, 'stretch': 4221, 'mirror': 2861, 'global': 1920, 'turner': 4607, 'dentist': 1180, 'individual': 2277, 'peter': 3247, 'ruth': 3763, 'extended': 1604, 'sons': 4073, 'conflict': 939, 'crisis': 1060, 'affair': 135, 'deserves': 1201, 'paced': 3162, 'winter': 4900, 'ashley': 313, 'ruby': 3749, 'elegant': 1441, 'kinds': 2478, 'treats': 4575, 'allowing': 191, 'growing': 1983, 'kudos': 2497, 'detailed': 1218, 'position': 3345, 'nazis': 2978, 'information': 2288, 'murderous': 2942, 'remotely': 3623, 'terribly': 4408, 'population': 3335, 'aid': 160, 'planet': 3289, 'dies': 1245, 'menace': 2806, 'exotic': 1574, 'chuck': 812, 'tribute': 4581, 'waves': 4819, 'catherine': 719, 'jones': 2418, 'comical': 894, 'mundane': 2938, 'dealing': 1136, 'terry': 4415, 'gag': 1861, 'suffer': 4275, 'marie': 2737, 'challenge': 743, 'journalist': 2420, 'lazy': 2543, 'anna': 245, 'garbo': 1871, 'germany': 1898, 'supposedly': 4307, 'robot': 3717, 'beings': 449, 'angels': 234, 'explanation': 1590, 'attack': 337, 'intrigued': 2334, 'references': 3583, 'shallow': 3917, 'philosophical': 3253, 'randomly': 3515, 'simplistic': 3985, 'conflicts': 940, 'wasting': 4810, 'garbage': 1870, 'repetitive': 3633, 'meaningless': 2782, 'kidding': 2465, 'damn': 1100, 'happily': 2030, 'criticism': 1063, 'dust': 1388, 'spending': 4106, 'represents': 3639, 'liking': 2604, 'pack': 3165, 'horse': 2170, 'neighbors': 2994, 'directions': 1262, 'reads': 3545, 'chris': 806, 'hippie': 2115, 'drunken': 1376, 'shoots': 3944, 'round': 3742, 'messed': 2821, 'closer': 856, 'alas': 172, 'unoriginal': 4673, 'wishes': 4906, 'argue': 290, 'secondly': 3847, 'flesh': 1753, 'virus': 4752, 'hilariously': 2107, 'according': 88, 'scare': 3803, 'claims': 830, 'tad': 4347, 'curious': 1083, 'wes': 4851, 'craven': 1034, 'kubrick': 2496, 'definition': 1163, 'tracks': 4545, 'maria': 2736, 'loses': 2657, 'sex': 3907, 'whenever': 4863, 'bela': 450, 'lugosi': 2686, 'dracula': 1341, 'seek': 3858, 'maggie': 2702, 'bird': 484, 'bob': 524, 'suspicious': 4332, 'executive': 1567, 'designs': 1204, 'cards': 683, 'captures': 678, 'seeking': 3859, 'stole': 4194, 'adam': 111, 'sandler': 3781, 'pile': 3275, 'boxing': 556, 'bizarre': 492, 'fulci': 1845, 'similarly': 3980, 'handful': 2017, 'existent': 1572, 'green': 1971, 'notch': 3043, 'operation': 3117, 'developing': 1224, 'system': 4345, 'paper': 3183, 'murders': 2943, 'bathroom': 412, 'thief': 4448, 'birds': 485, 'listening': 2620, 'trailer': 4554, 'sub': 4252, 'driving': 1368, 'station': 4164, 'abandoned': 62, 'encounters': 1467, 'escapes': 1519, 'meanwhile': 2785, 'pushed': 3478, 'drag': 1342, 'feet': 1688, 'throat': 4476, 'counter': 1011, 'hospital': 2172, 'medical': 2790, 'blown': 516, 'screams': 3828, 'asian': 314, 'clothing': 861, 'survivors': 4325, 'helicopter': 2076, 'dawn': 1127, 'regardless': 3590, 'minimal': 2855, 'unconvincing': 4638, 'signed': 3971, 'contract': 973, 'technical': 4381, 'contemporary': 965, 'depicted': 1183, 'comics': 895, 'broken': 594, 'distribution': 1298, 'scope': 3821, 'stayed': 4167, 'earl': 1398, 'newly': 3004, 'offer': 3087, 'continuity': 972, 'rotten': 3740, 'producer': 3415, 'lol': 2640, 'cameos': 658, 'terrorist': 4413, 'steal': 4170, 'weapon': 4828, 'soldiers': 4054, 'widely': 4881, 'alike': 185, 'deaths': 1142, 'houses': 2180, 'trees': 4577, 'spring': 4134, 'questionable': 3488, 'india': 2273, 'forces': 1788, 'likes': 2602, 'lousy': 2667, 'sincere': 3991, 'pitch': 3279, 'teacher': 4375, 'included': 2262, 'someones': 4065, 'dude': 1381, 'rocks': 3722, 'courage': 1018, 'admire': 121, 'african': 142, 'pants': 3182, 'princess': 3397, 'learns': 2553, 'retarded': 3663, 'complicated': 925, 'expression': 1602, '3rd': 47, 'chicks': 787, 'lowest': 2678, 'restaurant': 3658, 'clown': 862, 'warrior': 4802, 'account': 89, 'dedicated': 1153, 'rights': 3697, 'politically': 3325, 'closed': 854, 'delivering': 1171, 'orders': 3127, 'bedroom': 437, 'bath': 411, 'unfunny': 4655, 'offensive': 3086, 'andy': 230, 'karen': 2444, 'charles': 764, 'matters': 2770, 'wannabe': 4787, 'advise': 134, 'represent': 3637, 'properly': 3437, 'monsters': 2893, 'dave': 1123, 'miller': 2846, 'constructed': 959, 'sentence': 3881, 'worthy': 4956, 'panic': 3181, 'synopsis': 4344, 'reveal': 3670, 'comfortable': 892, 'sunshine': 4294, 'dynamic': 1394, 'twisted': 4618, 'background': 380, 'wouldve': 4959, 'pal': 3177, 'lesser': 2576, 'strongly': 4231, 'dozens': 1339, 'discovery': 1282, 'leader': 2546, 'jim': 2402, 'images': 2235, 'threat': 4467, 'spain': 4091, 'wake': 4774, 'international': 2326, 'stevens': 4183, 'craig': 1030, 'ironically': 2356, 'incoherent': 2265, 'serves': 3895, 'shining': 3933, 'genres': 1889, 'edition': 1422, 'widow': 4883, 'revolutionary': 3681, 'priest': 3392, 'rebel': 3561, 'stranger': 4213, '1972': 18, 'hal': 2006, 'grim': 1974, 'guts': 1999, 'wanna': 4786, 'models': 2881, 'sexually': 3910, 'saved': 3795, 'hype': 2207, 'suited': 4286, 'rule': 3753, 'sappy': 3784, 'catholic': 720, 'reflect': 3584, 'bonus': 534, 'hollow': 2135, 'exploitation': 1592, 'friendship': 1838, 'capture': 676, 'destroyed': 1214, 'moon': 2900, 'creativity': 1042, 'join': 2412, 'regard': 3588, 'staying': 4168, 'memories': 2803, 'shelf': 3926, 'sally': 3776, 'kevin': 2457, 'fabulous': 1615, 'goldberg': 1933, 'splendid': 4119, 'editor': 1423, 'dialogues': 1235, 'spots': 4132, 'logical': 2639, 'thoughts': 4464, 'refreshing': 3586, 'scenario': 3808, 'button': 639, 'blonde': 511, 'chest': 784, 'hair': 2005, 'caine': 647, 'olivier': 3103, 'existed': 1570, 'outcome': 3142, 'miserably': 2864, 'sends': 3876, 'realizes': 3554, 'solve': 4060, 'touches': 4535, '18': 10, 'strictly': 4223, 'aunt': 355, 'task': 4368, 'dreary': 1356, 'unpleasant': 4674, 'lower': 2677, 'amateurish': 207, 'reunion': 3669, 'reed': 3580, 'luke': 2687, 'elvis': 1451, 'bull': 619, 'riding': 3695, 'skills': 4014, 'sloppy': 4030, 'pointed': 3317, 'colorful': 878, 'distinct': 1296, 'unfortunate': 4653, 'illness': 2230, 'substance': 4258, 'abuse': 74, '2006': 36, 'treatment': 4574, 'nyc': 3065, 'documentaries': 1306, 'madonna': 2699, 'floor': 1759, 'arrival': 299, 'gradually': 1952, 'kay': 2447, 'del': 1165, 'killers': 2471, 'flashbacks': 1747, 'arrived': 301, 'interview': 2329, 'snl': 4044, 'yelling': 4980, 'ourselves': 3140, 'root': 3737, 'insane': 2296, 'determined': 1221, 'imagine': 2238, 'washington': 4806, 'requires': 3642, 'veteran': 4724, 'silence': 3974, 'gritty': 1977, 'hopper': 2161, 'sinister': 3998, 'laura': 2536, 'cameo': 657, 'corner': 996, 'thru': 4483, 'bottle': 550, 'crash': 1033, 'painting': 3175, 'marvelous': 2750, 'seat': 3845, 'melting': 2799, 'race': 3499, 'becoming': 435, 'alex': 179, 'nurse': 3063, 'catches': 715, 'ted': 4386, 'lucky': 2683, 'accents': 79, 'vampires': 4712, 'derek': 1192, 'jon': 2416, 'mexico': 2827, 'weapons': 4829, 'starred': 4153, 'riveting': 3708, 'engaged': 1480, 'sid': 3964, 'flash': 1745, 'albert': 174, 'regarding': 3589, 'charlotte': 766, 'equivalent': 1512, 'spoof': 4127, 'par': 3184, 'denzel': 1181, 'alfred': 181, 'lisa': 2616, 'underground': 4640, 'danger': 1109, 'satisfied': 3789, 'competent': 917, 'spite': 4117, 'removed': 3624, 'crack': 1027, 'escaped': 1518, 'kong': 2494, 'brooklyn': 595, 'cases': 708, 'enemies': 1476, 'thugs': 4484, 'nazi': 2977, 'bite': 489, 'careful': 688, 'clip': 851, '40s': 49, 'lucy': 2684, 'celluloid': 731, 'drivel': 1364, 'faults': 1669, 'rolling': 3730, 'offended': 3085, 'masterful': 2758, 'factor': 1622, 'network': 3000, 'sum': 4289, 'disease': 1285, 'smoking': 4040, 'credibility': 1047, 'overacting': 3149, 'todays': 4509, 'essence': 1521, 'hip': 2114, 'hop': 2154, 'unbearable': 4633, 'text': 4419, 'kate': 2446, 'mistakes': 2873, 'dancers': 1105, 'interpretation': 2328, 'classical': 836, 'aids': 161, 'dawson': 1128, 'recognition': 3568, 'cary': 706, 'tracy': 4546, 'freedom': 1828, 'alien': 183, 'airplane': 166, 'express': 1600, 'awe': 370, 'appeal': 271, 'amongst': 218, 'market': 2740, 'dinner': 1254, 'headed': 2058, 'marks': 2742, 'monk': 2889, 'titles': 4506, 'captivating': 675, 'unit': 4663, '24': 39, 'damage': 1099, 'scooby': 3820, 'doo': 1325, 'morning': 2906, 'returned': 3666, 'reminiscent': 3621, 'hearing': 2063, 'richards': 3687, 'perry': 3237, 'bell': 458, 'voiced': 4762, 'ward': 4793, 'segment': 3867, 'album': 175, 'lasted': 2522, 'hoped': 2156, 'baseball': 403, 'solo': 4058, 'undoubtedly': 4648, 'overcome': 3151, 'stan': 4142, 'philip': 3252, 'hoffman': 2128, 'performer': 3231, 'females': 1694, 'slave': 4022, 'sexuality': 3909, 'flashback': 1746, 'jeff': 2390, 'historical': 2119, 'cheese': 780, 'cliff': 847, 'redemption': 3578, 'clichéd': 845, 'embarrassed': 1453, 'aka': 168, 'oz': 3160, 'punishment': 3467, 'discussion': 1284, 'protagonists': 3442, 'incident': 2260, 'ensues': 1493, 'strength': 4219, 'intimate': 2331, 'superficial': 4298, 'exposure': 1599, 'fascinating': 1658, 'lifestyle': 2593, 'spooky': 4128, 'believes': 456, 'creates': 1038, 'scheme': 3812, 'propaganda': 3435, 'thirty': 4456, 'subjects': 4254, 'affected': 137, 'secretary': 3850, 'lifetime': 2594, 'hideous': 2098, 'ought': 3138, 'lessons': 2578, 'disappoint': 1272, 'brenda': 575, 'africa': 141, 'temple': 4398, 'linda': 2609, 'tunes': 4603, 'reaches': 3538, 'favourite': 1673, 'professor': 3422, 'experiments': 1584, 'chaos': 755, 'warriors': 4803, 'joey': 2408, 'masterpieces': 2760, 'stunts': 4246, 'greater': 1965, 'eastern': 1408, 'hong': 2149, 'insight': 2298, 'ego': 1435, 'circumstances': 822, 'abusive': 75, 'patrick': 3213, 'survive': 4321, 'thrill': 4471, 'thumbs': 4485, 'misses': 2868, 'split': 4120, 'sunday': 4293, 'news': 3005, 'frequent': 1831, 'gothic': 1945, 'careers': 687, 'notable': 3041, 'orange': 3125, 'mentally': 2809, 'moronic': 2907, 'pays': 3218, 'generated': 1882, 'suck': 4269, 'scripted': 3835, 'vaguely': 4706, 'model': 2880, 'felix': 1689, 'neat': 2982, 'neck': 2985, 'grasp': 1960, 'behave': 445, 'realizing': 3555, 'health': 2060, 'involvement': 2347, 'narrator': 2967, 'degree': 1164, 'slaughter': 4021, 'gordon': 1940, 'creators': 1044, 'link': 2613, '70': 55, 'test': 4416, 'buying': 641, 'walker': 4778, 'rangers': 3517, 'reached': 3537, 'months': 2897, 'september': 3884, 'goodness': 1938, 'reflection': 3585, 'views': 4742, 'unintentionally': 4659, 'accomplished': 87, 'unintentional': 4658, 'buddies': 608, 'cities': 823, 'cruel': 1070, 'advanced': 128, 'ron': 3734, 'dropped': 1370, 'graphic': 1958, 'appearance': 274, 'territory': 4411, 'official': 3094, 'appreciated': 280, 'holmes': 2139, 'hanks': 2025, 'persona': 3239, 'piano': 3264, 'remarks': 3615, 'buildings': 616, 'private': 3404, 'hence': 2083, 'interaction': 2322, 'complaint': 920, 'severe': 3906, 'relation': 3595, 'bond': 532, 'focuses': 1768, 'develops': 1226, 'blacks': 494, 'buck': 605, 'card': 681, 'suddenly': 4273, 'pulling': 3463, 'glover': 1923, 'alice': 182, 'spielberg': 4110, 'speaks': 4096, 'loud': 2664, 'ashamed': 312, 'pre': 3365, 'sixties': 4011, 'scientific': 3817, '20th': 38, 'closest': 857, 'dozen': 1338, 'intent': 2318, 'russell': 3761, 'lemmon': 2567, 'gifted': 1907, 'robbins': 3712, 'attracted': 349, 'lou': 2663, 'joseph': 2419, 'rocket': 3721, 'appearances': 275, 'term': 4405, 'nail': 2957, 'uneven': 4649, 'convoluted': 987, 'motivations': 2915, 'unsettling': 4679, 'downright': 1337, 'versus': 4722, 'godzilla': 1929, 'haunting': 2051, 'firstly': 1737, 'doctors': 1305, 'intensity': 2317, 'furthermore': 1854, 'vincent': 4746, 'erotic': 1515, 'carrying': 701, 'teen': 4388, 'fault': 1668, 'connected': 945, 'contact': 961, 'carol': 693, 'notion': 3050, 'string': 4227, 'favorites': 1672, 'techniques': 4384, 'ripped': 3701, 'caliber': 649, 'flies': 1756, 'samurai': 3779, 'humble': 2191, 'jump': 2429, 'titanic': 4503, 'dalton': 1098, 'describes': 1196, 'stays': 4169, 'kings': 2481, 'hitting': 2126, 'nicholson': 3011, 'exaggerated': 1552, 'seventies': 3904, 'worthless': 4954, 'terrorists': 4414, 'opinions': 3119, 'bold': 528, 'stanwyck': 4149, 'joined': 2413, 'disjointed': 1287, 'trailers': 4555, 'balls': 390, 'hart': 2041, 'troubles': 4594, 'wacky': 4769, 'mel': 2796, 'ignorant': 2223, 'taught': 4370, 'draw': 1349, 'nose': 3037, 'sea': 3838, 'parallel': 3185, 'producing': 3417, 'warn': 4797, 'lacked': 2503, 'juvenile': 2441, 'horrid': 2165, 'heights': 2073, 'helping': 2081, 'instant': 2305, 'risk': 3704, 'magical': 2704, 'wolf': 4920, 'eva': 1531, 'naive': 2958, 'sidney': 3968, 'hysterical': 2208, 'psychic': 3456, 'emily': 1456, 'library': 2589, 'trek': 4578, 'stewart': 4184, 'caused': 724, 'theyd': 4443, 'influenced': 2287, 'frightening': 1839, 'legal': 2563, 'mountains': 2918, 'committed': 905, 'wound': 4960, 'mountain': 2917, 'bears': 421, 'learned': 2551, 'picking': 3267, 'thousands': 4466, 'max': 2774, 'thrilling': 4474, 'sides': 3967, 'offered': 3088, 'adapted': 114, 'tortured': 4530, 'stone': 4197, 'communist': 907, 'ya': 4976, 'covers': 1024, 'un': 4630, 'fetched': 1698, 'davies': 1125, 'colonel': 876, 'offering': 3089, 'player': 3298, 'fashioned': 1660, 'husbands': 2205, 'fresh': 1833, 'print': 3399, 'creep': 1051, 'attraction': 350, 'intention': 2319, 'dutch': 1389, 'disturbed': 1299, 'nights': 3016, 'harder': 2035, 'sacrifice': 3766, 'press': 3379, 'chose': 804, 'bible': 477, 'greed': 1968, 'ethan': 1528, 'robbery': 3711, 'explored': 1595, 'troubled': 4593, 'directs': 1267, 'tag': 4348, 'repeatedly': 3632, 'ignore': 2224, 'inane': 2258, 'ruined': 3751, 'christians': 809, 'manhattan': 2726, 'poignant': 3315, 'worried': 4949, 'assistant': 326, 'attorney': 348, 'absence': 70, 'financial': 1725, 'succeeded': 4263, 'admittedly': 123, 'tends': 4402, 'suspend': 4329, 'religion': 3607, 'kicks': 2463, 'kicking': 2462, 'nomination': 3026, 'dear': 1140, 'jumped': 2430, 'mile': 2842, 'amitabh': 216, 'graphics': 1959, 'revolution': 3680, 'advertising': 132, 'purely': 3472, 'watches': 4814, 'taxi': 4371, 'outrageous': 3145, 'passes': 3203, 'spy': 4135, 'relatives': 3601, 'deceased': 1146, 'reveals': 3673, 'primary': 3394, 'matches': 2764, 'hardy': 2037, 'bobby': 525, 'willis': 4890, 'brad': 560, 'colour': 880, 'hooked': 2153, 'spoke': 4125, 'norman': 3035, 'succeed': 4262, 'tommy': 4516, 'todd': 4510, 'psychotic': 3459, 'christ': 807, 'acid': 95, 'racial': 3501, 'gender': 1878, 'painted': 3174, 'dropping': 1371, 'rolled': 3729, 'heston': 2094, 'edward': 1426, 'inspiring': 2302, 'rage': 3505, 'cave': 727, 'awkward': 374, 'werewolf': 4850, 'strangely': 4212, 'catchy': 717, 'sticks': 4186, 'survived': 4322, 'garden': 1872, 'stretched': 4222, 'boot': 538, 'styles': 4250, 'cruise': 1071, 'peace': 3219, 'worlds': 4947, 'property': 3438, 'elm': 1447, 'crush': 1072, 'mill': 2845, 'warner': 4799, 'equal': 1509, 'bank': 394, '1930s': 11, 'leg': 2562, 'porno': 3337, 'host': 2173, 'nations': 2971, 'abraham': 69, 'june': 2433, 'powell': 3358, 'niro': 3019, 'cheek': 779, 'explaining': 1588, 'homer': 2144, 'arrogant': 303, 'hundreds': 2196, 'receive': 3563, 'served': 3894, 'blair': 497, 'lawrence': 2539, 'flawless': 1751, 'tape': 4365, 'devoted': 1231, 'contrary': 974, 'spike': 4111, 'bette': 471, 'davis': 1126, 'stops': 4203, 'uwe': 4703, 'boll': 529, 'lately': 2524, 'seed': 3856, 'implausible': 2245, 'contest': 967, 'cringe': 1059, 'losers': 2656, 'akshay': 169, 'dean': 1139, 'depiction': 1185, 'bullet': 620, 'execution': 1566, 'eddie': 1416, 'perfection': 3225, 'hole': 2132, 'gruesome': 1986, 'campbell': 663, 'cultural': 1078, 'arrested': 298, 'capturing': 679, 'landing': 2512, 'giallo': 1904, 'splatter': 4118, 'chooses': 800, 'orson': 3132, 'welles': 4844, '75': 57, 'shine': 3931, 'throwing': 4480, 'believing': 457, 'keaton': 2448, 'ho': 2127, 'vietnam': 4735, 'fbi': 1675, 'eaten': 1412, 'vehicle': 4718, 'odds': 3082, 'brave': 567, 'represented': 3638, 'distracting': 1297, 'afford': 138, 'jesse': 2397, 'yesterday': 4983, 'uncomfortable': 4637, 'symbolism': 4341, 'cleverly': 842, '2nd': 41, 'fred': 1825, 'sitcom': 4004, 'belongs': 460, 'quiet': 3492, 'psychiatrist': 3455, 'hints': 2113, 'borrowed': 545, '2001': 31, 'farm': 1656, 'truck': 4595, 'explosion': 1596, 'bud': 607, 'demented': 1176, 'floating': 1758, 'surrounding': 4319, 'talked': 4359, 'wore': 4939, 'nervous': 2999, 'rural': 3758, 'patients': 3212, 'freddy': 1826, 'claimed': 829, 'east': 1407, 'storm': 4206, 'oliver': 3102, 'paranoia': 3186, 'stones': 4198, 'cusack': 1088, 'blank': 501, 'annie': 247, 'comparing': 913, 'proceedings': 3410, 'eyed': 1612, 'diamond': 1236, 'satan': 3787, 'moore': 2901, 'eyre': 1614, 'striking': 4226, 'rochester': 3719, 'faithful': 1634, 'charisma': 762, 'timothy': 4499, 'tall': 4362, 'modesty': 2883, 'avoided': 364, 'contrast': 975, 'hood': 2151, 'misery': 2865, 'dvds': 1392, 'online': 3109, 'letting': 2583, 'pacino': 3164, 'forms': 1801, 'pit': 3278, 'row': 3744, 'dragged': 1343, '2004': 34, 'noise': 3024, 'rooms': 3736, 'amy': 222, 'fisher': 1739, 'tight': 4492, 'abc': 63, 'mail': 2706, 'blah': 496, 'hills': 2109, 'succeeds': 4264, 'carl': 692, 'minimum': 2856, 'species': 4098, 'cake': 648, 'rat': 3525, 'transfer': 4559, 'imagery': 2234, 'fix': 1744, 'pamela': 3179, 'agreed': 156, 'mafia': 2700, 'resist': 3648, 'slick': 4026, 'accused': 91, 'kapoor': 2443, 'solely': 4056, 'motives': 2916, 'ensemble': 1492, 'arnold': 296, 'viewings': 4741, 'montage': 2894, 'praise': 3364, 'dolph': 1317, 'laughably': 2531, 'clues': 865, 'solution': 4059, 'pat': 3208, 'intentionally': 2320, 'wear': 4830, 'conservative': 948, 'obnoxious': 3067, 'combat': 882, 'lawyer': 2541, 'murphy': 2944, 'frankenstein': 1822, 'catching': 716, 'albeit': 173, 'plight': 3308, 'wonders': 4931, 'gross': 1978, 'fish': 1738, 'newspaper': 3006, 'leonard': 2572, 'lyrics': 2692, 'montana': 2895, 'morris': 2908, 'closet': 858, 'rocky': 3723, 'opportunities': 3120, 'hyde': 2206, 'cooper': 990, 'nostalgic': 3039, 'clumsy': 866, 'target': 4366, 'broad': 590, 'ritter': 3705, 'education': 1424, 'underlying': 4641, 'canadian': 667, '2002': 32, 'complain': 919, 'banned': 395, 'pg': 3250, 'rid': 3690, 'dan': 1102, 'lovable': 2668, 'virginia': 4750, 'map': 2733, 'cuts': 1091, 'teachers': 4376, 'rabbit': 3498, 'pages': 3168, 'survivor': 4324, 'historically': 2120, 'parker': 3191, 'icon': 2211, 'karloff': 2445, 'hung': 2197, 'testament': 4417, 'gandhi': 1866, 'critical': 1062, 'iii': 2227, 'props': 3439, 'couples': 1017, 'emma': 1457, 'excessive': 1560, 'stilted': 4190, 'artificial': 306, 'purposes': 3475, '1984': 23, 'bo': 521, 'fifteen': 1706, 'unhappy': 4656, 'bang': 393, 'bare': 398, 'shortly': 3947, 'horses': 2171, 'vegas': 4717, 'cole': 873, 'monkeys': 2891, 'builds': 617, 'dickens': 1240, 'choreography': 802, 'halfway': 2008, 'crude': 1069, 'canada': 666, 'shirley': 3936, 'wed': 4835, 'dinosaur': 1255, 'bumbling': 622, 'laurel': 2537, 'woody': 4936, 'rose': 3739, 'purple': 3473, 'bullets': 621, '45': 50, 'confusion': 943, 'scrooge': 3837, 'championship': 745, 'spiritual': 4116, 'cliche': 843, 'gray': 1963, 'hudson': 2184, 'battles': 415, 'isolated': 2363, 'troops': 4591, 'april': 284, 'soviet': 4089, 'horrors': 2169, 'civil': 826, 'poem': 3312, 'wizard': 4919, 'atlantis': 332, 'specific': 4099, 'cardboard': 682, 'dating': 1120, 'consistently': 954, 'iran': 2350, 'sneak': 4043, '2005': 35, 'displayed': 1292, 'description': 1197, 'flaw': 1749, 'suffice': 4279, 'segments': 3868, 'paulie': 3215, 'mistaken': 2872, 'pretending': 3382, 'demand': 1174, 'california': 650, 'michelle': 2830, 'shakespeare': 3915, 'francis': 1818, 'chased': 770, 'plague': 3285, 'nonsensical': 3031, 'apes': 267, 'da': 1094, 'destroying': 1215, 'downhill': 1336, 'resulting': 3661, 'astaire': 330, 'bettie': 473, 'feminist': 1695, 'knife': 2487, 'crocodile': 1065, 'alcohol': 176, 'illegal': 2229, 'ships': 3935, 'burton': 630, 'guarantee': 1987, 'angela': 232, 'lust': 2689, 'waited': 4771, 'inevitable': 2282, 'raw': 3532, 'nightmares': 3015, 'butler': 637, 'broadcast': 591, 'cinderella': 815, 'tear': 4379, 'integrity': 2311, 'sullivan': 4288, 'critic': 1061, 'cheating': 776, 'britain': 588, 'melodramatic': 2798, 'rex': 3683, 'narration': 2965, 'cinematographer': 819, 'letters': 2582, 'diana': 1237, 'lees': 2560, 'beats': 426, 'strip': 4228, 'performs': 3234, 'lily': 2605, '1933': 12, 'mild': 2839, 'engage': 1479, 'bergman': 466, 'trio': 4587, 'futuristic': 1857, 'mysteries': 2954, 'triumph': 4590, 'babe': 375, 'lucas': 2680, 'spirited': 4114, 'assault': 324, 'liberal': 2588, 'sandra': 3782, 'bleak': 503, 'domino': 1319, 'priceless': 3390, 'grandfather': 1954, 'definite': 1161, 'brutally': 604, 'unpredictable': 4675, '1999': 27, 'hunting': 2201, 'mtv': 2933, 'errors': 1516, 'methods': 2825, 'valuable': 4708, 'lone': 2642, 'miike': 2837, 'ps': 3453, 'briefly': 580, 'paltrow': 3178, 'hall': 2009, 'possibility': 3349, 'primarily': 3393, 'witnesses': 4916, 'gary': 1873, 'dances': 1106, 'possessed': 3347, 'cd': 728, 'increasingly': 2268, 'jake': 2377, 'kurt': 2499, 'clint': 850, 'attacked': 338, 'mentions': 2813, 'notably': 3042, 'ramones': 3512, 'wendy': 4846, 'susan': 4326, 'lengthy': 2570, 'cannibal': 669, 'decisions': 1152, 'mechanical': 2788, 'backgrounds': 381, 'concert': 935, 'seeks': 3860, 'mexican': 2826, 'marty': 2749, 'edie': 1419, 'stereotype': 4178, 'spider': 4109, 'cinemas': 817, 'nostalgia': 3038, 'lumet': 2688, 'buried': 624, 'snow': 4045, 'roman': 3731, 'principal': 3398, 'portion': 3338, 'elaborate': 1439, 'tomatoes': 4515, 'loosely': 2651, 'betty': 474, 'greek': 1970, 'restored': 3659, 'vulnerable': 4768, 'carradine': 695, 'cats': 721, 'blob': 507, 'carrey': 696, 'holly': 2136, 'elsewhere': 1449, 'namely': 2962, 'sellers': 3872, 'victoria': 4732, 'weakest': 4825, 'preview': 3386, 'sport': 4129, 'judy': 2426, 'homeless': 2143, 'agrees': 157, 'imitation': 2241, 'whale': 4857, 'lloyd': 2630, 'cg': 739, 'fay': 1674, 'neighbor': 2992, 'safety': 3772, 'airport': 167, 'che': 773, 'introduce': 2336, 'st': 4137, 'diane': 1238, 'rendition': 3625, 'beaten': 424, 'swim': 4337, 'flynn': 1765, 'ellen': 1446, 'limits': 2607, 'trail': 4553, 'warren': 4801, 'defined': 1160, 'generic': 1885, '3d': 46, 'ocean': 3079, 'ninja': 3018, 'donna': 1323, 'insulting': 2310, 'alternate': 200, 'junior': 2435, 'hamlet': 2013, 'divorce': 1301, 'grinch': 1975, 'bakshi': 386, 'rogers': 3725, 'chess': 783, 'report': 3635, 'elvira': 1450, 'showdown': 3955, 'polanski': 3321, 'mummy': 2937, 'gadget': 1860, 'cagney': 646, 'khan': 2459, 'mildred': 2841, 'stress': 4220, 'stargate': 4151, 'brady': 561, 'streisand': 4218, 'descent': 1193, 'fond': 1776, 'berlin': 467, 'tooth': 4524, 'ginger': 1908, 'lena': 2568, 'gabriel': 1859, 'pokemon': 3320, 'scarecrow': 3804, 'mann': 2728, 'gundam': 1997}\n"
     ]
    }
   ],
   "source": [
    "print(str(vocabulary))"
   ]
  },
  {
   "cell_type": "markdown",
   "metadata": {},
   "source": [
    "Once you have added the endpoint name to the Lambda function, click on **Save**. Your Lambda function is now up and running. Next we need to create a way for our web app to execute the Lambda function."
   ]
  },
  {
   "cell_type": "markdown",
   "metadata": {},
   "source": [
    "### Setting up API Gateway\n",
    "\n",
    "Now that our Lambda function is set up, it is time to create a new API using API Gateway that will trigger the Lambda function we have just created.\n",
    "\n",
    "Using AWS Console, navigate to **Amazon API Gateway** and then click on **Get started**.\n",
    "\n",
    "On the next page, make sure that **New API** is selected and give the new api a name, for example, `sentiment_analysis_web_app`. Then, click on **Create API**.\n",
    "\n",
    "Now we have created an API, however it doesn't currently do anything. What we want it to do is to trigger the Lambda function that we created earlier.\n",
    "\n",
    "Select the **Actions** dropdown menu and click **Create Method**. A new blank method will be created, select its dropdown menu and select **POST**, then click on the check mark beside it.\n",
    "\n",
    "For the integration point, make sure that **Lambda Function** is selected and click on the **Use Lambda Proxy integration**. This option makes sure that the data that is sent to the API is then sent directly to the Lambda function with no processing. It also means that the return value must be a proper response object as it will also not be processed by API Gateway.\n",
    "\n",
    "Type the name of the Lambda function you created earlier into the **Lambda Function** text entry box and then click on **Save**. Click on **OK** in the pop-up box that then appears, giving permission to API Gateway to invoke the Lambda function you created.\n",
    "\n",
    "The last step in creating the API Gateway is to select the **Actions** dropdown and click on **Deploy API**. You will need to create a new Deployment stage and name it anything you like, for example `prod`.\n",
    "\n",
    "You have now successfully set up a public API to access your SageMaker model. Make sure to copy or write down the URL provided to invoke your newly created public API as this will be needed in the next step. This URL can be found at the top of the page, highlighted in blue next to the text **Invoke URL**."
   ]
  },
  {
   "cell_type": "markdown",
   "metadata": {},
   "source": [
    "## Step 7: Deploying our web app\n",
    "\n",
    "Now that we have a publicly available API, we can start using it in a web app. For our purposes, we have provided a simple static html file which can make use of the public api you created earlier.\n",
    "\n",
    "In the `website` folder there should be a file called `index.html`. Download the file to your computer and open that file up in a text editor of your choice. There should be a line which contains **\\*\\*REPLACE WITH PUBLIC API URL\\*\\***. Replace this string with the url that you wrote down in the last step and then save the file.\n",
    "\n",
    "Now, if you open `index.html` on your local computer, your browser will behave as a local web server and you can use the provided site to interact with your SageMaker model.\n",
    "\n",
    "If you'd like to go further, you can host this html file anywhere you'd like, for example using github or hosting a static site on Amazon's S3. Once you have done this you can share the link with anyone you'd like and have them play with it too!\n",
    "\n",
    "> **Important Note** In order for the web app to communicate with the SageMaker endpoint, the endpoint has to actually be deployed and running. This means that you are paying for it. Make sure that the endpoint is running when you want to use the web app but that you shut it down when you don't need it, otherwise you will end up with a surprisingly large AWS bill."
   ]
  },
  {
   "cell_type": "markdown",
   "metadata": {},
   "source": [
    "### Delete the endpoint\n",
    "\n",
    "Remember to always shut down your endpoint if you are no longer using it. You are charged for the length of time that the endpoint is running so if you forget and leave it on you could end up with an unexpectedly large bill."
   ]
  },
  {
   "cell_type": "code",
   "execution_count": 43,
   "metadata": {},
   "outputs": [
    {
     "ename": "ClientError",
     "evalue": "An error occurred (ValidationException) when calling the DeleteEndpoint operation: Could not find endpoint \"arn:aws:sagemaker:us-east-1:479756289622:endpoint/xgboost-2019-12-31-12-32-20-890\".",
     "output_type": "error",
     "traceback": [
      "\u001b[0;31m---------------------------------------------------------------------------\u001b[0m",
      "\u001b[0;31mClientError\u001b[0m                               Traceback (most recent call last)",
      "\u001b[0;32m<ipython-input-43-16a6b43a8b29>\u001b[0m in \u001b[0;36m<module>\u001b[0;34m()\u001b[0m\n\u001b[0;32m----> 1\u001b[0;31m \u001b[0mxgb_predictor\u001b[0m\u001b[0;34m.\u001b[0m\u001b[0mdelete_endpoint\u001b[0m\u001b[0;34m(\u001b[0m\u001b[0;34m)\u001b[0m\u001b[0;34m\u001b[0m\u001b[0m\n\u001b[0m",
      "\u001b[0;32m~/anaconda3/envs/python3/lib/python3.6/site-packages/sagemaker/predictor.py\u001b[0m in \u001b[0;36mdelete_endpoint\u001b[0;34m(self, delete_endpoint_config)\u001b[0m\n\u001b[1;32m    162\u001b[0m             \u001b[0mself\u001b[0m\u001b[0;34m.\u001b[0m\u001b[0m_delete_endpoint_config\u001b[0m\u001b[0;34m(\u001b[0m\u001b[0;34m)\u001b[0m\u001b[0;34m\u001b[0m\u001b[0m\n\u001b[1;32m    163\u001b[0m \u001b[0;34m\u001b[0m\u001b[0m\n\u001b[0;32m--> 164\u001b[0;31m         \u001b[0mself\u001b[0m\u001b[0;34m.\u001b[0m\u001b[0msagemaker_session\u001b[0m\u001b[0;34m.\u001b[0m\u001b[0mdelete_endpoint\u001b[0m\u001b[0;34m(\u001b[0m\u001b[0mself\u001b[0m\u001b[0;34m.\u001b[0m\u001b[0mendpoint\u001b[0m\u001b[0;34m)\u001b[0m\u001b[0;34m\u001b[0m\u001b[0m\n\u001b[0m\u001b[1;32m    165\u001b[0m \u001b[0;34m\u001b[0m\u001b[0m\n\u001b[1;32m    166\u001b[0m     \u001b[0;32mdef\u001b[0m \u001b[0mdelete_model\u001b[0m\u001b[0;34m(\u001b[0m\u001b[0mself\u001b[0m\u001b[0;34m)\u001b[0m\u001b[0;34m:\u001b[0m\u001b[0;34m\u001b[0m\u001b[0m\n",
      "\u001b[0;32m~/anaconda3/envs/python3/lib/python3.6/site-packages/sagemaker/session.py\u001b[0m in \u001b[0;36mdelete_endpoint\u001b[0;34m(self, endpoint_name)\u001b[0m\n\u001b[1;32m   2377\u001b[0m         \"\"\"\n\u001b[1;32m   2378\u001b[0m         \u001b[0mLOGGER\u001b[0m\u001b[0;34m.\u001b[0m\u001b[0minfo\u001b[0m\u001b[0;34m(\u001b[0m\u001b[0;34m\"Deleting endpoint with name: %s\"\u001b[0m\u001b[0;34m,\u001b[0m \u001b[0mendpoint_name\u001b[0m\u001b[0;34m)\u001b[0m\u001b[0;34m\u001b[0m\u001b[0m\n\u001b[0;32m-> 2379\u001b[0;31m         \u001b[0mself\u001b[0m\u001b[0;34m.\u001b[0m\u001b[0msagemaker_client\u001b[0m\u001b[0;34m.\u001b[0m\u001b[0mdelete_endpoint\u001b[0m\u001b[0;34m(\u001b[0m\u001b[0mEndpointName\u001b[0m\u001b[0;34m=\u001b[0m\u001b[0mendpoint_name\u001b[0m\u001b[0;34m)\u001b[0m\u001b[0;34m\u001b[0m\u001b[0m\n\u001b[0m\u001b[1;32m   2380\u001b[0m \u001b[0;34m\u001b[0m\u001b[0m\n\u001b[1;32m   2381\u001b[0m     \u001b[0;32mdef\u001b[0m \u001b[0mdelete_endpoint_config\u001b[0m\u001b[0;34m(\u001b[0m\u001b[0mself\u001b[0m\u001b[0;34m,\u001b[0m \u001b[0mendpoint_config_name\u001b[0m\u001b[0;34m)\u001b[0m\u001b[0;34m:\u001b[0m\u001b[0;34m\u001b[0m\u001b[0m\n",
      "\u001b[0;32m~/anaconda3/envs/python3/lib/python3.6/site-packages/botocore/client.py\u001b[0m in \u001b[0;36m_api_call\u001b[0;34m(self, *args, **kwargs)\u001b[0m\n\u001b[1;32m    355\u001b[0m                     \"%s() only accepts keyword arguments.\" % py_operation_name)\n\u001b[1;32m    356\u001b[0m             \u001b[0;31m# The \"self\" in this scope is referring to the BaseClient.\u001b[0m\u001b[0;34m\u001b[0m\u001b[0;34m\u001b[0m\u001b[0m\n\u001b[0;32m--> 357\u001b[0;31m             \u001b[0;32mreturn\u001b[0m \u001b[0mself\u001b[0m\u001b[0;34m.\u001b[0m\u001b[0m_make_api_call\u001b[0m\u001b[0;34m(\u001b[0m\u001b[0moperation_name\u001b[0m\u001b[0;34m,\u001b[0m \u001b[0mkwargs\u001b[0m\u001b[0;34m)\u001b[0m\u001b[0;34m\u001b[0m\u001b[0m\n\u001b[0m\u001b[1;32m    358\u001b[0m \u001b[0;34m\u001b[0m\u001b[0m\n\u001b[1;32m    359\u001b[0m         \u001b[0m_api_call\u001b[0m\u001b[0;34m.\u001b[0m\u001b[0m__name__\u001b[0m \u001b[0;34m=\u001b[0m \u001b[0mstr\u001b[0m\u001b[0;34m(\u001b[0m\u001b[0mpy_operation_name\u001b[0m\u001b[0;34m)\u001b[0m\u001b[0;34m\u001b[0m\u001b[0m\n",
      "\u001b[0;32m~/anaconda3/envs/python3/lib/python3.6/site-packages/botocore/client.py\u001b[0m in \u001b[0;36m_make_api_call\u001b[0;34m(self, operation_name, api_params)\u001b[0m\n\u001b[1;32m    659\u001b[0m             \u001b[0merror_code\u001b[0m \u001b[0;34m=\u001b[0m \u001b[0mparsed_response\u001b[0m\u001b[0;34m.\u001b[0m\u001b[0mget\u001b[0m\u001b[0;34m(\u001b[0m\u001b[0;34m\"Error\"\u001b[0m\u001b[0;34m,\u001b[0m \u001b[0;34m{\u001b[0m\u001b[0;34m}\u001b[0m\u001b[0;34m)\u001b[0m\u001b[0;34m.\u001b[0m\u001b[0mget\u001b[0m\u001b[0;34m(\u001b[0m\u001b[0;34m\"Code\"\u001b[0m\u001b[0;34m)\u001b[0m\u001b[0;34m\u001b[0m\u001b[0m\n\u001b[1;32m    660\u001b[0m             \u001b[0merror_class\u001b[0m \u001b[0;34m=\u001b[0m \u001b[0mself\u001b[0m\u001b[0;34m.\u001b[0m\u001b[0mexceptions\u001b[0m\u001b[0;34m.\u001b[0m\u001b[0mfrom_code\u001b[0m\u001b[0;34m(\u001b[0m\u001b[0merror_code\u001b[0m\u001b[0;34m)\u001b[0m\u001b[0;34m\u001b[0m\u001b[0m\n\u001b[0;32m--> 661\u001b[0;31m             \u001b[0;32mraise\u001b[0m \u001b[0merror_class\u001b[0m\u001b[0;34m(\u001b[0m\u001b[0mparsed_response\u001b[0m\u001b[0;34m,\u001b[0m \u001b[0moperation_name\u001b[0m\u001b[0;34m)\u001b[0m\u001b[0;34m\u001b[0m\u001b[0m\n\u001b[0m\u001b[1;32m    662\u001b[0m         \u001b[0;32melse\u001b[0m\u001b[0;34m:\u001b[0m\u001b[0;34m\u001b[0m\u001b[0m\n\u001b[1;32m    663\u001b[0m             \u001b[0;32mreturn\u001b[0m \u001b[0mparsed_response\u001b[0m\u001b[0;34m\u001b[0m\u001b[0m\n",
      "\u001b[0;31mClientError\u001b[0m: An error occurred (ValidationException) when calling the DeleteEndpoint operation: Could not find endpoint \"arn:aws:sagemaker:us-east-1:479756289622:endpoint/xgboost-2019-12-31-12-32-20-890\"."
     ]
    }
   ],
   "source": [
    "xgb_predictor.delete_endpoint()"
   ]
  },
  {
   "cell_type": "markdown",
   "metadata": {},
   "source": [
    "## Optional: Clean up\n",
    "\n",
    "The default notebook instance on SageMaker doesn't have a lot of excess disk space available. As you continue to complete and execute notebooks you will eventually fill up this disk space, leading to errors which can be difficult to diagnose. Once you are completely finished using a notebook it is a good idea to remove the files that you created along the way. Of course, you can do this from the terminal or from the notebook hub if you would like. The cell below contains some commands to clean up the created files from within the notebook."
   ]
  },
  {
   "cell_type": "code",
   "execution_count": 42,
   "metadata": {},
   "outputs": [],
   "source": [
    "# First we will remove all of the files contained in the data_dir directory\n",
    "!rm $data_dir/*\n",
    "\n",
    "# And then we delete the directory itself\n",
    "!rmdir $data_dir\n",
    "\n",
    "# Similarly we remove the files in the cache_dir directory and the directory itself\n",
    "!rm $cache_dir/*\n",
    "!rmdir $cache_dir"
   ]
  },
  {
   "cell_type": "code",
   "execution_count": null,
   "metadata": {},
   "outputs": [],
   "source": []
  }
 ],
 "metadata": {
  "kernelspec": {
   "display_name": "conda_python3",
   "language": "python",
   "name": "conda_python3"
  },
  "language_info": {
   "codemirror_mode": {
    "name": "ipython",
    "version": 3
   },
   "file_extension": ".py",
   "mimetype": "text/x-python",
   "name": "python",
   "nbconvert_exporter": "python",
   "pygments_lexer": "ipython3",
   "version": "3.6.5"
  }
 },
 "nbformat": 4,
 "nbformat_minor": 2
}
